{
 "cells": [
  {
   "cell_type": "markdown",
   "metadata": {},
   "source": [
    "## Curso 2 Intermediate Python\n",
    "\n",
    "Capítulo 2 DataFrames: é um python type. Adimite colunas com tipos de dados diferentes. O index é o mesmo para todas as linhas\n",
    "\n",
    "Aproveitado do curso pandas foundation:\n",
    "https://www.datacamp.com/courses/pandas-foundations"
   ]
  },
  {
   "cell_type": "code",
   "execution_count": 1,
   "metadata": {},
   "outputs": [],
   "source": [
    "import pandas as pd\n",
    "import numpy as np\n",
    "import matplotlib.pyplot as plt"
   ]
  },
  {
   "cell_type": "markdown",
   "metadata": {},
   "source": [
    "### Criando DataFrame de dicionário"
   ]
  },
  {
   "cell_type": "code",
   "execution_count": 2,
   "metadata": {
    "scrolled": true
   },
   "outputs": [
    {
     "name": "stdout",
     "output_type": "stream",
     "text": [
      "             spain france germany norway  italy\n",
      "capital     madrid  paris  berlin   oslo   rome\n",
      "population   46.77  66.03   80.62  5.084  59.83\n"
     ]
    }
   ],
   "source": [
    "# dicionário (associative array/arranjo associativo) é estrutura de dados núcleo em python\n",
    "data = {'spain': {'capital': 'madrid', 'population': 46.77},\n",
    "        'france': {'capital': 'paris', 'population': 66.03},\n",
    "        'germany': {'capital': 'berlin', 'population': 80.62},\n",
    "        'norway': {'capital': 'oslo', 'population': 5.084},\n",
    "        'italy': {'capital': 'rome', 'population': 59.83}}\n",
    "\n",
    "df = pd.DataFrame(data)\n",
    "print(df)\n"
   ]
  },
  {
   "cell_type": "code",
   "execution_count": 3,
   "metadata": {},
   "outputs": [
    {
     "name": "stdout",
     "output_type": "stream",
     "text": [
      "[('city', ['Austin', 'Dallas', 'Austin', 'Dallas']), ('signups', [7, 12, 3, 5]), ('visitors', [139, 237, 326, 456]), ('weekday', ['Sun', 'Sun', 'Mon', 'Mon'])]\n",
      "\n",
      "{'city': ['Austin', 'Dallas', 'Austin', 'Dallas'], 'signups': [7, 12, 3, 5], 'visitors': [139, 237, 326, 456], 'weekday': ['Sun', 'Sun', 'Mon', 'Mon']}\n",
      "\n",
      "     city  signups  visitors weekday\n",
      "0  Austin        7       139     Sun\n",
      "1  Dallas       12       237     Sun\n",
      "2  Austin        3       326     Mon\n",
      "3  Dallas        5       456     Mon\n"
     ]
    }
   ],
   "source": [
    "# lista de listas para dicionário de listas:\n",
    "weekdays =  ['Sun', 'Sun', 'Mon', 'Mon']\n",
    "cities = ['Austin','Dallas','Austin','Dallas']\n",
    "visitors = [139,237,326,456]\n",
    "signups = [7,12,3,5]\n",
    "\n",
    "list_labels = ['city','signups', 'visitors', 'weekday'] # rótulo das colunas\n",
    "list_cols = [cities, signups, visitors, weekdays]  # lista das listas (variáveis)\n",
    "\n",
    "zipped = list(zip(list_labels, list_cols))  # lista de tuples (colunas e nomes das colunas, não respectivamente)\n",
    "print(zipped) # matriz, coluna 1 é list_labels, coluna 2 é list_cols\n",
    "print()\n",
    "data = dict(zipped) # cria dicionário da lista de tuples\n",
    "print(data)\n",
    "print()\n",
    "df = pd.DataFrame(data)\n",
    "print(df)"
   ]
  },
  {
   "cell_type": "markdown",
   "metadata": {},
   "source": [
    "### Criando DataFrame de .csv"
   ]
  },
  {
   "cell_type": "code",
   "execution_count": 4,
   "metadata": {
    "scrolled": true
   },
   "outputs": [],
   "source": [
    "#importando de .csv\n",
    "df2 = pd.read_csv('AAPL.csv') \n",
    "df2 = pd.read_csv('AAPL.csv', index_col = 'Date')\n",
    "# index_col = 'Date' ou = 0 indica a coluna que será o indice, default: número, igual da lista"
   ]
  },
  {
   "cell_type": "code",
   "execution_count": 5,
   "metadata": {
    "scrolled": false
   },
   "outputs": [
    {
     "data": {
      "text/html": [
       "<div>\n",
       "<style scoped>\n",
       "    .dataframe tbody tr th:only-of-type {\n",
       "        vertical-align: middle;\n",
       "    }\n",
       "\n",
       "    .dataframe tbody tr th {\n",
       "        vertical-align: top;\n",
       "    }\n",
       "\n",
       "    .dataframe thead th {\n",
       "        text-align: right;\n",
       "    }\n",
       "</style>\n",
       "<table border=\"1\" class=\"dataframe\">\n",
       "  <thead>\n",
       "    <tr style=\"text-align: right;\">\n",
       "      <th></th>\n",
       "      <th>Open</th>\n",
       "      <th>High</th>\n",
       "      <th>Low</th>\n",
       "      <th>Close</th>\n",
       "      <th>Adj Close</th>\n",
       "      <th>Volume</th>\n",
       "    </tr>\n",
       "    <tr>\n",
       "      <th>Date</th>\n",
       "      <th></th>\n",
       "      <th></th>\n",
       "      <th></th>\n",
       "      <th></th>\n",
       "      <th></th>\n",
       "      <th></th>\n",
       "    </tr>\n",
       "  </thead>\n",
       "  <tbody>\n",
       "    <tr>\n",
       "      <th>2019-03-04</th>\n",
       "      <td>175.690002</td>\n",
       "      <td>177.750000</td>\n",
       "      <td>173.970001</td>\n",
       "      <td>175.850006</td>\n",
       "      <td>173.578033</td>\n",
       "      <td>27436200</td>\n",
       "    </tr>\n",
       "    <tr>\n",
       "      <th>2019-03-05</th>\n",
       "      <td>175.940002</td>\n",
       "      <td>176.000000</td>\n",
       "      <td>174.539993</td>\n",
       "      <td>175.529999</td>\n",
       "      <td>173.262161</td>\n",
       "      <td>19737400</td>\n",
       "    </tr>\n",
       "    <tr>\n",
       "      <th>2019-03-06</th>\n",
       "      <td>174.669998</td>\n",
       "      <td>175.490005</td>\n",
       "      <td>173.940002</td>\n",
       "      <td>174.520004</td>\n",
       "      <td>172.265228</td>\n",
       "      <td>20810400</td>\n",
       "    </tr>\n",
       "    <tr>\n",
       "      <th>2019-03-07</th>\n",
       "      <td>173.869995</td>\n",
       "      <td>174.440002</td>\n",
       "      <td>172.020004</td>\n",
       "      <td>172.500000</td>\n",
       "      <td>170.271317</td>\n",
       "      <td>24796400</td>\n",
       "    </tr>\n",
       "    <tr>\n",
       "      <th>2019-03-08</th>\n",
       "      <td>170.320007</td>\n",
       "      <td>173.070007</td>\n",
       "      <td>169.500000</td>\n",
       "      <td>172.910004</td>\n",
       "      <td>170.676025</td>\n",
       "      <td>23999400</td>\n",
       "    </tr>\n",
       "  </tbody>\n",
       "</table>\n",
       "</div>"
      ],
      "text/plain": [
       "                  Open        High         Low       Close   Adj Close  \\\n",
       "Date                                                                     \n",
       "2019-03-04  175.690002  177.750000  173.970001  175.850006  173.578033   \n",
       "2019-03-05  175.940002  176.000000  174.539993  175.529999  173.262161   \n",
       "2019-03-06  174.669998  175.490005  173.940002  174.520004  172.265228   \n",
       "2019-03-07  173.869995  174.440002  172.020004  172.500000  170.271317   \n",
       "2019-03-08  170.320007  173.070007  169.500000  172.910004  170.676025   \n",
       "\n",
       "              Volume  \n",
       "Date                  \n",
       "2019-03-04  27436200  \n",
       "2019-03-05  19737400  \n",
       "2019-03-06  20810400  \n",
       "2019-03-07  24796400  \n",
       "2019-03-08  23999400  "
      ]
     },
     "execution_count": 5,
     "metadata": {},
     "output_type": "execute_result"
    }
   ],
   "source": [
    "df2.head()"
   ]
  },
  {
   "cell_type": "markdown",
   "metadata": {},
   "source": [
    "### Python Types e Métodos do DataFrame"
   ]
  },
  {
   "cell_type": "code",
   "execution_count": 6,
   "metadata": {},
   "outputs": [
    {
     "name": "stdout",
     "output_type": "stream",
     "text": [
      "<class 'pandas.core.frame.DataFrame'>\n",
      "     city  signups  visitors weekday\n",
      "0  Austin        7       139     Sun\n",
      "1  Dallas       12       237     Sun\n",
      "2  Austin        3       326     Mon\n",
      "3  Dallas        5       456     Mon\n"
     ]
    }
   ],
   "source": [
    "print(type(df)) # tipo python do objeto é pandas Dataframe\n",
    "print(df)"
   ]
  },
  {
   "cell_type": "markdown",
   "metadata": {},
   "source": [
    "#### Separando colunas"
   ]
  },
  {
   "cell_type": "code",
   "execution_count": 7,
   "metadata": {},
   "outputs": [
    {
     "name": "stdout",
     "output_type": "stream",
     "text": [
      "<class 'pandas.core.series.Series'>\n",
      "0    Austin\n",
      "1    Dallas\n",
      "2    Austin\n",
      "3    Dallas\n",
      "Name: city, dtype: object\n"
     ]
    }
   ],
   "source": [
    "# com tipo series:\n",
    "print(type(df['city'])) # tipo python da coluna: pandas series\n",
    "print(df['city']) # vem com o index de linha mas nao com o label de coluna\n",
    "\n",
    "# series é como uma numpy array de uma dimensão com labels (numéricos ou strings)\n",
    "# e um cabeçalho para o index (label do index)\n",
    "# guarda também a informação:'Name: city, Length: 254, dtype: dos elementos"
   ]
  },
  {
   "cell_type": "code",
   "execution_count": 8,
   "metadata": {},
   "outputs": [
    {
     "name": "stdout",
     "output_type": "stream",
     "text": [
      "<class 'pandas.core.frame.DataFrame'>\n",
      "     city\n",
      "0  Austin\n",
      "1  Dallas\n",
      "2  Austin\n",
      "3  Dallas\n"
     ]
    }
   ],
   "source": [
    "# pegar coluna com tipo dataframe:\n",
    "print(type(df[['city']])) # colchetes duplos\n",
    "print(df[['city']]) # vem com o index de linha e com o label de coluna"
   ]
  },
  {
   "cell_type": "code",
   "execution_count": 9,
   "metadata": {},
   "outputs": [
    {
     "data": {
      "text/plain": [
       "array(['Austin', 'Dallas', 'Austin', 'Dallas'], dtype=object)"
      ]
     },
     "execution_count": 9,
     "metadata": {},
     "output_type": "execute_result"
    }
   ],
   "source": [
    "# pegar coluna com tipo numpy array:\n",
    "type(df['city'].values) \n",
    "df['city'].values"
   ]
  },
  {
   "cell_type": "code",
   "execution_count": 10,
   "metadata": {},
   "outputs": [
    {
     "name": "stdout",
     "output_type": "stream",
     "text": [
      "<class 'pandas.core.indexes.range.RangeIndex'>\n",
      "RangeIndex(start=0, stop=4, step=1)\n",
      "<class 'pandas.core.indexes.base.Index'>\n"
     ]
    }
   ],
   "source": [
    "# índice:\n",
    "print(type(df.index))\n",
    "print(df.index) # retorna os valores de indice (o range se o índice é default)\n",
    "df.index = ['A','B','C','D'] # edita o índice (a lista deve ter tamanho = #linhas do dataframe)\n",
    "print(type(df.index))"
   ]
  },
  {
   "cell_type": "code",
   "execution_count": 11,
   "metadata": {},
   "outputs": [
    {
     "name": "stdout",
     "output_type": "stream",
     "text": [
      "<class 'pandas.core.indexes.base.Index'>\n",
      "Index(['cidade', 'inscrições', 'visitantes', 'dia'], dtype='object')\n"
     ]
    }
   ],
   "source": [
    "# nomes das colunas:\n",
    "print(type(df.columns)) # tipo do .columns é um index\n",
    "df.columns # retorna o nome/label/índice das colunas\n",
    "df.columns =  ['cidade','inscrições','visitantes', 'dia'] # edita o índice (a lista deve ter tamanho = #colunas do dataframe)\n",
    "print(df.columns)"
   ]
  },
  {
   "cell_type": "markdown",
   "metadata": {},
   "source": [
    "##### Informações"
   ]
  },
  {
   "cell_type": "code",
   "execution_count": 12,
   "metadata": {
    "scrolled": true
   },
   "outputs": [
    {
     "data": {
      "text/plain": [
       "4"
      ]
     },
     "execution_count": 12,
     "metadata": {},
     "output_type": "execute_result"
    }
   ],
   "source": [
    "# tamanho:\n",
    "type(df.shape) # tuple de valores numéricos\n",
    "df.shape # tamanho da matriz (não inclui index nem index dos nomes das colunas)\n",
    "df.shape[0] # número de linhas, conta ao longo do eixo/axis 0 = vertical\n",
    "df.shape[1] # número de colunas, conta ao longo do eixo/axis 1 = horizontal\n",
    "# dúvida: tem dataframe de mais de duas dimensões?"
   ]
  },
  {
   "cell_type": "code",
   "execution_count": 13,
   "metadata": {},
   "outputs": [
    {
     "name": "stdout",
     "output_type": "stream",
     "text": [
      "<class 'pandas.core.frame.DataFrame'>\n",
      "Index: 4 entries, A to D\n",
      "Data columns (total 4 columns):\n",
      " #   Column      Non-Null Count  Dtype \n",
      "---  ------      --------------  ----- \n",
      " 0   cidade      4 non-null      object\n",
      " 1   inscrições  4 non-null      int64 \n",
      " 2   visitantes  4 non-null      int64 \n",
      " 3   dia         4 non-null      object\n",
      "dtypes: int64(2), object(2)\n",
      "memory usage: 160.0+ bytes\n"
     ]
    }
   ],
   "source": [
    "df.info()\n",
    "# classe e tipo do objeto = dataframe;\n",
    "# numero de indices e min e max;\n",
    "# numero de colunas;\n",
    "# por coluna: \n",
    "#     nome ----- numero de valores nao nulos (não-nan) --- tipo de variável;\n",
    "# tipos de variáveis (e quantas colunas tem esse tipo) do dataframe;\n",
    "# uso de memória."
   ]
  },
  {
   "cell_type": "code",
   "execution_count": 14,
   "metadata": {},
   "outputs": [
    {
     "data": {
      "text/plain": [
       "198.679993    2\n",
       "220.000000    2\n",
       "208.460007    2\n",
       "199.199997    2\n",
       "201.410004    1\n",
       "             ..\n",
       "227.929993    1\n",
       "187.710007    1\n",
       "267.899994    1\n",
       "186.270004    1\n",
       "180.000000    1\n",
       "Name: Open, Length: 250, dtype: int64"
      ]
     },
     "execution_count": 14,
     "metadata": {},
     "output_type": "execute_result"
    }
   ],
   "source": [
    "df2['Open'].value_counts() # conta os valores de uma SÉRIE pandas"
   ]
  },
  {
   "cell_type": "markdown",
   "metadata": {},
   "source": [
    "### Seleção"
   ]
  },
  {
   "cell_type": "code",
   "execution_count": 15,
   "metadata": {},
   "outputs": [
    {
     "data": {
      "text/html": [
       "<div>\n",
       "<style scoped>\n",
       "    .dataframe tbody tr th:only-of-type {\n",
       "        vertical-align: middle;\n",
       "    }\n",
       "\n",
       "    .dataframe tbody tr th {\n",
       "        vertical-align: top;\n",
       "    }\n",
       "\n",
       "    .dataframe thead th {\n",
       "        text-align: right;\n",
       "    }\n",
       "</style>\n",
       "<table border=\"1\" class=\"dataframe\">\n",
       "  <thead>\n",
       "    <tr style=\"text-align: right;\">\n",
       "      <th></th>\n",
       "      <th>cidade</th>\n",
       "      <th>inscrições</th>\n",
       "      <th>visitantes</th>\n",
       "      <th>dia</th>\n",
       "    </tr>\n",
       "  </thead>\n",
       "  <tbody>\n",
       "    <tr>\n",
       "      <th>A</th>\n",
       "      <td>Austin</td>\n",
       "      <td>7</td>\n",
       "      <td>139</td>\n",
       "      <td>Sun</td>\n",
       "    </tr>\n",
       "  </tbody>\n",
       "</table>\n",
       "</div>"
      ],
      "text/plain": [
       "   cidade  inscrições  visitantes  dia\n",
       "A  Austin           7         139  Sun"
      ]
     },
     "execution_count": 15,
     "metadata": {},
     "output_type": "execute_result"
    }
   ],
   "source": [
    "# slice\n",
    "df[0:1] # selecionando colunas 1 e 2   (ta errado)"
   ]
  },
  {
   "cell_type": "markdown",
   "metadata": {},
   "source": [
    "#### Importando  .csv para DataFrame (alguns parâmetros)"
   ]
  },
  {
   "cell_type": "code",
   "execution_count": 16,
   "metadata": {
    "scrolled": true
   },
   "outputs": [
    {
     "data": {
      "text/html": [
       "<div>\n",
       "<style scoped>\n",
       "    .dataframe tbody tr th:only-of-type {\n",
       "        vertical-align: middle;\n",
       "    }\n",
       "\n",
       "    .dataframe tbody tr th {\n",
       "        vertical-align: top;\n",
       "    }\n",
       "\n",
       "    .dataframe thead th {\n",
       "        text-align: right;\n",
       "    }\n",
       "</style>\n",
       "<table border=\"1\" class=\"dataframe\">\n",
       "  <thead>\n",
       "    <tr style=\"text-align: right;\">\n",
       "      <th></th>\n",
       "      <th>Open</th>\n",
       "      <th>High</th>\n",
       "      <th>Low</th>\n",
       "      <th>Close</th>\n",
       "      <th>Adj Close</th>\n",
       "      <th>Volume</th>\n",
       "    </tr>\n",
       "  </thead>\n",
       "  <tbody>\n",
       "    <tr>\n",
       "      <th>2019-03-04</th>\n",
       "      <td>175.690002</td>\n",
       "      <td>177.750000</td>\n",
       "      <td>173.970001</td>\n",
       "      <td>175.850006</td>\n",
       "      <td>173.578033</td>\n",
       "      <td>27436200</td>\n",
       "    </tr>\n",
       "    <tr>\n",
       "      <th>2019-03-05</th>\n",
       "      <td>175.940002</td>\n",
       "      <td>176.000000</td>\n",
       "      <td>174.539993</td>\n",
       "      <td>175.529999</td>\n",
       "      <td>173.262161</td>\n",
       "      <td>19737400</td>\n",
       "    </tr>\n",
       "    <tr>\n",
       "      <th>2019-03-06</th>\n",
       "      <td>174.669998</td>\n",
       "      <td>175.490005</td>\n",
       "      <td>173.940002</td>\n",
       "      <td>174.520004</td>\n",
       "      <td>172.265228</td>\n",
       "      <td>20810400</td>\n",
       "    </tr>\n",
       "    <tr>\n",
       "      <th>2019-03-07</th>\n",
       "      <td>173.869995</td>\n",
       "      <td>174.440002</td>\n",
       "      <td>172.020004</td>\n",
       "      <td>172.500000</td>\n",
       "      <td>170.271317</td>\n",
       "      <td>24796400</td>\n",
       "    </tr>\n",
       "    <tr>\n",
       "      <th>2019-03-08</th>\n",
       "      <td>170.320007</td>\n",
       "      <td>173.070007</td>\n",
       "      <td>169.500000</td>\n",
       "      <td>172.910004</td>\n",
       "      <td>170.676025</td>\n",
       "      <td>23999400</td>\n",
       "    </tr>\n",
       "  </tbody>\n",
       "</table>\n",
       "</div>"
      ],
      "text/plain": [
       "                  Open        High         Low       Close   Adj Close  \\\n",
       "2019-03-04  175.690002  177.750000  173.970001  175.850006  173.578033   \n",
       "2019-03-05  175.940002  176.000000  174.539993  175.529999  173.262161   \n",
       "2019-03-06  174.669998  175.490005  173.940002  174.520004  172.265228   \n",
       "2019-03-07  173.869995  174.440002  172.020004  172.500000  170.271317   \n",
       "2019-03-08  170.320007  173.070007  169.500000  172.910004  170.676025   \n",
       "\n",
       "              Volume  \n",
       "2019-03-04  27436200  \n",
       "2019-03-05  19737400  \n",
       "2019-03-06  20810400  \n",
       "2019-03-07  24796400  \n",
       "2019-03-08  23999400  "
      ]
     },
     "execution_count": 16,
     "metadata": {},
     "output_type": "execute_result"
    }
   ],
   "source": [
    "# trazer sem cabeçalho:\n",
    "df = pd.read_csv('AAPL_semlabels.csv', header = None) # faça isso quando a primeira linha já é de registros (não tem labels)\n",
    "\n",
    "#colocando labels nas colunas:\n",
    "col_names = ['Open', 'High', 'Low', 'Close', 'Adj Close', 'Volume']\n",
    "df = pd.read_csv('AAPL_semlabels.csv', header = None, names = col_names)\n",
    "\n",
    "df.head()"
   ]
  },
  {
   "cell_type": "markdown",
   "metadata": {},
   "source": [
    "importando já substituindo algum valor por nan:"
   ]
  },
  {
   "cell_type": "code",
   "execution_count": 17,
   "metadata": {},
   "outputs": [
    {
     "data": {
      "text/html": [
       "<div>\n",
       "<style scoped>\n",
       "    .dataframe tbody tr th:only-of-type {\n",
       "        vertical-align: middle;\n",
       "    }\n",
       "\n",
       "    .dataframe tbody tr th {\n",
       "        vertical-align: top;\n",
       "    }\n",
       "\n",
       "    .dataframe thead th {\n",
       "        text-align: right;\n",
       "    }\n",
       "</style>\n",
       "<table border=\"1\" class=\"dataframe\">\n",
       "  <thead>\n",
       "    <tr style=\"text-align: right;\">\n",
       "      <th></th>\n",
       "      <th>Date</th>\n",
       "      <th>Open</th>\n",
       "      <th>High</th>\n",
       "      <th>Low</th>\n",
       "      <th>Close</th>\n",
       "      <th>Adj Close</th>\n",
       "      <th>Volume</th>\n",
       "    </tr>\n",
       "  </thead>\n",
       "  <tbody>\n",
       "    <tr>\n",
       "      <th>0</th>\n",
       "      <td>2019-03-04</td>\n",
       "      <td>NaN</td>\n",
       "      <td>NaN</td>\n",
       "      <td>173.970001</td>\n",
       "      <td>175.850006</td>\n",
       "      <td>173.578033</td>\n",
       "      <td>27436200</td>\n",
       "    </tr>\n",
       "    <tr>\n",
       "      <th>1</th>\n",
       "      <td>2019-03-05</td>\n",
       "      <td>175.940002</td>\n",
       "      <td>176.000000</td>\n",
       "      <td>174.539993</td>\n",
       "      <td>175.529999</td>\n",
       "      <td>173.262161</td>\n",
       "      <td>19737400</td>\n",
       "    </tr>\n",
       "    <tr>\n",
       "      <th>2</th>\n",
       "      <td>2019-03-06</td>\n",
       "      <td>174.669998</td>\n",
       "      <td>175.490005</td>\n",
       "      <td>173.940002</td>\n",
       "      <td>174.520004</td>\n",
       "      <td>172.265228</td>\n",
       "      <td>20810400</td>\n",
       "    </tr>\n",
       "    <tr>\n",
       "      <th>3</th>\n",
       "      <td>2019-03-07</td>\n",
       "      <td>173.869995</td>\n",
       "      <td>174.440002</td>\n",
       "      <td>172.020004</td>\n",
       "      <td>172.500000</td>\n",
       "      <td>170.271317</td>\n",
       "      <td>24796400</td>\n",
       "    </tr>\n",
       "    <tr>\n",
       "      <th>4</th>\n",
       "      <td>2019-03-08</td>\n",
       "      <td>170.320007</td>\n",
       "      <td>173.070007</td>\n",
       "      <td>169.500000</td>\n",
       "      <td>172.910004</td>\n",
       "      <td>170.676025</td>\n",
       "      <td>23999400</td>\n",
       "    </tr>\n",
       "  </tbody>\n",
       "</table>\n",
       "</div>"
      ],
      "text/plain": [
       "         Date        Open        High         Low       Close   Adj Close  \\\n",
       "0  2019-03-04         NaN         NaN  173.970001  175.850006  173.578033   \n",
       "1  2019-03-05  175.940002  176.000000  174.539993  175.529999  173.262161   \n",
       "2  2019-03-06  174.669998  175.490005  173.940002  174.520004  172.265228   \n",
       "3  2019-03-07  173.869995  174.440002  172.020004  172.500000  170.271317   \n",
       "4  2019-03-08  170.320007  173.070007  169.500000  172.910004  170.676025   \n",
       "\n",
       "     Volume  \n",
       "0  27436200  \n",
       "1  19737400  \n",
       "2  20810400  \n",
       "3  24796400  \n",
       "4  23999400  "
      ]
     },
     "execution_count": 17,
     "metadata": {},
     "output_type": "execute_result"
    }
   ],
   "source": [
    "df = pd.read_csv('AAPL.csv', na_values='0') # quando tiver 0 ele substitui por nan; não é o caso desse df mas é so um exemplo\n",
    "# obs.: se houver espaço antes ou depois do valor coloque o espaço dentro das aspas ' 0'\n",
    "\n",
    "# pra fazer isso somente para determinadas colunas:\n",
    "df = pd.read_csv('AAPL.csv', na_values={'Open':['175.690002'],'High':['177.750000']}) # use um dicionário, mesmo que pra 1 col só\n",
    "df.head()"
   ]
  },
  {
   "cell_type": "markdown",
   "metadata": {},
   "source": [
    "indicando as colunas de data:"
   ]
  },
  {
   "cell_type": "code",
   "execution_count": 18,
   "metadata": {},
   "outputs": [
    {
     "data": {
      "text/plain": [
       "pandas.core.indexes.range.RangeIndex"
      ]
     },
     "execution_count": 18,
     "metadata": {},
     "output_type": "execute_result"
    }
   ],
   "source": [
    "df2 = pd.read_csv('AAPL.csv', index_col='Date', parse_dates = True) \n",
    "# importa com a data como index   (index_col='Date')\n",
    "# no formato datetime (parse_dates = True)\n",
    "type(df.index) # observe o tipo de variavel do index"
   ]
  },
  {
   "cell_type": "code",
   "execution_count": 19,
   "metadata": {
    "scrolled": true
   },
   "outputs": [],
   "source": [
    "df2 = pd.read_csv('AAPL.csv', parse_dates = [[0,1,2]]) # informa quais colunas tem datas \n",
    "# pra esse exemplo de cima tinhamos um dataframe em que as 3 primeiras colunas eram ano, mês, dia\n",
    "# o dataframe terá apenas uma coluna de datas com nome 'coluna1_coluna2_coluna3' => nome das colunas separado por _"
   ]
  },
  {
   "cell_type": "markdown",
   "metadata": {},
   "source": [
    "usando data como index:"
   ]
  },
  {
   "cell_type": "code",
   "execution_count": 20,
   "metadata": {
    "scrolled": true
   },
   "outputs": [
    {
     "name": "stdout",
     "output_type": "stream",
     "text": [
      "<class 'pandas.core.frame.DataFrame'>\n",
      "Index: 254 entries, 2019-03-04 to 2020-03-04\n",
      "Data columns (total 5 columns):\n",
      " #   Column          Non-Null Count  Dtype  \n",
      "---  ------          --------------  -----  \n",
      " 0   Date_Open_High  254 non-null    object \n",
      " 1   Low             254 non-null    float64\n",
      " 2   Close           254 non-null    float64\n",
      " 3   Adj Close       254 non-null    float64\n",
      " 4   Volume          254 non-null    int64  \n",
      "dtypes: float64(3), int64(1), object(1)\n",
      "memory usage: 11.9+ KB\n"
     ]
    }
   ],
   "source": [
    "df2.index = df['Date'] # atribuindo essa coluna como index\n",
    "df2.index.name = 'date'  # renomeando o index\n",
    "# df2.drop  # dropando a coluna Date que não é index\n",
    "df2.info() # observe o tipo de index, agora é datetime"
   ]
  },
  {
   "cell_type": "markdown",
   "metadata": {},
   "source": [
    "Escrevendo .csv do dataframe que temos:"
   ]
  },
  {
   "cell_type": "code",
   "execution_count": 21,
   "metadata": {},
   "outputs": [],
   "source": [
    "out_csv = 'nome.csv'\n",
    "df.to_csv(out_csv)\n",
    "\n",
    "# parametro: sep='\\t' define o separador do .csv entre as colunas, default é ',' testar depois, tenho a mínima ideia\n",
    "\n",
    "# pra tabela de excel\n",
    "out_xlsx = 'nome.xlsx'\n",
    "df.to_excel(out_xlsx)\n"
   ]
  },
  {
   "cell_type": "markdown",
   "metadata": {},
   "source": [
    "### Plotando dados"
   ]
  },
  {
   "cell_type": "code",
   "execution_count": 22,
   "metadata": {},
   "outputs": [
    {
     "data": {
      "text/html": [
       "<div>\n",
       "<style scoped>\n",
       "    .dataframe tbody tr th:only-of-type {\n",
       "        vertical-align: middle;\n",
       "    }\n",
       "\n",
       "    .dataframe tbody tr th {\n",
       "        vertical-align: top;\n",
       "    }\n",
       "\n",
       "    .dataframe thead th {\n",
       "        text-align: right;\n",
       "    }\n",
       "</style>\n",
       "<table border=\"1\" class=\"dataframe\">\n",
       "  <thead>\n",
       "    <tr style=\"text-align: right;\">\n",
       "      <th></th>\n",
       "      <th>Open</th>\n",
       "      <th>High</th>\n",
       "      <th>Low</th>\n",
       "      <th>Close</th>\n",
       "      <th>Adj Close</th>\n",
       "      <th>Volume</th>\n",
       "    </tr>\n",
       "    <tr>\n",
       "      <th>Date</th>\n",
       "      <th></th>\n",
       "      <th></th>\n",
       "      <th></th>\n",
       "      <th></th>\n",
       "      <th></th>\n",
       "      <th></th>\n",
       "    </tr>\n",
       "  </thead>\n",
       "  <tbody>\n",
       "    <tr>\n",
       "      <th>2019-03-04</th>\n",
       "      <td>175.690002</td>\n",
       "      <td>177.750000</td>\n",
       "      <td>173.970001</td>\n",
       "      <td>175.850006</td>\n",
       "      <td>173.578033</td>\n",
       "      <td>27436200</td>\n",
       "    </tr>\n",
       "    <tr>\n",
       "      <th>2019-03-05</th>\n",
       "      <td>175.940002</td>\n",
       "      <td>176.000000</td>\n",
       "      <td>174.539993</td>\n",
       "      <td>175.529999</td>\n",
       "      <td>173.262161</td>\n",
       "      <td>19737400</td>\n",
       "    </tr>\n",
       "    <tr>\n",
       "      <th>2019-03-06</th>\n",
       "      <td>174.669998</td>\n",
       "      <td>175.490005</td>\n",
       "      <td>173.940002</td>\n",
       "      <td>174.520004</td>\n",
       "      <td>172.265228</td>\n",
       "      <td>20810400</td>\n",
       "    </tr>\n",
       "    <tr>\n",
       "      <th>2019-03-07</th>\n",
       "      <td>173.869995</td>\n",
       "      <td>174.440002</td>\n",
       "      <td>172.020004</td>\n",
       "      <td>172.500000</td>\n",
       "      <td>170.271317</td>\n",
       "      <td>24796400</td>\n",
       "    </tr>\n",
       "    <tr>\n",
       "      <th>2019-03-08</th>\n",
       "      <td>170.320007</td>\n",
       "      <td>173.070007</td>\n",
       "      <td>169.500000</td>\n",
       "      <td>172.910004</td>\n",
       "      <td>170.676025</td>\n",
       "      <td>23999400</td>\n",
       "    </tr>\n",
       "  </tbody>\n",
       "</table>\n",
       "</div>"
      ],
      "text/plain": [
       "                  Open        High         Low       Close   Adj Close  \\\n",
       "Date                                                                     \n",
       "2019-03-04  175.690002  177.750000  173.970001  175.850006  173.578033   \n",
       "2019-03-05  175.940002  176.000000  174.539993  175.529999  173.262161   \n",
       "2019-03-06  174.669998  175.490005  173.940002  174.520004  172.265228   \n",
       "2019-03-07  173.869995  174.440002  172.020004  172.500000  170.271317   \n",
       "2019-03-08  170.320007  173.070007  169.500000  172.910004  170.676025   \n",
       "\n",
       "              Volume  \n",
       "Date                  \n",
       "2019-03-04  27436200  \n",
       "2019-03-05  19737400  \n",
       "2019-03-06  20810400  \n",
       "2019-03-07  24796400  \n",
       "2019-03-08  23999400  "
      ]
     },
     "execution_count": 22,
     "metadata": {},
     "output_type": "execute_result"
    }
   ],
   "source": [
    "df2 = pd.read_csv('AAPL.csv', index_col = 'Date', parse_dates = True)\n",
    "df2.head()"
   ]
  },
  {
   "cell_type": "code",
   "execution_count": 23,
   "metadata": {},
   "outputs": [
    {
     "data": {
      "image/png": "[encoded data removed]",
      "text/plain": [
       "<Figure size 432x288 with 1 Axes>"
      ]
     },
     "metadata": {
      "needs_background": "light"
     },
     "output_type": "display_data"
    }
   ],
   "source": [
    "close_array = df2['Close'].values # array \n",
    "\n",
    "plt.plot(close_array)  # plotando numpy array ou lista; x é a posição da linha\n",
    "plt.show()"
   ]
  },
  {
   "cell_type": "code",
   "execution_count": 24,
   "metadata": {
    "scrolled": true
   },
   "outputs": [
    {
     "data": {
      "image/png": "[encoded data removed]",
      "text/plain": [
       "<Figure size 432x288 with 1 Axes>"
      ]
     },
     "metadata": {
      "needs_background": "light"
     },
     "output_type": "display_data"
    }
   ],
   "source": [
    "close_series = df2['Close'] # series \n",
    "\n",
    "plt.plot(close_series)  # plotando serie; index é o eixo x\n",
    "plt.show()"
   ]
  },
  {
   "cell_type": "code",
   "execution_count": 25,
   "metadata": {},
   "outputs": [
    {
     "data": {
      "text/plain": [
       "<matplotlib.axes._subplots.AxesSubplot at 0x1d71eb83c88>"
      ]
     },
     "execution_count": 25,
     "metadata": {},
     "output_type": "execute_result"
    },
    {
     "data": {
      "image/png": "[encoded data removed]",
      "text/plain": [
       "<Figure size 432x288 with 1 Axes>"
      ]
     },
     "metadata": {
      "needs_background": "light"
     },
     "output_type": "display_data"
    }
   ],
   "source": [
    "close_series.plot()  # usando plot do pandas"
   ]
  },
  {
   "cell_type": "code",
   "execution_count": 26,
   "metadata": {},
   "outputs": [
    {
     "data": {
      "text/plain": [
       "<matplotlib.axes._subplots.AxesSubplot at 0x1d71f68e0c8>"
      ]
     },
     "execution_count": 26,
     "metadata": {},
     "output_type": "execute_result"
    },
    {
     "data": {
      "image/png": "[encoded data removed]",
      "text/plain": [
       "<Figure size 432x288 with 1 Axes>"
      ]
     },
     "metadata": {
      "needs_background": "light"
     },
     "output_type": "display_data"
    }
   ],
   "source": [
    "df2.plot() # plota todos os valores em relação ao index"
   ]
  },
  {
   "cell_type": "code",
   "execution_count": 27,
   "metadata": {},
   "outputs": [
    {
     "data": {
      "text/plain": [
       "[<matplotlib.lines.Line2D at 0x1d71f811c88>,\n",
       " <matplotlib.lines.Line2D at 0x1d71f66ae88>,\n",
       " <matplotlib.lines.Line2D at 0x1d71f66a9c8>,\n",
       " <matplotlib.lines.Line2D at 0x1d71f66a648>,\n",
       " <matplotlib.lines.Line2D at 0x1d71f660948>,\n",
       " <matplotlib.lines.Line2D at 0x1d71f660888>]"
      ]
     },
     "execution_count": 27,
     "metadata": {},
     "output_type": "execute_result"
    },
    {
     "data": {
      "image/png": "[encoded data removed]",
      "text/plain": [
       "<Figure size 432x288 with 1 Axes>"
      ]
     },
     "metadata": {
      "needs_background": "light"
     },
     "output_type": "display_data"
    }
   ],
   "source": [
    "plt.plot(df2)"
   ]
  },
  {
   "cell_type": "code",
   "execution_count": 28,
   "metadata": {},
   "outputs": [
    {
     "data": {
      "image/png": "[encoded data removed]",
      "text/plain": [
       "<Figure size 432x288 with 1 Axes>"
      ]
     },
     "metadata": {
      "needs_background": "light"
     },
     "output_type": "display_data"
    }
   ],
   "source": [
    "# mexendo na escala: printa o valor de y pela escala de base 10\n",
    "df.plot()\n",
    "plt.yscale('log')\n",
    "plt.show()"
   ]
  },
  {
   "cell_type": "markdown",
   "metadata": {},
   "source": [
    "### loc e iloc\n",
    "\n",
    "df.loc['label'] retorna a linha ou coluna correspondente àquele rótulo (índice é palavra-chave)\n",
    "\n",
    "df.iloc[5] retorna "
   ]
  },
  {
   "cell_type": "code",
   "execution_count": 29,
   "metadata": {},
   "outputs": [
    {
     "name": "stdout",
     "output_type": "stream",
     "text": [
      "    cars_per_cap        country drives_right\n",
      "US           809  United States         True\n",
      "AUS          731      Australia        False\n",
      "JPN          588          Japan        False\n",
      "IN            18          India        False\n",
      "RU           200         Russia         True\n",
      "MOR           70        Morocco         True\n",
      "EG            45          Egypt         True\n"
     ]
    }
   ],
   "source": [
    "data = {'US': {'cars_per_cap': 809, 'country': 'United States', 'drives_right':True},\n",
    "        'AUS': {'cars_per_cap': 731, 'country': 'Australia', 'drives_right':False},\n",
    "        'JPN': {'cars_per_cap': 588, 'country': 'Japan', 'drives_right':False},\n",
    "        'IN': {'cars_per_cap': 18, 'country': 'India', 'drives_right':False},\n",
    "        'RU': {'cars_per_cap': 200, 'country': 'Russia', 'drives_right':True},\n",
    "        'MOR':{'cars_per_cap': 70, 'country': 'Morocco', 'drives_right':True},\n",
    "        'EG':{'cars_per_cap': 45, 'country': 'Egypt', 'drives_right':True}}\n",
    "\n",
    "cars = pd.DataFrame(data)\n",
    "cars=cars.T\n",
    "print(cars)"
   ]
  },
  {
   "cell_type": "code",
   "execution_count": 32,
   "metadata": {
    "scrolled": true
   },
   "outputs": [
    {
     "ename": "SyntaxError",
     "evalue": "invalid syntax (<ipython-input-32-f48f0a11dbd3>, line 12)",
     "output_type": "error",
     "traceback": [
      "\u001b[1;36m  File \u001b[1;32m\"<ipython-input-32-f48f0a11dbd3>\"\u001b[1;36m, line \u001b[1;32m12\u001b[0m\n\u001b[1;33m    print(cars.iloc[[:, 'country']].shape) # erro\u001b[0m\n\u001b[1;37m                     ^\u001b[0m\n\u001b[1;31mSyntaxError\u001b[0m\u001b[1;31m:\u001b[0m invalid syntax\n"
     ]
    }
   ],
   "source": [
    "# Selecionando uma linha\n",
    "print(cars.loc['JPN'])\n",
    "print(cars.iloc[2])\n",
    "print()\n",
    "print(cars.iloc[2].shape) # sem orientação; \n",
    "type(cars.iloc[2]) # = Series\n",
    "print(cars.iloc[[2]].shape) # duplo colchete: dataframe (vetor horizontal); \n",
    "type(cars.iloc[[2]]) # = DataFrame\n",
    "\n",
    "# duas linhas:\n",
    "cars.loc[['RU', 'AUS']]\n",
    "cars.iloc[[4, 1]]\n",
    "\n",
    "# Selecionando coluna\n",
    "print(cars.loc[:, 'country']) # dtype = Series\n",
    "print(cars.iloc[:, 1])\n",
    "print(cars.iloc[:, 1].shape) # sem orientação; Series\n",
    "# print(cars.iloc[[:, 'country']].shape) # duplo colchete: erro\n",
    "print(cars.loc[:, ['drives_right']]) # colchete no label ou índice da coluna;  DataFrame\n",
    "\n",
    "# duas colunas:\n",
    "print(cars.loc[:, ['cars_per_cap', 'drives_right']]) # dtype = DataFrame\n",
    "\n",
    "# Selecionando um elemento do corpo do df (especifica linha e coluna)\n",
    "cars.loc['IN', 'cars_per_cap']\n",
    "cars.iloc[3, 0]\n",
    "\n",
    "# duas linhas, uma coluna\n",
    "cars.loc[['IN', 'RU'], 'cars_per_cap']\n",
    "cars.iloc[[3, 4], 0]\n",
    "\n",
    "# Sub-dataframe (duas linhas, duas colunas)\n",
    "cars.loc[['IN', 'RU'], ['cars_per_cap', 'country']] \n",
    "cars.iloc[[3, 4], [0, 1]] # [indice das linhas], [indice das colunas]"
   ]
  },
  {
   "cell_type": "code",
   "execution_count": null,
   "metadata": {},
   "outputs": [],
   "source": []
  }
 ],
 "metadata": {
  "kernelspec": {
   "display_name": "Python 3",
   "language": "python",
   "name": "python3"
  },
  "language_info": {
   "codemirror_mode": {
    "name": "ipython",
    "version": 3
   },
   "file_extension": ".py",
   "mimetype": "text/x-python",
   "name": "python",
   "nbconvert_exporter": "python",
   "pygments_lexer": "ipython3",
   "version": "3.8.8"
  }
 },
 "nbformat": 4,
 "nbformat_minor": 2
}
