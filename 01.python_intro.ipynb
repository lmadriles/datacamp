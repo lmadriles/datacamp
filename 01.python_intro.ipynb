{
 "cells": [
  {
   "cell_type": "markdown",
   "metadata": {},
   "source": [
    "**Primeiro capítulo:**\n",
    "    Foi ensinado sobre: \n",
    "    Operações matemáticas, print\n",
    "    Variáveis e operações com elas, type(variavel), soma de numero (soma)/soma de string (concatena)/soma de booleano (True = 1, False = 0)\n",
    "        Funções de conversão: str(), int(), float() e bool()\n",
    "**Segundo Capítulo:** \n",
    "    Lista = [a,b,c]\n",
    "        Pode conter diferentes tipos, inclusive listas (lista é um python type)\n",
    "    Slicing\n",
    "        Lista[2] seleciona o item de índice 2 da lista (terceiro), \n",
    "        Lista[-1] seleciona o último\n",
    "        Lista[3:5] do indice 3 a 4\n",
    "        Lista[:4] do 0 ao 3\n",
    "        Lista[4:] do 4 ao último\n",
    "        Em lista de listas, pode-se usar Lista[][], o primeiro bracket pra acessar a lista, o segundo pra acessar um elemento dela.\n",
    "    \n",
    "    Manipular lista:\n",
    "        mudar elemento: Lista[2] = x (ou qualquer seleção acima)\n",
    "        adicionar elemento: Lista = Lista + [\"blabla\", 55]\n",
    "        remover elemento: del(Lista[2]) # modifica o indice dos elementos após o deletado   "
   ]
  },
  {
   "cell_type": "code",
   "execution_count": 1,
   "metadata": {},
   "outputs": [
    {
     "name": "stdout",
     "output_type": "stream",
     "text": [
      "['zabumba', 'b', 'c']\n"
     ]
    }
   ],
   "source": [
    "# Obs.: armazenar a lista numa variável é armazenar o endereço da lista em x (e depois em y)\n",
    "x = [\"a\",\"b\",\"c\"]\n",
    "y = x\n",
    "y[0]=\"zabumba\"\n",
    "print(x)\n",
    "# portanto, alterar a lista vai mexer nas variáveis x e y"
   ]
  },
  {
   "cell_type": "code",
   "execution_count": 2,
   "metadata": {},
   "outputs": [
    {
     "name": "stdout",
     "output_type": "stream",
     "text": [
      "['a', 'b', 'c']\n"
     ]
    }
   ],
   "source": [
    "# para fazer cópia da lista:\n",
    "x = [\"a\",\"b\",\"c\"]\n",
    "y = list(x) # função list\n",
    "y = x[:] # ou 'slice total'\n",
    "y[0]=\"zabumba\"\n",
    "print(x)"
   ]
  },
  {
   "cell_type": "code",
   "execution_count": 6,
   "metadata": {},
   "outputs": [
    {
     "name": "stdout",
     "output_type": "stream",
     "text": [
      "2\n",
      "3\n"
     ]
    }
   ],
   "source": [
    "# ponto e vírgula quebra a linha em duas linhas de comando\n",
    "print(2);print(3)"
   ]
  },
  {
   "cell_type": "markdown",
   "metadata": {},
   "source": [
    "**Terceiro Capítulo:**\n",
    "    Funções:max() retorna o máximo; round(1.123,2) arredonda esse float pra 2 casas decimais, len() retorna o tamanho da lista\n",
    "        help(<função>) ou ?<função> retorna ajuda\n",
    "    Métodos: funções que pertencem a objetos python (cada tipo de objeto [str, float, list] tem métodos para mexer neles)\n",
    "        str: capitalize(), replace(), index()\n",
    "        float: bit_length(), conjugate()\n",
    "        list: index(), count(), append()\n",
    "        Pra chamar o método use ponto: lista.index(), se colocar o valor de um elemento como input, será retornado o método apenas praquele elemento.\n",
    "        # alguns métodos alteram o objeto (só de serem chamados) e outros não. Fique ligado! (append() reverse() e remove() modificam). Para os que não o fazem, é necessário armazená-los em uma variável quando chamados.\n",
    "    Pacotes: pacotes de python scripts (arquivo de texto.py), chamados de módulos. COntém funções, métodos e tipos novos.\n",
    "        pip: um sistema de manutenção pra python. Ele instala pacotes no sistema \n",
    "            http://pip.readthedocs.org/en/stable/installing/ pra baixar, no terminal: python3 get-pip.py e depois pip3 install numpy\n",
    "        Importar o pacote todo (import), todo com apelido (import as), apenas uma função ou método (from import): pra essa não precisa colocar o nome do pacote ou apelido, dá pra chamar a função direto.\n",
    "       Subpacote: é o que diz o nome, importamos ele usando import pacote.subpacote\n",
    "       "
   ]
  },
  {
   "cell_type": "markdown",
   "metadata": {},
   "source": [
    "**Quarto capítulo:** numpy (numeric python)\n",
    "    python sozinho não sabe fazer cálculos com listas, usamos numpy\n",
    "    possui um tipo semelhante a lista que dá pra fazer conta: numpy array   array = np.array(lista)\n",
    "    Faz os cálculos vetorizados\n",
    "    # numpy array só agrupa variáveis de um tipo (é homogenea). Se você tentar com vários tipos (uma delas string), ele transforma tudo em string. Se tentar com bool e número, tudo vira numero.\n",
    "    # esse tipo é feito pra fazer calculo. Entao array + array não concatena como na lista, mas soma seus elementos.\n",
    "    array[1] funciona igual lista\n",
    "    um teste (array > 10) retorna array de booleanos com os resultados dos testes. \n",
    "    slicing: array[array > 10]"
   ]
  },
  {
   "cell_type": "code",
   "execution_count": 6,
   "metadata": {},
   "outputs": [
    {
     "data": {
      "text/plain": [
       "(2, 3)"
      ]
     },
     "execution_count": 6,
     "metadata": {},
     "output_type": "execute_result"
    }
   ],
   "source": [
    "import numpy as np\n",
    "# Dimensionalidade:\n",
    "#array 2D: listas de listas\n",
    "lista = [[1,2,3],\n",
    "        [4,5,6]]\n",
    "array = np.array(lista)\n",
    "array.shape"
   ]
  },
  {
   "cell_type": "code",
   "execution_count": 7,
   "metadata": {},
   "outputs": [
    {
     "data": {
      "text/plain": [
       "(1, 1, 1)"
      ]
     },
     "execution_count": 7,
     "metadata": {},
     "output_type": "execute_result"
    }
   ],
   "source": [
    "# array 3D: lista de listas de listas\n",
    "lista3d = [[[1]]] #nesse caso a lista so tem uma lista de lista, que só tem uma lista, que só tem um elemento\n",
    "array3d = np.array(lista3d)\n",
    "array3d.shape"
   ]
  },
  {
   "cell_type": "code",
   "execution_count": 12,
   "metadata": {},
   "outputs": [
    {
     "name": "stdout",
     "output_type": "stream",
     "text": [
      "[1 2 3]\n",
      "3\n",
      "3\n",
      "[[2]\n",
      " [5]]\n"
     ]
    }
   ],
   "source": [
    "print(array[0]) #primeira linha\n",
    "print(array[0][2]) #primeira linha terceiro elemento (coluna)\n",
    "print(array[0,2]) # mesma coisa da linha de cima\n",
    "print(array[0:2,1:2]) #linhas 0 e 1, coluna 1"
   ]
  },
  {
   "cell_type": "markdown",
   "metadata": {},
   "source": [
    "Análise de dados\n",
    "    média: np.mean(array[:,0])\n",
    "    mediana: np.median(array[:,0])\n",
    "        # obs.: sanity check = checar se a média e a mediana estão próximas (caso não, podem ter outliers ou a distribuição é muito assimétrica)\n",
    "    coeficiente de correlação: np.corrcoef(array[:,0],array[:,1])\n",
    "    desvio padrão: np.std(array[:,0])\n",
    "    sum()\n",
    "    sort()\n",
    "    \n",
    "    gerando dados: np.random.normal(media,desvio,numero_de_amostras)\n",
    "    np.round() #arredonda\n",
    "    array = np.column_stack((array1,array2)) #juntar duas arrays em uma de duas colunas"
   ]
  }
 ],
 "metadata": {
  "kernelspec": {
   "display_name": "Python 3",
   "language": "python",
   "name": "python3"
  },
  "language_info": {
   "codemirror_mode": {
    "name": "ipython",
    "version": 3
   },
   "file_extension": ".py",
   "mimetype": "text/x-python",
   "name": "python",
   "nbconvert_exporter": "python",
   "pygments_lexer": "ipython3",
   "version": "3.8.8"
  }
 },
 "nbformat": 4,
 "nbformat_minor": 4
}
