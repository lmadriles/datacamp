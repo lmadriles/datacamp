{
 "cells": [
  {
   "cell_type": "markdown",
   "metadata": {},
   "source": [
    "## Loops\n",
    "\n",
    "Assim como o if, checa uma condição e executa uma expressão. A diferença é que ao fim da expressão volta pro teste inicial e o realiza novamente. O código sai do loop quando o teste retorna negativo.\n",
    "\n",
    "Cerifique-se de que a condição deixará de ser satisfeita em algum momento."
   ]
  },
  {
   "cell_type": "code",
   "execution_count": 1,
   "metadata": {},
   "outputs": [
    {
     "name": "stdout",
     "output_type": "stream",
     "text": [
      "9\n",
      "8\n",
      "7\n",
      "6\n",
      "5\n",
      "4\n",
      "3\n",
      "2\n",
      "1\n"
     ]
    }
   ],
   "source": [
    "# WHILE LOOP\n",
    "a = 10\n",
    "while a > 1: # while codição:\n",
    "    a-=1     # expressão\n",
    "    print(a)"
   ]
  },
  {
   "cell_type": "code",
   "execution_count": 2,
   "metadata": {},
   "outputs": [
    {
     "name": "stdout",
     "output_type": "stream",
     "text": [
      "0\n",
      "2\n",
      "4\n",
      "6\n"
     ]
    }
   ],
   "source": [
    "# FOR LOOP na lista\n",
    "lista = [0,1,2,3]\n",
    "for qualquer_nome in lista:# for variavel in sequencia:\n",
    "    \n",
    "    print(qualquer_nome*2)# expressão"
   ]
  },
  {
   "cell_type": "markdown",
   "metadata": {},
   "source": [
    "No for loop não temos acesso aos índices da lista."
   ]
  },
  {
   "cell_type": "code",
   "execution_count": 3,
   "metadata": {},
   "outputs": [
    {
     "name": "stdout",
     "output_type": "stream",
     "text": [
      "O 0º elemento vale 1.73\n",
      "O 1º elemento vale 5.56\n",
      "O 2º elemento vale 6.9\n",
      "O 3º elemento vale 10.0\n"
     ]
    }
   ],
   "source": [
    "# enumeração: uma variável para o índice e outra para o valor do elemento da sequencia:\n",
    "lista = [1.73,5.56,6.9,10.0]\n",
    "for index, valor in enumerate(lista):\n",
    "    print(\"O \" + str(index) + \"º elemento vale \"+str(valor))\n",
    "# obs.: colocando duas variáveis, python espera receber dois valores por iteração"
   ]
  },
  {
   "cell_type": "code",
   "execution_count": 4,
   "metadata": {},
   "outputs": [
    {
     "name": "stdout",
     "output_type": "stream",
     "text": [
      "F\n",
      "A\n",
      "M\n",
      "I\n",
      "L\n",
      "I\n",
      "A\n"
     ]
    }
   ],
   "source": [
    "# FOR LOOP na string\n",
    "for char in 'familia':\n",
    "    print(char.capitalize())"
   ]
  },
  {
   "cell_type": "code",
   "execution_count": 5,
   "metadata": {},
   "outputs": [
    {
     "name": "stdout",
     "output_type": "stream",
     "text": [
      "['hallway', 11.25]\n",
      "['kitchen', 18.0]\n",
      "['living room', 20.0]\n",
      "['bedroom', 10.75]\n",
      "['bathroom', 9.5]\n",
      "the hallway is 11.25 sqm\n",
      "the kitchen is 18.0 sqm\n",
      "the living room is 20.0 sqm\n",
      "the bedroom is 10.75 sqm\n",
      "the bathroom is 9.5 sqm\n"
     ]
    }
   ],
   "source": [
    "# FOR LOOP na lista bidimensional\n",
    "house = [[\"hallway\", 11.25], \n",
    "         [\"kitchen\", 18.0], \n",
    "         [\"living room\", 20.0], \n",
    "         [\"bedroom\", 10.75], \n",
    "         [\"bathroom\", 9.50]]\n",
    "\n",
    "# printa a linha(??) inteira\n",
    "for x in house: \n",
    "    print(x)\n",
    "\n",
    "# printando cada 1 elemento (de 2) separadamente:\n",
    "for x,y in house:\n",
    "    print('the '+str(x)+' is '+str(y)+' sqm')"
   ]
  },
  {
   "cell_type": "code",
   "execution_count": 6,
   "metadata": {},
   "outputs": [
    {
     "name": "stdout",
     "output_type": "stream",
     "text": [
      "afghanista--30.55\n",
      "albania--2.77\n",
      "algeria--39.21\n"
     ]
    }
   ],
   "source": [
    "# FOR LOOP em dicionário\n",
    "#usando método items() para separar chave e valor\n",
    "world={ 'afghanista':30.55,\n",
    "       'albania': 2.77,\n",
    "       'algeria':39.21}\n",
    "\n",
    "for key, value in world.items():\n",
    "    print(key + '--' + str(value))\n",
    "# lembrando que dicionário não tem ordem"
   ]
  },
  {
   "cell_type": "code",
   "execution_count": 7,
   "metadata": {},
   "outputs": [],
   "source": [
    "# FOR LOOP em numpy array (matriz numpy)\n",
    "import numpy as np\n",
    "np_height = np.array([1.73,1.68,1.71,1.89,1.79])\n",
    "np_weight = np.array([65.4,59.2,63.6,88.4,68.7])\n",
    "meas = np.array([np_height,np_weight])"
   ]
  },
  {
   "cell_type": "code",
   "execution_count": 8,
   "metadata": {},
   "outputs": [
    {
     "name": "stdout",
     "output_type": "stream",
     "text": [
      "1.73\n",
      "1.68\n",
      "1.71\n",
      "1.89\n",
      "1.79\n"
     ]
    }
   ],
   "source": [
    "# FOR LOOP em numpy list (array de uma dimensão)\n",
    "for val in np_height:\n",
    "    print(val)"
   ]
  },
  {
   "cell_type": "code",
   "execution_count": 9,
   "metadata": {},
   "outputs": [
    {
     "name": "stdout",
     "output_type": "stream",
     "text": [
      "[1.73 1.68 1.71 1.89 1.79]\n",
      "[65.4 59.2 63.6 88.4 68.7]\n"
     ]
    }
   ],
   "source": [
    "# FOR LOOP em numpy array (matriz numpy) 2D\n",
    "for val in meas:  # printa de lista em lista\n",
    "    print(val)"
   ]
  },
  {
   "cell_type": "code",
   "execution_count": 10,
   "metadata": {},
   "outputs": [
    {
     "name": "stdout",
     "output_type": "stream",
     "text": [
      "1.73\n",
      "1.68\n",
      "1.71\n",
      "1.89\n",
      "1.79\n",
      "65.4\n",
      "59.2\n",
      "63.6\n",
      "88.4\n",
      "68.7\n"
     ]
    }
   ],
   "source": [
    "for val in np.nditer(meas):  # printa de valor em valor; determina uma sequencia\n",
    "    print(val)"
   ]
  },
  {
   "cell_type": "markdown",
   "metadata": {},
   "source": [
    "### Loop em dataframes\n",
    "Não confundir com vetorização.\n",
    "\n",
    "Possibilitada pelo pandas, que executa a mesma operação várias vezes ao mesmo tempo em pacotes de processamento. "
   ]
  },
  {
   "cell_type": "code",
   "execution_count": 31,
   "metadata": {},
   "outputs": [
    {
     "name": "stdout",
     "output_type": "stream",
     "text": [
      "         country    capital   area population\n",
      "BR        Brazil   Brasilia  8.516      200.4\n",
      "RU        Russia     Moscow   17.1      143.5\n",
      "IN         India  New Delhi  3.286       1252\n",
      "CH         China     Beijin  9.597       1357\n",
      "SA  South Africa   Pretoria  1.221      52.98\n"
     ]
    }
   ],
   "source": [
    "import pandas as pd\n",
    "data = {'BR': {'country': 'Brazil', 'capital': 'Brasilia', 'area':8.516,'population': 200.40},\n",
    "        'RU': {'country': 'Russia', 'capital': 'Moscow', 'area':17.100,'population': 143.50},\n",
    "        'IN': {'country': 'India', 'capital': 'New Delhi', 'area':3.286,'population': 1252.00},\n",
    "        'CH': {'country': \"China\", 'capital': 'Beijin', 'area':9.597,'population': 1357.00},\n",
    "        'SA': {'country': 'South Africa', 'capital': 'Pretoria', 'area':1.221,'population': 52.98}}\n",
    "\n",
    "brics = pd.DataFrame(data)\n",
    "brics=brics.T\n",
    "print(brics)"
   ]
  },
  {
   "cell_type": "code",
   "execution_count": 14,
   "metadata": {},
   "outputs": [
    {
     "name": "stdout",
     "output_type": "stream",
     "text": [
      "country\n",
      "capital\n",
      "area\n",
      "population\n"
     ]
    }
   ],
   "source": [
    "# FOR LOOP comum\n",
    "for x in brics: # percorre apenas o index das colunas\n",
    "    print(x)"
   ]
  },
  {
   "cell_type": "code",
   "execution_count": 28,
   "metadata": {},
   "outputs": [
    {
     "name": "stdout",
     "output_type": "stream",
     "text": [
      "BR\n",
      "country          Brazil\n",
      "capital        Brasilia\n",
      "area              8.516\n",
      "population        200.4\n",
      "nova_coluna           6\n",
      "Name: BR, dtype: object\n",
      "\n",
      "BR: Brasilia\n",
      "6.0\n",
      "RU\n",
      "country        Russia\n",
      "capital        Moscow\n",
      "area             17.1\n",
      "population      143.5\n",
      "nova_coluna         6\n",
      "Name: RU, dtype: object\n",
      "\n",
      "RU: Moscow\n",
      "6.0\n",
      "IN\n",
      "country            India\n",
      "capital        New Delhi\n",
      "area               3.286\n",
      "population          1252\n",
      "nova_coluna            5\n",
      "Name: IN, dtype: object\n",
      "\n",
      "IN: New Delhi\n",
      "5.0\n",
      "CH\n",
      "country         China\n",
      "capital        Beijin\n",
      "area            9.597\n",
      "population       1357\n",
      "nova_coluna         5\n",
      "Name: CH, dtype: object\n",
      "\n",
      "CH: Beijin\n",
      "5.0\n",
      "SA\n",
      "country        South Africa\n",
      "capital            Pretoria\n",
      "area                  1.221\n",
      "population            52.98\n",
      "nova_coluna              12\n",
      "Name: SA, dtype: object\n",
      "\n",
      "SA: Pretoria\n",
      "12.0\n",
      "         country    capital   area population  nova_coluna\n",
      "BR        Brazil   Brasilia  8.516      200.4          6.0\n",
      "RU        Russia     Moscow   17.1      143.5          6.0\n",
      "IN         India  New Delhi  3.286       1252          5.0\n",
      "CH         China     Beijin  9.597       1357          5.0\n",
      "SA  South Africa   Pretoria  1.221      52.98         12.0\n"
     ]
    }
   ],
   "source": [
    "# é necessario explicitar que deseja-se iterar pelas linhas\n",
    "for index, linha in brics.iterrows():\n",
    "    print(index) # printa o index da linha\n",
    "    print(linha) # printa os valores da linha\n",
    "    print('\\n'+index+\": \"+linha['capital']) # acessando apenas um dos valores (capital)\n",
    "    brics.loc[index, 'nova_coluna'] = len(linha['country']) # criando nova coluna \n",
    "    print(brics.loc[index, 'nova_coluna'])\n",
    "    # (iterrows é necessário pois precisamos do valor do index para o loc e do valor da coluna pra tirar o len\n",
    "    # break # interrompe o loop \n",
    "\n",
    "print(brics)\n",
    "# funciona mas é pouco eficiente, porque cria um objeto Series nova a cada iteração do loop, perdemos eficiencia"
   ]
  },
  {
   "cell_type": "code",
   "execution_count": 33,
   "metadata": {},
   "outputs": [
    {
     "name": "stdout",
     "output_type": "stream",
     "text": [
      "         country    capital   area population  name_lenght  nova_coluna_2\n",
      "BR        Brazil   Brasilia  8.516      200.4            6              6\n",
      "RU        Russia     Moscow   17.1      143.5            6              6\n",
      "IN         India  New Delhi  3.286       1252            5              5\n",
      "CH         China     Beijin  9.597       1357            5              5\n",
      "SA  South Africa   Pretoria  1.221      52.98           12             12\n"
     ]
    }
   ],
   "source": [
    "# APPLY (jeito melhor, nem precisa de loop [vetorizado])\n",
    "brics[\"nova_coluna_2\"] = brics['country'].apply(len) # aplica a função len em brics['country'] e atribui a brics[\"nova_coluna_2\"]\n",
    "print(brics)\n",
    "# pode usar métodos também: brics['country'].apply(str.upper)"
   ]
  },
  {
   "cell_type": "code",
   "execution_count": null,
   "metadata": {},
   "outputs": [],
   "source": []
  }
 ],
 "metadata": {
  "kernelspec": {
   "display_name": "Python 3",
   "language": "python",
   "name": "python3"
  },
  "language_info": {
   "codemirror_mode": {
    "name": "ipython",
    "version": 3
   },
   "file_extension": ".py",
   "mimetype": "text/x-python",
   "name": "python",
   "nbconvert_exporter": "python",
   "pygments_lexer": "ipython3",
   "version": "3.7.6"
  }
 },
 "nbformat": 4,
 "nbformat_minor": 4
}
