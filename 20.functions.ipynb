{
 "cells": [
  {
   "cell_type": "markdown",
   "metadata": {},
   "source": [
    "## Docstrings:\n",
    "- Subject treated in XX.python_toolbox.ipynb\n",
    "- strings da documentação: descrevem a função, podem ser retornadas pela função."
   ]
  },
  {
   "cell_type": "markdown",
   "metadata": {},
   "source": [
    "### Padrões famosos de docstring:\n",
    "- Google Style\n",
    "- Numpydoc\n",
    "- reStructuredText\n",
    "- EpyText"
   ]
  },
  {
   "cell_type": "code",
   "execution_count": null,
   "metadata": {},
   "outputs": [],
   "source": [
    "def defining_docstrings():\n",
    "    \"\"\"\n",
    "    String que fica dentro da função, \n",
    "    elencando o que a função faz, \n",
    "    seus argumentos (valores de entrada) \n",
    "    e o que retorna (seus outputs).\n",
    "       \n",
    "    \"\"\"\n",
    "\n",
    "    return"
   ]
  },
  {
   "cell_type": "code",
   "execution_count": 2,
   "metadata": {},
   "outputs": [],
   "source": [
    "def google_style(arg_1, arg_2=42):\n",
    "    \"\"\"Description of the function.\n",
    "    \n",
    "    Args:\n",
    "        arg_1 (str): Description of the arg_1, pode continuar \n",
    "            na linha de baixo desde que identada.\n",
    "        arg_2 (int, optional): Opcional quando o argumento tem um default.\n",
    "    \n",
    "    Returns:\n",
    "        bool: Descrição opcional do valor retornado\n",
    "        Podendo ter linhas extras sem identação.\n",
    "\n",
    "    Raises:\n",
    "        ValueError: Incluir os erros que podem ser retornados intencionalmente nessa função.\n",
    "\n",
    "    Notes: \n",
    "        See https://google.com \n",
    "        for more info.\n",
    "    \"\"\"\n",
    "    return"
   ]
  },
  {
   "cell_type": "code",
   "execution_count": 3,
   "metadata": {},
   "outputs": [],
   "source": [
    "def numpydoc(arg_1, arg_2=42):\n",
    "    \"\"\"\n",
    "    Description of the function.\n",
    "\n",
    "    Parameters\n",
    "    ----------\n",
    "    arg_1: tipo esperado de arg_1\n",
    "        Descrição de arg_1.\n",
    "    arg_2: int, optional\n",
    "        Escreva optional quando o argumento tem um default.\n",
    "        Default=42.\n",
    "\n",
    "    Returns\n",
    "    -------\n",
    "    The type of the return value\n",
    "        Can include description of the return.\n",
    "        Replace \"Returns\" above for \"Yields\" if this function is a generator.\n",
    "\n",
    "    \"\"\"\n",
    "    return"
   ]
  },
  {
   "cell_type": "code",
   "execution_count": 5,
   "metadata": {},
   "outputs": [
    {
     "name": "stdout",
     "output_type": "stream",
     "text": [
      "Description of the function.\n",
      "    \n",
      "    Args:\n",
      "        arg_1 (str): Description of the arg_1, pode continuar \n",
      "            na linha de baixo desde que identada.\n",
      "        arg_2 (int, optional): Opcional quando o argumento tem um default.\n",
      "    \n",
      "    Returns:\n",
      "        bool: Descrição opcional do valor retornado\n",
      "        Podendo ter linhas extras sem identação.\n",
      "\n",
      "    Raises:\n",
      "        ValueError: Incluir os erros que podem ser retornados intencionalmente nessa função.\n",
      "\n",
      "    Notes: \n",
      "        See https://google.com \n",
      "        for more info.\n",
      "    \n"
     ]
    }
   ],
   "source": [
    "# printa a docstring da função\n",
    "print(google_style.__doc__)"
   ]
  },
  {
   "cell_type": "code",
   "execution_count": 9,
   "metadata": {},
   "outputs": [
    {
     "name": "stdout",
     "output_type": "stream",
     "text": [
      "<class 'str'>\n",
      "############################\n",
      "\n",
      "    Compute the histogram of a set of data.\n",
      "\n",
      "    Parameters\n",
      "    ----------\n",
      "    a : array_like\n",
      "        Input data. The histogram is computed over the flattened array.\n",
      "    bins : int or sequence of scalars or str, optional\n",
      "        If `bins` is an int, it defines the number of equal-width\n",
      "        bins in the given range (10, by default). If `bins` is a\n",
      "        sequence, it defines a monotonically increasing array of bin edges,\n",
      "        including the rightmost edge, allowing for non-uniform bin widths.\n",
      "\n",
      "        .. versionadded:: 1.11.0\n",
      "\n",
      "        If `bins` is a string, it defines the method used to calculate the\n",
      "        optimal bin width, as defined by `histogram_bin_edges`.\n",
      "\n",
      "    range : (float, float), optional\n",
      "        The lower and upper range of the bins.  If not provided, range\n",
      "        is simply ``(a.min(), a.max())``.  Values outside the range are\n",
      "        ignored. The first element of the range must be less than or\n",
      "        equal to the second. `range` affects the automatic bin\n",
      "        computation as well. While bin width is computed to be optimal\n",
      "        based on the actual data within `range`, the bin count will fill\n",
      "        the entire range including portions containing no data.\n",
      "    normed : bool, optional\n",
      "\n",
      "        .. deprecated:: 1.6.0\n",
      "\n",
      "        This is equivalent to the `density` argument, but produces incorrect\n",
      "        results for unequal bin widths. It should not be used.\n",
      "\n",
      "        .. versionchanged:: 1.15.0\n",
      "            DeprecationWarnings are actually emitted.\n",
      "\n",
      "    weights : array_like, optional\n",
      "        An array of weights, of the same shape as `a`.  Each value in\n",
      "        `a` only contributes its associated weight towards the bin count\n",
      "        (instead of 1). If `density` is True, the weights are\n",
      "        normalized, so that the integral of the density over the range\n",
      "        remains 1.\n",
      "    density : bool, optional\n",
      "        If ``False``, the result will contain the number of samples in\n",
      "        each bin. If ``True``, the result is the value of the\n",
      "        probability *density* function at the bin, normalized such that\n",
      "        the *integral* over the range is 1. Note that the sum of the\n",
      "        histogram values will not be equal to 1 unless bins of unity\n",
      "        width are chosen; it is not a probability *mass* function.\n",
      "\n",
      "        Overrides the ``normed`` keyword if given.\n",
      "\n",
      "    Returns\n",
      "    -------\n",
      "    hist : array\n",
      "        The values of the histogram. See `density` and `weights` for a\n",
      "        description of the possible semantics.\n",
      "    bin_edges : array of dtype float\n",
      "        Return the bin edges ``(length(hist)+1)``.\n",
      "\n",
      "\n",
      "    See Also\n",
      "    --------\n",
      "    histogramdd, bincount, searchsorted, digitize, histogram_bin_edges\n",
      "\n",
      "    Notes\n",
      "    -----\n",
      "    All but the last (righthand-most) bin is half-open.  In other words,\n",
      "    if `bins` is::\n",
      "\n",
      "      [1, 2, 3, 4]\n",
      "\n",
      "    then the first bin is ``[1, 2)`` (including 1, but excluding 2) and\n",
      "    the second ``[2, 3)``.  The last bin, however, is ``[3, 4]``, which\n",
      "    *includes* 4.\n",
      "\n",
      "\n",
      "    Examples\n",
      "    --------\n",
      "    >>> np.histogram([1, 2, 1], bins=[0, 1, 2, 3])\n",
      "    (array([0, 2, 1]), array([0, 1, 2, 3]))\n",
      "    >>> np.histogram(np.arange(4), bins=np.arange(5), density=True)\n",
      "    (array([0.25, 0.25, 0.25, 0.25]), array([0, 1, 2, 3, 4]))\n",
      "    >>> np.histogram([[1, 2, 1], [1, 0, 1]], bins=[0,1,2,3])\n",
      "    (array([1, 4, 1]), array([0, 1, 2, 3]))\n",
      "\n",
      "    >>> a = np.arange(5)\n",
      "    >>> hist, bin_edges = np.histogram(a, density=True)\n",
      "    >>> hist\n",
      "    array([0.5, 0. , 0.5, 0. , 0. , 0.5, 0. , 0.5, 0. , 0.5])\n",
      "    >>> hist.sum()\n",
      "    2.4999999999999996\n",
      "    >>> np.sum(hist * np.diff(bin_edges))\n",
      "    1.0\n",
      "\n",
      "    .. versionadded:: 1.11.0\n",
      "\n",
      "    Automated Bin Selection Methods example, using 2 peak random data\n",
      "    with 2000 points:\n",
      "\n",
      "    >>> import matplotlib.pyplot as plt\n",
      "    >>> rng = np.random.RandomState(10)  # deterministic random data\n",
      "    >>> a = np.hstack((rng.normal(size=1000),\n",
      "    ...                rng.normal(loc=5, scale=2, size=1000)))\n",
      "    >>> _ = plt.hist(a, bins='auto')  # arguments are passed to np.histogram\n",
      "    >>> plt.title(\"Histogram with 'auto' bins\")\n",
      "    Text(0.5, 1.0, \"Histogram with 'auto' bins\")\n",
      "    >>> plt.show()\n",
      "\n",
      "    \n",
      "############################\n"
     ]
    }
   ],
   "source": [
    "# pode ser atribuido a variável\n",
    "import numpy as np\n",
    "\n",
    "docstring = np.histogram.__doc__\n",
    "print(type(docstring))\n",
    "\n",
    "border = '#' * 28\n",
    "print('{}\\n{}\\n{}'.format(border, docstring, border)) # \\n é parágrafo"
   ]
  },
  {
   "cell_type": "code",
   "execution_count": 9,
   "metadata": {},
   "outputs": [
    {
     "name": "stdout",
     "output_type": "stream",
     "text": [
      "Description of the function.\n",
      "\n",
      "Args:\n",
      "    arg_1 (str): Description of the arg_1, pode continuar \n",
      "        na linha de baixo desde que identada.\n",
      "    arg_2 (int, optional): Opcional quando o argumento tem um default.\n",
      "\n",
      "Returns:\n",
      "    bool: Descrição opcional do valor retornado\n",
      "    Podendo ter linhas extras sem identação.\n",
      "\n",
      "Raises:\n",
      "    ValueError: Incluir os erros que podem ser retornados intencionalmente nessa função.\n",
      "\n",
      "Notes: \n",
      "    See https://google.com \n",
      "    for more info.\n"
     ]
    }
   ],
   "source": [
    "# printa a docstring da função sem algumas identações\n",
    "import inspect\n",
    "print(inspect.getdoc(google_style))"
   ]
  },
  {
   "cell_type": "code",
   "execution_count": 7,
   "metadata": {},
   "outputs": [],
   "source": [
    "# uma função que retorna a docstring de uma função:\n",
    "import inspect\n",
    "\n",
    "def build_tooltip(function):\n",
    "  \"\"\"Create a tooltip for any function that shows the\n",
    "  function's docstring.\n",
    "\n",
    "  Args:\n",
    "    function (callable): The function we want a tooltip for.\n",
    "\n",
    "  Returns:\n",
    "    str\n",
    "  \"\"\"\n",
    "  # Get the docstring for the \"function\" argument by using inspect\n",
    "  docstring = inspect.getdoc(function)\n",
    "  border = '#' * 28\n",
    "  return '{}\\n{}\\n{}'.format(border, docstring, border)"
   ]
  },
  {
   "cell_type": "code",
   "execution_count": 8,
   "metadata": {},
   "outputs": [
    {
     "name": "stdout",
     "output_type": "stream",
     "text": [
      "############################\n",
      "print(value, ..., sep=' ', end='\\n', file=sys.stdout, flush=False)\n",
      "\n",
      "Prints the values to a stream, or to sys.stdout by default.\n",
      "Optional keyword arguments:\n",
      "file:  a file-like object (stream); defaults to the current sys.stdout.\n",
      "sep:   string inserted between values, default a space.\n",
      "end:   string appended after the last value, default a newline.\n",
      "flush: whether to forcibly flush the stream.\n",
      "############################\n"
     ]
    }
   ],
   "source": [
    "print(build_tooltip(print))"
   ]
  },
  {
   "attachments": {},
   "cell_type": "markdown",
   "metadata": {},
   "source": [
    "### Princípios de design\n",
    "- \"Dont repeat yourself\" (DRY): evite escrever o mesmo código várias vezes.\n",
    "    - Pode-se errar algo ao copiar e colar mesmo conjunto de texto\n",
    "    - Se for alterar tem que alterar todos os conjuntos de texto\n",
    "- \"Do One Thing\": cada função deve ter apenas uma responsabilidade\n",
    "    - Mais flexibilidade, entendimento fácil, simples de testar, debuggar e editar.\n",
    "- Code Smells:\n",
    "- To Refactor: melhorar o código um pouco de cada vez. (Livro Refactoring, Martin Fowler)\n",
    "\n",
    "____________________________________________________________________________________________"
   ]
  },
  {
   "attachments": {},
   "cell_type": "markdown",
   "metadata": {},
   "source": [
    "#### Passando por atribuição (assignment)"
   ]
  },
  {
   "cell_type": "code",
   "execution_count": 3,
   "metadata": {},
   "outputs": [
    {
     "name": "stdout",
     "output_type": "stream",
     "text": [
      "[99, 2, 3]\n"
     ]
    }
   ],
   "source": [
    "def foo(x): # função que altera o primeiro item de uma lista pra 99\n",
    "    x[0] = 99\n",
    "my_list = [1,2,3] \n",
    "foo(my_list) # aplica a uma lista\n",
    "print(my_list) # printa a lista (alterada)"
   ]
  },
  {
   "cell_type": "code",
   "execution_count": 4,
   "metadata": {},
   "outputs": [
    {
     "name": "stdout",
     "output_type": "stream",
     "text": [
      "3\n"
     ]
    }
   ],
   "source": [
    "def bar(x):\n",
    "    x = x + 90\n",
    "my_var = 3\n",
    "bar(my_var)\n",
    "print(my_var) # não alterado -> inteiros em python são imutáveis."
   ]
  },
  {
   "attachments": {},
   "cell_type": "markdown",
   "metadata": {},
   "source": [
    "- Atribuir lista a variáveis, na verdade a variável é um ponteiro para a lista. Se usamos b = a, alterar b altera a (b e a apontam para a mesma lista).\n",
    "- Como isso afeta a nossa função: ao passar my_list ao parâmetro x, x passa a apontar para a lista que my_list aponta.\n",
    "- No caso do my_var, x aponta pro mesmo lugar que my_var, mas quando a função atribui um novo valor a x, x passa a apontar para uma nova variável. Não tocando na variável de my_var. Pois int são imutáveis.\n"
   ]
  },
  {
   "attachments": {},
   "cell_type": "markdown",
   "metadata": {},
   "source": [
    "Datatypes imutáveis: int, float, bool, string, bytes, tuples, frozenset e None.\n",
    "Datatypes mutáveis: list, dict, set, bytearray, objects, functions e o restante quase todo."
   ]
  },
  {
   "cell_type": "code",
   "execution_count": 20,
   "metadata": {},
   "outputs": [],
   "source": [
    "# Perigo da mutabilidade:\n",
    "def foo(var=[]):\n",
    "    var.append(1)\n",
    "    return var"
   ]
  },
  {
   "cell_type": "code",
   "execution_count": 25,
   "metadata": {},
   "outputs": [
    {
     "data": {
      "text/plain": [
       "[1, 1, 1, 1, 1]"
      ]
     },
     "execution_count": 25,
     "metadata": {},
     "output_type": "execute_result"
    }
   ],
   "source": [
    "foo() # rode várias vezes para ver o efeito. Não entendi bem o que aconteceu para var=[] não acontecer."
   ]
  },
  {
   "cell_type": "code",
   "execution_count": 17,
   "metadata": {},
   "outputs": [],
   "source": [
    "# Solução:\n",
    "def foo(var=None): # var só vira lista dentro da função\n",
    "    if var is None:\n",
    "        var=[]\n",
    "    var.append(1)\n",
    "    return var"
   ]
  },
  {
   "cell_type": "code",
   "execution_count": 18,
   "metadata": {},
   "outputs": [
    {
     "data": {
      "text/plain": [
       "[1]"
      ]
     },
     "execution_count": 18,
     "metadata": {},
     "output_type": "execute_result"
    }
   ],
   "source": [
    "foo() # resolvido"
   ]
  },
  {
   "cell_type": "code",
   "execution_count": 27,
   "metadata": {},
   "outputs": [],
   "source": [
    "# Exercício:\n",
    "def store_lower(_dict, _string):\n",
    "  \"\"\"Add a mapping between `_string` and a lowercased version of `_string` to `_dict`\n",
    "\n",
    "  Args:\n",
    "    _dict (dict): The dictionary to update.\n",
    "    _string (str): The string to add.\n",
    "  \"\"\"\n",
    "  orig_string = _string\n",
    "  _string = _string.lower()\n",
    "  _dict[orig_string] = _string\n"
   ]
  },
  {
   "cell_type": "code",
   "execution_count": 29,
   "metadata": {},
   "outputs": [
    {
     "name": "stdout",
     "output_type": "stream",
     "text": [
      "{'Hello': 'hello'}\n",
      "Hello\n"
     ]
    }
   ],
   "source": [
    "# Teste do exercício:\n",
    "d = {}\n",
    "s = 'Hello'\n",
    "\n",
    "store_lower(d, s)\n",
    "\n",
    "print(d)\n",
    "print(s)"
   ]
  },
  {
   "attachments": {},
   "cell_type": "markdown",
   "metadata": {},
   "source": [
    "## Context Managers\n",
    "\n",
    "- Função que \n",
    "    a) configura um contexto para a execução de um código;\n",
    "    b) roda o código;\n",
    "    c) retira o contexto."
   ]
  },
  {
   "cell_type": "code",
   "execution_count": null,
   "metadata": {},
   "outputs": [],
   "source": [
    "# exemplo de context manager: função open()\n",
    "with open('my_file.txt') as my_file:\n",
    "    text = my_file.read()\n",
    "    length = len(text)\n",
    "\n",
    "print(length)"
   ]
  },
  {
   "cell_type": "code",
   "execution_count": null,
   "metadata": {},
   "outputs": [],
   "source": [
    "# generalizando:\n",
    "with <context_manager>(<args>):\n",
    "    # roda o código\n",
    "    # esse código roda \"dentro do contexto\"\n",
    "    # necessário essa identação pois é uma statement/instrução composta, como if, for, def, etc.\n",
    "\n",
    "# tudo que estiver fora da identação será executado após o contexto ser encerrado."
   ]
  },
  {
   "cell_type": "code",
   "execution_count": null,
   "metadata": {},
   "outputs": [],
   "source": [
    "with <context_manager>(<args>) as <variable_name>:\n",
    "    # alguns context_managers retornam um valor para ser usado dentro do contexto;\n",
    "    # \"as <variable_name>\" armazena esse retorno nessa variável.\n",
    "    # exemplo: my_file no exemplo do open()"
   ]
  },
  {
   "attachments": {},
   "cell_type": "markdown",
   "metadata": {},
   "source": [
    "#### Criando uma context manager function\n",
    "\n",
    "Duas formas:\n",
    "- class based: usando uma classe que tenha os métodos `__enter__()` e `__exit__()` (não tratado aqui)\n",
    "- function based: usa um decorator"
   ]
  },
  {
   "cell_type": "code",
   "execution_count": 2,
   "metadata": {},
   "outputs": [],
   "source": [
    "import contextlib"
   ]
  },
  {
   "cell_type": "code",
   "execution_count": null,
   "metadata": {},
   "outputs": [],
   "source": [
    "@contextlib.contextmanager  # decorator que transforma a função num context manager\n",
    "def my_context():\n",
    "    # add any setup code you wil need (optional)\n",
    "\n",
    "    yield # necessário no lugar de return; caracteristica de funções generators (contextmanager é um gerador que produz um único valor)\n",
    "    # depois do yield pode adicionar qualquer código de teardown (desmontagem)...\n",
    "    # ...necessário para limpar o contexto (opcional)."
   ]
  },
  {
   "cell_type": "code",
   "execution_count": 3,
   "metadata": {},
   "outputs": [],
   "source": [
    "# exemplo\n",
    "@contextlib.contextmanager\n",
    "def my_context():\n",
    "    print('hello')  # executado antes da primeira linha dentro do with\n",
    "    yield 42 # ao chamar o yield define-se em que ponto o controle volta para o contexto\n",
    "    print('goodbye') # executa ao fechar o contexto (última linha do with)"
   ]
  },
  {
   "cell_type": "code",
   "execution_count": 4,
   "metadata": {},
   "outputs": [
    {
     "name": "stdout",
     "output_type": "stream",
     "text": [
      "hello\n",
      "foo is 42\n",
      "goodbye\n"
     ]
    }
   ],
   "source": [
    "with my_context() as foo:\n",
    "    print('foo is {}'.format(foo))\n"
   ]
  },
  {
   "attachments": {},
   "cell_type": "markdown",
   "metadata": {},
   "source": [
    "Grande vantagem: consegue dar yield e continuar executando código"
   ]
  },
  {
   "cell_type": "code",
   "execution_count": null,
   "metadata": {},
   "outputs": [],
   "source": [
    "# exemplo: manager que acessa uma base de dados:\n",
    "@contextlib.contextmanager\n",
    "def database(url):\n",
    "    # set up database connection  \n",
    "    db = postgres.connect(url)\n",
    "    yield db \n",
    "    # tear down database connection  \n",
    "    db.disconnect()\n",
    "\n",
    "url = 'http://datacamp.com/data'\n",
    "with database(url) as my_db:\n",
    "    course_list = my_db.execute('SELECT * FROM courses')\n"
   ]
  },
  {
   "cell_type": "code",
   "execution_count": null,
   "metadata": {},
   "outputs": [],
   "source": [
    "# exemplo: manager que não yielda um valor específico\n",
    "@contextlib.contextmanager\n",
    "def in_dir(path):\n",
    "    '''Altera o diretório para o caminho fornecido depois volta sem yieldar um valor'''\n",
    "\n",
    "    # save current working directory  \n",
    "    old_dir = os.getcwd()\n",
    "    # switch to new working directory  \n",
    "    os.chdir(path)\n",
    "    yield\n",
    "    # change back to previous working directory  \n",
    "    os.chdir(old_dir)\n",
    "    \n",
    "with in_dir('/data/project_1/'):\n",
    "    project_files = os.listdir()\n",
    "# essa vantagem do manager permite ocultar a conexão e desconexão da database no código"
   ]
  },
  {
   "cell_type": "code",
   "execution_count": null,
   "metadata": {},
   "outputs": [],
   "source": [
    "# exercício:\n",
    "@contextlib.contextmanager\n",
    "def timer():\n",
    "  \"\"\"Time the execution of a context block.\n",
    "\n",
    "  Yields:\n",
    "    None\n",
    "  \"\"\"\n",
    "  start = time.time()\n",
    "  \n",
    "  yield # Send control back to the context block\n",
    "  end = time.time()\n",
    "  print('Elapsed: {:.2f}s'.format(end - start))\n",
    "\n",
    "with timer():\n",
    "  print('This should take approximately 0.25 seconds')\n",
    "  time.sleep(0.25)"
   ]
  },
  {
   "cell_type": "code",
   "execution_count": null,
   "metadata": {},
   "outputs": [],
   "source": [
    "@contextlib.contextmanager\n",
    "def open_read_only(filename):\n",
    "  \"\"\"Open a file in read-only mode.\n",
    "\n",
    "  Args:\n",
    "    filename (str): The location of the file to read\n",
    "\n",
    "  Yields:\n",
    "    file object\n",
    "  \"\"\"\n",
    "  read_only_file = open(filename, mode='r')\n",
    "  # Yield read_only_file so it can be assigned to my_file\n",
    "  yield read_only_file\n",
    "  # Close read_only_file\n",
    "  read_only_file.close()\n",
    "\n",
    "with open_read_only('my_file.txt') as my_file: # is just to exemplify, there is no my_file.txt file.\n",
    "  print(my_file.read())"
   ]
  },
  {
   "attachments": {},
   "cell_type": "markdown",
   "metadata": {},
   "source": [
    "### Conceitos Avançados\n",
    "\n",
    "#### Contextos aninhados (nested)"
   ]
  },
  {
   "cell_type": "code",
   "execution_count": null,
   "metadata": {},
   "outputs": [],
   "source": [
    "# a função abaixo abre um arquivo de texto, armazena o conteúdo em uma variável,...\n",
    "# ...abre outro arquivo e escreve nele o conteúdo coletado\n",
    "\n",
    "def copy(src, dst):\n",
    "    \"\"\"Copy the contents of one file to another.  \n",
    "    Args:    \n",
    "        src (str): File name of the file to be copied.    \n",
    "        dst (str): Where to write the new file.\n",
    "    \"\"\"\n",
    "    # Open the source file and read in the contents\n",
    "    with open(src) as f_src:\n",
    "        contents = f_src.read()\n",
    "    # Open the destination file and write out the contents\n",
    "    with open(dst, 'w') as f_dst:\n",
    "        f_dst.write(contents)\n",
    "\n",
    "# problema: se o conteúdo é muito grande para a memória disponível"
   ]
  },
  {
   "cell_type": "code",
   "execution_count": null,
   "metadata": {},
   "outputs": [],
   "source": [
    "# solução: \n",
    "def copy(src, dst):\n",
    "    \"\"\"Copy the contents of one file to another.  \n",
    "    Args:    \n",
    "        src (str): File name of the file to be copied.    \n",
    "        dst (str): Where to write the new file.\n",
    "    \"\"\"\n",
    "    # Abre ambos:\n",
    "    with open(src) as f_src:# significa \"file_source\"\n",
    "        with open(dst, 'w') as f_dst: # nesting context managers; significa \"file_destiny\"\n",
    "            # Lê e escreve linha a linha\n",
    "            for line in f_src: # conteúdo pode ser iterado\n",
    "                f_dst.write(line)"
   ]
  },
  {
   "attachments": {},
   "cell_type": "markdown",
   "metadata": {},
   "source": [
    "#### Erros"
   ]
  },
  {
   "cell_type": "code",
   "execution_count": null,
   "metadata": {},
   "outputs": [],
   "source": [
    "# exemplo: \n",
    "def get_printer(ip):\n",
    "    '''Função que conecta um ip a uma impressora.\n",
    "    A impressora só permite uma conexão por vez, então a desconexão tem que acontecer'''\n",
    "    p = connect_to_printer(ip)\n",
    "    yield\n",
    "    p.disconnect() # precisa acontecer, ou não será possivel conectar novamente\n",
    "# continua"
   ]
  },
  {
   "cell_type": "code",
   "execution_count": null,
   "metadata": {},
   "outputs": [],
   "source": [
    "# o erro acontece aqui: um key error porque o usuário digitou a chave errada de seu dict.clear\n",
    "\n",
    "doc = {'text': 'This is my text'}\n",
    "\n",
    "with get_printer('10.0.34.111') as printer:\n",
    "    printer.print_page(doc['txt']) # chave errada, erro acontece antes de yield, antes de p.disconnect()\n",
    "# ninguem conecta mais agora.\n"
   ]
  },
  {
   "cell_type": "code",
   "execution_count": null,
   "metadata": {},
   "outputs": [],
   "source": [
    "# solução: instrução try (try statement)\n",
    "try:\n",
    "    # tenta executar um código\n",
    "except:\n",
    "    # executa isso se deu erro no try\n",
    "finally:\n",
    "    # executa isso independente de qualquer coisa"
   ]
  },
  {
   "cell_type": "code",
   "execution_count": null,
   "metadata": {},
   "outputs": [],
   "source": [
    "def get_printer(ip):\n",
    "\n",
    "    p = connect_to_printer(ip)\n",
    "    try:\n",
    "        yield # tenta passar o controle\n",
    "    finally:\n",
    "        p.disconnect() # acontece independente do cenário"
   ]
  },
  {
   "attachments": {},
   "cell_type": "markdown",
   "metadata": {},
   "source": [
    "Padrões comuns de context manager:\n",
    "- open e close\n",
    "- lock e release\n",
    "- change e reset\n",
    "- enter e exit\n",
    "- start e stop\n",
    "- setup e teardown\n",
    "- connect e disconnect\n"
   ]
  },
  {
   "attachments": {},
   "cell_type": "markdown",
   "metadata": {},
   "source": [
    "## Decorators"
   ]
  },
  {
   "attachments": {},
   "cell_type": "markdown",
   "metadata": {},
   "source": [
    "### Intro: Funções são objetos\n",
    "- funções são objetos em python, assim como tudo (lista, dicts, dataframe, strings, ins, floats, modules (import), etc.).\n",
    "- Por essa razão, tudo que se pode fazer com um objeto, pode-se fazer com uma função:\n"
   ]
  },
  {
   "cell_type": "code",
   "execution_count": 2,
   "metadata": {},
   "outputs": [
    {
     "name": "stdout",
     "output_type": "stream",
     "text": [
      "<class 'function'>\n",
      "Hello\n"
     ]
    }
   ],
   "source": [
    "# atribuir a função a uma variável.\n",
    "def my_function():\n",
    "    print('Hello')\n",
    "\n",
    "x = my_function\n",
    "print(type(x))\n",
    "x()"
   ]
  },
  {
   "cell_type": "code",
   "execution_count": 4,
   "metadata": {},
   "outputs": [
    {
     "name": "stdout",
     "output_type": "stream",
     "text": [
      "Hello\n",
      "This is a print funtion\n"
     ]
    }
   ],
   "source": [
    "# adicionar uma função a uma lista ou dicionário:\n",
    "list_of_funtions = [my_function, open, print]\n",
    "list_of_funtions[0]()\n",
    "list_of_funtions[1]('This is a print funtion')"
   ]
  },
  {
   "cell_type": "code",
   "execution_count": null,
   "metadata": {},
   "outputs": [],
   "source": [
    "dict_of_functions = {'func1': my_function,\n",
    "                     'func2': open,\n",
    "                     'func3': print}\n",
    "\n",
    "dict_of_functions['func3']('I am printing with a value of a dict!')"
   ]
  },
  {
   "cell_type": "code",
   "execution_count": 6,
   "metadata": {},
   "outputs": [
    {
     "data": {
      "text/plain": [
       "42"
      ]
     },
     "execution_count": 6,
     "metadata": {},
     "output_type": "execute_result"
    }
   ],
   "source": [
    "# Em todos esses casos de atribuição, nunca coloque os parentesis ao final da função...\n",
    "# ...ou ele chamará a função e armazenará apenas o que a função retorna:\n",
    "def my_function():\n",
    "    return 42\n",
    "\n",
    "x = my_function()\n",
    "x"
   ]
  },
  {
   "cell_type": "code",
   "execution_count": 7,
   "metadata": {},
   "outputs": [
    {
     "data": {
      "text/plain": [
       "<function __main__.my_function()>"
      ]
     },
     "execution_count": 7,
     "metadata": {},
     "output_type": "execute_result"
    }
   ],
   "source": [
    "my_function # sem parÊntesis faz referência à própria função, sem chamá-la"
   ]
  },
  {
   "cell_type": "code",
   "execution_count": 12,
   "metadata": {},
   "outputs": [
    {
     "data": {
      "text/plain": [
       "True"
      ]
     },
     "execution_count": 12,
     "metadata": {},
     "output_type": "execute_result"
    }
   ],
   "source": [
    "# podemos fornecer uma função como argumento para outra:\n",
    "def has_docstring(func):\n",
    "    \"\"\"Check if a function has docstring.\n",
    "    Arguments: func (callable): A function.\n",
    "    Returns: bool\"\"\"\n",
    "    return func.__doc__ is not None\n",
    "\n",
    "def no():\n",
    "    return 42\n",
    "\n",
    "def yes():\n",
    "    \"\"\"yes, yes have a docstring\"\"\"\n",
    "    return 42\n",
    "\n",
    "has_docstring(yes)"
   ]
  },
  {
   "cell_type": "code",
   "execution_count": null,
   "metadata": {},
   "outputs": [],
   "source": [
    "# nested/inner/helper/child functions:\n",
    "def foo():\n",
    "    x = [3,6,9]\n",
    "    def bar(y):\n",
    "        print(y)\n",
    "    for value in x:\n",
    "        bar(x)"
   ]
  },
  {
   "cell_type": "code",
   "execution_count": null,
   "metadata": {},
   "outputs": [],
   "source": [
    "# utilidade da nested function: faz a função ser mais fácil de ler:\n",
    "\n",
    "# sem nested:\n",
    "def foo(x, y):\n",
    "    if x > 4 and x < 10 and y > 4 and y < 10:\n",
    "          print(x * y)\n",
    "\n",
    "# com nested:\n",
    "def foo(x, y): # função mãe\n",
    "     def in_range(v): # função filha\n",
    "          return v > 4 and v < 10\n",
    "     \n",
    "     if in_range(x) and in_range(y):\n",
    "          print(x * y)"
   ]
  },
  {
   "cell_type": "code",
   "execution_count": 13,
   "metadata": {},
   "outputs": [
    {
     "name": "stdout",
     "output_type": "stream",
     "text": [
      "This is a sentence\n"
     ]
    }
   ],
   "source": [
    "# funções podem ser retornadas por outras:\n",
    "def get_funtion():\n",
    "    def print_me(s):\n",
    "        print(s)\n",
    "    return print_me\n",
    "\n",
    "new_function = get_funtion()\n",
    "new_function('This is a sentence')"
   ]
  },
  {
   "attachments": {},
   "cell_type": "markdown",
   "metadata": {},
   "source": [
    "### Intro 2: Scope\n",
    "\n",
    "- Determina em quais pontos do código variáveis podem ser acessadas."
   ]
  },
  {
   "cell_type": "code",
   "execution_count": 18,
   "metadata": {},
   "outputs": [
    {
     "name": "stdout",
     "output_type": "stream",
     "text": [
      "42\n",
      "200\n",
      "7\n"
     ]
    }
   ],
   "source": [
    "# variáveis dentro e fora de uma função:\n",
    "x = 7 # escopo global\n",
    "y = 200 # escopo global\n",
    "\n",
    "def foo():\n",
    "    x = 42 # escopo local\n",
    "    print(x) # procura local e acha\n",
    "    print(y) # procura local, não acha. Procura global e acha\n",
    "\n",
    "foo()\n",
    "\n",
    "print(x) # recupera x global ppr estar fora da função\n",
    "# python fornece acesso de \"apenas leitura\" para variáveis globais, como pode ser visto no exemplo acima.\n",
    "# atribuimos um valor a x, mas esse valor não foi atribuido ao x do escopo acima.\n",
    "# python assume que queremos uma variável com esse nome apenas localmente"
   ]
  },
  {
   "attachments": {},
   "cell_type": "markdown",
   "metadata": {},
   "source": [
    "Em uma função, o interpretador procura as variáveis no escopo local, caso não encontre, procura no escopo global.\n",
    "\n",
    "Caso não encontre, procura no escopo builtin (interno), disponível em qualquer script python.\n",
    "ex.: função print\n",
    "\n",
    "Existe um escopo intermediário entre o local e o global, o \"nonlocal\": para o caso de nested functions, nonlocal é uma variável local da função pai."
   ]
  },
  {
   "cell_type": "code",
   "execution_count": 20,
   "metadata": {},
   "outputs": [
    {
     "name": "stdout",
     "output_type": "stream",
     "text": [
      "42\n"
     ]
    }
   ],
   "source": [
    "# palavra-chave global: transforma em global o escopo da variável\n",
    "x = 7\n",
    "\n",
    "def foo():\n",
    "    global x\n",
    "    x = 42 # escopo global\n",
    "    print(x)\n",
    "\n",
    "foo()"
   ]
  },
  {
   "cell_type": "code",
   "execution_count": 21,
   "metadata": {},
   "outputs": [
    {
     "name": "stdout",
     "output_type": "stream",
     "text": [
      "200\n",
      "10\n"
     ]
    }
   ],
   "source": [
    "# palavra-chave nonlocal: sem\n",
    "def foo():\n",
    "    x = 10\n",
    "    def bar():\n",
    "        x = 200\n",
    "        print(x)\n",
    "    bar()\n",
    "    print(x)\n",
    "\n",
    "foo()"
   ]
  },
  {
   "cell_type": "code",
   "execution_count": 22,
   "metadata": {},
   "outputs": [
    {
     "name": "stdout",
     "output_type": "stream",
     "text": [
      "200\n",
      "200\n"
     ]
    }
   ],
   "source": [
    "# palavra-chave nonlocal: com\n",
    "def foo():\n",
    "    x = 10\n",
    "    def bar():\n",
    "        nonlocal x\n",
    "        x = 200\n",
    "        print(x)\n",
    "    bar()\n",
    "    print(x)\n",
    "\n",
    "foo()"
   ]
  },
  {
   "attachments": {},
   "cell_type": "markdown",
   "metadata": {},
   "source": [
    "### Intro 3: Closure\n",
    "\n",
    "- encerramento: tuple de variáveis que não estão mais no scope mas são necessárias para executar uma função."
   ]
  },
  {
   "cell_type": "code",
   "execution_count": 25,
   "metadata": {},
   "outputs": [
    {
     "name": "stdout",
     "output_type": "stream",
     "text": [
      "5\n"
     ]
    }
   ],
   "source": [
    "def foo():\n",
    "    a = 5\n",
    "    def bar():\n",
    "        print(a)\n",
    "    return bar\n",
    "\n",
    "func = foo() # func recebe a função bar\n",
    "\n",
    "func() # printa o valor de a, que bar não observa. Por quê?"
   ]
  },
  {
   "cell_type": "code",
   "execution_count": 29,
   "metadata": {},
   "outputs": [
    {
     "name": "stdout",
     "output_type": "stream",
     "text": [
      "<class 'tuple'>\n",
      "1\n",
      "5\n"
     ]
    }
   ],
   "source": [
    "# quando foo() retorna bar, python armazena qualquer variável não local que bar() necessitaria\n",
    "print(type(func.__closure__)) # armazena neste atributo __closure__\n",
    "print(len(func.__closure__))\n",
    "print(func.__closure__[0].cell_contents) # retorna o valoc com o xxxx .cell_contents\n"
   ]
  },
  {
   "cell_type": "code",
   "execution_count": 37,
   "metadata": {},
   "outputs": [
    {
     "name": "stdout",
     "output_type": "stream",
     "text": [
      "25\n"
     ]
    }
   ],
   "source": [
    "x = 25 # global\n",
    "\n",
    "def foo(value):\n",
    "    def bar():\n",
    "        print(value)\n",
    "    return bar\n",
    "\n",
    "my_func = foo(x)\n",
    "my_func()"
   ]
  },
  {
   "cell_type": "code",
   "execution_count": 38,
   "metadata": {},
   "outputs": [
    {
     "name": "stdout",
     "output_type": "stream",
     "text": [
      "25\n"
     ]
    }
   ],
   "source": [
    "del(x) # deletamos x\n",
    "my_func() # ainda retorna 25, por estar no closure de my_func"
   ]
  },
  {
   "cell_type": "code",
   "execution_count": 44,
   "metadata": {},
   "outputs": [
    {
     "name": "stdout",
     "output_type": "stream",
     "text": [
      "1\n",
      "25\n"
     ]
    }
   ],
   "source": [
    "print(len(my_func.__closure__))\n",
    "print(my_func.__closure__[0].cell_contents)\n",
    "\n",
    "#print(len(foo.__closure__)) # TypeError: object of type 'NoneType' has no len()\n",
    "\n",
    "#print(len(bar.__closure__)) # NameError: name 'bar' is not defined"
   ]
  },
  {
   "cell_type": "code",
   "execution_count": 45,
   "metadata": {},
   "outputs": [
    {
     "name": "stdout",
     "output_type": "stream",
     "text": [
      "25\n"
     ]
    }
   ],
   "source": [
    "# sobrescrevendo x é a mesma coisa\n",
    "x = 25 # global\n",
    "\n",
    "def foo(value):\n",
    "    def bar():\n",
    "        print(value)\n",
    "    return bar\n",
    "\n",
    "x = foo(x)\n",
    "x()"
   ]
  },
  {
   "attachments": {},
   "cell_type": "markdown",
   "metadata": {},
   "source": [
    "### Finally: Decorators\n",
    "\n",
    "- É um wrapper que envolve a função, mudando seu comportamento, inputs ou outputs.\n"
   ]
  },
  {
   "cell_type": "code",
   "execution_count": 47,
   "metadata": {},
   "outputs": [
    {
     "ename": "ModuleNotFoundError",
     "evalue": "No module named 'double_args'",
     "output_type": "error",
     "traceback": [
      "\u001b[1;31m---------------------------------------------------------------------------\u001b[0m",
      "\u001b[1;31mModuleNotFoundError\u001b[0m                       Traceback (most recent call last)",
      "\u001b[1;32m<ipython-input-47-13d9bd5f29c4>\u001b[0m in \u001b[0;36m<module>\u001b[1;34m\u001b[0m\n\u001b[0;32m      1\u001b[0m \u001b[1;31m# exemplo:\u001b[0m\u001b[1;33m\u001b[0m\u001b[1;33m\u001b[0m\u001b[1;33m\u001b[0m\u001b[0m\n\u001b[1;32m----> 2\u001b[1;33m \u001b[1;32mimport\u001b[0m \u001b[0mdouble_args\u001b[0m\u001b[1;33m\u001b[0m\u001b[1;33m\u001b[0m\u001b[0m\n\u001b[0m\u001b[0;32m      3\u001b[0m \u001b[1;33m@\u001b[0m\u001b[0mdouble_args\u001b[0m \u001b[1;31m#\u001b[0m\u001b[1;33m\u001b[0m\u001b[1;33m\u001b[0m\u001b[0m\n\u001b[0;32m      4\u001b[0m \u001b[1;32mdef\u001b[0m \u001b[0mmultiply\u001b[0m\u001b[1;33m(\u001b[0m\u001b[0ma\u001b[0m\u001b[1;33m,\u001b[0m\u001b[0mb\u001b[0m\u001b[1;33m)\u001b[0m\u001b[1;33m:\u001b[0m\u001b[1;33m\u001b[0m\u001b[1;33m\u001b[0m\u001b[0m\n\u001b[0;32m      5\u001b[0m     \u001b[1;32mreturn\u001b[0m \u001b[0ma\u001b[0m\u001b[1;33m*\u001b[0m\u001b[0mb\u001b[0m\u001b[1;33m\u001b[0m\u001b[1;33m\u001b[0m\u001b[0m\n",
      "\u001b[1;31mModuleNotFoundError\u001b[0m: No module named 'double_args'"
     ]
    }
   ],
   "source": [
    "# exemplo:\n",
    "@double_args # esse é o decorator. Vamos criá-lo embaixo\n",
    "def multiply(a,b):\n",
    "    return a*b\n",
    "\n",
    "\n",
    "multiply(1,5)"
   ]
  },
  {
   "cell_type": "code",
   "execution_count": 51,
   "metadata": {},
   "outputs": [
    {
     "data": {
      "text/plain": [
       "5"
      ]
     },
     "execution_count": 51,
     "metadata": {},
     "output_type": "execute_result"
    }
   ],
   "source": [
    "# criamos uma nested function em double_args\n",
    "def multiply(a,b):\n",
    "    return a*b\n",
    "def double_args(func): # recebe função\n",
    "    # definir função nested que podemos modificar\n",
    "    def wrapper(a,b):\n",
    "        return func(a,b) # por agora só chamamos a função \n",
    "    return wrapper # retorna a nova função\n",
    "\n",
    "new_multiply = double_args(multiply)\n",
    "new_multiply(1,5)"
   ]
  },
  {
   "cell_type": "code",
   "execution_count": 53,
   "metadata": {},
   "outputs": [
    {
     "data": {
      "text/plain": [
       "20"
      ]
     },
     "execution_count": 53,
     "metadata": {},
     "output_type": "execute_result"
    }
   ],
   "source": [
    "# fazemos com que double_args altere \n",
    "def multiply(a,b):\n",
    "    return a*b\n",
    "def double_args(func): \n",
    "    def wrapper(a,b):\n",
    "        return func(2*a,2*b) # alterando o input\n",
    "    return wrapper # retorna a função\n",
    "\n",
    "new_multiply = double_args(multiply)\n",
    "new_multiply(1,5)"
   ]
  },
  {
   "cell_type": "code",
   "execution_count": 50,
   "metadata": {},
   "outputs": [
    {
     "data": {
      "text/plain": [
       "20"
      ]
     },
     "execution_count": 50,
     "metadata": {},
     "output_type": "execute_result"
    }
   ],
   "source": [
    "# sobrescrevendo multiply (função que definimos lá no começo do exemplo)\n",
    "multiply = double_args(multiply)\n",
    "\n",
    "multiply(1,5) # double_args recebeu multiply e a modificou."
   ]
  },
  {
   "cell_type": "code",
   "execution_count": 54,
   "metadata": {},
   "outputs": [
    {
     "data": {
      "text/plain": [
       "20"
      ]
     },
     "execution_count": 54,
     "metadata": {},
     "output_type": "execute_result"
    }
   ],
   "source": [
    "# essa notação abaixo é exatamente equivalente à essa: multiply = double_args(multiply)\n",
    "@double_args\n",
    "def multiply(a,b):\n",
    "    return a*b\n",
    "multiply(1,5)\n"
   ]
  },
  {
   "cell_type": "code",
   "execution_count": 5,
   "metadata": {},
   "outputs": [],
   "source": [
    "# exemplo da vida real\n",
    "import time\n",
    "\n",
    "def timer(func): \n",
    "    # docstring padrão de decorator:\n",
    "    \"\"\"A decorator that prints how long a function took to run. \n",
    "    \n",
    "    Args:\n",
    "        func (callable): The function being decorated.\n",
    "        \n",
    "    Returns:\n",
    "        callable: The decorated function.\n",
    "\n",
    "    \"\"\"\n",
    "    def wrapper(*args, **kwargs): # wrapper é a função que o decorator retornará. \n",
    "        t_start = time.time() # grava o tempo atual\n",
    "        result = func(*args, **kwargs) # chama a função a ser decorada\n",
    "        t_total = time.time() - t_start # checa o tempo atual e compara com o tempo gravado\n",
    "        print( '{} took {}s'.format(func.__name__, t_total))\n",
    "        return result # wrapper retorna o resultado da função chamada\n",
    "\n",
    "    return wrapper"
   ]
  },
  {
   "cell_type": "code",
   "execution_count": 6,
   "metadata": {},
   "outputs": [],
   "source": [
    "@timer\n",
    "def sleep_n_seconds(n):\n",
    "    time.sleep(n) # o código xecuta essa linha por n segundos, depois vai para as linhas seguintes.\n",
    "    "
   ]
  },
  {
   "cell_type": "code",
   "execution_count": 7,
   "metadata": {},
   "outputs": [
    {
     "name": "stdout",
     "output_type": "stream",
     "text": [
      "sleep_n_seconds took 5.005043983459473s\n"
     ]
    }
   ],
   "source": [
    "sleep_n_seconds(5)"
   ]
  },
  {
   "cell_type": "code",
   "execution_count": 21,
   "metadata": {},
   "outputs": [],
   "source": [
    "import time"
   ]
  },
  {
   "cell_type": "code",
   "execution_count": 26,
   "metadata": {},
   "outputs": [],
   "source": [
    "# outro exemplo da vida real\n",
    "def memoize(func): \n",
    "    \"\"\"Store the results of the decorated function for fast lookup.\"\"\"\n",
    "    cache = {} # store results in a dict\n",
    "    def wrapper(*args, **kwargs): # wrapper function to return\n",
    "        # testa se esses argumentos não foram vistos anteriormente:\n",
    "        if (args, kwargs) not in cache:\n",
    "            # call func and store the result:\n",
    "            cache[(args, kwargs)] = func(*args, **kwargs)\n",
    "        return cache[(args, kwargs)]\n",
    "\n",
    "    return wrapper"
   ]
  },
  {
   "cell_type": "code",
   "execution_count": 27,
   "metadata": {},
   "outputs": [],
   "source": [
    "@memoize\n",
    "def slow_function(a,b):\n",
    "    print('Sleeping...')\n",
    "    time.sleep(5)\n",
    "    return a + b"
   ]
  },
  {
   "cell_type": "code",
   "execution_count": 28,
   "metadata": {},
   "outputs": [
    {
     "ename": "TypeError",
     "evalue": "unhashable type: 'dict'",
     "output_type": "error",
     "traceback": [
      "\u001b[1;31m---------------------------------------------------------------------------\u001b[0m",
      "\u001b[1;31mTypeError\u001b[0m                                 Traceback (most recent call last)",
      "\u001b[1;32m~\\AppData\\Local\\Temp\\ipykernel_8856\\3299596330.py\u001b[0m in \u001b[0;36m<module>\u001b[1;34m\u001b[0m\n\u001b[1;32m----> 1\u001b[1;33m \u001b[0mslow_function\u001b[0m\u001b[1;33m(\u001b[0m\u001b[1;36m3\u001b[0m\u001b[1;33m,\u001b[0m\u001b[1;36m4\u001b[0m\u001b[1;33m)\u001b[0m\u001b[1;33m\u001b[0m\u001b[1;33m\u001b[0m\u001b[0m\n\u001b[0m\u001b[0;32m      2\u001b[0m \u001b[1;31m# não funcionou. Deu erro nesse teste:         if (args, kwargs) not in cache\u001b[0m\u001b[1;33m\u001b[0m\u001b[1;33m\u001b[0m\u001b[0m\n",
      "\u001b[1;32m~\\AppData\\Local\\Temp\\ipykernel_8856\\1906212808.py\u001b[0m in \u001b[0;36mwrapper\u001b[1;34m(*args, **kwargs)\u001b[0m\n\u001b[0;32m      5\u001b[0m     \u001b[1;32mdef\u001b[0m \u001b[0mwrapper\u001b[0m\u001b[1;33m(\u001b[0m\u001b[1;33m*\u001b[0m\u001b[0margs\u001b[0m\u001b[1;33m,\u001b[0m \u001b[1;33m**\u001b[0m\u001b[0mkwargs\u001b[0m\u001b[1;33m)\u001b[0m\u001b[1;33m:\u001b[0m \u001b[1;31m# wrapper function to return\u001b[0m\u001b[1;33m\u001b[0m\u001b[1;33m\u001b[0m\u001b[0m\n\u001b[0;32m      6\u001b[0m         \u001b[1;31m# testa se esses argumentos não foram vistos anteriormente:\u001b[0m\u001b[1;33m\u001b[0m\u001b[1;33m\u001b[0m\u001b[0m\n\u001b[1;32m----> 7\u001b[1;33m         \u001b[1;32mif\u001b[0m \u001b[1;33m(\u001b[0m\u001b[0margs\u001b[0m\u001b[1;33m,\u001b[0m \u001b[0mkwargs\u001b[0m\u001b[1;33m)\u001b[0m \u001b[1;32mnot\u001b[0m \u001b[1;32min\u001b[0m \u001b[0mcache\u001b[0m\u001b[1;33m:\u001b[0m\u001b[1;33m\u001b[0m\u001b[1;33m\u001b[0m\u001b[0m\n\u001b[0m\u001b[0;32m      8\u001b[0m             \u001b[1;31m# call func and store the result:\u001b[0m\u001b[1;33m\u001b[0m\u001b[1;33m\u001b[0m\u001b[0m\n\u001b[0;32m      9\u001b[0m             \u001b[0mcache\u001b[0m\u001b[1;33m[\u001b[0m\u001b[1;33m(\u001b[0m\u001b[0margs\u001b[0m\u001b[1;33m,\u001b[0m \u001b[0mkwargs\u001b[0m\u001b[1;33m)\u001b[0m\u001b[1;33m]\u001b[0m \u001b[1;33m=\u001b[0m \u001b[0mfunc\u001b[0m\u001b[1;33m(\u001b[0m\u001b[1;33m*\u001b[0m\u001b[0margs\u001b[0m\u001b[1;33m,\u001b[0m \u001b[1;33m**\u001b[0m\u001b[0mkwargs\u001b[0m\u001b[1;33m)\u001b[0m\u001b[1;33m\u001b[0m\u001b[1;33m\u001b[0m\u001b[0m\n",
      "\u001b[1;31mTypeError\u001b[0m: unhashable type: 'dict'"
     ]
    }
   ],
   "source": [
    "slow_function(3,4)\n",
    "# não funcionou. Deu erro nesse teste:         if (args, kwargs) not in cache\n",
    "# era pra dormir por 5 segundos e retornar a soma, se os mesmos argumentos forem informados novamente, ela não dorme e retorna o resultado."
   ]
  },
  {
   "attachments": {},
   "cell_type": "markdown",
   "metadata": {},
   "source": [
    "Quando usar um decorator: quando você deseja adicionar um pedaço de código igual a várias funções."
   ]
  },
  {
   "attachments": {},
   "cell_type": "markdown",
   "metadata": {},
   "source": [
    "### Decorators e metadados\n",
    "\n",
    "- Um problema dos decorators é que eles ofuscam os metadados:\n",
    "    - O decorator sobrescreve a função com uma outra (a nested function que chamamos de wrapper) na criação do decorator.\n"
   ]
  },
  {
   "cell_type": "code",
   "execution_count": 29,
   "metadata": {},
   "outputs": [],
   "source": [
    "def sleep_n_seconds(n=10):\n",
    "    \"\"\"Pause processing for n seconds\n",
    "    \n",
    "    Args:\n",
    "        n (int): The number of seconds to pause for.\n",
    "    \"\"\"\n",
    "    time.sleep(n)"
   ]
  },
  {
   "cell_type": "code",
   "execution_count": 30,
   "metadata": {},
   "outputs": [],
   "source": [
    "sleep_n_seconds()"
   ]
  },
  {
   "cell_type": "code",
   "execution_count": 31,
   "metadata": {},
   "outputs": [
    {
     "name": "stdout",
     "output_type": "stream",
     "text": [
      "sleep_n_seconds\n",
      "Pause processing for n seconds\n",
      "    \n",
      "    Args:\n",
      "        n (int): The number of seconds to pause for.\n",
      "    \n",
      "(10,)\n"
     ]
    }
   ],
   "source": [
    "# metadados da função:\n",
    "print(sleep_n_seconds.__name__) # nome da função\n",
    "print(sleep_n_seconds.__doc__) # docstring\n",
    "print(sleep_n_seconds.__defaults__) # argumentos default"
   ]
  },
  {
   "cell_type": "code",
   "execution_count": 32,
   "metadata": {},
   "outputs": [],
   "source": [
    "# com decorator agora\n",
    "@timer\n",
    "def sleep_n_seconds(n=10):\n",
    "    \"\"\"Pause processing for n seconds\n",
    "    \n",
    "    Args:\n",
    "        n (int): The number of seconds to pause for.\n",
    "    \"\"\"\n",
    "    time.sleep(n)"
   ]
  },
  {
   "cell_type": "code",
   "execution_count": 33,
   "metadata": {},
   "outputs": [
    {
     "name": "stdout",
     "output_type": "stream",
     "text": [
      "wrapper\n",
      "None\n",
      "None\n"
     ]
    }
   ],
   "source": [
    "# metadados da função nested (wrapper):\n",
    "print(sleep_n_seconds.__name__) # nome da função\n",
    "print(sleep_n_seconds.__doc__) # docstring\n",
    "print(sleep_n_seconds.__defaults__) # argumentos default"
   ]
  },
  {
   "cell_type": "code",
   "execution_count": 35,
   "metadata": {},
   "outputs": [],
   "source": [
    "# como resolver:\n",
    "from functools import wraps\n",
    "\n",
    "def timer(func):\n",
    "\n",
    "    @wraps(func) # um decorator que aceita argumentos \n",
    "    def wrapper(*args, **kwargs): \n",
    "        t_start = time.time() \n",
    "        result = func(*args, **kwargs) \n",
    "        t_total = time.time() - t_start \n",
    "        print( '{} took {}s'.format(func.__name__, t_total))\n",
    "        return result \n",
    "\n",
    "    return wrapper"
   ]
  },
  {
   "cell_type": "code",
   "execution_count": 38,
   "metadata": {},
   "outputs": [],
   "source": [
    "@timer\n",
    "def sleep_n_seconds(n=10):\n",
    "    \"\"\"Pause processing for n seconds\n",
    "    \n",
    "    Args:\n",
    "        n (int): The number of seconds to pause for.\n",
    "    \"\"\"\n",
    "    time.sleep(n)"
   ]
  },
  {
   "cell_type": "code",
   "execution_count": 41,
   "metadata": {},
   "outputs": [
    {
     "name": "stdout",
     "output_type": "stream",
     "text": [
      "sleep_n_seconds\n",
      "Pause processing for n seconds\n",
      "    \n",
      "    Args:\n",
      "        n (int): The number of seconds to pause for.\n",
      "    \n",
      "None\n"
     ]
    },
    {
     "data": {
      "text/plain": [
       "<function __main__.sleep_n_seconds(n=10)>"
      ]
     },
     "execution_count": 41,
     "metadata": {},
     "output_type": "execute_result"
    }
   ],
   "source": [
    "# metadados da função nested (wrapper):\n",
    "print(sleep_n_seconds.__name__) # nome da função\n",
    "print(sleep_n_seconds.__doc__) # docstring\n",
    "print(sleep_n_seconds.__defaults__) # deu errado esse aqui\n",
    "sleep_n_seconds.__wrapped__ # dá tambem acesso à função sem decorator"
   ]
  },
  {
   "attachments": {},
   "cell_type": "markdown",
   "metadata": {},
   "source": [
    "### Decorators com argumentos\n",
    "\n",
    "- ao invés de criar uma função que cria um decorator, criamos uma que retorna um decorator;\n",
    "    - já que o decorator precisa ter um único argumento que é a função decorada."
   ]
  },
  {
   "cell_type": "code",
   "execution_count": 1,
   "metadata": {},
   "outputs": [],
   "source": [
    "# exemplo: decorator que faz a função rodar n vezes\n",
    "def run_n_times(n):\n",
    "    \"\"\"Define and return a decorator\"\"\"\n",
    "    def decorator(func):\n",
    "\n",
    "        def wrapper(*args, **kwargs):\n",
    "            for i in range(n):\n",
    "                func(*args, **kwargs)\n",
    "            \n",
    "        return wrapper\n",
    "    \n",
    "    return decorator\n"
   ]
  },
  {
   "cell_type": "code",
   "execution_count": 6,
   "metadata": {},
   "outputs": [
    {
     "name": "stdout",
     "output_type": "stream",
     "text": [
      "5\n",
      "5\n",
      "5\n",
      "5\n",
      "5\n",
      "5\n",
      "5\n",
      "5\n",
      "5\n"
     ]
    }
   ],
   "source": [
    "@run_n_times(3) # essa linha siginifica que estamos rodando a função run_n_times e o retorno dela será o decorator da função abaixo\n",
    "def print_sum(a,b):\n",
    "    print(a+b)\n",
    "\n",
    "# equivalente à:\n",
    "run_tree_times = run_n_times(3) # chamamos run_n_times, armazenamos o resultado (return) em run_tree_times\n",
    "@run_tree_times # lembrando que @ é igual a: print_sum = run_tree_times(print_sum)\n",
    "def print_sum(a,b):\n",
    "    print(a+b)\n",
    " \n",
    "# equivalente a:\n",
    "print_sum = run_n_times(3)(print_sum)\n",
    "print_sum(2,3)"
   ]
  },
  {
   "attachments": {},
   "cell_type": "markdown",
   "metadata": {},
   "source": [
    "exemplo da vida real: timeout() raise um erro se a função está demorando mais que o esperado."
   ]
  },
  {
   "cell_type": "code",
   "execution_count": 8,
   "metadata": {},
   "outputs": [
    {
     "ename": "AttributeError",
     "evalue": "module 'signal' has no attribute 'SIGALRM'",
     "output_type": "error",
     "traceback": [
      "\u001b[1;31m---------------------------------------------------------------------------\u001b[0m",
      "\u001b[1;31mAttributeError\u001b[0m                            Traceback (most recent call last)",
      "\u001b[1;32m~\\AppData\\Local\\Temp\\ipykernel_12028\\2317514668.py\u001b[0m in \u001b[0;36m<module>\u001b[1;34m\u001b[0m\n\u001b[0;32m      5\u001b[0m \u001b[1;33m\u001b[0m\u001b[0m\n\u001b[0;32m      6\u001b[0m \u001b[1;33m\u001b[0m\u001b[0m\n\u001b[1;32m----> 7\u001b[1;33m \u001b[0msignal\u001b[0m\u001b[1;33m.\u001b[0m\u001b[0msignal\u001b[0m\u001b[1;33m(\u001b[0m\u001b[0msignalnum\u001b[0m\u001b[1;33m=\u001b[0m\u001b[0msignal\u001b[0m\u001b[1;33m.\u001b[0m\u001b[0mSIGALRM\u001b[0m\u001b[1;33m,\u001b[0m \u001b[0mhandler\u001b[0m\u001b[1;33m=\u001b[0m\u001b[0mraise_timeout\u001b[0m\u001b[1;33m)\u001b[0m\u001b[1;33m\u001b[0m\u001b[1;33m\u001b[0m\u001b[0m\n\u001b[0m\u001b[0;32m      8\u001b[0m \u001b[1;31m#\"Quando python vir o sinal cujo número é (o valor atribuido à) signalnum, chame (a função atribuida a) handler\"\u001b[0m\u001b[1;33m\u001b[0m\u001b[1;33m\u001b[0m\u001b[0m\n\u001b[0;32m      9\u001b[0m \u001b[1;31m# signal.SIGALRM = \"alarm signal\"\u001b[0m\u001b[1;33m\u001b[0m\u001b[1;33m\u001b[0m\u001b[0m\n",
      "\u001b[1;31mAttributeError\u001b[0m: module 'signal' has no attribute 'SIGALRM'"
     ]
    }
   ],
   "source": [
    "import signal # importando um módulo do python\n",
    "\n",
    "def raise_timeout(*args, **kwargs): # raise error quando chamada\n",
    "    raise TimeoutError()\n",
    "\n",
    "\n",
    "signal.signal(signalnum=signal.SIGALRM, handler=raise_timeout) # não implementa signal.SIGALRM no windows (AttributeError)\n",
    "#\"Quando python vir o sinal cujo número é (o valor atribuido à) signalnum, chame (a função atribuida a) handler\"\n",
    "# signal.SIGALRM = \"alarm signal\"\n",
    "\n",
    "signal.alarm(5) # aciona um alarm em 5 segundos\n",
    "\n",
    "signal.alarm(0) # cancela o alarme"
   ]
  },
  {
   "cell_type": "code",
   "execution_count": null,
   "metadata": {},
   "outputs": [],
   "source": [
    "def timeout_in_5s(func): # decorator\n",
    "    @wraps(func)\n",
    "    def wrapper(*args, **kwargs):\n",
    "        signal.alarm(5) # seta o alarme para daqui a cinco segundos (lembre-se: quando toca, o alarme, python raise erro)\n",
    "        try:\n",
    "            return func(*args, **kwargs) # tenta retornar a função decorada\n",
    "        finally:\n",
    "            signal.alarm(0) # cancela o alarme\n",
    "\n",
    "\n",
    "    return wrapper"
   ]
  },
  {
   "cell_type": "code",
   "execution_count": null,
   "metadata": {},
   "outputs": [],
   "source": [
    "@timeout_in_5s\n",
    "def foo():\n",
    "    time.sleep(10)\n",
    "    print('foo!')\n",
    "\n",
    "foo() # retornaria erro se signal.SIGALRM existisse no windows"
   ]
  },
  {
   "cell_type": "code",
   "execution_count": 9,
   "metadata": {},
   "outputs": [
    {
     "ename": "NameError",
     "evalue": "name 'timeout' is not defined",
     "output_type": "error",
     "traceback": [
      "\u001b[1;31m---------------------------------------------------------------------------\u001b[0m",
      "\u001b[1;31mNameError\u001b[0m                                 Traceback (most recent call last)",
      "\u001b[1;32m~\\AppData\\Local\\Temp\\ipykernel_12028\\3457980868.py\u001b[0m in \u001b[0;36m<module>\u001b[1;34m\u001b[0m\n\u001b[1;32m----> 1\u001b[1;33m \u001b[1;33m@\u001b[0m\u001b[0mtimeout\u001b[0m\u001b[1;33m(\u001b[0m\u001b[1;36m5\u001b[0m\u001b[1;33m)\u001b[0m\u001b[1;33m\u001b[0m\u001b[1;33m\u001b[0m\u001b[0m\n\u001b[0m\u001b[0;32m      2\u001b[0m \u001b[1;32mdef\u001b[0m \u001b[0mfoo\u001b[0m\u001b[1;33m(\u001b[0m\u001b[1;33m)\u001b[0m\u001b[1;33m:\u001b[0m\u001b[1;33m\u001b[0m\u001b[1;33m\u001b[0m\u001b[0m\n\u001b[0;32m      3\u001b[0m     \u001b[0mtime\u001b[0m\u001b[1;33m.\u001b[0m\u001b[0msleep\u001b[0m\u001b[1;33m(\u001b[0m\u001b[1;36m10\u001b[0m\u001b[1;33m)\u001b[0m\u001b[1;33m\u001b[0m\u001b[1;33m\u001b[0m\u001b[0m\n\u001b[0;32m      4\u001b[0m     \u001b[0mprint\u001b[0m\u001b[1;33m(\u001b[0m\u001b[1;34m'foo!'\u001b[0m\u001b[1;33m)\u001b[0m\u001b[1;33m\u001b[0m\u001b[1;33m\u001b[0m\u001b[0m\n\u001b[0;32m      5\u001b[0m \u001b[1;33m\u001b[0m\u001b[0m\n",
      "\u001b[1;31mNameError\u001b[0m: name 'timeout' is not defined"
     ]
    }
   ],
   "source": [
    "@timeout(5)\n",
    "def foo():\n",
    "    time.sleep(10)\n",
    "    print('foo!')\n",
    "\n",
    "foo()"
   ]
  },
  {
   "attachments": {},
   "cell_type": "markdown",
   "metadata": {},
   "source": [
    "# Exemplos úteis para data science\n",
    "\n",
    "https://towardsdatascience.com/python-decorators-for-data-science-6913f717669a"
   ]
  },
  {
   "cell_type": "code",
   "execution_count": null,
   "metadata": {},
   "outputs": [],
   "source": [
    "import time\n",
    "from functools import wraps\n",
    "\n",
    "def retry(max_tries=3, delay_seconds=1): # retries n times get an API response\n",
    "    def decorator_retry(func):\n",
    "        @wraps(func)\n",
    "        def wrapper_retry(*args, **kwargs):\n",
    "            tries = 0\n",
    "            while tries < max_tries:\n",
    "                try:\n",
    "                    return func(*args, **kwargs)\n",
    "                except Exception as e:\n",
    "                    tries += 1\n",
    "                    if tries == max_tries:\n",
    "                        raise e\n",
    "                    time.sleep(delay_seconds)\n",
    "        return wrapper_retry\n",
    "    return decorator_retry\n",
    "@retry(max_tries=5, delay_seconds=2) # 5 atempts\n",
    "def call_dummy_api():\n",
    "    response = requests.get(\"https://jsonplaceholder.typicode.com/todos/1\")\n",
    "    return response"
   ]
  },
  {
   "cell_type": "code",
   "execution_count": null,
   "metadata": {},
   "outputs": [],
   "source": [
    "# catch results\n",
    "def memoize(func):\n",
    "    cache = {}\n",
    "    def wrapper(*args):\n",
    "        if args in cache:\n",
    "            return cache[args]\n",
    "        else:\n",
    "            result = func(*args)\n",
    "            cache[args] = result\n",
    "            return result\n",
    "    return wrapper"
   ]
  },
  {
   "cell_type": "code",
   "execution_count": null,
   "metadata": {},
   "outputs": [],
   "source": [
    "@memoize\n",
    "def fibonacci(n):\n",
    "    if n <= 1:\n",
    "        return n\n",
    "    else:\n",
    "        return fibonacci(n-1) + fibonacci(n-2)"
   ]
  },
  {
   "cell_type": "code",
   "execution_count": null,
   "metadata": {},
   "outputs": [],
   "source": [
    "# timing function\n",
    "import time\n",
    "\n",
    "def timing_decorator(func):\n",
    "    def wrapper(*args, **kwargs):\n",
    "        start_time = time.time()\n",
    "        result = func(*args, **kwargs)\n",
    "        end_time = time.time()\n",
    "        print(f\"Function {func.__name__} took {end_time - start_time} seconds to run.\")\n",
    "        return result\n",
    "    return wrapper"
   ]
  },
  {
   "cell_type": "code",
   "execution_count": null,
   "metadata": {},
   "outputs": [],
   "source": [
    "@timing_decorator\n",
    "def my_function():\n",
    "    # some code here\n",
    "    time.sleep(1)  # simulate some time-consuming operation\n",
    "    return"
   ]
  },
  {
   "cell_type": "code",
   "execution_count": null,
   "metadata": {},
   "outputs": [],
   "source": [
    "# logging function: shows wich functions are being executed.\n",
    "import logging\n",
    "import functools\n",
    "\n",
    "logging.basicConfig(level=logging.INFO)\n",
    "\n",
    "def log_execution(func):\n",
    "    @functools.wraps(func)\n",
    "    def wrapper(*args, **kwargs):\n",
    "        logging.info(f\"Executing {func.__name__}\")\n",
    "        result = func(*args, **kwargs)\n",
    "        logging.info(f\"Finished executing {func.__name__}\")\n",
    "        return result\n",
    "    return wrapper\n",
    "\n",
    "@log_execution\n",
    "def extract_data(source):\n",
    "    # extract data from source\n",
    "    data = ...\n",
    "\n",
    "    return data"
   ]
  },
  {
   "cell_type": "code",
   "execution_count": null,
   "metadata": {},
   "outputs": [],
   "source": [
    "\n",
    "@log_execution\n",
    "def transform_data(data):\n",
    "    # transform data\n",
    "    transformed_data = ...\n",
    "\n",
    "    return transformed_data\n",
    "\n",
    "@log_execution\n",
    "def load_data(data, target):\n",
    "    # load data into target\n",
    "    ...\n",
    "\n",
    "def main():\n",
    "    # extract data\n",
    "    data = extract_data(source)\n",
    "\n",
    "    # transform data\n",
    "    transformed_data = transform_data(data)\n",
    "\n",
    "    # load data\n",
    "    load_data(transformed_data, target)"
   ]
  },
  {
   "cell_type": "code",
   "execution_count": null,
   "metadata": {},
   "outputs": [],
   "source": [
    "# notification: send an email when execution fails.\n",
    "import smtplib\n",
    "import traceback\n",
    "from email.mime.text import MIMEText\n",
    "\n",
    "def email_on_failure(sender_email, password, recipient_email):\n",
    "    def decorator(func):\n",
    "        def wrapper(*args, **kwargs):\n",
    "            try:\n",
    "                return func(*args, **kwargs)\n",
    "            except Exception as e:\n",
    "                # format the error message and traceback\n",
    "                err_msg = f\"Error: {str(e)}\\n\\nTraceback:\\n{traceback.format_exc()}\"\n",
    "                \n",
    "                # create the email message\n",
    "                message = MIMEText(err_msg)\n",
    "                message['Subject'] = f\"{func.__name__} failed\"\n",
    "                message['From'] = sender_email\n",
    "                message['To'] = recipient_email\n",
    "                \n",
    "                # send the email\n",
    "                with smtplib.SMTP_SSL('smtp.gmail.com', 465) as smtp:\n",
    "                    smtp.login(sender_email, password)\n",
    "                    smtp.sendmail(sender_email, recipient_email, message.as_string())\n",
    "                    \n",
    "                # re-raise the exception\n",
    "                raise\n",
    "                \n",
    "        return wrapper\n",
    "    \n",
    "    return decorator\n",
    "\n",
    "@email_on_failure(sender_email='your_email@gmail.com', password='your_password', recipient_email='recipient_email@gmail.com')\n",
    "def my_function():\n",
    "    # code that might fail"
   ]
  }
 ],
 "metadata": {
  "kernelspec": {
   "display_name": "Python 3.7.6 ('base')",
   "language": "python",
   "name": "python3"
  },
  "language_info": {
   "codemirror_mode": {
    "name": "ipython",
    "version": 3
   },
   "file_extension": ".py",
   "mimetype": "text/x-python",
   "name": "python",
   "nbconvert_exporter": "python",
   "pygments_lexer": "ipython3",
   "version": "3.9.13"
  },
  "orig_nbformat": 4,
  "vscode": {
   "interpreter": {
    "hash": "78a48a3d8cd2a4e53d9f5cc9f44b1c3b7489f426842a9267f50c2db7a0ea3a37"
   }
  }
 },
 "nbformat": 4,
 "nbformat_minor": 2
}
