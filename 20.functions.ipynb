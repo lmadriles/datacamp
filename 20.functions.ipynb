{
 "cells": [
  {
   "cell_type": "markdown",
   "metadata": {},
   "source": [
    "## Docstrings:\n",
    "- Subject treated in XX.python_toolbox.ipynb\n",
    "- strings da documentação: descrevem a função, podem ser retornadas pela função."
   ]
  },
  {
   "cell_type": "markdown",
   "metadata": {},
   "source": [
    "### Padrões famosos de docstring:\n",
    "- Google Style\n",
    "- Numpydoc\n",
    "- reStructuredText\n",
    "- EpyText"
   ]
  },
  {
   "cell_type": "code",
   "execution_count": null,
   "metadata": {},
   "outputs": [],
   "source": [
    "def defining_docstrings():\n",
    "    \"\"\"\n",
    "    String que fica dentro da função, \n",
    "    elencando o que a função faz, \n",
    "    seus argumentos (valores de entrada) \n",
    "    e o que retorna (seus outputs).\n",
    "       \n",
    "    \"\"\"\n",
    "\n",
    "    return"
   ]
  },
  {
   "cell_type": "code",
   "execution_count": 2,
   "metadata": {},
   "outputs": [],
   "source": [
    "def google_style(arg_1, arg_2=42):\n",
    "    \"\"\"Description of the function.\n",
    "    \n",
    "    Args:\n",
    "        arg_1 (str): Description of the arg_1, pode continuar \n",
    "            na linha de baixo desde que identada.\n",
    "        arg_2 (int, optional): Opcional quando o argumento tem um default.\n",
    "    \n",
    "    Returns:\n",
    "        bool: Descrição opcional do valor retornado\n",
    "        Podendo ter linhas extras sem identação.\n",
    "\n",
    "    Raises:\n",
    "        ValueError: Incluir os erros que podem ser retornados intencionalmente nessa função.\n",
    "\n",
    "    Notes: \n",
    "        See https://google.com \n",
    "        for more info.\n",
    "    \"\"\"\n",
    "    return"
   ]
  },
  {
   "cell_type": "code",
   "execution_count": 3,
   "metadata": {},
   "outputs": [],
   "source": [
    "def numpydoc(arg_1, arg_2=42):\n",
    "    \"\"\"\n",
    "    Description of the function.\n",
    "\n",
    "    Parameters\n",
    "    ----------\n",
    "    arg_1: tipo esperado de arg_1\n",
    "        Descrição de arg_1.\n",
    "    arg_2: int, optional\n",
    "        Escreva optional quando o argumento tem um default.\n",
    "        Default=42.\n",
    "\n",
    "    Returns\n",
    "    -------\n",
    "    The type of the return value\n",
    "        Can include description of the return.\n",
    "        Replace \"Returns\" above for \"Yields\" if this function is a generator.\n",
    "\n",
    "    \"\"\"\n",
    "    return"
   ]
  },
  {
   "cell_type": "code",
   "execution_count": 5,
   "metadata": {},
   "outputs": [
    {
     "name": "stdout",
     "output_type": "stream",
     "text": [
      "Description of the function.\n",
      "    \n",
      "    Args:\n",
      "        arg_1 (str): Description of the arg_1, pode continuar \n",
      "            na linha de baixo desde que identada.\n",
      "        arg_2 (int, optional): Opcional quando o argumento tem um default.\n",
      "    \n",
      "    Returns:\n",
      "        bool: Descrição opcional do valor retornado\n",
      "        Podendo ter linhas extras sem identação.\n",
      "\n",
      "    Raises:\n",
      "        ValueError: Incluir os erros que podem ser retornados intencionalmente nessa função.\n",
      "\n",
      "    Notes: \n",
      "        See https://google.com \n",
      "        for more info.\n",
      "    \n"
     ]
    }
   ],
   "source": [
    "# printa a docstring da função\n",
    "print(google_style.__doc__)"
   ]
  },
  {
   "cell_type": "code",
   "execution_count": 9,
   "metadata": {},
   "outputs": [
    {
     "name": "stdout",
     "output_type": "stream",
     "text": [
      "<class 'str'>\n",
      "############################\n",
      "\n",
      "    Compute the histogram of a set of data.\n",
      "\n",
      "    Parameters\n",
      "    ----------\n",
      "    a : array_like\n",
      "        Input data. The histogram is computed over the flattened array.\n",
      "    bins : int or sequence of scalars or str, optional\n",
      "        If `bins` is an int, it defines the number of equal-width\n",
      "        bins in the given range (10, by default). If `bins` is a\n",
      "        sequence, it defines a monotonically increasing array of bin edges,\n",
      "        including the rightmost edge, allowing for non-uniform bin widths.\n",
      "\n",
      "        .. versionadded:: 1.11.0\n",
      "\n",
      "        If `bins` is a string, it defines the method used to calculate the\n",
      "        optimal bin width, as defined by `histogram_bin_edges`.\n",
      "\n",
      "    range : (float, float), optional\n",
      "        The lower and upper range of the bins.  If not provided, range\n",
      "        is simply ``(a.min(), a.max())``.  Values outside the range are\n",
      "        ignored. The first element of the range must be less than or\n",
      "        equal to the second. `range` affects the automatic bin\n",
      "        computation as well. While bin width is computed to be optimal\n",
      "        based on the actual data within `range`, the bin count will fill\n",
      "        the entire range including portions containing no data.\n",
      "    normed : bool, optional\n",
      "\n",
      "        .. deprecated:: 1.6.0\n",
      "\n",
      "        This is equivalent to the `density` argument, but produces incorrect\n",
      "        results for unequal bin widths. It should not be used.\n",
      "\n",
      "        .. versionchanged:: 1.15.0\n",
      "            DeprecationWarnings are actually emitted.\n",
      "\n",
      "    weights : array_like, optional\n",
      "        An array of weights, of the same shape as `a`.  Each value in\n",
      "        `a` only contributes its associated weight towards the bin count\n",
      "        (instead of 1). If `density` is True, the weights are\n",
      "        normalized, so that the integral of the density over the range\n",
      "        remains 1.\n",
      "    density : bool, optional\n",
      "        If ``False``, the result will contain the number of samples in\n",
      "        each bin. If ``True``, the result is the value of the\n",
      "        probability *density* function at the bin, normalized such that\n",
      "        the *integral* over the range is 1. Note that the sum of the\n",
      "        histogram values will not be equal to 1 unless bins of unity\n",
      "        width are chosen; it is not a probability *mass* function.\n",
      "\n",
      "        Overrides the ``normed`` keyword if given.\n",
      "\n",
      "    Returns\n",
      "    -------\n",
      "    hist : array\n",
      "        The values of the histogram. See `density` and `weights` for a\n",
      "        description of the possible semantics.\n",
      "    bin_edges : array of dtype float\n",
      "        Return the bin edges ``(length(hist)+1)``.\n",
      "\n",
      "\n",
      "    See Also\n",
      "    --------\n",
      "    histogramdd, bincount, searchsorted, digitize, histogram_bin_edges\n",
      "\n",
      "    Notes\n",
      "    -----\n",
      "    All but the last (righthand-most) bin is half-open.  In other words,\n",
      "    if `bins` is::\n",
      "\n",
      "      [1, 2, 3, 4]\n",
      "\n",
      "    then the first bin is ``[1, 2)`` (including 1, but excluding 2) and\n",
      "    the second ``[2, 3)``.  The last bin, however, is ``[3, 4]``, which\n",
      "    *includes* 4.\n",
      "\n",
      "\n",
      "    Examples\n",
      "    --------\n",
      "    >>> np.histogram([1, 2, 1], bins=[0, 1, 2, 3])\n",
      "    (array([0, 2, 1]), array([0, 1, 2, 3]))\n",
      "    >>> np.histogram(np.arange(4), bins=np.arange(5), density=True)\n",
      "    (array([0.25, 0.25, 0.25, 0.25]), array([0, 1, 2, 3, 4]))\n",
      "    >>> np.histogram([[1, 2, 1], [1, 0, 1]], bins=[0,1,2,3])\n",
      "    (array([1, 4, 1]), array([0, 1, 2, 3]))\n",
      "\n",
      "    >>> a = np.arange(5)\n",
      "    >>> hist, bin_edges = np.histogram(a, density=True)\n",
      "    >>> hist\n",
      "    array([0.5, 0. , 0.5, 0. , 0. , 0.5, 0. , 0.5, 0. , 0.5])\n",
      "    >>> hist.sum()\n",
      "    2.4999999999999996\n",
      "    >>> np.sum(hist * np.diff(bin_edges))\n",
      "    1.0\n",
      "\n",
      "    .. versionadded:: 1.11.0\n",
      "\n",
      "    Automated Bin Selection Methods example, using 2 peak random data\n",
      "    with 2000 points:\n",
      "\n",
      "    >>> import matplotlib.pyplot as plt\n",
      "    >>> rng = np.random.RandomState(10)  # deterministic random data\n",
      "    >>> a = np.hstack((rng.normal(size=1000),\n",
      "    ...                rng.normal(loc=5, scale=2, size=1000)))\n",
      "    >>> _ = plt.hist(a, bins='auto')  # arguments are passed to np.histogram\n",
      "    >>> plt.title(\"Histogram with 'auto' bins\")\n",
      "    Text(0.5, 1.0, \"Histogram with 'auto' bins\")\n",
      "    >>> plt.show()\n",
      "\n",
      "    \n",
      "############################\n"
     ]
    }
   ],
   "source": [
    "# pode ser atribuido a variável\n",
    "import numpy as np\n",
    "\n",
    "docstring = np.histogram.__doc__\n",
    "print(type(docstring))\n",
    "\n",
    "border = '#' * 28\n",
    "print('{}\\n{}\\n{}'.format(border, docstring, border)) # \\n é parágrafo"
   ]
  },
  {
   "cell_type": "code",
   "execution_count": 9,
   "metadata": {},
   "outputs": [
    {
     "name": "stdout",
     "output_type": "stream",
     "text": [
      "Description of the function.\n",
      "\n",
      "Args:\n",
      "    arg_1 (str): Description of the arg_1, pode continuar \n",
      "        na linha de baixo desde que identada.\n",
      "    arg_2 (int, optional): Opcional quando o argumento tem um default.\n",
      "\n",
      "Returns:\n",
      "    bool: Descrição opcional do valor retornado\n",
      "    Podendo ter linhas extras sem identação.\n",
      "\n",
      "Raises:\n",
      "    ValueError: Incluir os erros que podem ser retornados intencionalmente nessa função.\n",
      "\n",
      "Notes: \n",
      "    See https://google.com \n",
      "    for more info.\n"
     ]
    }
   ],
   "source": [
    "# printa a docstring da função sem algumas identações\n",
    "import inspect\n",
    "print(inspect.getdoc(google_style))"
   ]
  },
  {
   "cell_type": "code",
   "execution_count": 7,
   "metadata": {},
   "outputs": [],
   "source": [
    "# uma função que retorna a docstring de uma função:\n",
    "import inspect\n",
    "\n",
    "def build_tooltip(function):\n",
    "  \"\"\"Create a tooltip for any function that shows the\n",
    "  function's docstring.\n",
    "\n",
    "  Args:\n",
    "    function (callable): The function we want a tooltip for.\n",
    "\n",
    "  Returns:\n",
    "    str\n",
    "  \"\"\"\n",
    "  # Get the docstring for the \"function\" argument by using inspect\n",
    "  docstring = inspect.getdoc(function)\n",
    "  border = '#' * 28\n",
    "  return '{}\\n{}\\n{}'.format(border, docstring, border)"
   ]
  },
  {
   "cell_type": "code",
   "execution_count": 8,
   "metadata": {},
   "outputs": [
    {
     "name": "stdout",
     "output_type": "stream",
     "text": [
      "############################\n",
      "print(value, ..., sep=' ', end='\\n', file=sys.stdout, flush=False)\n",
      "\n",
      "Prints the values to a stream, or to sys.stdout by default.\n",
      "Optional keyword arguments:\n",
      "file:  a file-like object (stream); defaults to the current sys.stdout.\n",
      "sep:   string inserted between values, default a space.\n",
      "end:   string appended after the last value, default a newline.\n",
      "flush: whether to forcibly flush the stream.\n",
      "############################\n"
     ]
    }
   ],
   "source": [
    "print(build_tooltip(print))"
   ]
  },
  {
   "attachments": {},
   "cell_type": "markdown",
   "metadata": {},
   "source": [
    "### Princípios de design\n",
    "- \"Dont repeat yourself\" (DRY): evite escrever o mesmo código várias vezes.\n",
    "    - Pode-se errar algo ao copiar e colar mesmo conjunto de texto\n",
    "    - Se for alterar tem que alterar todos os conjuntos de texto\n",
    "- \"Do One Thing\": cada função deve ter apenas uma responsabilidade\n",
    "    - Mais flexibilidade, entendimento fácil, simples de testar, debuggar e editar.\n",
    "- Code Smells:\n",
    "- To Refactor: melhorar o código um pouco de cada vez. (Livro Refactoring, Martin Fowler)\n",
    "\n",
    "____________________________________________________________________________________________"
   ]
  },
  {
   "attachments": {},
   "cell_type": "markdown",
   "metadata": {},
   "source": [
    "#### Passando por atribuição (assignment)"
   ]
  },
  {
   "cell_type": "code",
   "execution_count": 3,
   "metadata": {},
   "outputs": [
    {
     "name": "stdout",
     "output_type": "stream",
     "text": [
      "[99, 2, 3]\n"
     ]
    }
   ],
   "source": [
    "def foo(x): # função que altera o primeiro item de uma lista pra 99\n",
    "    x[0] = 99\n",
    "my_list = [1,2,3] \n",
    "foo(my_list) # aplica a uma lista\n",
    "print(my_list) # printa a lista (alterada)"
   ]
  },
  {
   "cell_type": "code",
   "execution_count": 4,
   "metadata": {},
   "outputs": [
    {
     "name": "stdout",
     "output_type": "stream",
     "text": [
      "3\n"
     ]
    }
   ],
   "source": [
    "def bar(x):\n",
    "    x = x + 90\n",
    "my_var = 3\n",
    "bar(my_var)\n",
    "print(my_var) # não alterado -> inteiros em python são imutáveis."
   ]
  },
  {
   "attachments": {},
   "cell_type": "markdown",
   "metadata": {},
   "source": [
    "- Atribuir lista a variáveis, na verdade a variável é um ponteiro para a lista. Se usamos b = a, alterar b altera a (b e a apontam para a mesma lista).\n",
    "- Como isso afeta a nossa função: ao passar my_list ao parâmetro x, x passa a apontar para a lista que my_list aponta.\n",
    "- No caso do my_var, x aponta pro mesmo lugar que my_var, mas quando a função atribui um novo valor a x, x passa a apontar para uma nova variável. Não tocando na variável de my_var. Pois int são imutáveis.\n"
   ]
  },
  {
   "attachments": {},
   "cell_type": "markdown",
   "metadata": {},
   "source": [
    "Datatypes imutáveis: int, float, bool, string, bytes, tuples, frozenset e None.\n",
    "Datatypes mutáveis: list, dict, set, bytearray, objects, functions e o restante quase todo."
   ]
  },
  {
   "cell_type": "code",
   "execution_count": 20,
   "metadata": {},
   "outputs": [],
   "source": [
    "# Perigo da mutabilidade:\n",
    "def foo(var=[]):\n",
    "    var.append(1)\n",
    "    return var"
   ]
  },
  {
   "cell_type": "code",
   "execution_count": 25,
   "metadata": {},
   "outputs": [
    {
     "data": {
      "text/plain": [
       "[1, 1, 1, 1, 1]"
      ]
     },
     "execution_count": 25,
     "metadata": {},
     "output_type": "execute_result"
    }
   ],
   "source": [
    "foo() # rode várias vezes para ver o efeito. Não entendi bem o que aconteceu para var=[] não acontecer."
   ]
  },
  {
   "cell_type": "code",
   "execution_count": 17,
   "metadata": {},
   "outputs": [],
   "source": [
    "# Solução:\n",
    "def foo(var=None): # var só vira lista dentro da função\n",
    "    if var is None:\n",
    "        var=[]\n",
    "    var.append(1)\n",
    "    return var"
   ]
  },
  {
   "cell_type": "code",
   "execution_count": 18,
   "metadata": {},
   "outputs": [
    {
     "data": {
      "text/plain": [
       "[1]"
      ]
     },
     "execution_count": 18,
     "metadata": {},
     "output_type": "execute_result"
    }
   ],
   "source": [
    "foo() # resolvido"
   ]
  },
  {
   "cell_type": "code",
   "execution_count": 27,
   "metadata": {},
   "outputs": [],
   "source": [
    "# Exercício:\n",
    "def store_lower(_dict, _string):\n",
    "  \"\"\"Add a mapping between `_string` and a lowercased version of `_string` to `_dict`\n",
    "\n",
    "  Args:\n",
    "    _dict (dict): The dictionary to update.\n",
    "    _string (str): The string to add.\n",
    "  \"\"\"\n",
    "  orig_string = _string\n",
    "  _string = _string.lower()\n",
    "  _dict[orig_string] = _string\n"
   ]
  },
  {
   "cell_type": "code",
   "execution_count": 29,
   "metadata": {},
   "outputs": [
    {
     "name": "stdout",
     "output_type": "stream",
     "text": [
      "{'Hello': 'hello'}\n",
      "Hello\n"
     ]
    }
   ],
   "source": [
    "# Teste do exercício:\n",
    "d = {}\n",
    "s = 'Hello'\n",
    "\n",
    "store_lower(d, s)\n",
    "\n",
    "print(d)\n",
    "print(s)"
   ]
  },
  {
   "attachments": {},
   "cell_type": "markdown",
   "metadata": {},
   "source": [
    "## Context Managers\n",
    "\n",
    "- Função que \n",
    "    a) configura um contexto para a execução de um código;\n",
    "    b) roda o código;\n",
    "    c) retira o contexto."
   ]
  },
  {
   "cell_type": "code",
   "execution_count": null,
   "metadata": {},
   "outputs": [],
   "source": [
    "# exemplo de context manager: função open()\n",
    "with open('my_file.txt') as my_file:\n",
    "    text = my_file.read()\n",
    "    length = len(text)\n",
    "\n",
    "print(length)"
   ]
  },
  {
   "cell_type": "code",
   "execution_count": null,
   "metadata": {},
   "outputs": [],
   "source": [
    "# generalizando:\n",
    "with <context_manager>(<args>):\n",
    "    # roda o código\n",
    "    # esse código roda \"dentro do contexto\"\n",
    "    # necessário essa identação pois é uma statement/instrução composta, como if, for, def, etc.\n",
    "\n",
    "# tudo que estiver fora da identação será executado após o contexto ser encerrado."
   ]
  },
  {
   "cell_type": "code",
   "execution_count": null,
   "metadata": {},
   "outputs": [],
   "source": [
    "with <context_manager>(<args>) as <variable_name>:\n",
    "    # alguns context_managers retornam um valor para ser usado dentro do contexto;\n",
    "    # \"as <variable_name>\" armazena esse retorno nessa variável.\n",
    "    # exemplo: my_file no exemplo do open()"
   ]
  },
  {
   "attachments": {},
   "cell_type": "markdown",
   "metadata": {},
   "source": [
    "#### Criando uma context manager function\n",
    "\n",
    "Duas formas:\n",
    "- class based: usando uma classe que tenha os métodos `__enter__()` e `__exit__()` (não tratado aqui)\n",
    "- function based: usa um decorator"
   ]
  },
  {
   "cell_type": "code",
   "execution_count": 2,
   "metadata": {},
   "outputs": [],
   "source": [
    "import contextlib"
   ]
  },
  {
   "cell_type": "code",
   "execution_count": null,
   "metadata": {},
   "outputs": [],
   "source": [
    "@contextlib.contextmanager  # decorator que transforma a função num context manager\n",
    "def my_context():\n",
    "    # add any setup code you wil need (optional)\n",
    "\n",
    "    yield # necessário no lugar de return; caracteristica de funções generators (contextmanager é um gerador que produz um único valor)\n",
    "    # depois do yield pode adicionar qualquer código de teardown (desmontagem)...\n",
    "    # ...necessário para limpar o contexto (opcional)."
   ]
  },
  {
   "cell_type": "code",
   "execution_count": 3,
   "metadata": {},
   "outputs": [],
   "source": [
    "# exemplo\n",
    "@contextlib.contextmanager\n",
    "def my_context():\n",
    "    print('hello')  # executado antes da primeira linha dentro do with\n",
    "    yield 42 # ao chamar o yield define-se em que ponto o controle volta para o contexto\n",
    "    print('goodbye') # executa ao fechar o contexto (última linha do with)"
   ]
  },
  {
   "cell_type": "code",
   "execution_count": 4,
   "metadata": {},
   "outputs": [
    {
     "name": "stdout",
     "output_type": "stream",
     "text": [
      "hello\n",
      "foo is 42\n",
      "goodbye\n"
     ]
    }
   ],
   "source": [
    "with my_context() as foo:\n",
    "    print('foo is {}'.format(foo))\n"
   ]
  },
  {
   "attachments": {},
   "cell_type": "markdown",
   "metadata": {},
   "source": [
    "Grande vantagem: consegue dar yield e continuar executando código"
   ]
  },
  {
   "cell_type": "code",
   "execution_count": null,
   "metadata": {},
   "outputs": [],
   "source": [
    "# exemplo: manager que acessa uma base de dados:\n",
    "@contextlib.contextmanager\n",
    "def database(url):\n",
    "    # set up database connection  \n",
    "    db = postgres.connect(url)\n",
    "    yield db \n",
    "    # tear down database connection  \n",
    "    db.disconnect()\n",
    "\n",
    "url = 'http://datacamp.com/data'\n",
    "with database(url) as my_db:\n",
    "    course_list = my_db.execute('SELECT * FROM courses')\n"
   ]
  },
  {
   "cell_type": "code",
   "execution_count": null,
   "metadata": {},
   "outputs": [],
   "source": [
    "# exemplo: manager que não yielda um valor específico\n",
    "@contextlib.contextmanager\n",
    "def in_dir(path):\n",
    "    '''Altera o diretório para o caminho fornecido depois volta sem yieldar um valor'''\n",
    "\n",
    "    # save current working directory  \n",
    "    old_dir = os.getcwd()\n",
    "    # switch to new working directory  \n",
    "    os.chdir(path)\n",
    "    yield\n",
    "    # change back to previous working directory  \n",
    "    os.chdir(old_dir)\n",
    "    \n",
    "with in_dir('/data/project_1/'):\n",
    "    project_files = os.listdir()\n",
    "# essa vantagem do manager permite ocultar a conexão e desconexão da database no código"
   ]
  },
  {
   "cell_type": "code",
   "execution_count": null,
   "metadata": {},
   "outputs": [],
   "source": [
    "# exercício:\n",
    "@contextlib.contextmanager\n",
    "def timer():\n",
    "  \"\"\"Time the execution of a context block.\n",
    "\n",
    "  Yields:\n",
    "    None\n",
    "  \"\"\"\n",
    "  start = time.time()\n",
    "  \n",
    "  yield # Send control back to the context block\n",
    "  end = time.time()\n",
    "  print('Elapsed: {:.2f}s'.format(end - start))\n",
    "\n",
    "with timer():\n",
    "  print('This should take approximately 0.25 seconds')\n",
    "  time.sleep(0.25)"
   ]
  },
  {
   "cell_type": "code",
   "execution_count": null,
   "metadata": {},
   "outputs": [],
   "source": [
    "@contextlib.contextmanager\n",
    "def open_read_only(filename):\n",
    "  \"\"\"Open a file in read-only mode.\n",
    "\n",
    "  Args:\n",
    "    filename (str): The location of the file to read\n",
    "\n",
    "  Yields:\n",
    "    file object\n",
    "  \"\"\"\n",
    "  read_only_file = open(filename, mode='r')\n",
    "  # Yield read_only_file so it can be assigned to my_file\n",
    "  yield read_only_file\n",
    "  # Close read_only_file\n",
    "  read_only_file.close()\n",
    "\n",
    "with open_read_only('my_file.txt') as my_file: # is just to exemplify, there is no my_file.txt file.\n",
    "  print(my_file.read())"
   ]
  },
  {
   "attachments": {},
   "cell_type": "markdown",
   "metadata": {},
   "source": [
    "### Conceitos Avançados\n",
    "\n",
    "#### Contextos aninhados (nested)"
   ]
  },
  {
   "cell_type": "code",
   "execution_count": null,
   "metadata": {},
   "outputs": [],
   "source": [
    "# a função abaixo abre um arquivo de texto, armazena o conteúdo em uma variável,...\n",
    "# ...abre outro arquivo e escreve nele o conteúdo coletado\n",
    "\n",
    "def copy(src, dst):\n",
    "    \"\"\"Copy the contents of one file to another.  \n",
    "    Args:    \n",
    "        src (str): File name of the file to be copied.    \n",
    "        dst (str): Where to write the new file.\n",
    "    \"\"\"\n",
    "    # Open the source file and read in the contents\n",
    "    with open(src) as f_src:\n",
    "        contents = f_src.read()\n",
    "    # Open the destination file and write out the contents\n",
    "    with open(dst, 'w') as f_dst:\n",
    "        f_dst.write(contents)\n",
    "\n",
    "# problema: se o conteúdo é muito grande para a memória disponível"
   ]
  },
  {
   "cell_type": "code",
   "execution_count": null,
   "metadata": {},
   "outputs": [],
   "source": [
    "# solução: \n",
    "def copy(src, dst):\n",
    "    \"\"\"Copy the contents of one file to another.  \n",
    "    Args:    \n",
    "        src (str): File name of the file to be copied.    \n",
    "        dst (str): Where to write the new file.\n",
    "    \"\"\"\n",
    "    # Abre ambos:\n",
    "    with open(src) as f_src:# significa \"file_source\"\n",
    "        with open(dst, 'w') as f_dst: # nesting context managers; significa \"file_destiny\"\n",
    "            # Lê e escreve linha a linha\n",
    "            for line in f_src: # conteúdo pode ser iterado\n",
    "                f_dst.write(line)"
   ]
  },
  {
   "attachments": {},
   "cell_type": "markdown",
   "metadata": {},
   "source": [
    "#### Erros"
   ]
  },
  {
   "cell_type": "code",
   "execution_count": null,
   "metadata": {},
   "outputs": [],
   "source": [
    "# exemplo: \n",
    "def get_printer(ip):\n",
    "    '''Função que conecta um ip a uma impressora.\n",
    "    A impressora só permite uma conexão por vez, então a desconexão tem que acontecer'''\n",
    "    p = connect_to_printer(ip)\n",
    "    yield\n",
    "    p.disconnect() # precisa acontecer, ou não será possivel conectar novamente\n",
    "# continua"
   ]
  },
  {
   "cell_type": "code",
   "execution_count": null,
   "metadata": {},
   "outputs": [],
   "source": [
    "# o erro acontece aqui: um key error porque o usuário digitou a chave errada de seu dict.clear\n",
    "\n",
    "doc = {'text': 'This is my text'}\n",
    "\n",
    "with get_printer('10.0.34.111') as printer:\n",
    "    printer.print_page(doc['txt']) # chave errada, erro acontece antes de yield, antes de p.disconnect()\n",
    "# ninguem conecta mais agora.\n"
   ]
  },
  {
   "cell_type": "code",
   "execution_count": null,
   "metadata": {},
   "outputs": [],
   "source": [
    "# solução: instrução try (try statement)\n",
    "try:\n",
    "    # tenta executar um código\n",
    "except:\n",
    "    # executa isso se deu erro no try\n",
    "finally:\n",
    "    # executa isso independente de qualquer coisa"
   ]
  },
  {
   "cell_type": "code",
   "execution_count": null,
   "metadata": {},
   "outputs": [],
   "source": [
    "def get_printer(ip):\n",
    "\n",
    "    p = connect_to_printer(ip)\n",
    "    try:\n",
    "        yield # tenta passar o controle\n",
    "    finally:\n",
    "        p.disconnect() # acontece independente do cenário"
   ]
  },
  {
   "attachments": {},
   "cell_type": "markdown",
   "metadata": {},
   "source": [
    "Padrões comuns de context manager:\n",
    "- open e close\n",
    "- lock e release\n",
    "- change e reset\n",
    "- enter e exit\n",
    "- start e stop\n",
    "- setup e teardown\n",
    "- connect e disconnect\n"
   ]
  },
  {
   "attachments": {},
   "cell_type": "markdown",
   "metadata": {},
   "source": [
    "## Decorators"
   ]
  },
  {
   "cell_type": "code",
   "execution_count": null,
   "metadata": {},
   "outputs": [],
   "source": []
  },
  {
   "cell_type": "code",
   "execution_count": null,
   "metadata": {},
   "outputs": [],
   "source": []
  }
 ],
 "metadata": {
  "kernelspec": {
   "display_name": "Python 3.7.6 ('base')",
   "language": "python",
   "name": "python3"
  },
  "language_info": {
   "codemirror_mode": {
    "name": "ipython",
    "version": 3
   },
   "file_extension": ".py",
   "mimetype": "text/x-python",
   "name": "python",
   "nbconvert_exporter": "python",
   "pygments_lexer": "ipython3",
   "version": "3.7.6"
  },
  "orig_nbformat": 4,
  "vscode": {
   "interpreter": {
    "hash": "78a48a3d8cd2a4e53d9f5cc9f44b1c3b7489f426842a9267f50c2db7a0ea3a37"
   }
  }
 },
 "nbformat": 4,
 "nbformat_minor": 2
}
