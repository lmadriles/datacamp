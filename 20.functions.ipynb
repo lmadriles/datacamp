{
 "cells": [
  {
   "cell_type": "markdown",
   "metadata": {},
   "source": [
    "## Docstrings:\n",
    "- Subject treated in XX.python_toolbox.ipynb\n",
    "- strings da documentação: descrevem a função, podem ser retornadas pela função."
   ]
  },
  {
   "cell_type": "markdown",
   "metadata": {},
   "source": [
    "### Padrões famosos de docstring:\n",
    "- Google Style\n",
    "- Numpydoc\n",
    "- reStructuredText\n",
    "- EpyText"
   ]
  },
  {
   "cell_type": "code",
   "execution_count": null,
   "metadata": {},
   "outputs": [],
   "source": [
    "def defining_docstrings():\n",
    "    \"\"\"\n",
    "    String que fica dentro da função, \n",
    "    elencando o que a função faz, \n",
    "    seus argumentos (valores de entrada) \n",
    "    e o que retorna (seus outputs).\n",
    "       \n",
    "    \"\"\"\n",
    "\n",
    "    return"
   ]
  },
  {
   "cell_type": "code",
   "execution_count": 2,
   "metadata": {},
   "outputs": [],
   "source": [
    "def google_style(arg_1, arg_2=42):\n",
    "    \"\"\"Description of the function.\n",
    "    \n",
    "    Args:\n",
    "        arg_1 (str): Description of the arg_1, pode continuar \n",
    "            na linha de baixo desde que identada.\n",
    "        arg_2 (int, optional): Opcional quando o argumento tem um default.\n",
    "    \n",
    "    Returns:\n",
    "        bool: Descrição opcional do valor retornado\n",
    "        Podendo ter linhas extras sem identação.\n",
    "\n",
    "    Raises:\n",
    "        ValueError: Incluir os erros que podem ser retornados intencionalmente nessa função.\n",
    "\n",
    "    Notes: \n",
    "        See https://google.com \n",
    "        for more info.\n",
    "    \"\"\"\n",
    "    return"
   ]
  },
  {
   "cell_type": "code",
   "execution_count": 3,
   "metadata": {},
   "outputs": [],
   "source": [
    "def numpydoc(arg_1, arg_2=42):\n",
    "    \"\"\"\n",
    "    Description of the function.\n",
    "\n",
    "    Parameters\n",
    "    ----------\n",
    "    arg_1: tipo esperado de arg_1\n",
    "        Descrição de arg_1.\n",
    "    arg_2: int, optional\n",
    "        Escreva optional quando o argumento tem um default.\n",
    "        Default=42.\n",
    "\n",
    "    Returns\n",
    "    -------\n",
    "    The type of the return value\n",
    "        Can include description of the return.\n",
    "        Replace \"Returns\" above for \"Yields\" if this function is a generator.\n",
    "\n",
    "    \"\"\"\n",
    "    return"
   ]
  },
  {
   "cell_type": "code",
   "execution_count": 5,
   "metadata": {},
   "outputs": [
    {
     "name": "stdout",
     "output_type": "stream",
     "text": [
      "Description of the function.\n",
      "    \n",
      "    Args:\n",
      "        arg_1 (str): Description of the arg_1, pode continuar \n",
      "            na linha de baixo desde que identada.\n",
      "        arg_2 (int, optional): Opcional quando o argumento tem um default.\n",
      "    \n",
      "    Returns:\n",
      "        bool: Descrição opcional do valor retornado\n",
      "        Podendo ter linhas extras sem identação.\n",
      "\n",
      "    Raises:\n",
      "        ValueError: Incluir os erros que podem ser retornados intencionalmente nessa função.\n",
      "\n",
      "    Notes: \n",
      "        See https://google.com \n",
      "        for more info.\n",
      "    \n"
     ]
    }
   ],
   "source": [
    "# printa a docstring da função\n",
    "print(google_style.__doc__)"
   ]
  },
  {
   "cell_type": "code",
   "execution_count": 9,
   "metadata": {},
   "outputs": [
    {
     "name": "stdout",
     "output_type": "stream",
     "text": [
      "<class 'str'>\n",
      "############################\n",
      "\n",
      "    Compute the histogram of a set of data.\n",
      "\n",
      "    Parameters\n",
      "    ----------\n",
      "    a : array_like\n",
      "        Input data. The histogram is computed over the flattened array.\n",
      "    bins : int or sequence of scalars or str, optional\n",
      "        If `bins` is an int, it defines the number of equal-width\n",
      "        bins in the given range (10, by default). If `bins` is a\n",
      "        sequence, it defines a monotonically increasing array of bin edges,\n",
      "        including the rightmost edge, allowing for non-uniform bin widths.\n",
      "\n",
      "        .. versionadded:: 1.11.0\n",
      "\n",
      "        If `bins` is a string, it defines the method used to calculate the\n",
      "        optimal bin width, as defined by `histogram_bin_edges`.\n",
      "\n",
      "    range : (float, float), optional\n",
      "        The lower and upper range of the bins.  If not provided, range\n",
      "        is simply ``(a.min(), a.max())``.  Values outside the range are\n",
      "        ignored. The first element of the range must be less than or\n",
      "        equal to the second. `range` affects the automatic bin\n",
      "        computation as well. While bin width is computed to be optimal\n",
      "        based on the actual data within `range`, the bin count will fill\n",
      "        the entire range including portions containing no data.\n",
      "    normed : bool, optional\n",
      "\n",
      "        .. deprecated:: 1.6.0\n",
      "\n",
      "        This is equivalent to the `density` argument, but produces incorrect\n",
      "        results for unequal bin widths. It should not be used.\n",
      "\n",
      "        .. versionchanged:: 1.15.0\n",
      "            DeprecationWarnings are actually emitted.\n",
      "\n",
      "    weights : array_like, optional\n",
      "        An array of weights, of the same shape as `a`.  Each value in\n",
      "        `a` only contributes its associated weight towards the bin count\n",
      "        (instead of 1). If `density` is True, the weights are\n",
      "        normalized, so that the integral of the density over the range\n",
      "        remains 1.\n",
      "    density : bool, optional\n",
      "        If ``False``, the result will contain the number of samples in\n",
      "        each bin. If ``True``, the result is the value of the\n",
      "        probability *density* function at the bin, normalized such that\n",
      "        the *integral* over the range is 1. Note that the sum of the\n",
      "        histogram values will not be equal to 1 unless bins of unity\n",
      "        width are chosen; it is not a probability *mass* function.\n",
      "\n",
      "        Overrides the ``normed`` keyword if given.\n",
      "\n",
      "    Returns\n",
      "    -------\n",
      "    hist : array\n",
      "        The values of the histogram. See `density` and `weights` for a\n",
      "        description of the possible semantics.\n",
      "    bin_edges : array of dtype float\n",
      "        Return the bin edges ``(length(hist)+1)``.\n",
      "\n",
      "\n",
      "    See Also\n",
      "    --------\n",
      "    histogramdd, bincount, searchsorted, digitize, histogram_bin_edges\n",
      "\n",
      "    Notes\n",
      "    -----\n",
      "    All but the last (righthand-most) bin is half-open.  In other words,\n",
      "    if `bins` is::\n",
      "\n",
      "      [1, 2, 3, 4]\n",
      "\n",
      "    then the first bin is ``[1, 2)`` (including 1, but excluding 2) and\n",
      "    the second ``[2, 3)``.  The last bin, however, is ``[3, 4]``, which\n",
      "    *includes* 4.\n",
      "\n",
      "\n",
      "    Examples\n",
      "    --------\n",
      "    >>> np.histogram([1, 2, 1], bins=[0, 1, 2, 3])\n",
      "    (array([0, 2, 1]), array([0, 1, 2, 3]))\n",
      "    >>> np.histogram(np.arange(4), bins=np.arange(5), density=True)\n",
      "    (array([0.25, 0.25, 0.25, 0.25]), array([0, 1, 2, 3, 4]))\n",
      "    >>> np.histogram([[1, 2, 1], [1, 0, 1]], bins=[0,1,2,3])\n",
      "    (array([1, 4, 1]), array([0, 1, 2, 3]))\n",
      "\n",
      "    >>> a = np.arange(5)\n",
      "    >>> hist, bin_edges = np.histogram(a, density=True)\n",
      "    >>> hist\n",
      "    array([0.5, 0. , 0.5, 0. , 0. , 0.5, 0. , 0.5, 0. , 0.5])\n",
      "    >>> hist.sum()\n",
      "    2.4999999999999996\n",
      "    >>> np.sum(hist * np.diff(bin_edges))\n",
      "    1.0\n",
      "\n",
      "    .. versionadded:: 1.11.0\n",
      "\n",
      "    Automated Bin Selection Methods example, using 2 peak random data\n",
      "    with 2000 points:\n",
      "\n",
      "    >>> import matplotlib.pyplot as plt\n",
      "    >>> rng = np.random.RandomState(10)  # deterministic random data\n",
      "    >>> a = np.hstack((rng.normal(size=1000),\n",
      "    ...                rng.normal(loc=5, scale=2, size=1000)))\n",
      "    >>> _ = plt.hist(a, bins='auto')  # arguments are passed to np.histogram\n",
      "    >>> plt.title(\"Histogram with 'auto' bins\")\n",
      "    Text(0.5, 1.0, \"Histogram with 'auto' bins\")\n",
      "    >>> plt.show()\n",
      "\n",
      "    \n",
      "############################\n"
     ]
    }
   ],
   "source": [
    "# pode ser atribuido a variável\n",
    "import numpy as np\n",
    "\n",
    "docstring = np.histogram.__doc__\n",
    "print(type(docstring))\n",
    "\n",
    "border = '#' * 28\n",
    "print('{}\\n{}\\n{}'.format(border, docstring, border)) # \\n é parágrafo"
   ]
  },
  {
   "cell_type": "code",
   "execution_count": 9,
   "metadata": {},
   "outputs": [
    {
     "name": "stdout",
     "output_type": "stream",
     "text": [
      "Description of the function.\n",
      "\n",
      "Args:\n",
      "    arg_1 (str): Description of the arg_1, pode continuar \n",
      "        na linha de baixo desde que identada.\n",
      "    arg_2 (int, optional): Opcional quando o argumento tem um default.\n",
      "\n",
      "Returns:\n",
      "    bool: Descrição opcional do valor retornado\n",
      "    Podendo ter linhas extras sem identação.\n",
      "\n",
      "Raises:\n",
      "    ValueError: Incluir os erros que podem ser retornados intencionalmente nessa função.\n",
      "\n",
      "Notes: \n",
      "    See https://google.com \n",
      "    for more info.\n"
     ]
    }
   ],
   "source": [
    "# printa a docstring da função sem algumas identações\n",
    "import inspect\n",
    "print(inspect.getdoc(google_style))"
   ]
  },
  {
   "cell_type": "code",
   "execution_count": 7,
   "metadata": {},
   "outputs": [],
   "source": [
    "# uma função que retorna a docstring de uma função:\n",
    "import inspect\n",
    "\n",
    "def build_tooltip(function):\n",
    "  \"\"\"Create a tooltip for any function that shows the\n",
    "  function's docstring.\n",
    "\n",
    "  Args:\n",
    "    function (callable): The function we want a tooltip for.\n",
    "\n",
    "  Returns:\n",
    "    str\n",
    "  \"\"\"\n",
    "  # Get the docstring for the \"function\" argument by using inspect\n",
    "  docstring = inspect.getdoc(function)\n",
    "  border = '#' * 28\n",
    "  return '{}\\n{}\\n{}'.format(border, docstring, border)"
   ]
  },
  {
   "cell_type": "code",
   "execution_count": 8,
   "metadata": {},
   "outputs": [
    {
     "name": "stdout",
     "output_type": "stream",
     "text": [
      "############################\n",
      "print(value, ..., sep=' ', end='\\n', file=sys.stdout, flush=False)\n",
      "\n",
      "Prints the values to a stream, or to sys.stdout by default.\n",
      "Optional keyword arguments:\n",
      "file:  a file-like object (stream); defaults to the current sys.stdout.\n",
      "sep:   string inserted between values, default a space.\n",
      "end:   string appended after the last value, default a newline.\n",
      "flush: whether to forcibly flush the stream.\n",
      "############################\n"
     ]
    }
   ],
   "source": [
    "print(build_tooltip(print))"
   ]
  },
  {
   "attachments": {},
   "cell_type": "markdown",
   "metadata": {},
   "source": [
    "### Princípios de design\n",
    "- \"Dont repeat yourself\" (DRY): evite escrever o mesmo código várias vezes.\n",
    "    - Pode-se errar algo ao copiar e colar mesmo conjunto de texto\n",
    "    - Se for alterar tem que alterar todos os conjuntos de texto\n",
    "- \"Do One Thing\": cada função deve ter apenas uma responsabilidade\n",
    "    - Mais flexibilidade, entendimento fácil, simples de testar, debuggar e editar.\n",
    "- Code Smells:\n",
    "- To Refactor: melhorar o código um pouco de cada vez. (Livro Refactoring, Martin Fowler)\n",
    "\n",
    "____________________________________________________________________________________________"
   ]
  },
  {
   "attachments": {},
   "cell_type": "markdown",
   "metadata": {},
   "source": [
    "#### Passando por atribuição (assignment)"
   ]
  },
  {
   "cell_type": "code",
   "execution_count": 3,
   "metadata": {},
   "outputs": [
    {
     "name": "stdout",
     "output_type": "stream",
     "text": [
      "[99, 2, 3]\n"
     ]
    }
   ],
   "source": [
    "def foo(x): # função que altera o primeiro item de uma lista pra 99\n",
    "    x[0] = 99\n",
    "my_list = [1,2,3] \n",
    "foo(my_list) # aplica a uma lista\n",
    "print(my_list) # printa a lista (alterada)"
   ]
  },
  {
   "cell_type": "code",
   "execution_count": 4,
   "metadata": {},
   "outputs": [
    {
     "name": "stdout",
     "output_type": "stream",
     "text": [
      "3\n"
     ]
    }
   ],
   "source": [
    "def bar(x):\n",
    "    x = x + 90\n",
    "my_var = 3\n",
    "bar(my_var)\n",
    "print(my_var) # não alterado -> inteiros em python são imutáveis."
   ]
  },
  {
   "attachments": {},
   "cell_type": "markdown",
   "metadata": {},
   "source": [
    "- Atribuir lista a variáveis, na verdade a variável é um ponteiro para a lista. Se usamos b = a, alterar b altera a (b e a apontam para a mesma lista).\n",
    "- Como isso afeta a nossa função: ao passar my_list ao parâmetro x, x passa a apontar para a lista que my_list aponta.\n",
    "- No caso do my_var, x aponta pro mesmo lugar que my_var, mas quando a função atribui um novo valor a x, x passa a apontar para uma nova variável. Não tocando na variável de my_var. Pois int são imutáveis.\n"
   ]
  },
  {
   "attachments": {},
   "cell_type": "markdown",
   "metadata": {},
   "source": [
    "Datatypes imutáveis: int, float, bool, string, bytes, tuples, frozenset e None.\n",
    "Datatypes mutáveis: list, dict, set, bytearray, objects, functions e o restante quase todo."
   ]
  },
  {
   "cell_type": "code",
   "execution_count": 20,
   "metadata": {},
   "outputs": [],
   "source": [
    "# Perigo da mutabilidade:\n",
    "def foo(var=[]):\n",
    "    var.append(1)\n",
    "    return var"
   ]
  },
  {
   "cell_type": "code",
   "execution_count": 25,
   "metadata": {},
   "outputs": [
    {
     "data": {
      "text/plain": [
       "[1, 1, 1, 1, 1]"
      ]
     },
     "execution_count": 25,
     "metadata": {},
     "output_type": "execute_result"
    }
   ],
   "source": [
    "foo() # rode várias vezes para ver o efeito. Não entendi bem o que aconteceu para var=[] não acontecer."
   ]
  },
  {
   "cell_type": "code",
   "execution_count": 17,
   "metadata": {},
   "outputs": [],
   "source": [
    "# Solução:\n",
    "def foo(var=None):\n",
    "    if var is None:\n",
    "        var=[]\n",
    "    var.append(1)\n",
    "    return var"
   ]
  },
  {
   "cell_type": "code",
   "execution_count": 18,
   "metadata": {},
   "outputs": [
    {
     "data": {
      "text/plain": [
       "[1]"
      ]
     },
     "execution_count": 18,
     "metadata": {},
     "output_type": "execute_result"
    }
   ],
   "source": [
    "foo() # resolvido"
   ]
  },
  {
   "cell_type": "code",
   "execution_count": 27,
   "metadata": {},
   "outputs": [],
   "source": [
    "def store_lower(_dict, _string):\n",
    "  \"\"\"Add a mapping between `_string` and a lowercased version of `_string` to `_dict`\n",
    "\n",
    "  Args:\n",
    "    _dict (dict): The dictionary to update.\n",
    "    _string (str): The string to add.\n",
    "  \"\"\"\n",
    "  orig_string = _string\n",
    "  _string = _string.lower()\n",
    "  _dict[orig_string] = _string\n"
   ]
  },
  {
   "cell_type": "code",
   "execution_count": 29,
   "metadata": {},
   "outputs": [
    {
     "name": "stdout",
     "output_type": "stream",
     "text": [
      "{'Hello': 'hello'}\n",
      "Hello\n"
     ]
    }
   ],
   "source": [
    "d = {}\n",
    "s = 'Hello'\n",
    "\n",
    "store_lower(d, s)\n",
    "\n",
    "print(d)\n",
    "print(s)"
   ]
  },
  {
   "cell_type": "code",
   "execution_count": null,
   "metadata": {},
   "outputs": [],
   "source": []
  }
 ],
 "metadata": {
  "kernelspec": {
   "display_name": "Python 3.7.6 ('base')",
   "language": "python",
   "name": "python3"
  },
  "language_info": {
   "codemirror_mode": {
    "name": "ipython",
    "version": 3
   },
   "file_extension": ".py",
   "mimetype": "text/x-python",
   "name": "python",
   "nbconvert_exporter": "python",
   "pygments_lexer": "ipython3",
   "version": "3.7.6 (default, Jan  8 2020, 20:23:39) [MSC v.1916 64 bit (AMD64)]"
  },
  "orig_nbformat": 4,
  "vscode": {
   "interpreter": {
    "hash": "78a48a3d8cd2a4e53d9f5cc9f44b1c3b7489f426842a9267f50c2db7a0ea3a37"
   }
  }
 },
 "nbformat": 4,
 "nbformat_minor": 2
}
