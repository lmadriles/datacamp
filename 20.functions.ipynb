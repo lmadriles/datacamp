{
 "cells": [
  {
   "cell_type": "markdown",
   "metadata": {},
   "source": [
    "## Docstrings:\n",
    "- Subject treated in XX.python_toolbox.ipynb\n",
    "- strings da documentação: descrevem a função, podem ser retornadas pela função."
   ]
  },
  {
   "cell_type": "markdown",
   "metadata": {},
   "source": [
    "### Padrões famosos de docstring:\n",
    "- Google Style\n",
    "- Numpydoc\n",
    "- reStructuredText\n",
    "- EpyText"
   ]
  },
  {
   "cell_type": "code",
   "execution_count": null,
   "metadata": {},
   "outputs": [],
   "source": [
    "def defining_docstrings():\n",
    "    \"\"\"\n",
    "    String que fica dentro da função, \n",
    "    elencando o que a função faz, \n",
    "    seus argumentos (valores de entrada) \n",
    "    e o que retorna (seus outputs).\n",
    "       \n",
    "    \"\"\"\n",
    "\n",
    "    return"
   ]
  },
  {
   "cell_type": "code",
   "execution_count": 7,
   "metadata": {},
   "outputs": [],
   "source": [
    "def google_style(arg_1, arg_2=42):\n",
    "    \"\"\"Description of the function.\n",
    "    \n",
    "    Args:\n",
    "        arg_1 (str): Description of the arg_1, pode continuar \n",
    "            na linha de baixo desde que identada.\n",
    "        arg_2 (int, optional): Opcional quando o argumento tem um default.\n",
    "    \n",
    "    Returns:\n",
    "        bool: Descrição opcional do valor retornado\n",
    "        Podendo ter linhas extras sem identação.\n",
    "\n",
    "    Raises:\n",
    "        ValueError: Incluir os erros que podem ser retornados intencionalmente nessa função.\n",
    "\n",
    "    Notes: \n",
    "        See https://google.com \n",
    "        for more info.\n",
    "    \"\"\"\n",
    "    return"
   ]
  },
  {
   "cell_type": "code",
   "execution_count": 4,
   "metadata": {},
   "outputs": [],
   "source": [
    "def numpydoc(arg_1, arg_2=42):\n",
    "    \"\"\"\n",
    "    Description of the function.\n",
    "\n",
    "    Parameters\n",
    "    ----------\n",
    "    arg_1: tipo esperado de arg_1\n",
    "        Descrição de arg_1.\n",
    "    arg_2: int, optional\n",
    "        Escreva optional quando o argumento tem um default.\n",
    "        Default=42.\n",
    "\n",
    "    Returns\n",
    "    -------\n",
    "    The type of the return value\n",
    "        Can include description of the return.\n",
    "        Replace \"Returns\" above for \"Yields\" if this function is a generator.\n",
    "\n",
    "    \"\"\"\n",
    "    return"
   ]
  },
  {
   "cell_type": "code",
   "execution_count": 8,
   "metadata": {},
   "outputs": [
    {
     "name": "stdout",
     "output_type": "stream",
     "text": [
      "Description of the function.\n",
      "    \n",
      "    Args:\n",
      "        arg_1 (str): Description of the arg_1, pode continuar \n",
      "            na linha de baixo desde que identada.\n",
      "        arg_2 (int, optional): Opcional quando o argumento tem um default.\n",
      "    \n",
      "    Returns:\n",
      "        bool: Descrição opcional do valor retornado\n",
      "        Podendo ter linhas extras sem identação.\n",
      "\n",
      "    Raises:\n",
      "        ValueError: Incluir os erros que podem ser retornados intencionalmente nessa função.\n",
      "\n",
      "    Notes: \n",
      "        See https://google.com \n",
      "        for more info.\n",
      "    \n"
     ]
    }
   ],
   "source": [
    "# printa a docstring da função\n",
    "print(google_style.__doc__)"
   ]
  },
  {
   "cell_type": "code",
   "execution_count": 9,
   "metadata": {},
   "outputs": [
    {
     "name": "stdout",
     "output_type": "stream",
     "text": [
      "Description of the function.\n",
      "\n",
      "Args:\n",
      "    arg_1 (str): Description of the arg_1, pode continuar \n",
      "        na linha de baixo desde que identada.\n",
      "    arg_2 (int, optional): Opcional quando o argumento tem um default.\n",
      "\n",
      "Returns:\n",
      "    bool: Descrição opcional do valor retornado\n",
      "    Podendo ter linhas extras sem identação.\n",
      "\n",
      "Raises:\n",
      "    ValueError: Incluir os erros que podem ser retornados intencionalmente nessa função.\n",
      "\n",
      "Notes: \n",
      "    See https://google.com \n",
      "    for more info.\n"
     ]
    }
   ],
   "source": [
    "# printa a docstring da função sem algumas identações\n",
    "import inspect\n",
    "print(inspect.getdoc(google_style))"
   ]
  },
  {
   "cell_type": "code",
   "execution_count": null,
   "metadata": {},
   "outputs": [],
   "source": []
  }
 ],
 "metadata": {
  "kernelspec": {
   "display_name": "Python 3.7.6 ('base')",
   "language": "python",
   "name": "python3"
  },
  "language_info": {
   "codemirror_mode": {
    "name": "ipython",
    "version": 3
   },
   "file_extension": ".py",
   "mimetype": "text/x-python",
   "name": "python",
   "nbconvert_exporter": "python",
   "pygments_lexer": "ipython3",
   "version": "3.7.6"
  },
  "orig_nbformat": 4,
  "vscode": {
   "interpreter": {
    "hash": "78a48a3d8cd2a4e53d9f5cc9f44b1c3b7489f426842a9267f50c2db7a0ea3a37"
   }
  }
 },
 "nbformat": 4,
 "nbformat_minor": 2
}
