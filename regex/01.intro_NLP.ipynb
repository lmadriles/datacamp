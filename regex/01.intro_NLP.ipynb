{
 "cells": [
  {
   "attachments": {},
   "cell_type": "markdown",
   "metadata": {},
   "source": [
    "# Regular Expression (Regex)\n",
    "- Strings com uma sintaxe especial que permite encontrar padrões em outras strings.\n"
   ]
  },
  {
   "cell_type": "code",
   "execution_count": 4,
   "metadata": {},
   "outputs": [],
   "source": [
    "import re"
   ]
  },
  {
   "cell_type": "code",
   "execution_count": 2,
   "metadata": {},
   "outputs": [
    {
     "data": {
      "text/plain": [
       "<re.Match object; span=(0, 3), match='abc'>"
      ]
     },
     "execution_count": 2,
     "metadata": {},
     "output_type": "execute_result"
    }
   ],
   "source": [
    "pattern = 'abc'\n",
    "string = 'abcde'\n",
    "re.match(pattern,string)\n",
    "# $ <re.Match object; span=(0, 3), match='abc'>"
   ]
  },
  {
   "cell_type": "code",
   "execution_count": 3,
   "metadata": {},
   "outputs": [
    {
     "data": {
      "text/plain": [
       "<re.Match object; span=(0, 3), match='olá'>"
      ]
     },
     "execution_count": 3,
     "metadata": {},
     "output_type": "execute_result"
    }
   ],
   "source": [
    "# caracteres especiais de regex:\n",
    "pattern = '\\w+' # significa palavra\n",
    "string = 'olá pessoal'\n",
    "re.match(pattern,string) # retorna o primeiro match"
   ]
  },
  {
   "attachments": {},
   "cell_type": "markdown",
   "metadata": {},
   "source": [
    "| Pattern        | matcher | example | obs |\n",
    "|-------------|-----|--------|--------|\n",
    "| \\w+  | palavra  | 'Magic'   | \\w pega um caractere de palavra, \\w+ pega a palavra inteira |\n",
    "| \\d   | digito  | 9 |\n",
    "| \\s  | espaço  | ' '   |\n",
    "| .*  | coringa  | 'username94'   | . pega caractere ou número |\n",
    "| + ou *  | greedy match  | 'aaaaaaaaa'   | '+' ou '*' pega repetição do padrão que segue |\n",
    "| \\S  | não espaço  | 'no_space'   | Maiúscula inverte a lógica, filtra o que não é do padrão |\n",
    "| [.!?]  | grupo de chars   | '.'   | Lista caracteres a pegar |\n",
    "| [a-z]  | grupo caixa baixa   | 'abcdefg'   | Lista caracteres de \"a\" a \"z\" |\n",
    "| \\n  | fim de linha  | -   |  |"
   ]
  },
  {
   "attachments": {},
   "cell_type": "markdown",
   "metadata": {},
   "source": [
    "# Módulo re\n",
    "Métodos\n",
    "- split: divide uma string no regex;\n",
    "- findall: encontra todos os padrões em uma string;\n",
    "- search: procura um padrão;\n",
    "- match: parea uma string inteira ou substring baseada num padrão;\n",
    "- em todos os métodos, forneça primeiro o padrão depois a string;\n",
    "- os tipos retornados podem ser iterator, string ou match object."
   ]
  },
  {
   "cell_type": "code",
   "execution_count": 4,
   "metadata": {},
   "outputs": [
    {
     "data": {
      "text/plain": [
       "['Split', 'on', 'spaces']"
      ]
     },
     "execution_count": 4,
     "metadata": {},
     "output_type": "execute_result"
    }
   ],
   "source": [
    "re.split('\\s+', 'Split on spaces')\n",
    "re.split(r'\\s+', 'Split on spaces')  # prefixo r é importante\n",
    "# pois podem haver erro de interpretação do padrão como uma string bruta\n"
   ]
  },
  {
   "cell_type": "code",
   "execution_count": 5,
   "metadata": {},
   "outputs": [
    {
     "name": "stdout",
     "output_type": "stream",
     "text": [
      "[\"Let's write RegEx\", \"  Won't that be fun\", '  I sure think so', '  Can you find 4 sentences', '  Or perhaps, all 19 words', '']\n",
      "['Let', 'RegEx', 'Won', 'Can', 'Or']\n",
      "[\"Let's\", 'write', 'RegEx!', '', \"Won't\", 'that', 'be', 'fun?', '', 'I', 'sure', 'think', 'so.', '', 'Can', 'you', 'find', '4', 'sentences?', '', 'Or', 'perhaps,', 'all', '19', 'words?']\n",
      "['4', '19']\n"
     ]
    }
   ],
   "source": [
    "my_string = \"Let's write RegEx!  Won't that be fun?  I sure think so.  Can you find 4 sentences?  Or perhaps, all 19 words?\"\n",
    "pattern = r\"[.?!]\"\n",
    "print(re.split(pattern, my_string))\n",
    "\n",
    "capitalized_words = r\"[A-Z]\\w+\" # palavras com maiúsculas\n",
    "print(re.findall(capitalized_words, my_string))\n",
    "\n",
    "spaces = r\"\\s\" # espaços\n",
    "print(re.split(spaces, my_string))\n",
    "\n",
    "digits = r\"\\d+\" # dígitos\n",
    "print(re.findall(digits, my_string))"
   ]
  },
  {
   "cell_type": "code",
   "execution_count": 13,
   "metadata": {},
   "outputs": [
    {
     "name": "stdout",
     "output_type": "stream",
     "text": [
      "Iguais se o padrão estiver no começo:\n",
      "<re.Match object; span=(0, 3), match='abc'>\n",
      "<re.Match object; span=(0, 3), match='abc'>\n",
      "Diferente se o padrão não estiver no começo:\n",
      "None\n",
      "<re.Match object; span=(3, 5), match='de'>\n"
     ]
    }
   ],
   "source": [
    "# comparação re.search e re.match\n",
    "print('Iguais se o padrão estiver no começo:')\n",
    "print(re.match('abc','abcde'))\n",
    "print(re.search('abc','abcde'))\n",
    "print('Diferente se o padrão não estiver no começo:')\n",
    "print(re.match('de','abcde')) # match tenta parear as string do começo e não encontra\n",
    "print(re.search('de','abcde')) # span indica a posição do match"
   ]
  },
  {
   "attachments": {},
   "cell_type": "markdown",
   "metadata": {},
   "source": [
    "# Tokenização\n",
    "- transformar string em pedacinhos.\n",
    "- Prepara para o processamento de linguagem natural"
   ]
  },
  {
   "cell_type": "code",
   "execution_count": 6,
   "metadata": {},
   "outputs": [],
   "source": [
    "# biblioteka natural language toolkit\n",
    "from nltk.tokenize import word_tokenize"
   ]
  },
  {
   "cell_type": "code",
   "execution_count": 9,
   "metadata": {},
   "outputs": [
    {
     "name": "stderr",
     "output_type": "stream",
     "text": [
      "[nltk_data] Downloading package punkt to\n",
      "[nltk_data]     C:\\Users\\lmadr\\AppData\\Roaming\\nltk_data...\n",
      "[nltk_data]   Unzipping tokenizers\\punkt.zip.\n"
     ]
    },
    {
     "data": {
      "text/plain": [
       "True"
      ]
     },
     "execution_count": 9,
     "metadata": {},
     "output_type": "execute_result"
    }
   ],
   "source": [
    "import nltk \n",
    "nltk.download('punkt') # needed, the library was returning an error \n",
    "# NLTK is unable to find the required data to tokenize the text. This is likely due to missing data or a configuration issue with NLTK."
   ]
  },
  {
   "cell_type": "code",
   "execution_count": 10,
   "metadata": {},
   "outputs": [
    {
     "data": {
      "text/plain": [
       "['Hi', 'there', '!']"
      ]
     },
     "execution_count": 10,
     "metadata": {},
     "output_type": "execute_result"
    }
   ],
   "source": [
    "word_tokenize(\"Hi there!\")"
   ]
  },
  {
   "attachments": {},
   "cell_type": "markdown",
   "metadata": {},
   "source": [
    "Outros módulos de nltk.tokenize\n",
    "- sent_tokenize: tokeniza um documento em frases;\n",
    "- regexp_tokenize: tokeniza string  ou documetno baseado em padrão regex;\n",
    "- TweetTokenizer: classe especial para tweets, permite separar hashtags, mensões e muitos pontos de exclamação!!!"
   ]
  },
  {
   "cell_type": "code",
   "execution_count": 1,
   "metadata": {},
   "outputs": [],
   "source": [
    "scene_one = \"SCENE 1: [wind] [clop clop clop] \\nKING ARTHUR: Whoa there!  [clop clop clop] \\nSOLDIER #1: Halt!  Who goes there?\\nARTHUR: It is I, Arthur, son of Uther Pendragon, from the castle of Camelot.  King of the Britons, defeator of the Saxons, sovereign of all England!\\nSOLDIER #1: Pull the other one!\\nARTHUR: I am, ...  and this is my trusty servant Patsy.  We have ridden the length and breadth of the land in search of knights who will join me in my court at Camelot.  I must speak with your lord and master.\\nSOLDIER #1: What?  Ridden on a horse?\\nARTHUR: Yes!\\nSOLDIER #1: You're using coconuts!\\nARTHUR: What?\\nSOLDIER #1: You've got two empty halves of coconut and you're bangin' 'em together.\\nARTHUR: So?  We have ridden since the snows of winter covered this land, through the kingdom of Mercea, through--\\nSOLDIER #1: Where'd you get the coconuts?\\nARTHUR: We found them.\\nSOLDIER #1: Found them?  In Mercea?  The coconut's tropical!\\nARTHUR: What do you mean?\\nSOLDIER #1: Well, this is a temperate zone.\\nARTHUR: The swallow may fly south with the sun or the house martin or the plover may seek warmer climes in winter, yet these are not strangers to our land?\\nSOLDIER #1: Are you suggesting coconuts migrate?\\nARTHUR: Not at all.  They could be carried.\\nSOLDIER #1: What?  A swallow carrying a coconut?\\nARTHUR: It could grip it by the husk!\\nSOLDIER #1: It's not a question of where he grips it!  It's a simple question of weight ratios!  A five ounce bird could not carry a one pound coconut.\\nARTHUR: Well, it doesn't matter.  Will you go and tell your master that Arthur from the Court of Camelot is here.\\nSOLDIER #1: Listen.  In order to maintain air-speed velocity, a swallow needs to beat its wings forty-three times every second, right?\\nARTHUR: Please!\\nSOLDIER #1: Am I right?\\nARTHUR: I'm not interested!\\nSOLDIER #2: It could be carried by an African swallow!\\nSOLDIER #1: Oh, yeah, an African swallow maybe, but not a European swallow.  That's my point.\\nSOLDIER #2: Oh, yeah, I agree with that.\\nARTHUR: Will you ask your master if he wants to join my court at Camelot?!\\nSOLDIER #1: But then of course a-- African swallows are non-migratory.\\nSOLDIER #2: Oh, yeah...\\nSOLDIER #1: So they couldn't bring a coconut back anyway...  [clop clop clop] \\nSOLDIER #2: Wait a minute!  Supposing two swallows carried it together?\\nSOLDIER #1: No, they'd have to have it on a line.\\nSOLDIER #2: Well, simple!  They'd just use a strand of creeper!\\nSOLDIER #1: What, held under the dorsal guiding feathers?\\nSOLDIER #2: Well, why not?\\n\"\n"
   ]
  },
  {
   "cell_type": "code",
   "execution_count": 2,
   "metadata": {},
   "outputs": [
    {
     "name": "stdout",
     "output_type": "stream",
     "text": [
      "{'coconut', '2', 'pound', 'King', 'strand', 'A', 'maybe', 'air-speed', 'other', 'SCENE', 'all', 'am', \"'m\", 'The', 'and', 'weight', 'That', 'seek', 'could', 'carry', 'times', 'back', 'ARTHUR', 'two', 'Patsy', 'ratios', 'fly', 'yet', 'land', ',', 'Mercea', 'warmer', 'if', 'martin', 'anyway', 'coconuts', 'not', 'Where', 'ounce', 'empty', 'second', 'get', \"'ve\", 'halves', 'then', 'creeper', 'five', 'got', 'trusty', 'since', \"'re\", 'why', 'order', 'found', 'a', 'mean', 'son', 'there', 'at', 'carrying', 'who', 'speak', 'just', 'We', '1', 'house', 'interested', 'of', 'your', 'guiding', 'Supposing', 'together', 'covered', 'suggesting', 'Oh', 'sovereign', 'Camelot', 'under', 'migrate', 'this', 'court', 'south', 'beat', 'its', 'do', 'Yes', 'where', 'It', 'but', 'be', 'dorsal', 'non-migratory', 'Well', 'Listen', 'plover', \"'em\", ':', 'goes', 'Britons', 'knights', 'wings', 'Halt', 'swallow', 'yeah', 'snows', 'I', 'or', 'through', 'course', 'Am', 'defeator', 'horse', 'Found', 'European', 'grips', 'Are', 'Whoa', 'England', 'length', 'will', 'African', 'lord', 'here', 'servant', 'they', 'it', 'simple', 'sun', 'use', 'tell', 'using', 'Ridden', '--', 'may', 'What', 'carried', 'bird', 'But', 'breadth', 'Pendragon', 'winter', '!', 'them', 'Saxons', 'They', 'is', 'must', 'So', 'In', 'tropical', 'temperate', 'question', 'No', 'one', '?', 'wind', 'Arthur', 'he', 'KING', 'Will', 'join', 'Who', 'maintain', '...', 'kingdom', 'by', 'right', 'wants', 'Uther', 'feathers', 'husk', 'me', 'master', 'you', 'are', 'clop', \"n't\", \"'s\", '.', 'ridden', 'our', 'the', 'these', 'an', 'Pull', '#', 'Not', 'needs', 'velocity', ']', 'You', 'in', 'have', 'with', \"'d\", 'castle', 'every', 'from', 'that', 'ask', 'bangin', 'SOLDIER', 'go', 'my', 'grip', 'strangers', 'does', 'swallows', 'Wait', 'on', 'to', 'Please', 'held', 'climes', 'matter', 'point', 'search', '[', 'line', 'forty-three', 'zone', 'agree', \"'\", 'Court', 'bring', 'minute'}\n"
     ]
    }
   ],
   "source": [
    "# Import necessary modules\n",
    "from nltk.tokenize import word_tokenize\n",
    "from nltk.tokenize import sent_tokenize\n",
    "\n",
    "# Split scene_one into sentences:\n",
    "sentences = sent_tokenize(scene_one)\n",
    "\n",
    "# Use word_tokenize to tokenize the fourth sentence: \n",
    "tokenized_sent = word_tokenize(sentences[3])\n",
    "\n",
    "# Make a set of unique tokens in the entire scene (set elimina cópias):\n",
    "unique_tokens = set(word_tokenize(scene_one))\n",
    "\n",
    "# Print the unique tokens result\n",
    "print(unique_tokens)"
   ]
  },
  {
   "cell_type": "code",
   "execution_count": 6,
   "metadata": {},
   "outputs": [
    {
     "name": "stdout",
     "output_type": "stream",
     "text": [
      "580 588\n",
      "<re.Match object; span=(580, 588), match='coconuts'>\n",
      "<class 're.Match'>\n"
     ]
    }
   ],
   "source": [
    "# Search for the first occurrence of \"coconuts\" in scene_one: \n",
    "match = re.search(\"coconuts\", scene_one)\n",
    "\n",
    "# Print the start and end indexes of match\n",
    "print(match.start(), match.end())\n",
    "print(match)\n",
    "print(type(match))"
   ]
  },
  {
   "cell_type": "code",
   "execution_count": 7,
   "metadata": {},
   "outputs": [
    {
     "name": "stdout",
     "output_type": "stream",
     "text": [
      "<re.Match object; span=(9, 32), match='[wind] [clop clop clop]'>\n"
     ]
    }
   ],
   "source": [
    "# qualquer coisa entre colchetes\n",
    "pattern1 = r\"\\[.*\\]\"\n",
    "# \\ pq colchete é um símbolo de listagem, para ser tratado como caractere \\ antes\n",
    "# .* coringa de vários caracteres\n",
    "\n",
    "# Use re.search to find the first text in square brackets\n",
    "print(re.search(pattern1, scene_one))"
   ]
  },
  {
   "cell_type": "code",
   "execution_count": 8,
   "metadata": {},
   "outputs": [
    {
     "name": "stdout",
     "output_type": "stream",
     "text": [
      "<re.Match object; span=(6, 13), match='[world]'>\n"
     ]
    }
   ],
   "source": [
    "print(re.search(pattern1, \"hello [world]\")) #  span indica a posição do match"
   ]
  },
  {
   "cell_type": "code",
   "execution_count": 9,
   "metadata": {},
   "outputs": [
    {
     "name": "stdout",
     "output_type": "stream",
     "text": [
      "<re.Match object; span=(0, 7), match='ARTHUR:'>\n"
     ]
    }
   ],
   "source": [
    "# Padrão para pegar (letra, numero e espaço) em qualquer quantidade(+) seguida de dois pontos\n",
    "pattern2 = r\"[\\w\\s]+:\" \n",
    "print(re.match(pattern2, sentences[3]))"
   ]
  },
  {
   "attachments": {},
   "cell_type": "markdown",
   "metadata": {},
   "source": [
    "# Operador 'ou' -> '|'"
   ]
  },
  {
   "cell_type": "code",
   "execution_count": null,
   "metadata": {},
   "outputs": [],
   "source": [
    "# parentesis pra definir o grupo, '|' como operador OU"
   ]
  }
 ],
 "metadata": {
  "kernelspec": {
   "display_name": "base",
   "language": "python",
   "name": "python3"
  },
  "language_info": {
   "codemirror_mode": {
    "name": "ipython",
    "version": 3
   },
   "file_extension": ".py",
   "mimetype": "text/x-python",
   "name": "python",
   "nbconvert_exporter": "python",
   "pygments_lexer": "ipython3",
   "version": "3.7.6"
  },
  "orig_nbformat": 4
 },
 "nbformat": 4,
 "nbformat_minor": 2
}
