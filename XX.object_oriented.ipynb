{
 "cells": [
  {
   "cell_type": "markdown",
   "id": "d3a6bdd6",
   "metadata": {},
   "source": [
    "<a href=\"https://app.datacamp.com/learn/courses/object-oriented-programming-in-python\" title=\"Object-Oriented Programming in Python\">Object-Oriented Programming in Python</a>\n",
    "\n",
    "\n",
    "<a href=\"https://onedrive.live.com/\" title=\"Anotações teóricas\">Anotações teóricas</a>\n"
   ]
  },
  {
   "cell_type": "code",
   "execution_count": null,
   "id": "97a7dbdb",
   "metadata": {},
   "outputs": [],
   "source": []
  }
 ],
 "metadata": {
  "kernelspec": {
   "display_name": "Python 3",
   "language": "python",
   "name": "python3"
  },
  "language_info": {
   "codemirror_mode": {
    "name": "ipython",
    "version": 3
   },
   "file_extension": ".py",
   "mimetype": "text/x-python",
   "name": "python",
   "nbconvert_exporter": "python",
   "pygments_lexer": "ipython3",
   "version": "3.8.8"
  }
 },
 "nbformat": 4,
 "nbformat_minor": 5
}
