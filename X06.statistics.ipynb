{
 "cells": [
  {
   "attachments": {},
   "cell_type": "markdown",
   "metadata": {},
   "source": [
    "# Estatística\n",
    "\n",
    "Definição: \n",
    "<p>==campo: prática e estudo de coleta e análise de dados;</p>\n",
    "<p>==estatística resumida: fato ou resumo de um conjunto de dados;</p>\n",
    "\n",
    "## Ramos da estatística\n",
    "<p>Descritiva: descrever e resumir dados</p>\n",
    "<p>Inferencial: usa dados de uma amostra para fazer inferências da população</p>\n",
    "\n",
    "## Tipos de dados\n",
    "<p>Numéricos (quantitativo)</p>\n",
    "<p>Contínuo (medido)</p>\n",
    "<p>Discreto (contado)</p>\n",
    "<p>Categóricos (qualitativo)</p>\n",
    "<p>Ordenável ou não</p>"
   ]
  },
  {
   "attachments": {},
   "cell_type": "markdown",
   "metadata": {},
   "source": [
    "## Medidas Centrais\n",
    "Média, mediana e moda"
   ]
  },
  {
   "cell_type": "code",
   "execution_count": null,
   "metadata": {},
   "outputs": [],
   "source": [
    "import numpy as np\n",
    "\n",
    "np.mean(list) # média\n",
    "np.median(list) # mediana\n",
    "\n",
    "import statistics\n",
    "statistics.mode(list) # moda\n",
    "\n",
    "\n",
    "# filter and fetch centrals:\n",
    "df[df['column1']=='Filter']['variable'].agg([np.mean,np.median])\n",
    "    # usar a mediana: menos sensíveis a outliers; em caso de distribuição distorcida (apresenta cauda) para a direita ou para a esquerda, a mediana representa melhor.\n",
    "\n",
    "\n"
   ]
  },
  {
   "attachments": {},
   "cell_type": "markdown",
   "metadata": {},
   "source": [
    "## Espalhamento"
   ]
  },
  {
   "cell_type": "code",
   "execution_count": null,
   "metadata": {},
   "outputs": [],
   "source": [
    "# VARIÂNCIA\n",
    "dists = df['column'] -  np.mean(df['column']) # broadcast\n",
    "var = np.sum(dists**2)/(len(df['column'])-1)\n",
    "# esse -1 no denominador é usado para retirar um grau de liberdade;\n",
    "\n",
    "# ou:\n",
    "np.var(df['column'], ddof=1) #ddof: delta degree of freedom; em amostra ddof=1; em população ddof=0 (default)."
   ]
  },
  {
   "cell_type": "code",
   "execution_count": null,
   "metadata": {},
   "outputs": [],
   "source": [
    "# DESVIO PADRÃO\n",
    "np.sqrt(var) # raiz quadrada da variância\n",
    "\n",
    "np.std(df['column'], ddof=1)"
   ]
  },
  {
   "cell_type": "code",
   "execution_count": null,
   "metadata": {},
   "outputs": [],
   "source": [
    "# DESVIO ABSOLUTO MÉDIO\n",
    "np.mean(np.abs(dists))# média do módulo das distâncias à média\n",
    "    # diferença do padrão: padrão usa quadrado, que penaliza mais desvios maiores. absoluto penaliza igual."
   ]
  },
  {
   "attachments": {},
   "cell_type": "markdown",
   "metadata": {},
   "source": [
    "## Quantis\n",
    "\n",
    "- Assim como a mediana, divide os dados em partes de mesmo tamanho."
   ]
  },
  {
   "cell_type": "code",
   "execution_count": null,
   "metadata": {},
   "outputs": [],
   "source": [
    "# definindo quantis:\n",
    "np.quantile(df['column'], 0.5) # mediana; retorna o valor que divide\n",
    "np.quantile(df['column'], 0.25) # primeiro quartil\n",
    "np.quantile(df['column'], 0.75) # terceiro quartil\n",
    "np.quantile(df['column'], 0) # mínimo\n",
    "np.quantile(df['column'], 1) # máximo\n"
   ]
  },
  {
   "cell_type": "code",
   "execution_count": 14,
   "metadata": {},
   "outputs": [
    {
     "ename": "NameError",
     "evalue": "name 'df' is not defined",
     "output_type": "error",
     "traceback": [
      "\u001b[1;31m---------------------------------------------------------------------------\u001b[0m",
      "\u001b[1;31mNameError\u001b[0m                                 Traceback (most recent call last)",
      "\u001b[1;32m~\\AppData\\Local\\Temp\\ipykernel_17008\\3869841445.py\u001b[0m in \u001b[0;36m<module>\u001b[1;34m\u001b[0m\n\u001b[0;32m      2\u001b[0m \u001b[1;32mimport\u001b[0m \u001b[0mmatplotlib\u001b[0m\u001b[1;33m.\u001b[0m\u001b[0mpyplot\u001b[0m \u001b[1;32mas\u001b[0m \u001b[0mplt\u001b[0m\u001b[1;33m\u001b[0m\u001b[1;33m\u001b[0m\u001b[0m\n\u001b[0;32m      3\u001b[0m \u001b[1;33m\u001b[0m\u001b[0m\n\u001b[1;32m----> 4\u001b[1;33m \u001b[0mplt\u001b[0m\u001b[1;33m.\u001b[0m\u001b[0mboxplot\u001b[0m\u001b[1;33m(\u001b[0m\u001b[0mdf\u001b[0m\u001b[1;33m[\u001b[0m\u001b[1;34m'column'\u001b[0m\u001b[1;33m]\u001b[0m\u001b[1;33m)\u001b[0m\u001b[1;33m\u001b[0m\u001b[1;33m\u001b[0m\u001b[0m\n\u001b[0m\u001b[0;32m      5\u001b[0m \u001b[0mplt\u001b[0m\u001b[1;33m.\u001b[0m\u001b[0mshow\u001b[0m\u001b[1;33m(\u001b[0m\u001b[1;33m)\u001b[0m\u001b[1;33m\u001b[0m\u001b[1;33m\u001b[0m\u001b[0m\n",
      "\u001b[1;31mNameError\u001b[0m: name 'df' is not defined"
     ]
    }
   ],
   "source": [
    "# boxplot:\n",
    "import matplotlib.pyplot as plt\n",
    "\n",
    "plt.boxplot(df['column'])\n",
    "plt.show()"
   ]
  },
  {
   "cell_type": "code",
   "execution_count": null,
   "metadata": {},
   "outputs": [],
   "source": [
    "# dividir os dados em 5 partes iguais: quintis\n",
    "np.quantile(df['column'], [0,0.2,0.4,0.6,0.8,1])\n",
    "\n",
    "# ou \n",
    "np.quantile(df['column'], np.linspace(0, 1, 5))\n",
    "# np.linspace(start, stop, num) # cria conjunto de pontos na reta real, começando por start e terminando em stop; divididos em num intervalos"
   ]
  },
  {
   "cell_type": "code",
   "execution_count": null,
   "metadata": {},
   "outputs": [],
   "source": [
    "# medida IQR (inter-quartile range): distância entre o primeiro e terceiro quartil:\n",
    "np.quantile(df['column'], 0.75) - np.quantile(df['column'], 0.25) \n",
    "# ou:\n",
    "from scipy.stats import iqr\n",
    "iqr(df['column'])\n"
   ]
  },
  {
   "cell_type": "code",
   "execution_count": null,
   "metadata": {},
   "outputs": [],
   "source": [
    "# Outliers: ponto substancialmente diferente dos demais\n",
    "    # critério: diferença substancial = 1,5xIQR do primeiro ou terceiro quartil.\n",
    "lower_threshold = np.quantile(df['column'], 0.25) - 1.5 * iqr\n",
    "upper_threshold = np.quantile(df['column'], 0.75) + 1.5 * iqr\n",
    "\n",
    "df[(df['column'] < lower_threshold) | (df['column'] > upper_threshold)]"
   ]
  },
  {
   "cell_type": "code",
   "execution_count": null,
   "metadata": {},
   "outputs": [],
   "source": [
    "# todas as estatísticas supracitadas:\n",
    "df['column'].describe()"
   ]
  },
  {
   "attachments": {},
   "cell_type": "markdown",
   "metadata": {},
   "source": [
    "# Probabilidade\n",
    "\n",
    "P(A) = <sup>Number of favorable outcomes</sup> / <sub>Total number of possible outcomes</sub>\n"
   ]
  },
  {
   "cell_type": "code",
   "execution_count": null,
   "metadata": {},
   "outputs": [],
   "source": [
    "\n",
    "# fixar random seed:ponto de partida de gerador de números aleatórios = todos os sorteios \"aleatórios\" darão o mesmo resultado se rodados novamente.\n",
    "np.random.seed(10)\n",
    "\n",
    "# sortear um elemento de dataframe:\n",
    "df.sample()\n",
    "# sortear dois elementos de dataframe (sem reposição):\n",
    "df.sample(2)\n",
    "# sortear dois elementos de dataframe (com reposição):\n",
    "df.sample(2, replace=True) # pode repetir registros; cada sorteio é um evento independente"
   ]
  },
  {
   "attachments": {},
   "cell_type": "markdown",
   "metadata": {},
   "source": [
    "### Distribuição probabilistica\n",
    "- Função que descreve a probabilidade de diferentes eventos em um evento aleatório.\n",
    "- Atribui probabilidade a todos os resultados possíveis."
   ]
  },
  {
   "attachments": {},
   "cell_type": "markdown",
   "metadata": {},
   "source": [
    "#### Distribuição discreta:\n",
    "- a variável é discreta (valor inteiro ou categoria nominal) = contável\n",
    "\n",
    "\n",
    "##### Visualização:\n",
    "- barplot com os resultados no eixo x e a frequência no eixo Y.\n",
    "- A probabilidade será a área da região na distribuição de probabilidade\n",
    "- no rolar de um dado D6 não viciado, serão seis barras de largura 1 e altura 1/6. = DISTRIBUIÇÃO UNIFORME\n",
    "- no rolar de um dado D6 com uma face 3 no lugar da 2, serão quatro barras de altura 1/6, uma de altura 0 (2) e uma de 1/3 (3).\n",
    "\n",
    "##### valor esperado = média da probabilidade de distribuição\n",
    "- Soma(valor * sua probabilidade)\n",
    "- Quanto maior a amostra, mas próximo do valor esperado (média teórica) é a média dos resultados -> \"Lei dos Grandes Números\""
   ]
  },
  {
   "cell_type": "code",
   "execution_count": null,
   "metadata": {},
   "outputs": [],
   "source": [
    "# value_counts() é rei aqui"
   ]
  },
  {
   "attachments": {},
   "cell_type": "markdown",
   "metadata": {},
   "source": [
    "#### Distribuição contínua\n",
    "- Resultados são numéricos mas não contáveis.\n",
    "- Probabilidade continua sendo a área\n",
    "- Não teremos mais a probabilidade de um resultado específico porque ela será zero (Área é zero)\n",
    "- Mas teremos a probabilidade de ser menor, maior que um valor."
   ]
  },
  {
   "cell_type": "markdown",
   "metadata": {},
   "source": [
    "\n",
    "##### distribuição uniforme: linha horizontal na distribuição.\n",
    "- Exemplo: tempo de espera de um ônibus.\n"
   ]
  },
  {
   "cell_type": "code",
   "execution_count": null,
   "metadata": {},
   "outputs": [],
   "source": [
    "from scipy.stats import uniform\n",
    "uniform.cdf(7,0,12) # probabilidade de ser menor que sete, resultados possíveis de 0 a 12.\n",
    "1 - uniform.cdf(7,0,12) # probabilidade de ser maior que sete, resultados possíveis de 0 a 12.\n",
    "uniform.cdf(7,0,12) - uniform.cdf(4,0,12) # probabilidade de ser entre 4 e 7\n",
    "\n",
    "\n",
    "\n",
    "# gerar 10 números aleatórios no range 0,12:\n",
    "samples = uniform.rvs(0,5, size=10)\n",
    "plt.hist(samples)\n",
    "plt.show()\n"
   ]
  },
  {
   "attachments": {},
   "cell_type": "markdown",
   "metadata": {},
   "source": [
    "##### distribuição binomial: \n",
    "- Definição: distribuição de probabilidade que representa o número de sucessos (dois resultados possíveis) de uma ou várias tentativas independentes.\n",
    "- Exemplo: número de caras ao jogar X moedas\n",
    "- Distribuição discreta, contável\n",
    "\n",
    "- Descrita por dois parâmetros: n e p\n",
    "    - n: número de tentativas\n",
    "    - p: probabilidade do sucesso"
   ]
  },
  {
   "cell_type": "code",
   "execution_count": 1,
   "metadata": {},
   "outputs": [
    {
     "data": {
      "text/plain": [
       "array([2, 3, 5], dtype=int64)"
      ]
     },
     "execution_count": 1,
     "metadata": {},
     "output_type": "execute_result"
    }
   ],
   "source": [
    "# SIMULANDO:\n",
    "from scipy.stats import binom\n",
    "\n",
    "# binom.rvs(# of coins, probability of heads/success, size=# of trials)\n",
    "# binom.rvs(# of coins, p, n)\n",
    "\n",
    "binom.rvs(1,0.5,size=1) # jogar uma moeda honesta uma vez\n",
    "\n",
    "binom.rvs(1,0.5,size=8) # uma moeda oito vezes\n",
    "binom.rvs(8,0.5,size=1) # oito moedas uma vez\n",
    "\n",
    "# olhando para o retorno da simulação:\n",
    "binom.rvs(8,0.5,size=3)  # retorna uma lista com cada evento (3), com o somatório de sucesso em cada (0 a 8)\n"
   ]
  },
  {
   "cell_type": "code",
   "execution_count": 2,
   "metadata": {},
   "outputs": [
    {
     "data": {
      "text/plain": [
       "0.11718749999999999"
      ]
     },
     "execution_count": 2,
     "metadata": {},
     "output_type": "execute_result"
    }
   ],
   "source": [
    "# PROBABILIDADE:\n",
    "#P(heads=7) :binom.pmf(#heads,#trials,#prob.heads)\n",
    "binom.pmf(7,10,0.5)"
   ]
  },
  {
   "cell_type": "code",
   "execution_count": 3,
   "metadata": {},
   "outputs": [
    {
     "data": {
      "text/plain": [
       "0.9453125"
      ]
     },
     "execution_count": 3,
     "metadata": {},
     "output_type": "execute_result"
    }
   ],
   "source": [
    "#P(heads<=7):\n",
    "binom.cdf(7,10,0.5)"
   ]
  },
  {
   "cell_type": "code",
   "execution_count": 4,
   "metadata": {},
   "outputs": [
    {
     "data": {
      "text/plain": [
       "0.0546875"
      ]
     },
     "execution_count": 4,
     "metadata": {},
     "output_type": "execute_result"
    }
   ],
   "source": [
    "#P(heads>7) \n",
    "1-binom.cdf(7,10,0.5)"
   ]
  },
  {
   "cell_type": "code",
   "execution_count": null,
   "metadata": {},
   "outputs": [],
   "source": [
    "# valor esperado: soma(n*p) = 10 * 0,5 = 5"
   ]
  },
  {
   "attachments": {},
   "cell_type": "markdown",
   "metadata": {},
   "source": [
    "##### Distribuição normal\n",
    "- Forma de sino;\n",
    "- Propriedades:\n",
    "    - Simétrica;\n",
    "    - Área = 1 (como todas as distribuições contínuas);\n",
    "    - Probabilidade nunca atinge 0.\n",
    "- Descrita pela sua média e desvio padrão.\n",
    "    - Se média = 0 e std = 1 -> Distribuição normal padrão.\n",
    "- Áreas centrais:\n",
    "    - limites: (média - um desvio, média + um desvio) = 68%\n",
    "    - dois desvios = 95%\n",
    "    - três desvios = 99,7%\n",
    "- Vários dados da vida real apresental shape normal."
   ]
  },
  {
   "cell_type": "code",
   "execution_count": null,
   "metadata": {},
   "outputs": [],
   "source": [
    "from scipy.stats import norm\n",
    "norm.cdf(154,161,7) # atributos: ponto (valor no eixo x), média, desvio // dfc indica probabilidade menor que o ponto (área até o ponto, saíndo da esquerda)"
   ]
  },
  {
   "cell_type": "code",
   "execution_count": null,
   "metadata": {},
   "outputs": [],
   "source": [
    "# passando a área e procurando o ponto:\n",
    "norm.ppf(0.9,161,7) # área até o ponto, média, desvio.\n",
    "norm.ppf((1-0.9),161,7) # um menos área até o ponto = área depois do ponto "
   ]
  },
  {
   "cell_type": "code",
   "execution_count": null,
   "metadata": {},
   "outputs": [],
   "source": [
    "# gerando 10 amostras da distribuição:\n",
    "norm.rvs(161,7, size =10) # média, desvio e número de amostras"
   ]
  },
  {
   "attachments": {},
   "cell_type": "markdown",
   "metadata": {},
   "source": [
    "### Teorema do limite central (CLT)\n",
    "\n",
    "- A distribuição amostral se aproxima da normal conforme o número de tentativas aumenta.\n",
    "- Se as amostras são randomicas e independentes.\n",
    "- Vale pra média, desvio padrão e outras estatísticas "
   ]
  },
  {
   "cell_type": "code",
   "execution_count": 8,
   "metadata": {},
   "outputs": [
    {
     "name": "stdout",
     "output_type": "stream",
     "text": [
      "2    3\n",
      "3    4\n",
      "0    1\n",
      "3    4\n",
      "1    2\n",
      "dtype: int64\n"
     ]
    },
    {
     "data": {
      "text/plain": [
       "2.8"
      ]
     },
     "execution_count": 8,
     "metadata": {},
     "output_type": "execute_result"
    }
   ],
   "source": [
    "# simulando lance de dados:\n",
    "import pandas as pd\n",
    "import numpy as np\n",
    "\n",
    "die = pd.Series([1,2,3,4,5,6])\n",
    "# rolling 5 times:\n",
    "sampl_5 = die.sample(5, replace=True)\n",
    "print(sampl_5)\n",
    "\n",
    "np.mean(sampl_5) # a cada novo sorteio, terá um valor diferente de média."
   ]
  },
  {
   "cell_type": "code",
   "execution_count": 20,
   "metadata": {},
   "outputs": [
    {
     "data": {
      "image/png": "[encoded data removed]",
      "text/plain": [
       "<Figure size 640x480 with 1 Axes>"
      ]
     },
     "metadata": {},
     "output_type": "display_data"
    }
   ],
   "source": [
    "# jogando 5 dados e tirar a média -> 10 vezes -> tirar a média\n",
    "sample_means = []\n",
    "for i in range(10): # vá aumentando esse número acrescentando zeros\n",
    "    sampl_5 = die.sample(5, replace=True)\n",
    "    sample_means.append(np.mean(sampl_5)) # média das médias\n",
    "\n",
    "\n",
    "plt.hist(sample_means) # a forma se aproxima da distribuição normal\n",
    "plt.show()"
   ]
  },
  {
   "cell_type": "code",
   "execution_count": 24,
   "metadata": {},
   "outputs": [
    {
     "data": {
      "image/png": "[encoded data removed]",
      "text/plain": [
       "<Figure size 640x480 with 1 Axes>"
      ]
     },
     "metadata": {},
     "output_type": "display_data"
    }
   ],
   "source": [
    "# jogando 5 dados e tirar a média -> 10 vezes -> tirar o desvio\n",
    "sample_sds = []\n",
    "for i in range(10000): # vá aumentando esse número acrescentando zeros\n",
    "    sample_sds.append(np.std(die.sample(5, replace=True))) # média das médias\n",
    "\n",
    "\n",
    "plt.hist(sample_sds) # a forma se aproxima da distribuição normal com centro em 1.9\n",
    "plt.show()"
   ]
  },
  {
   "attachments": {},
   "cell_type": "markdown",
   "metadata": {},
   "source": [
    "##### Proporções e o teorema"
   ]
  },
  {
   "cell_type": "code",
   "execution_count": 43,
   "metadata": {},
   "outputs": [
    {
     "data": {
      "image/png": "[encoded data removed]",
      "text/plain": [
       "<Figure size 640x480 with 1 Axes>"
      ]
     },
     "metadata": {},
     "output_type": "display_data"
    }
   ],
   "source": [
    "# amostra de equipe de vendas:\n",
    "sales_team = pd.Series(['Lucas', 'Thiago', 'Luiz', 'Mariana'])\n",
    "\n",
    "# calculando a média das ocorrências de 'Lucas' numa amostra de tamanho 10, tirada n vezes\n",
    "sample_count = []\n",
    "for i in range(10000): # vá aumentando esse número acrescentando zeros\n",
    "    sample_count.append((sales_team.sample(10, replace=True) == 'Lucas').mean()) \n",
    "\n",
    "plt.hist(sample_count) # a forma se aproxima do valor esperado de 0,25\n",
    "plt.show()\n",
    "\n",
    "# ao se ter dificuldade de determinar métricas da população, pode-se usar o teorema do limite central"
   ]
  },
  {
   "attachments": {},
   "cell_type": "markdown",
   "metadata": {},
   "source": [
    "## Distribuição de Poisson\n",
    "\n",
    "- Antes:\n",
    "\n",
    "### Processo de Poisson\n",
    "\n",
    "    - eventos que acontecem a uma taxa fixa, mas completamente ao acaso.\n",
    "    - probabilidade de um número de eventos de ocorrer em um período\n",
    "        - Exemplo: número de animais adotados por semana é oito (lambda=8), porém dentro da semana as adoções podem acontecer variadamente\n",
    "            - Número de terremotos no Japão, número de pessoas em restaurante por hora.\n",
    "    - A unidade do tempo não importa, desde que seja mantida a mesma para as probabilidades.\n",
    "\n",
    "- lambda: representa o número médio de eventos por período de tempo. Altera a distribuição, mas o pico é sempre no lambda.\n",
    "- Não é contínua.\n"
   ]
  },
  {
   "cell_type": "code",
   "execution_count": 45,
   "metadata": {},
   "outputs": [
    {
     "data": {
      "text/plain": [
       "0.09160366159257921"
      ]
     },
     "execution_count": 45,
     "metadata": {},
     "output_type": "execute_result"
    }
   ],
   "source": [
    "from scipy.stats import poisson\n",
    "\n",
    "# Probabilidade de uma semana com cinco, com lambda oito: P(#adoptions in a week = 5)\n",
    "poisson.pmf(5,8) "
   ]
  },
  {
   "cell_type": "code",
   "execution_count": 50,
   "metadata": {},
   "outputs": [
    {
     "data": {
      "image/png": "[encoded data removed]",
      "text/plain": [
       "<Figure size 640x480 with 1 Axes>"
      ]
     },
     "metadata": {},
     "output_type": "display_data"
    }
   ],
   "source": [
    "# P(#adoptions in a week <= 5)\n",
    "poisson.cdf(5,8) \n",
    "# P(#adoptions in a week > 5)\n",
    "1-poisson.cdf(5,8) \n",
    "# lambda=10 P(#adoptions in a week > 5)\n",
    "1-poisson.cdf(5,10) \n",
    "\n",
    "# amostras de pontos da distribuição de poission:\n",
    "poisson.rvs(8,size=10) # lambda=8, 10 amostras\n",
    "\n",
    "# CLT aplies:\n",
    "plt.hist(poisson.rvs(8,size=10000))\n",
    "plt.show()"
   ]
  },
  {
   "attachments": {},
   "cell_type": "markdown",
   "metadata": {},
   "source": [
    "# Outras distribuições"
   ]
  },
  {
   "attachments": {},
   "cell_type": "markdown",
   "metadata": {},
   "source": [
    "# Exponencial\n",
    "- probabilidade de tempo entre dois eventos Poisson.\n",
    "- Exemplos:\n",
    "    - Probabilidade de > 1 dia entre dois eventos\n",
    "- Também usa lambda (rate)\n",
    "- É contínua, diferente da Poisson.\n"
   ]
  },
  {
   "cell_type": "code",
   "execution_count": 52,
   "metadata": {},
   "outputs": [
    {
     "data": {
      "text/plain": [
       "0.0024787521766663767"
      ]
     },
     "execution_count": 52,
     "metadata": {},
     "output_type": "execute_result"
    }
   ],
   "source": [
    "# exemplo: um ticket emitido a cada dois minutos: lambda=0.5 tickets por minuto:\n",
    "    # em termos de tempo (exponencial): 1/lambda = 1/2; média de 2 minutos pra um pedido\n",
    "from scipy.stats import expon\n",
    "\n",
    "# P(wait<1 min); lambda=0.5\n",
    "expon.cdf(1, scale=0.5)\n",
    "\n",
    "# P(wait>3 min); lambda=0.5\n",
    "1 - expon.cdf(3, scale=0.5)\n",
    "\n",
    "# P(1 min < wait < 3 min); lambda=0.5\n",
    "expon.cdf(3, scale=0.5) - expon.cdf(1, scale=0.5)"
   ]
  },
  {
   "attachments": {},
   "cell_type": "markdown",
   "metadata": {},
   "source": [
    "# (Student's) t-distribuição\n",
    "- semelhante à normal, mas não igual -> é mais abatida, tem mais probablidade de distanciar da média.\n",
    "- descrita também por seus graus de liberdade; quanto mais alto, menor o desvio padrão e mais próxima da normal"
   ]
  },
  {
   "attachments": {},
   "cell_type": "markdown",
   "metadata": {},
   "source": [
    "# log-normal\n",
    "- log(x) com x sendo distribuição normal\n",
    "- assimétrica\n",
    "- exemplos: pressão arterial em adultos, duração de um jogo de xadrez, hospitalizações em surto de SARS em 2003"
   ]
  },
  {
   "attachments": {},
   "cell_type": "markdown",
   "metadata": {},
   "source": [
    "# Correlação\n",
    "\n",
    "- Relação entre variáveis: quando existe, denominamos uma variavel independente/esplanatória e a outra dependente/de resposta\n",
    "- Correlação não implica causalidade;\n",
    "\n",
    "## Coeficiente de correlação.\n",
    "- Varia entre -1 e 1;\n",
    "- Seu módulo indica força da correlação;\n",
    "- Sinal indica a direção da relação (direta ou inversa);\n",
    "\n"
   ]
  },
  {
   "attachments": {},
   "cell_type": "markdown",
   "metadata": {},
   "source": [
    "##### Correlação Linear"
   ]
  },
  {
   "cell_type": "code",
   "execution_count": null,
   "metadata": {},
   "outputs": [],
   "source": [
    "# visualização \n",
    "import seaborn as sns\n",
    "sns.scatterplot(x=\"column1\", y=\"column2\", data=df)\n",
    "plt.show()"
   ]
  },
  {
   "cell_type": "code",
   "execution_count": null,
   "metadata": {},
   "outputs": [],
   "source": [
    "# scatter com linha de tendência\n",
    "sns.lmplot(x=\"column1\", y=\"column2\", data=df,ci=None) # ci=None: sem margwem de intervalo de confiança ao redor da linha\n",
    "plt.show()"
   ]
  },
  {
   "cell_type": "code",
   "execution_count": null,
   "metadata": {},
   "outputs": [],
   "source": [
    "# calculando correlação: pelo método \"r\" ou \"Pearson de correlação produto-momento (Pearson product-moment correlation)\"\n",
    "df[\"column1\"].corr(df[\"column2\"])"
   ]
  },
  {
   "attachments": {},
   "cell_type": "markdown",
   "metadata": {},
   "source": [
    "### Fórmula de r\n",
    "\n",
    "$r = \\frac{n\\sum\\limits_{i=1}^{n}(x_i - \\bar{x})(y_i - \\bar{y})}{\\sqrt{n\\sum\\limits_{i=1}^{n}(x_i - \\bar{x})^2}\\sqrt{n\\sum\\limits_{i=1}^{n}(y_i - \\bar{y})^2}}$\n",
    "\n",
    "\n",
    "- no numerador, a distância de um ponto da média em x vezes mesma coisa em y;\n",
    "- no denominador: desvio padrão de x vezes o de y"
   ]
  },
  {
   "attachments": {},
   "cell_type": "markdown",
   "metadata": {},
   "source": [
    "##### Correlação não - Linear\n",
    "\n",
    "- Assim como a regressão linear, a correlação exige uma relação linear. \n",
    "- Quando a relação não é linear, pode haver uma relação a uma transformada de uma ou ambas variáveis"
   ]
  },
  {
   "cell_type": "code",
   "execution_count": null,
   "metadata": {},
   "outputs": [],
   "source": [
    "# log transformation:\n",
    "np.log(df[\"column1\"]) # pode haver essa correlação \n",
    "\n",
    "# Quadrática:\n",
    "sqrt(df[\"column1\"])\n",
    "\n",
    "# transformação reciproca:\n",
    "1 / df[\"column1\"]"
   ]
  },
  {
   "attachments": {},
   "cell_type": "markdown",
   "metadata": {},
   "source": [
    "# Design de experimetno\n",
    "\n",
    "- Busca responder: qual o efeito do tratamento na resposta?\n",
    "- Tratamento: variável independente;\n",
    "- Resposta: variável dependente.\n",
    "- Exemplo: Qual o efeito de propaganda no número de vendas?\n",
    "\n",
    "- Experimento controlado: participantes divididos em dois grupos: grupo de tratamento e grupo de controle (não recebe o tratamento);\n",
    "- Os grupos devem ser comparáveis, e por essa comparação podemos obter viés/bias e confusões (aquelas variáveis intermediárias que causam correlações expúrias)\n",
    "    - Exemplo: idade média dos grupos (se forem diferentes, podem causar viés na comparação no caso do exemplo supracitado)\n",
    "\n",
    "- Gold standard dos experimentos: técnica para reduzir viés\n",
    "    - Estudo controlado randomizado (sorteio da divisão em grupos);\n",
    "    - Placebo: faz acreditar que o grupo de controle está recebendo tratamento;\n",
    "    - Experimento duplo-cego: o administrador do tratamento não sabe se o sujeito é do grupo de controle ou de tratamento (previne viés na resposta e análise);"
   ]
  },
  {
   "attachments": {},
   "cell_type": "markdown",
   "metadata": {},
   "source": [
    "### Estudo observacional\n",
    "\n",
    "- Participanetos não são associados a grupos, mas associam-se eles mesmos baseados em características pré-existentes;\n",
    "    - Ajuda a responder perguntas que nã conduzem a um experimento controlado;\n",
    "    - Exemplo: não se pode forçar alguema fumar para testar efeito de algo em fumantes e não fumantes.\n",
    "    - Por não ter como garantir que os grupos serão comparáveis em todos os aspectos, este estudo sõ pode afirmar associações e não causalidades.\n",
    "    - Efeitos podem ser confundidos com fatores que selecionaram o indivíduo ao grupo que pertence."
   ]
  },
  {
   "attachments": {},
   "cell_type": "markdown",
   "metadata": {},
   "source": [
    "#### Estudo longitudinal vs. Cross-sectional\n",
    "\n",
    "- Longitudinal: participantes são seguidos por um tempo para examinar o efeito do tratamento na resposta.\n",
    "\n",
    "- Transversal: dados dos participantes são coletados no mesmo instante;\n",
    "- Mais sensível a confusões"
   ]
  }
 ],
 "metadata": {
  "kernelspec": {
   "display_name": "base",
   "language": "python",
   "name": "python3"
  },
  "language_info": {
   "codemirror_mode": {
    "name": "ipython",
    "version": 3
   },
   "file_extension": ".py",
   "mimetype": "text/x-python",
   "name": "python",
   "nbconvert_exporter": "python",
   "pygments_lexer": "ipython3",
   "version": "3.9.13"
  },
  "orig_nbformat": 4
 },
 "nbformat": 4,
 "nbformat_minor": 2
}
