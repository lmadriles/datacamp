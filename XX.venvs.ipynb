{
 "cells": [
  {
   "attachments": {},
   "cell_type": "markdown",
   "metadata": {},
   "source": [
    "https://www.datacamp.com/tutorial/virtual-environment-in-python"
   ]
  },
  {
   "attachments": {},
   "cell_type": "markdown",
   "metadata": {},
   "source": [
    "# Pipenv\n",
    "\n",
    "- Criamos um pipfile (substituto do requirements.txt);\n",
    "- Esse tutorial usará o git bash no windows.\n"
   ]
  },
  {
   "cell_type": "code",
   "execution_count": 1,
   "metadata": {},
   "outputs": [
    {
     "name": "stdout",
     "output_type": "stream",
     "text": [
      "Collecting pipenv\n",
      "  Downloading pipenv-2022.12.19-py3-none-any.whl (2.9 MB)\n",
      "     ---------------------------------------- 2.9/2.9 MB 773.4 kB/s eta 0:00:00\n",
      "Requirement already satisfied: setuptools>=36.2.1 in c:\\users\\lmadr\\anaconda3\\envs\\testenv\\lib\\site-packages (from pipenv) (61.2.0)\n",
      "Collecting virtualenv-clone>=0.2.5\n",
      "  Downloading virtualenv_clone-0.5.7-py3-none-any.whl (6.6 kB)\n",
      "Requirement already satisfied: certifi in c:\\users\\lmadr\\anaconda3\\envs\\testenv\\lib\\site-packages (from pipenv) (2021.10.8)\n",
      "Collecting virtualenv\n",
      "  Downloading virtualenv-20.17.1-py3-none-any.whl (8.8 MB)\n",
      "     ---------------------------------------- 8.8/8.8 MB 1.1 MB/s eta 0:00:00\n",
      "Collecting platformdirs<3,>=2.4\n",
      "  Downloading platformdirs-2.6.2-py3-none-any.whl (14 kB)\n",
      "Collecting distlib<1,>=0.3.6\n",
      "  Downloading distlib-0.3.6-py2.py3-none-any.whl (468 kB)\n",
      "     -------------------------------------- 468.5/468.5 kB 1.2 MB/s eta 0:00:00\n",
      "Collecting filelock<4,>=3.4.1\n",
      "  Downloading filelock-3.9.0-py3-none-any.whl (9.7 kB)\n",
      "Installing collected packages: distlib, virtualenv-clone, platformdirs, filelock, virtualenv, pipenv\n",
      "Successfully installed distlib-0.3.6 filelock-3.9.0 pipenv-2022.12.19 platformdirs-2.6.2 virtualenv-20.17.1 virtualenv-clone-0.5.7\n",
      "\n",
      "[notice] A new release of pip available: 22.1.2 -> 22.3.1\n",
      "[notice] To update, run: python.exe -m pip install --upgrade pip\n"
     ]
    }
   ],
   "source": [
    "!pip install pipenv"
   ]
  },
  {
   "cell_type": "code",
   "execution_count": null,
   "metadata": {},
   "outputs": [],
   "source": [
    "!pipenv shell # cria o ambiente virtual"
   ]
  },
  {
   "cell_type": "code",
   "execution_count": null,
   "metadata": {},
   "outputs": [],
   "source": [
    "pipenv install requests # instala o pacote\n",
    "pipenv uninstall flask"
   ]
  },
  {
   "cell_type": "code",
   "execution_count": null,
   "metadata": {},
   "outputs": [],
   "source": [
    "exit # sai do ambiente virtual"
   ]
  },
  {
   "attachments": {},
   "cell_type": "markdown",
   "metadata": {},
   "source": [
    "https://towardsdatascience.com/a-data-scientists-guide-to-python-virtual-environments-858841922f14#:~:text=Venv,extra%20to%20use%20this%20tool.\n",
    "\n",
    "Read this latter.\n"
   ]
  },
  {
   "cell_type": "code",
   "execution_count": null,
   "metadata": {},
   "outputs": [],
   "source": []
  }
 ],
 "metadata": {
  "kernelspec": {
   "display_name": "testenv",
   "language": "python",
   "name": "python3"
  },
  "language_info": {
   "codemirror_mode": {
    "name": "ipython",
    "version": 3
   },
   "file_extension": ".py",
   "mimetype": "text/x-python",
   "name": "python",
   "nbconvert_exporter": "python",
   "pygments_lexer": "ipython3",
   "version": "3.9.12"
  },
  "orig_nbformat": 4,
  "vscode": {
   "interpreter": {
    "hash": "2353c9791115e7195597972a25a0e1aef2de38aef3a4d8d253c7755a1bad3fb3"
   }
  }
 },
 "nbformat": 4,
 "nbformat_minor": 2
}
