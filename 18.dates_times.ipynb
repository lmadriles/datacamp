{
 "cells": [
  {
   "cell_type": "markdown",
   "metadata": {},
   "source": [
    "# Datas e Horários"
   ]
  },
  {
   "cell_type": "markdown",
   "metadata": {},
   "source": [
    "## Datas"
   ]
  },
  {
   "cell_type": "markdown",
   "metadata": {},
   "source": [
    "- objeto python date:"
   ]
  },
  {
   "cell_type": "code",
   "execution_count": 18,
   "metadata": {},
   "outputs": [],
   "source": [
    "from datetime import date, datetime, timedelta, timezone"
   ]
  },
  {
   "cell_type": "code",
   "execution_count": 11,
   "metadata": {},
   "outputs": [
    {
     "name": "stdout",
     "output_type": "stream",
     "text": [
      "2012-06-21\n",
      "2012\n",
      "6\n",
      "21\n",
      "3\n"
     ]
    }
   ],
   "source": [
    "# criando objeto python date:\n",
    "a_day = date(2012,6,21) # input: YYYY,mm,dd\n",
    "print(a_day) # formato ISO 8601: YYYY-mm-dd com 0 a esquerda quando necessário\n",
    "\n",
    "# atributos:\n",
    "print(a_day.year)\n",
    "print(a_day.month)\n",
    "print(a_day.day)\n",
    "\n",
    "# métodos:\n",
    "print(a_day.weekday()) # 0 = segunda; 1 = terça;...; 6 = domingo. Código terrível"
   ]
  },
  {
   "cell_type": "code",
   "execution_count": 7,
   "metadata": {},
   "outputs": [
    {
     "name": "stdout",
     "output_type": "stream",
     "text": [
      "-365\n"
     ]
    }
   ],
   "source": [
    "# operações com datas:\n",
    "delta = date(2017,6,21) - date(2016,6,21)\n",
    "print(-delta.days)"
   ]
  },
  {
   "cell_type": "code",
   "execution_count": 6,
   "metadata": {},
   "outputs": [
    {
     "name": "stdout",
     "output_type": "stream",
     "text": [
      "2017-06-21\n"
     ]
    }
   ],
   "source": [
    "# Criando o delta:\n",
    "from datetime import timedelta\n",
    "td = timedelta(days=365)\n",
    "\n",
    "print(date(2016,6,21) + td)"
   ]
  },
  {
   "cell_type": "code",
   "execution_count": 21,
   "metadata": {},
   "outputs": [
    {
     "name": "stdout",
     "output_type": "stream",
     "text": [
      "<class 'datetime.date'>\n",
      "2012-06-21\n",
      "\n",
      "<class 'str'>\n",
      "2012-06-21\n"
     ]
    }
   ],
   "source": [
    "# convert to string:\n",
    "a_day = date(2012,6,21) \n",
    "print(type(a_day))\n",
    "print(a_day)\n",
    "print()\n",
    "print(type(a_day.isoformat()))\n",
    "print(a_day.isoformat())\n",
    "\n",
    "# apenas no formato iso, strings podem ser ordenadas em ordem cronológica (através da \"alfabética\")"
   ]
  },
  {
   "cell_type": "code",
   "execution_count": 25,
   "metadata": {},
   "outputs": [
    {
     "name": "stdout",
     "output_type": "stream",
     "text": [
      "<class 'str'>\n",
      "2012\n",
      "\n",
      "21/06/2012\n",
      "2012-06-21\n",
      "O ano é 2012, repetindo: 2012\n"
     ]
    }
   ],
   "source": [
    "# selecionando o dado e o formato de data:\n",
    "print(type(a_day.strftime('%Y'))) # string \n",
    "print(a_day.strftime('%Y')) # ano da data armazenada na variável\n",
    "print()\n",
    "print(a_day.strftime(\"%d/%m/%Y\"))    # o '%' marca que o próximo caractere é um chamado de informação\n",
    "print(a_day.strftime(\"%Y-%m-%d\")) \n",
    "print(a_day.strftime('O ano é %Y, repetindo: %Y')) # string de formato são flexiveis\n"
   ]
  },
  {
   "cell_type": "code",
   "execution_count": 23,
   "metadata": {},
   "outputs": [],
   "source": [
    "# outras strings de formato:\n",
    "format_strings = {'year': '%Y',\n",
    "                  'month': '%m',\n",
    "                  'day': '%d',\n",
    "                  'full name month': '%B',\n",
    "                  'day of the year': '%j'}"
   ]
  },
  {
   "cell_type": "markdown",
   "metadata": {},
   "source": [
    "## Horas"
   ]
  },
  {
   "cell_type": "code",
   "execution_count": 4,
   "metadata": {},
   "outputs": [],
   "source": [
    "from datetime import datetime"
   ]
  },
  {
   "cell_type": "code",
   "execution_count": 34,
   "metadata": {},
   "outputs": [
    {
     "name": "stdout",
     "output_type": "stream",
     "text": [
      "2017-10-01 15:23:25.500000\n",
      "2017-10-01T15:23:25.500000\n",
      "None\n"
     ]
    },
    {
     "data": {
      "text/plain": [
       "datetime.datetime(2017, 10, 1, 15, 23, 25, 500000)"
      ]
     },
     "execution_count": 34,
     "metadata": {},
     "output_type": "execute_result"
    }
   ],
   "source": [
    "dt = datetime(2017,10,1,15,23,25) # input: YYYY,mm,dd, hh (formato 24h), mm, ss\n",
    "    # precisam ser inteiros. \n",
    "dt = datetime(2017,10,1,15,23,25,500000)\n",
    "print(dt)\n",
    "print(print(dt.isoformat()))\n",
    "\n",
    "    # Se quiser fracionar segundo na metade, tem que informar microssegundos (10^-6 segundo)\n",
    "    # Se precisar fracionar mais, pode-se incluir nanossegundos (mais a frente)\n",
    "\n",
    "# usando inputs mais explicitos:\n",
    "datetime(year=2017,month=10,day=1,hour=15,minute=23,second=25,microsecond=500000)"
   ]
  },
  {
   "cell_type": "code",
   "execution_count": 32,
   "metadata": {},
   "outputs": [
    {
     "name": "stdout",
     "output_type": "stream",
     "text": [
      "2017-10-01 00:00:00\n"
     ]
    }
   ],
   "source": [
    "# editando um datetime: replace method\n",
    "dt_edited = dt.replace(hour=0,minute=0,second=0,microsecond=0)\n",
    "print(dt_edited)"
   ]
  },
  {
   "cell_type": "code",
   "execution_count": 36,
   "metadata": {},
   "outputs": [
    {
     "name": "stdout",
     "output_type": "stream",
     "text": [
      "2017-10-01\n",
      "2017-10-01 15:23:25\n"
     ]
    }
   ],
   "source": [
    "# datetime para string:\n",
    "print(dt.strftime(\"%Y-%m-%d\")) # get the date\n",
    "print(dt.strftime(\"%Y-%m-%d %H:%M:%S\")) \n"
   ]
  },
  {
   "cell_type": "code",
   "execution_count": null,
   "metadata": {},
   "outputs": [],
   "source": [
    "# updated strings de formato:\n",
    "format_strings = {'year': '%Y',\n",
    "                  'month': '%m',\n",
    "                  'day': '%d',\n",
    "                  'full name month': '%B',\n",
    "                  'day of the year': '%j',\n",
    "\n",
    "                  'hour': '%H',\n",
    "                  'minute': '%M',\n",
    "                  'second': '%S'\n",
    "                  }"
   ]
  },
  {
   "cell_type": "code",
   "execution_count": 37,
   "metadata": {},
   "outputs": [
    {
     "name": "stdout",
     "output_type": "stream",
     "text": [
      "<class 'datetime.datetime'>\n",
      "2017-12-30 15:19:13\n"
     ]
    }
   ],
   "source": [
    "# parsing (análise): recebe string, converte pra datetime (inverso do método .strftime())\n",
    "dt = datetime.strptime(\"12/30/2017 15:19:13\", \"%m/%d/%Y %H:%M:%S\")  \n",
    "    # string parse time: é um 'P' e nao um 'F' como no método anterior strftime\n",
    "    # forneça a string e depois a formatação dela. Incompatibilidade entre os dois gerará ValueError\n",
    "print(type(dt))\n",
    "print(dt)"
   ]
  },
  {
   "cell_type": "code",
   "execution_count": 38,
   "metadata": {},
   "outputs": [
    {
     "name": "stdout",
     "output_type": "stream",
     "text": [
      "2017-12-30 17:19:13\n"
     ]
    }
   ],
   "source": [
    "# formato de hora: Unix timestamp -> número de segundos desde 1o de janeiro de 1970, zero hora\n",
    "ts = 1514665153.0\n",
    "# converter pra datetime:\n",
    "print(datetime.fromtimestamp(ts))"
   ]
  },
  {
   "cell_type": "markdown",
   "metadata": {},
   "source": [
    "# Duração"
   ]
  },
  {
   "cell_type": "code",
   "execution_count": 5,
   "metadata": {},
   "outputs": [
    {
     "name": "stdout",
     "output_type": "stream",
     "text": [
      "0:24:10\n",
      "1450.0\n"
     ]
    },
    {
     "data": {
      "text/plain": [
       "datetime.timedelta(seconds=1450)"
      ]
     },
     "metadata": {},
     "output_type": "display_data"
    },
    {
     "name": "stdout",
     "output_type": "stream",
     "text": [
      "<class 'datetime.timedelta'>\n"
     ]
    }
   ],
   "source": [
    "# Create example datetimes\n",
    "start = datetime(2017, 10, 8, 23, 46, 47)\n",
    "end = datetime(2017, 10, 9, 0, 10, 57)\n",
    "# Subtract datetimes to create a timedelta object\n",
    "duration = end - start\n",
    "print(duration) # print the object\n",
    "print(duration.total_seconds()) # method to return timedelta in seconds (integer)\n",
    "display(duration) # display the object \n",
    "print(type(duration)) # object type"
   ]
  },
  {
   "cell_type": "code",
   "execution_count": 17,
   "metadata": {},
   "outputs": [
    {
     "name": "stdout",
     "output_type": "stream",
     "text": [
      "1 day, 0:00:01\n",
      "\n",
      "2017-10-08 23:46:47\n",
      "2017-10-09 23:46:48\n",
      "2017-10-07 23:46:46\n",
      "\n",
      "-7 days, 0:00:00\n"
     ]
    }
   ],
   "source": [
    "# create timedelta by hand:\n",
    "delta = timedelta(seconds=1, days=1)\n",
    "print(delta)\n",
    "print()\n",
    "# adding timedelta to a date:\n",
    "print(start)\n",
    "print(start + delta)\n",
    "print(start - delta) # subtract\n",
    "print()\n",
    "# timedelta can be negative:\n",
    "delta2 = timedelta(weeks=-1)\n",
    "print(delta2)"
   ]
  },
  {
   "cell_type": "markdown",
   "metadata": {},
   "source": [
    "### UTC\n",
    "- Até então usamos timestamps 'naive', que não leva em consideração a geolocalização (fuso / timezone).\n",
    "- Podemos ter datetime 'aware', que leva a informação da timezone\n",
    "- O padrão para isso é o UTC (padrão ingles)\n",
    "- à direita (leste) os horários são adiantados em relação ao Reino Unido (UTC+X)\n",
    "- à esquerda (oeste) os horários são atrasados em relação ao Reino Unido (UTC-X)\n"
   ]
  },
  {
   "cell_type": "code",
   "execution_count": 19,
   "metadata": {},
   "outputs": [],
   "source": [
    "from datetime import timezone"
   ]
  },
  {
   "cell_type": "code",
   "execution_count": 26,
   "metadata": {},
   "outputs": [
    {
     "name": "stdout",
     "output_type": "stream",
     "text": [
      "2017-12-30 15:09:03-05:00\n",
      "2017-12-31 01:39:03+05:30\n"
     ]
    }
   ],
   "source": [
    "# timezone object\n",
    "ET = timezone(timedelta(hours=-5)) # estern timezone (UTC-5), um de EUA\n",
    "\n",
    "# create datetime UTC-3:\n",
    "dt = datetime(2017, 12, 30, 15, 9, 3, tzinfo=ET)\n",
    "print(dt) # datetime agoa inclui a última info, chamada de UTC offset (deslocamento UTC)"
   ]
  },
  {
   "cell_type": "code",
   "execution_count": 33,
   "metadata": {},
   "outputs": [
    {
     "name": "stdout",
     "output_type": "stream",
     "text": [
      "2017-12-30 15:09:03-05:00\n",
      "2017-12-31 01:39:03+05:30\n",
      "2017-12-30 15:09:03-05:00\n",
      "\n",
      "2017-12-30 15:09:03-05:00\n",
      "2017-12-30 15:09:03+05:30\n",
      "2017-12-30 15:09:03-05:00\n",
      "\n",
      "2017-12-30 20:09:03+00:00\n"
     ]
    }
   ],
   "source": [
    "# ajustar o mesmo momento para horário em outra timezone: \"trocar o fuso\"\n",
    "IST = timezone(timedelta(hours=5, minutes=30)) # fuso da Índia\n",
    "\n",
    "print(dt)\n",
    "print(dt.astimezone(IST)) # Que horas são na Índia neste momento?\n",
    "print(dt)\n",
    "print()\n",
    "\n",
    "# ajustar != trocar a timezone\n",
    "\n",
    "# Trocar a timezone -> mantém o relógio e troca o fuso (e o momento)\n",
    "print(dt)\n",
    "print(dt.replace(tzinfo=IST))\n",
    "print(dt)\n",
    "print()\n",
    "\n",
    "# Trocar o momento e a zona:\n",
    "print(dt.astimezone(timezone.utc)) # timezone.utc é o UTC"
   ]
  },
  {
   "cell_type": "markdown",
   "metadata": {},
   "source": [
    "##### Database de Fusos"
   ]
  },
  {
   "cell_type": "code",
   "execution_count": 34,
   "metadata": {},
   "outputs": [],
   "source": [
    "from dateutil import tz # base de dados "
   ]
  },
  {
   "cell_type": "code",
   "execution_count": 37,
   "metadata": {},
   "outputs": [
    {
     "name": "stdout",
     "output_type": "stream",
     "text": [
      "tzfile('US/Eastern')\n",
      "2017-12-30 15:09:03-05:00\n",
      "2017-10-01 15:23:25-04:00\n"
     ]
    }
   ],
   "source": [
    "# Request de uma timezone específica:\n",
    "et = tz.gettz('America/New_York') # Eastern time; \n",
    "            # Primeiro o Continente, depois a cidade grande mais próxima\n",
    "print(et)\n",
    "\n",
    "# esse objeto pode ser usado como input de tzinfo:\n",
    "horario = datetime(2017, 12, 30, 15, 9, 3, tzinfo=et)\n",
    "print(horario)\n",
    "# outro exemplo: df['hour'].replace(tzinfo=et)\n",
    "# outro exemplo: f['hour'].astimezone(et)\n",
    "\n",
    "# considera o horario de verão no timedelta da zona:\n",
    "verao = datetime(2017, 10, 1, 15, 23, 25, tzinfo=et)\n",
    "print(verao)"
   ]
  },
  {
   "cell_type": "markdown",
   "metadata": {},
   "source": [
    "#### Horário de Verão\n",
    "\n",
    "- o deslocamento UTC (UTC offset) do objeto muda ao entrar no horário de verão: "
   ]
  },
  {
   "cell_type": "code",
   "execution_count": 40,
   "metadata": {},
   "outputs": [
    {
     "data": {
      "text/plain": [
       "'2017-03-12T01:59:59'"
      ]
     },
     "execution_count": 40,
     "metadata": {},
     "output_type": "execute_result"
    }
   ],
   "source": [
    "# Vamos observar o horário naive primeiro \n",
    "spring_ahead_159am = datetime(2017, 3, 12, 1, 59, 59) \n",
    "# o relógio adianta 1h às 2h deste dia (um segundo depois desse horário)\n",
    "spring_ahead_159am.isoformat() # lembrando: .isoformat() ou .strftime() converte datetime em string"
   ]
  },
  {
   "cell_type": "code",
   "execution_count": 41,
   "metadata": {},
   "outputs": [
    {
     "data": {
      "text/plain": [
       "'2017-03-12T03:00:00'"
      ]
     },
     "execution_count": 41,
     "metadata": {},
     "output_type": "execute_result"
    }
   ],
   "source": [
    "spring_ahead_3am = datetime(2017, 3, 12, 3, 0, 0)\n",
    "spring_ahead_3am.isoformat() # print"
   ]
  },
  {
   "cell_type": "code",
   "execution_count": 42,
   "metadata": {},
   "outputs": [
    {
     "data": {
      "text/plain": [
       "3601.0"
      ]
     },
     "execution_count": 42,
     "metadata": {},
     "output_type": "execute_result"
    }
   ],
   "source": [
    "(spring_ahead_3am - spring_ahead_159am).total_seconds() \n",
    "# 3601 segundos = uma hora e um segundo, já que nao temos geolocalização (naive)"
   ]
  },
  {
   "cell_type": "code",
   "execution_count": 49,
   "metadata": {},
   "outputs": [
    {
     "name": "stdout",
     "output_type": "stream",
     "text": [
      "2017-03-12 01:59:59-05:00\n",
      "2017-03-12 03:00:00-04:00\n"
     ]
    }
   ],
   "source": [
    "# aqui esse horário de verão acontece\n",
    "EST = timezone(timedelta(hours=-5))\n",
    "EDT = timezone(timedelta(hours=-4)) # Eastern Daylight time\n",
    "\n",
    "\n",
    "spring_ahead_159am = spring_ahead_159am.replace(tzinfo=EST)\n",
    "print(spring_ahead_159am)\n",
    "spring_ahead_3am = spring_ahead_3am.replace(tzinfo=EDT) # teve que ser definido delta diferente pra ser horario de verao\n",
    "print(spring_ahead_3am)\n"
   ]
  },
  {
   "cell_type": "code",
   "execution_count": 50,
   "metadata": {},
   "outputs": [
    {
     "data": {
      "text/plain": [
       "1.0"
      ]
     },
     "execution_count": 50,
     "metadata": {},
     "output_type": "execute_result"
    }
   ],
   "source": [
    "(spring_ahead_3am - spring_ahead_159am).total_seconds() \n",
    "# agora apenas um segundo. O horário de verão teve que ser definido, nada vai acontecer automáticamente"
   ]
  },
  {
   "cell_type": "code",
   "execution_count": 61,
   "metadata": {},
   "outputs": [
    {
     "data": {
      "text/plain": [
       "3601.0"
      ]
     },
     "execution_count": 61,
     "metadata": {},
     "output_type": "execute_result"
    }
   ],
   "source": [
    "# como saber os horários de verão: dateutil de novo\n",
    "\n",
    "eastern = tz.gettz('America/New_York') # aqui ele ja puxa horario de verão se a data estiver neste intervalo\n",
    "\n",
    "spring_ahead_159am = datetime(2017, 3, 12, 1, 59, 59, tzinfo = eastern) \n",
    "spring_ahead_3am = datetime(2017, 3, 12, 3, 0, 0, tzinfo = tz.gettz('America/New_York')) # s´po pra mostrar que dá pra chamar direto no argumento\n",
    "(spring_ahead_3am - spring_ahead_159am).total_seconds() # DEU ERRADO"
   ]
  },
  {
   "cell_type": "code",
   "execution_count": 58,
   "metadata": {},
   "outputs": [],
   "source": [
    "# fim do horario de verão: hora repete\n",
    "eastern = tz.gettz('US/Eastern')\n",
    "# 2017-11-05 01:00:00\n",
    "first_1am = datetime(2017, 11, 5, 1, 0, 0,  tzinfo = eastern)"
   ]
  },
  {
   "cell_type": "code",
   "execution_count": 59,
   "metadata": {},
   "outputs": [
    {
     "data": {
      "text/plain": [
       "True"
      ]
     },
     "execution_count": 59,
     "metadata": {},
     "output_type": "execute_result"
    }
   ],
   "source": [
    "# checando se a hora é ambigua (como ocorre em fim de horario de verão)\n",
    "tz.datetime_ambiguous(first_1am)"
   ]
  },
  {
   "cell_type": "code",
   "execution_count": null,
   "metadata": {},
   "outputs": [],
   "source": [
    "# 2017-11-05 01:00:00 again\n",
    "second_1am = datetime(2017, 11, 5, 1, 0, 0,tzinfo = eastern)\n",
    "second_1am = tz.enfold(second_1am) # enfold: define em caso de hora ambigua que essa é a repetição da hora\n",
    "\n",
    "(first_1am - second_1am).total_seconds() # enfold não altera o horário, é apenas um placeholder é necessário..."
   ]
  },
  {
   "cell_type": "code",
   "execution_count": 56,
   "metadata": {},
   "outputs": [
    {
     "data": {
      "text/plain": [
       "3600.0"
      ]
     },
     "execution_count": 56,
     "metadata": {},
     "output_type": "execute_result"
    }
   ],
   "source": [
    "# ... converter pra UTC\n",
    "first_1am = first_1am.astimezone(tz.UTC)\n",
    "second_1am = second_1am.astimezone(tz.UTC)\n",
    "(second_1am - first_1am).total_seconds()"
   ]
  },
  {
   "cell_type": "markdown",
   "metadata": {},
   "source": [
    "# Pandas"
   ]
  },
  {
   "cell_type": "code",
   "execution_count": 60,
   "metadata": {},
   "outputs": [],
   "source": [
    "import pandas as pd"
   ]
  },
  {
   "cell_type": "code",
   "execution_count": null,
   "metadata": {},
   "outputs": [],
   "source": [
    "df = pd.read_csv('arquivo.csv')\n",
    "df['Dates'] # tipo dos valores da coluna pode ser object ou string\n",
    "\n",
    "# definir tipo como datetime no carregamento do arquivo:\n",
    "df = pd.read_csv('arquivo.csv', parse_dates = ['Dates', 'Another_dates'])\n",
    "\n",
    "# converter pra datetime com dataframe já carregado:\n",
    "df['Dates'] = pd.to_datetime(df['Dates'], format=\"%m/%d/%Y %H:%M:%S\")\n",
    "\n",
    "# type(df['Dates'].iloc[2]) # o tipo é timestamp e nao datetime, mas funciona parecido"
   ]
  },
  {
   "cell_type": "code",
   "execution_count": null,
   "metadata": {},
   "outputs": [],
   "source": [
    "df['Deltas'] = df['Dates'] - df['Another_dates'] # timedeltas\n",
    "\n",
    "df['Deltas'].dt.total_seconds().head(4) # chaining methods (encadeando métodos):\n",
    "df['Deltas']\\\n",
    "    .dt.total_seconds()\\ \n",
    "        .head(4)\n",
    "# pra usar método de datetime em timestamp precisa por esse accessor \".dt\" antes\n",
    "df['Deltas'].iloc[2].year # não precisa de \".dt\" em caso de ser um único elemento"
   ]
  },
  {
   "cell_type": "code",
   "execution_count": null,
   "metadata": {},
   "outputs": [],
   "source": [
    "# Sumarizando dados de uma coluna de timestamp (versões anteriores a 0.23 de Pandas podem quebrar)\n",
    "df['Dates'].mean()\n",
    "df['Dates'].median()\n",
    "df['Dates'].sum()   \n",
    "df['Dates'].sum() / timedelta(days=91) # matemática"
   ]
  },
  {
   "cell_type": "markdown",
   "metadata": {},
   "source": [
    "## Timezones e pandas"
   ]
  },
  {
   "cell_type": "code",
   "execution_count": null,
   "metadata": {},
   "outputs": [],
   "source": [
    "# atribuir timezone: mantendo a data e hora \n",
    "df['Dates'].dt.tz_localize('America/New_york')\n",
    "    # Pode ocorrer o Ambiguous timezone, correspondente a horários ambiguos (de verão)\n",
    "\n",
    "df['Dates'].dt.tz_localize('America/New_york', ambiguous='Nat')\n",
    "    # Transforma o horário ambiguo em uma espécie de 'Na' \"not a time\""
   ]
  },
  {
   "cell_type": "code",
   "execution_count": null,
   "metadata": {},
   "outputs": [],
   "source": [
    "# converter timezone: troca a data e horário pra adequar\n",
    "df['Dates'] = df['Dates'].dt.tz_convert('Europe/London')"
   ]
  },
  {
   "cell_type": "code",
   "execution_count": null,
   "metadata": {},
   "outputs": [],
   "source": [
    "# shift: defesa uma linha ao comparar duas colunas\n",
    "df['Time since'] = df['Start date'] - (df['End date'].shift(1)) # shift 1 pega uma linha acima"
   ]
  },
  {
   "cell_type": "code",
   "execution_count": null,
   "metadata": {},
   "outputs": [],
   "source": [
    "# agrupar:\n",
    "\n",
    "# duração média por mês:\n",
    "df_resampled = df.resample('M', on = 'Start date')\n",
    "df_resampled['Duration seconds'].mean()\n",
    "    # agrupa linhas na base de uma coluna de datetime, por ano, mês, dia e por ai vai.\n"
   ]
  }
 ],
 "metadata": {
  "kernelspec": {
   "display_name": "Python 3.9.12 ('testenv')",
   "language": "python",
   "name": "python3"
  },
  "language_info": {
   "codemirror_mode": {
    "name": "ipython",
    "version": 3
   },
   "file_extension": ".py",
   "mimetype": "text/x-python",
   "name": "python",
   "nbconvert_exporter": "python",
   "pygments_lexer": "ipython3",
   "version": "3.9.12"
  },
  "orig_nbformat": 4,
  "vscode": {
   "interpreter": {
    "hash": "2353c9791115e7195597972a25a0e1aef2de38aef3a4d8d253c7755a1bad3fb3"
   }
  }
 },
 "nbformat": 4,
 "nbformat_minor": 2
}
