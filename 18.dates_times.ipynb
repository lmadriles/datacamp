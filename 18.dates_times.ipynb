{
 "cells": [
  {
   "cell_type": "markdown",
   "metadata": {},
   "source": [
    "# Datas e Horários"
   ]
  },
  {
   "cell_type": "markdown",
   "metadata": {},
   "source": [
    "## Datas"
   ]
  },
  {
   "cell_type": "markdown",
   "metadata": {},
   "source": [
    "- objeto python date:"
   ]
  },
  {
   "cell_type": "code",
   "execution_count": 5,
   "metadata": {},
   "outputs": [],
   "source": [
    "from datetime import date, datetime, timedelta\n"
   ]
  },
  {
   "cell_type": "code",
   "execution_count": 11,
   "metadata": {},
   "outputs": [
    {
     "name": "stdout",
     "output_type": "stream",
     "text": [
      "2012-06-21\n",
      "2012\n",
      "6\n",
      "21\n",
      "3\n"
     ]
    }
   ],
   "source": [
    "# criando objeto python date:\n",
    "a_day = date(2012,6,21) # input: YYYY,mm,dd\n",
    "print(a_day) # formato ISO 8601: YYYY-mm-dd com 0 a esquerda quando necessário\n",
    "\n",
    "# atributos:\n",
    "print(a_day.year)\n",
    "print(a_day.month)\n",
    "print(a_day.day)\n",
    "\n",
    "# métodos:\n",
    "print(a_day.weekday()) # 0 = segunda; 1 = terça;...; 6 = domingo. Código terrível"
   ]
  },
  {
   "cell_type": "code",
   "execution_count": 7,
   "metadata": {},
   "outputs": [
    {
     "name": "stdout",
     "output_type": "stream",
     "text": [
      "-365\n"
     ]
    }
   ],
   "source": [
    "# operações com datas:\n",
    "delta = date(2017,6,21) - date(2016,6,21)\n",
    "print(-delta.days)"
   ]
  },
  {
   "cell_type": "code",
   "execution_count": 6,
   "metadata": {},
   "outputs": [
    {
     "name": "stdout",
     "output_type": "stream",
     "text": [
      "2017-06-21\n"
     ]
    }
   ],
   "source": [
    "# Criando o delta:\n",
    "from datetime import timedelta\n",
    "td = timedelta(days=365)\n",
    "\n",
    "print(date(2016,6,21) + td)"
   ]
  },
  {
   "cell_type": "code",
   "execution_count": 21,
   "metadata": {},
   "outputs": [
    {
     "name": "stdout",
     "output_type": "stream",
     "text": [
      "<class 'datetime.date'>\n",
      "2012-06-21\n",
      "\n",
      "<class 'str'>\n",
      "2012-06-21\n"
     ]
    }
   ],
   "source": [
    "# convert to string:\n",
    "a_day = date(2012,6,21) \n",
    "print(type(a_day))\n",
    "print(a_day)\n",
    "print()\n",
    "print(type(a_day.isoformat()))\n",
    "print(a_day.isoformat())\n",
    "\n",
    "# apenas no formato iso, strings podem ser ordenadas em ordem cronológica (através da \"alfabética\")"
   ]
  },
  {
   "cell_type": "code",
   "execution_count": 25,
   "metadata": {},
   "outputs": [
    {
     "name": "stdout",
     "output_type": "stream",
     "text": [
      "<class 'str'>\n",
      "2012\n",
      "\n",
      "21/06/2012\n",
      "2012-06-21\n",
      "O ano é 2012, repetindo: 2012\n"
     ]
    }
   ],
   "source": [
    "# selecionando o dado e o formato de data:\n",
    "print(type(a_day.strftime('%Y'))) # string \n",
    "print(a_day.strftime('%Y')) # ano da data armazenada na variável\n",
    "print()\n",
    "print(a_day.strftime(\"%d/%m/%Y\"))    # o '%' marca que o próximo caractere é um chamado de informação\n",
    "print(a_day.strftime(\"%Y-%m-%d\")) \n",
    "print(a_day.strftime('O ano é %Y, repetindo: %Y')) # string de formato são flexiveis\n"
   ]
  },
  {
   "cell_type": "code",
   "execution_count": 23,
   "metadata": {},
   "outputs": [],
   "source": [
    "# outras strings de formato:\n",
    "format_strings = {'year': '%Y',\n",
    "                  'month': '%m',\n",
    "                  'day': '%d',\n",
    "                  'full name month': '%B',\n",
    "                  'day of the year': '%j'}"
   ]
  },
  {
   "cell_type": "markdown",
   "metadata": {},
   "source": [
    "## Horas"
   ]
  },
  {
   "cell_type": "code",
   "execution_count": 4,
   "metadata": {},
   "outputs": [],
   "source": [
    "from datetime import datetime"
   ]
  },
  {
   "cell_type": "code",
   "execution_count": 34,
   "metadata": {},
   "outputs": [
    {
     "name": "stdout",
     "output_type": "stream",
     "text": [
      "2017-10-01 15:23:25.500000\n",
      "2017-10-01T15:23:25.500000\n",
      "None\n"
     ]
    },
    {
     "data": {
      "text/plain": [
       "datetime.datetime(2017, 10, 1, 15, 23, 25, 500000)"
      ]
     },
     "execution_count": 34,
     "metadata": {},
     "output_type": "execute_result"
    }
   ],
   "source": [
    "dt = datetime(2017,10,1,15,23,25) # input: YYYY,mm,dd, hh (formato 24h), mm, ss\n",
    "    # precisam ser inteiros. \n",
    "dt = datetime(2017,10,1,15,23,25,500000)\n",
    "print(dt)\n",
    "print(print(dt.isoformat()))\n",
    "\n",
    "    # Se quiser fracionar segundo na metade, tem que informar microssegundos (10^-6 segundo)\n",
    "    # Se precisar fracionar mais, pode-se incluir nanossegundos (mais a frente)\n",
    "\n",
    "# usando inputs mais explicitos:\n",
    "datetime(year=2017,month=10,day=1,hour=15,minute=23,second=25,microsecond=500000)"
   ]
  },
  {
   "cell_type": "code",
   "execution_count": 32,
   "metadata": {},
   "outputs": [
    {
     "name": "stdout",
     "output_type": "stream",
     "text": [
      "2017-10-01 00:00:00\n"
     ]
    }
   ],
   "source": [
    "# editando um datetime: replace method\n",
    "dt_edited = dt.replace(hour=0,minute=0,second=0,microsecond=0)\n",
    "print(dt_edited)"
   ]
  },
  {
   "cell_type": "code",
   "execution_count": 36,
   "metadata": {},
   "outputs": [
    {
     "name": "stdout",
     "output_type": "stream",
     "text": [
      "2017-10-01\n",
      "2017-10-01 15:23:25\n"
     ]
    }
   ],
   "source": [
    "# datetime para string:\n",
    "print(dt.strftime(\"%Y-%m-%d\")) # get the date\n",
    "print(dt.strftime(\"%Y-%m-%d %H:%M:%S\")) \n"
   ]
  },
  {
   "cell_type": "code",
   "execution_count": null,
   "metadata": {},
   "outputs": [],
   "source": [
    "# updated strings de formato:\n",
    "format_strings = {'year': '%Y',\n",
    "                  'month': '%m',\n",
    "                  'day': '%d',\n",
    "                  'full name month': '%B',\n",
    "                  'day of the year': '%j',\n",
    "\n",
    "                  'hour': '%H',\n",
    "                  'minute': '%M',\n",
    "                  'second': '%S'\n",
    "                  }"
   ]
  },
  {
   "cell_type": "code",
   "execution_count": 37,
   "metadata": {},
   "outputs": [
    {
     "name": "stdout",
     "output_type": "stream",
     "text": [
      "<class 'datetime.datetime'>\n",
      "2017-12-30 15:19:13\n"
     ]
    }
   ],
   "source": [
    "# parsing (análise): recebe string, converte pra datetime\n",
    "dt = datetime.strptime(\"12/30/2017 15:19:13\", \"%m/%d/%Y %H:%M:%S\")  \n",
    "    # string parse time: é um 'P' e nao um 'F' como no método anterior strftime\n",
    "    # forneça a string e depois a formatação dela. Incompatibilidade entre os dois gerará ValueError\n",
    "print(type(dt))\n",
    "print(dt)"
   ]
  },
  {
   "cell_type": "code",
   "execution_count": 38,
   "metadata": {},
   "outputs": [
    {
     "name": "stdout",
     "output_type": "stream",
     "text": [
      "2017-12-30 17:19:13\n"
     ]
    }
   ],
   "source": [
    "# formato de hora: Unix timestamp -> número de segundos desde 1o de janeiro de 1970, zero hora\n",
    "ts = 1514665153.0\n",
    "# converter pra datetime:\n",
    "print(datetime.fromtimestamp(ts))"
   ]
  },
  {
   "cell_type": "markdown",
   "metadata": {},
   "source": [
    "# Duração"
   ]
  },
  {
   "cell_type": "code",
   "execution_count": 9,
   "metadata": {},
   "outputs": [
    {
     "name": "stdout",
     "output_type": "stream",
     "text": [
      "0:24:10\n"
     ]
    },
    {
     "data": {
      "text/plain": [
       "datetime.timedelta(seconds=1450)"
      ]
     },
     "metadata": {},
     "output_type": "display_data"
    },
    {
     "name": "stdout",
     "output_type": "stream",
     "text": [
      "1450.0\n"
     ]
    }
   ],
   "source": [
    "# Create example datetimes\n",
    "start = datetime(2017, 10, 8, 23, 46, 47)\n",
    "end = datetime(2017, 10, 9, 0, 10, 57)\n",
    "# Subtract datetimes to create a timedelta\n",
    "duration = end - start\n",
    "print(duration)\n",
    "display(duration)\n",
    "print(duration.total_seconds())"
   ]
  }
 ],
 "metadata": {
  "kernelspec": {
   "display_name": "Python 3.9.12 ('testenv')",
   "language": "python",
   "name": "python3"
  },
  "language_info": {
   "codemirror_mode": {
    "name": "ipython",
    "version": 3
   },
   "file_extension": ".py",
   "mimetype": "text/x-python",
   "name": "python",
   "nbconvert_exporter": "python",
   "pygments_lexer": "ipython3",
   "version": "3.9.12"
  },
  "orig_nbformat": 4,
  "vscode": {
   "interpreter": {
    "hash": "2353c9791115e7195597972a25a0e1aef2de38aef3a4d8d253c7755a1bad3fb3"
   }
  }
 },
 "nbformat": 4,
 "nbformat_minor": 2
}
