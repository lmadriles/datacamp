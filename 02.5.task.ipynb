{
 "cells": [
  {
   "cell_type": "markdown",
   "metadata": {},
   "source": [
    "### Tarefa de conclusão\n",
    "\n",
    "Jogo: jogo de dados (d6) que determinará a subida ou descida do elevador do Empire State.\n",
    "\n",
    "1 ou 2: desce um andar ( até um mínimpo de 0)\n",
    "\n",
    "3 a 5: sobe um andar\n",
    "\n",
    "6: joga um dado adicional, o número que der é o número de andares a subir.\n",
    "\n",
    "\n",
    "Aposta: começando do andar 50 terminar o jogo no andar 60 ou maior após 100 sorteios\n",
    "\n",
    "Objetivo: achar a chance de ganhar a aposta\n",
    "\n",
    "Jeitos de resolver: analiticamente (usando as equações de probabilidade) ou simulação (fazer várias vezes e observar os resultados = hacker statistics)"
   ]
  },
  {
   "cell_type": "code",
   "execution_count": 1,
   "metadata": {},
   "outputs": [],
   "source": [
    "import numpy as np\n",
    "import pandas as pd"
   ]
  },
  {
   "cell_type": "code",
   "execution_count": 37,
   "metadata": {},
   "outputs": [
    {
     "name": "stdout",
     "output_type": "stream",
     "text": [
      "0.6964691855978616\n",
      "0\n"
     ]
    }
   ],
   "source": [
    "# gerando números (pseudo)aleatórios\n",
    "np.random.seed(123)\n",
    "print(np.random.rand()) # float entre 0 e 1\n",
    "print(np.random.randint(1,7)) # inteiro no intervalo [1,7[ = 1 a 6"
   ]
  },
  {
   "cell_type": "code",
   "execution_count": 60,
   "metadata": {},
   "outputs": [
    {
     "name": "stdout",
     "output_type": "stream",
     "text": [
      "6\n",
      "55\n"
     ]
    }
   ],
   "source": [
    "# rolando o dado\n",
    "dice = np.random.randint(1,7)\n",
    "step = 50\n",
    "# Mudando de andar\n",
    "if dice <= 2 :\n",
    "    step = step - 1\n",
    "elif dice <= 5:\n",
    "    step = step + 1\n",
    "else :\n",
    "    step = step + np.random.randint(1,7)\n",
    "    \n",
    "print(dice)\n",
    "print(step)"
   ]
  },
  {
   "cell_type": "code",
   "execution_count": 73,
   "metadata": {},
   "outputs": [
    {
     "name": "stdout",
     "output_type": "stream",
     "text": [
      "[0, 1, 0, 0, 1, 2, 3, 2, 6, 7, 6, 8, 9, 8, 9, 10, 11, 12, 13, 14, 13, 12, 13, 14, 13, 14, 15, 14, 13, 12, 16, 17, 18, 19, 20, 21, 22, 23, 24, 25, 24, 25, 26, 27, 28, 29, 28, 27, 33, 34, 35, 34, 33, 32, 36, 37, 41, 40, 46, 47, 48, 52, 53, 52, 51, 52, 53, 54, 55, 54, 60, 61, 60, 64, 65, 64, 65, 64, 70, 76, 77, 76, 77, 78, 79, 80, 81, 80, 83, 82, 84, 85, 91, 90, 91, 92, 91, 90, 91, 90, 91]\n"
     ]
    }
   ],
   "source": [
    "# random walk/caminhada aleatoria (partindo de um ponto, sorteamos o próximo passo) um elemento é dependente do anterior\n",
    "random_walk = [0]\n",
    "\n",
    "for x in range(100) :\n",
    "    step = random_walk[-1] # step = ultimo elemento da lista\n",
    "\n",
    "    # Roll the dice\n",
    "    dice = np.random.randint(1,7)\n",
    "\n",
    "    # Determine next step\n",
    "    if dice <= 2:\n",
    "        step = max(0,step - 1) # mínimo é zero\n",
    "    elif dice <= 5:\n",
    "        step = step + 1\n",
    "    else:\n",
    "        step = step + np.random.randint(1,7)\n",
    "\n",
    "    # append next_step to random_walk\n",
    "    random_walk.append(step)\n",
    "\n",
    "# Print random_walk\n",
    "print(random_walk)\n"
   ]
  },
  {
   "cell_type": "code",
   "execution_count": 63,
   "metadata": {},
   "outputs": [
    {
     "data": {
      "text/plain": [
       "range"
      ]
     },
     "execution_count": 63,
     "metadata": {},
     "output_type": "execute_result"
    }
   ],
   "source": [
    "# Simulate random walk 500 times\n",
    "all_walks = []\n",
    "for i in range(500) :\n",
    "    random_walk = [0]\n",
    "    for x in range(100) :\n",
    "        step = random_walk[-1]\n",
    "        dice = np.random.randint(1,7)\n",
    "        if dice <= 2:\n",
    "            step = max(0, step - 1)\n",
    "        elif dice <= 5:\n",
    "            step = step + 1\n",
    "        else:\n",
    "            step = step + np.random.randint(1,7)\n",
    "        if np.random.rand() <= 0.001 :\n",
    "            step = 0\n",
    "        random_walk.append(step)\n",
    "    all_walks.append(random_walk)\n",
    "\n",
    "# Create and plot np_aw_t\n",
    "np_aw_t = np.transpose(np.array(all_walks))\n",
    "\n",
    "# Select last row from np_aw_t: ends\n",
    "ends = np_aw_t[-1,:]\n",
    "\n",
    "# Plot histogram of ends, display plot\n",
    "plt.hist(ends)\n",
    "plt.show()"
   ]
  },
  {
   "cell_type": "code",
   "execution_count": null,
   "metadata": {},
   "outputs": [],
   "source": []
  }
 ],
 "metadata": {
  "kernelspec": {
   "display_name": "Python 3",
   "language": "python",
   "name": "python3"
  },
  "language_info": {
   "codemirror_mode": {
    "name": "ipython",
    "version": 3
   },
   "file_extension": ".py",
   "mimetype": "text/x-python",
   "name": "python",
   "nbconvert_exporter": "python",
   "pygments_lexer": "ipython3",
   "version": "3.7.6"
  }
 },
 "nbformat": 4,
 "nbformat_minor": 4
}
