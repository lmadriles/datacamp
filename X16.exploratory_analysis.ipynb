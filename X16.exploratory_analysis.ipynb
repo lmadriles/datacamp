{
 "cells": [
  {
   "attachments": {},
   "cell_type": "markdown",
   "metadata": {},
   "source": [
    "Definição: o processo de revisar e limpar dados para obtermos insights (como estatística descritiva e correlação) e gerar hipóteses."
   ]
  },
  {
   "attachments": {},
   "cell_type": "markdown",
   "metadata": {},
   "source": [
    "## Conhecer o dataset"
   ]
  },
  {
   "cell_type": "code",
   "execution_count": 24,
   "metadata": {},
   "outputs": [],
   "source": [
    "import pandas as pd\n",
    "import numpy as np\n",
    "import seaborn as sns\n",
    "import matplotlib.pyplot as plt"
   ]
  },
  {
   "cell_type": "code",
   "execution_count": null,
   "metadata": {},
   "outputs": [],
   "source": [
    "df = pd.read_csv(\"data\\ds_salaries_clean.csv\")"
   ]
  },
  {
   "cell_type": "code",
   "execution_count": 2,
   "metadata": {},
   "outputs": [
    {
     "data": {
      "text/html": [
       "<div>\n",
       "<style scoped>\n",
       "    .dataframe tbody tr th:only-of-type {\n",
       "        vertical-align: middle;\n",
       "    }\n",
       "\n",
       "    .dataframe tbody tr th {\n",
       "        vertical-align: top;\n",
       "    }\n",
       "\n",
       "    .dataframe thead th {\n",
       "        text-align: right;\n",
       "    }\n",
       "</style>\n",
       "<table border=\"1\" class=\"dataframe\">\n",
       "  <thead>\n",
       "    <tr style=\"text-align: right;\">\n",
       "      <th></th>\n",
       "      <th>Working_Year</th>\n",
       "      <th>Designation</th>\n",
       "      <th>Experience</th>\n",
       "      <th>Employment_Status</th>\n",
       "      <th>Employee_Location</th>\n",
       "      <th>Company_Size</th>\n",
       "      <th>Remote_Working_Ratio</th>\n",
       "      <th>Salary_USD</th>\n",
       "    </tr>\n",
       "  </thead>\n",
       "  <tbody>\n",
       "    <tr>\n",
       "      <th>0</th>\n",
       "      <td>2020</td>\n",
       "      <td>Data Scientist</td>\n",
       "      <td>Mid</td>\n",
       "      <td>FT</td>\n",
       "      <td>DE</td>\n",
       "      <td>L</td>\n",
       "      <td>0</td>\n",
       "      <td>76227.0</td>\n",
       "    </tr>\n",
       "    <tr>\n",
       "      <th>1</th>\n",
       "      <td>2020</td>\n",
       "      <td>Machine Learning Scientist</td>\n",
       "      <td>Senior</td>\n",
       "      <td>FT</td>\n",
       "      <td>JP</td>\n",
       "      <td>S</td>\n",
       "      <td>0</td>\n",
       "      <td>248257.0</td>\n",
       "    </tr>\n",
       "    <tr>\n",
       "      <th>2</th>\n",
       "      <td>2020</td>\n",
       "      <td>Big Data Engineer</td>\n",
       "      <td>Senior</td>\n",
       "      <td>FT</td>\n",
       "      <td>GB</td>\n",
       "      <td>M</td>\n",
       "      <td>50</td>\n",
       "      <td>104100.0</td>\n",
       "    </tr>\n",
       "    <tr>\n",
       "      <th>3</th>\n",
       "      <td>2020</td>\n",
       "      <td>Product Data Analyst</td>\n",
       "      <td>Mid</td>\n",
       "      <td>FT</td>\n",
       "      <td>HN</td>\n",
       "      <td>S</td>\n",
       "      <td>0</td>\n",
       "      <td>19097.0</td>\n",
       "    </tr>\n",
       "    <tr>\n",
       "      <th>4</th>\n",
       "      <td>2020</td>\n",
       "      <td>Machine Learning Engineer</td>\n",
       "      <td>Senior</td>\n",
       "      <td>FT</td>\n",
       "      <td>US</td>\n",
       "      <td>L</td>\n",
       "      <td>50</td>\n",
       "      <td>143225.0</td>\n",
       "    </tr>\n",
       "  </tbody>\n",
       "</table>\n",
       "</div>"
      ],
      "text/plain": [
       "   Working_Year                 Designation Experience Employment_Status  \\\n",
       "0          2020              Data Scientist        Mid                FT   \n",
       "1          2020  Machine Learning Scientist     Senior                FT   \n",
       "2          2020           Big Data Engineer     Senior                FT   \n",
       "3          2020        Product Data Analyst        Mid                FT   \n",
       "4          2020   Machine Learning Engineer     Senior                FT   \n",
       "\n",
       "  Employee_Location Company_Size  Remote_Working_Ratio  Salary_USD  \n",
       "0                DE            L                     0     76227.0  \n",
       "1                JP            S                     0    248257.0  \n",
       "2                GB            M                    50    104100.0  \n",
       "3                HN            S                     0     19097.0  \n",
       "4                US            L                    50    143225.0  "
      ]
     },
     "execution_count": 2,
     "metadata": {},
     "output_type": "execute_result"
    }
   ],
   "source": [
    "df.head()"
   ]
  },
  {
   "cell_type": "code",
   "execution_count": null,
   "metadata": {},
   "outputs": [],
   "source": [
    "df.info() # non-nulls, object types\n",
    "df['column'].value_counts() # value counts\n",
    "df['column'].describe() # statistics from this variable\n",
    "df.describe() # statistics for each numerical column"
   ]
  },
  {
   "cell_type": "code",
   "execution_count": null,
   "metadata": {},
   "outputs": [],
   "source": [
    "# visualização: seaborn e matplotlib\n",
    "\n",
    "sns.histplot(data=df, x='column', binwidth=.1)\n",
    "plt.show()"
   ]
  },
  {
   "attachments": {},
   "cell_type": "markdown",
   "metadata": {},
   "source": [
    "### Data validation\n",
    "\n",
    "- Verificar se õs dados estão dentro dos intervalos esperados."
   ]
  },
  {
   "cell_type": "code",
   "execution_count": null,
   "metadata": {},
   "outputs": [],
   "source": [
    "df.info() # função que dá os datatypes e contagem de valores não nulos de cada coluna\n",
    "df.dtypes # atribuito que dá apenas os datatypes das colunas\n",
    "\n",
    "# editing datatypes:\n",
    "df['column'] = df['column'].astype(int)"
   ]
  },
  {
   "cell_type": "code",
   "execution_count": null,
   "metadata": {},
   "outputs": [],
   "source": [
    "# validando dados categóricos\n",
    "df['column'].unique()\n",
    "df['column'].isin(['value_1','value_2']) # series de bool; pode ser usado pra filtrar\n",
    "~df['column'].isin(['value_1','value_2']) # '~' inverte True com False"
   ]
  },
  {
   "cell_type": "code",
   "execution_count": null,
   "metadata": {},
   "outputs": [],
   "source": [
    "# validando dados numéricos:\n",
    "df.select_dtypes(\"number\") # filtra o df apenas para colunas numéricas\n",
    "df['column'].min()\n",
    "df['column'].max()\n",
    "\n",
    "# boxplot:\n",
    "sns.boxplot(data=df, x='column')\n",
    "plt.show()\n",
    "\n",
    "# multiplos boxplots (uma variável agrupada por uma outra variável categórica)\n",
    "sns.boxplot(data=df, x='numeric_column', y='categorical_column')\n",
    "plt.show()\n"
   ]
  },
  {
   "attachments": {},
   "cell_type": "markdown",
   "metadata": {},
   "source": [
    "### Data Sumarization"
   ]
  },
  {
   "cell_type": "code",
   "execution_count": null,
   "metadata": {},
   "outputs": [],
   "source": [
    "df.groupby(\"categorical_column\").mean() # pega a média de todas as colunas numéricas\n",
    "# outras funções agregadoras: .sum(), .count(), .min(), .max(), .var(), .std()   e .agg()\n",
    "\n",
    "# .agg() permite selecionar funções diferentes:\n",
    "df.groupby(\"categorical_column\").agg([\"mean\", \"std\"]) # lista: pega a média e o desvio pra cada variável numérica\n",
    "df.groupby(\"categorical_column\").agg({\"column2\": \"count\", \"column3\": \"sum\"}) # dict: chave determina a coluna e o valor determina a função\n",
    "df.groupby(\"categorical_column\").agg(mean_column2=(\"column2\", \"mean\"),      # tuples: nome é o nome da coluna a ser criada, \n",
    "                                    std_column2=(\"column2\", \"std\"),                   # primeiro argumento é a variável a ser tirada a métrica \n",
    "                                    median_column3=(\"column3\", \"median\"))            # terceiro é a métrica a ser tirada\n",
    "                                                                                      # lembrando que as linhas serão as categorias agrupadas"
   ]
  },
  {
   "cell_type": "code",
   "execution_count": null,
   "metadata": {},
   "outputs": [],
   "source": [
    "# barplot: semelhante ao groupby, mostra média e barra de erro mostra std\n",
    "sns.barplot(data=df, x='categorical_column', y='numerical_column')\n",
    "plt.show()"
   ]
  },
  {
   "attachments": {},
   "cell_type": "markdown",
   "metadata": {},
   "source": [
    "## Tratamento"
   ]
  },
  {
   "attachments": {},
   "cell_type": "markdown",
   "metadata": {},
   "source": [
    "### Ausência de dados\n",
    "\n",
    "- Remover os registros se eles representarem  ausencia maior igual a 5% em uma variável;\n",
    "- Imputação: substituir por alguma estatística;\n",
    "- Imputar por subgrupo: pegar a mediana de cada categoria de uma variável escolhida;\n"
   ]
  },
  {
   "cell_type": "code",
   "execution_count": null,
   "metadata": {},
   "outputs": [],
   "source": [
    "print(df.isna().sum()) # soma os booleanos True de dados faltantes por coluna"
   ]
  },
  {
   "cell_type": "code",
   "execution_count": null,
   "metadata": {},
   "outputs": [],
   "source": [
    "# dropar colunas:\n",
    "limite = len(df) * 0.05 # pega somente o len vertical\n",
    "cols_to_drop = df.columns[df.isna().sum() <= limite]\n",
    "df = df.dropna(subset=cols_to_drop)"
   ]
  },
  {
   "cell_type": "code",
   "execution_count": null,
   "metadata": {},
   "outputs": [],
   "source": [
    "# imputing:\n",
    "cols_with_nas = df.columns[df.isna().sum() < 0]\n",
    "\n",
    "for col in cols_with_nas:\n",
    "    df[col].fillna(df[col].median()[0]) # pra que esse `[0]`?"
   ]
  },
  {
   "cell_type": "code",
   "execution_count": null,
   "metadata": {},
   "outputs": [],
   "source": [
    "# imputing by subgroup:\n",
    "median_dict = df.groupby(\"categorical_column\")['variable'].median().to_dict()\n",
    "    # dicionário com o nome da categoria: mediana de variable para cada categoria\n",
    "\n",
    "df['variable'] = df['variable'].fillna(df['categorical_column'].map(median_dict))"
   ]
  },
  {
   "attachments": {},
   "cell_type": "markdown",
   "metadata": {},
   "source": [
    "### Dados Categóricos"
   ]
  },
  {
   "cell_type": "code",
   "execution_count": 3,
   "metadata": {},
   "outputs": [
    {
     "name": "stdout",
     "output_type": "stream",
     "text": [
      "                  Designation Experience Employment_Status Employee_Location  \\\n",
      "0              Data Scientist        Mid                FT                DE   \n",
      "1  Machine Learning Scientist     Senior                FT                JP   \n",
      "2           Big Data Engineer     Senior                FT                GB   \n",
      "3        Product Data Analyst        Mid                FT                HN   \n",
      "4   Machine Learning Engineer     Senior                FT                US   \n",
      "\n",
      "  Company_Size  \n",
      "0            L  \n",
      "1            S  \n",
      "2            M  \n",
      "3            S  \n",
      "4            L  \n"
     ]
    },
    {
     "data": {
      "text/plain": [
       "50"
      ]
     },
     "execution_count": 3,
     "metadata": {},
     "output_type": "execute_result"
    }
   ],
   "source": [
    "print(df.select_dtypes(\"object\").head()) # mostra somente as colunas com dtype = object\n",
    "\n",
    "df['Designation'].value_counts() # frequencia absoluta  dos valores\n",
    "df['Designation'].nunique() # soma de valores de freq = 1"
   ]
  },
  {
   "cell_type": "code",
   "execution_count": null,
   "metadata": {},
   "outputs": [],
   "source": [
    "# pandas.Series.str.contains(): # método que permite pesquisar numa coluna uma (ou mais) string\n",
    "df['column'].str.contains(\"Conteúdo de string\") # retorna bool\n",
    "\n",
    "df['column'].str.contains(\"Palavra-chave 1|Palavra-chave 2\") # equivalente a \"Palavra-chave 1\" ou \"Palavra-chave 2\""
   ]
  },
  {
   "cell_type": "code",
   "execution_count": 4,
   "metadata": {},
   "outputs": [
    {
     "data": {
      "text/html": [
       "<div>\n",
       "<style scoped>\n",
       "    .dataframe tbody tr th:only-of-type {\n",
       "        vertical-align: middle;\n",
       "    }\n",
       "\n",
       "    .dataframe tbody tr th {\n",
       "        vertical-align: top;\n",
       "    }\n",
       "\n",
       "    .dataframe thead th {\n",
       "        text-align: right;\n",
       "    }\n",
       "</style>\n",
       "<table border=\"1\" class=\"dataframe\">\n",
       "  <thead>\n",
       "    <tr style=\"text-align: right;\">\n",
       "      <th></th>\n",
       "      <th>Designation</th>\n",
       "      <th>Job_category</th>\n",
       "    </tr>\n",
       "  </thead>\n",
       "  <tbody>\n",
       "    <tr>\n",
       "      <th>0</th>\n",
       "      <td>Data Scientist</td>\n",
       "      <td>Data Science</td>\n",
       "    </tr>\n",
       "    <tr>\n",
       "      <th>1</th>\n",
       "      <td>Machine Learning Scientist</td>\n",
       "      <td>Machine Learning</td>\n",
       "    </tr>\n",
       "    <tr>\n",
       "      <th>2</th>\n",
       "      <td>Big Data Engineer</td>\n",
       "      <td>Data Engineer</td>\n",
       "    </tr>\n",
       "    <tr>\n",
       "      <th>3</th>\n",
       "      <td>Product Data Analyst</td>\n",
       "      <td>Data Analytics</td>\n",
       "    </tr>\n",
       "    <tr>\n",
       "      <th>4</th>\n",
       "      <td>Machine Learning Engineer</td>\n",
       "      <td>Machine Learning</td>\n",
       "    </tr>\n",
       "  </tbody>\n",
       "</table>\n",
       "</div>"
      ],
      "text/plain": [
       "                  Designation      Job_category\n",
       "0              Data Scientist      Data Science\n",
       "1  Machine Learning Scientist  Machine Learning\n",
       "2           Big Data Engineer     Data Engineer\n",
       "3        Product Data Analyst    Data Analytics\n",
       "4   Machine Learning Engineer  Machine Learning"
      ]
     },
     "execution_count": 4,
     "metadata": {},
     "output_type": "execute_result"
    }
   ],
   "source": [
    "# criando uma coluna de categorias:\n",
    "# exemplo: temos uma coluna com o título de emprego, queremos categorizar criando uma coluna nova\n",
    "\n",
    "job_categories = [\"Data Science\", \"Data Analytics\", \"Data Engineer\", \"Machine Learning\"] # valores de categoria a ir na coluna nova\n",
    "\n",
    "# pesquisas\n",
    "data_science = \"Data Scientist|NLP\"\n",
    "data_analyst = \"Analyst|Analytics\"\n",
    "data_engineer = \"Data Engineer|ETL|Architect|Infrastructure\"\n",
    "ml_engineer = \"Machine Learning|ML|Big Data|AI\"\n",
    "\n",
    "conditions = [\n",
    "    (df['Designation'].str.contains(data_science)),\n",
    "    (df['Designation'].str.contains(data_analyst)),\n",
    "    (df['Designation'].str.contains(data_engineer)),\n",
    "    (df['Designation'].str.contains(ml_engineer))\n",
    "]\n",
    "\n",
    "\n",
    "# nova coluna:\n",
    "df[\"Job_category\"] = np.select(conditions,\n",
    "                                job_categories,\n",
    "                                  default=\"Other\") # se não encontrada a categoria que estipulamos, coloque o valor \"Other\"\n",
    "\n",
    "# visualização:\n",
    "df[[\"Designation\", \"Job_category\"]].head()"
   ]
  },
  {
   "cell_type": "markdown",
   "metadata": {},
   "source": [
    "### Dados Numéricos"
   ]
  },
  {
   "cell_type": "code",
   "execution_count": null,
   "metadata": {},
   "outputs": [],
   "source": [
    "# transformar dtype de coluna numerica que ta como categórica:\n",
    "df['column'].str.replace(\".\",\"\") # remover os pontos (que separam os milhares da parte inteira do número)\n",
    "df['column'].str.replace(\",\",\".\") # substitui virgula por ponto\n",
    "\n",
    "df['column'] = df['column'].astype(float)"
   ]
  },
  {
   "cell_type": "code",
   "execution_count": null,
   "metadata": {},
   "outputs": [],
   "source": [
    "# adicionando estatísticas ao dataframe:\n",
    "# roteiro: agrupamos por categoria x -> selecionamos o dado y -> chamamos transform() -> aplicamos uma função lambda\n",
    "\n",
    "df[\"desvio_padrao\"] = df.groupby(\"x\")[\"y\"].transform(lambda x: x.std())\n",
    "print(df[[\"x\", \"y\"]].value_counts())"
   ]
  },
  {
   "attachments": {},
   "cell_type": "markdown",
   "metadata": {},
   "source": [
    "#### Outliers\n",
    "- Def.: observação distante dos demais dados;\n",
    "- Podem não representar os dados corretamente\n",
    "- Puxam média e desvio\n",
    "- Testes estatísticos e modelos de ML precisam de dados distribuidos."
   ]
  },
  {
   "cell_type": "code",
   "execution_count": 19,
   "metadata": {},
   "outputs": [
    {
     "name": "stdout",
     "output_type": "stream",
     "text": [
      "count       607.000000\n",
      "mean     107225.836903\n",
      "std       67752.393254\n",
      "min        2730.000000\n",
      "25%       59893.000000\n",
      "50%       96982.000000\n",
      "75%      143225.000000\n",
      "max      572900.000000\n",
      "Name: Salary_USD, dtype: float64\n"
     ]
    }
   ],
   "source": [
    "print(df['Salary_USD'].describe()) # procurar estatísticas 1o e 3o quartil.\n",
    "iqr = df['Salary_USD'].describe()['75%'] - df['Salary_USD'].describe()['25%']  # interquartile range: 3o - 1o \n",
    "\n",
    "# ou\n",
    "iqr = df['Salary_USD'].quantile(0.75) - df['Salary_USD'].quantile(0.25)\n",
    "\n",
    "upper_limit = df['Salary_USD'].describe()['75%'] + 1.5*iqr # limite superior: acima disso é outlier\n",
    "lower_limit = df['Salary_USD'].describe()['25%'] - 1.5*iqr # limite inferior: abaixo disso é outlier"
   ]
  },
  {
   "cell_type": "code",
   "execution_count": 22,
   "metadata": {},
   "outputs": [
    {
     "data": {
      "text/html": [
       "<div>\n",
       "<style scoped>\n",
       "    .dataframe tbody tr th:only-of-type {\n",
       "        vertical-align: middle;\n",
       "    }\n",
       "\n",
       "    .dataframe tbody tr th {\n",
       "        vertical-align: top;\n",
       "    }\n",
       "\n",
       "    .dataframe thead th {\n",
       "        text-align: right;\n",
       "    }\n",
       "</style>\n",
       "<table border=\"1\" class=\"dataframe\">\n",
       "  <thead>\n",
       "    <tr style=\"text-align: right;\">\n",
       "      <th></th>\n",
       "      <th>Working_Year</th>\n",
       "      <th>Designation</th>\n",
       "      <th>Experience</th>\n",
       "      <th>Employment_Status</th>\n",
       "      <th>Employee_Location</th>\n",
       "      <th>Company_Size</th>\n",
       "      <th>Remote_Working_Ratio</th>\n",
       "      <th>Salary_USD</th>\n",
       "      <th>Job_category</th>\n",
       "    </tr>\n",
       "  </thead>\n",
       "  <tbody>\n",
       "    <tr>\n",
       "      <th>25</th>\n",
       "      <td>2020</td>\n",
       "      <td>Director of Data Science</td>\n",
       "      <td>Executive</td>\n",
       "      <td>FT</td>\n",
       "      <td>US</td>\n",
       "      <td>L</td>\n",
       "      <td>100</td>\n",
       "      <td>310321.0</td>\n",
       "      <td>Other</td>\n",
       "    </tr>\n",
       "    <tr>\n",
       "      <th>33</th>\n",
       "      <td>2020</td>\n",
       "      <td>Research Scientist</td>\n",
       "      <td>Mid</td>\n",
       "      <td>FT</td>\n",
       "      <td>US</td>\n",
       "      <td>M</td>\n",
       "      <td>0</td>\n",
       "      <td>429675.0</td>\n",
       "      <td>Other</td>\n",
       "    </tr>\n",
       "    <tr>\n",
       "      <th>63</th>\n",
       "      <td>2020</td>\n",
       "      <td>Data Scientist</td>\n",
       "      <td>Senior</td>\n",
       "      <td>FT</td>\n",
       "      <td>US</td>\n",
       "      <td>L</td>\n",
       "      <td>100</td>\n",
       "      <td>393392.0</td>\n",
       "      <td>Data Science</td>\n",
       "    </tr>\n",
       "    <tr>\n",
       "      <th>97</th>\n",
       "      <td>2021</td>\n",
       "      <td>Financial Data Analyst</td>\n",
       "      <td>Mid</td>\n",
       "      <td>FT</td>\n",
       "      <td>US</td>\n",
       "      <td>L</td>\n",
       "      <td>100</td>\n",
       "      <td>429675.0</td>\n",
       "      <td>Data Analytics</td>\n",
       "    </tr>\n",
       "    <tr>\n",
       "      <th>157</th>\n",
       "      <td>2021</td>\n",
       "      <td>Applied Machine Learning Scientist</td>\n",
       "      <td>Mid</td>\n",
       "      <td>FT</td>\n",
       "      <td>US</td>\n",
       "      <td>L</td>\n",
       "      <td>50</td>\n",
       "      <td>403895.0</td>\n",
       "      <td>Machine Learning</td>\n",
       "    </tr>\n",
       "    <tr>\n",
       "      <th>225</th>\n",
       "      <td>2021</td>\n",
       "      <td>Principal Data Scientist</td>\n",
       "      <td>Executive</td>\n",
       "      <td>CT</td>\n",
       "      <td>US</td>\n",
       "      <td>S</td>\n",
       "      <td>100</td>\n",
       "      <td>397211.0</td>\n",
       "      <td>Data Science</td>\n",
       "    </tr>\n",
       "    <tr>\n",
       "      <th>252</th>\n",
       "      <td>2021</td>\n",
       "      <td>Principal Data Engineer</td>\n",
       "      <td>Executive</td>\n",
       "      <td>FT</td>\n",
       "      <td>US</td>\n",
       "      <td>L</td>\n",
       "      <td>100</td>\n",
       "      <td>572900.0</td>\n",
       "      <td>Data Engineer</td>\n",
       "    </tr>\n",
       "    <tr>\n",
       "      <th>482</th>\n",
       "      <td>2022</td>\n",
       "      <td>Data Engineer</td>\n",
       "      <td>Executive</td>\n",
       "      <td>FT</td>\n",
       "      <td>US</td>\n",
       "      <td>M</td>\n",
       "      <td>100</td>\n",
       "      <td>309366.0</td>\n",
       "      <td>Data Engineer</td>\n",
       "    </tr>\n",
       "    <tr>\n",
       "      <th>519</th>\n",
       "      <td>2022</td>\n",
       "      <td>Applied Data Scientist</td>\n",
       "      <td>Senior</td>\n",
       "      <td>FT</td>\n",
       "      <td>US</td>\n",
       "      <td>L</td>\n",
       "      <td>100</td>\n",
       "      <td>362837.0</td>\n",
       "      <td>Data Science</td>\n",
       "    </tr>\n",
       "    <tr>\n",
       "      <th>523</th>\n",
       "      <td>2022</td>\n",
       "      <td>Data Analytics Lead</td>\n",
       "      <td>Senior</td>\n",
       "      <td>FT</td>\n",
       "      <td>US</td>\n",
       "      <td>L</td>\n",
       "      <td>100</td>\n",
       "      <td>386708.0</td>\n",
       "      <td>Data Analytics</td>\n",
       "    </tr>\n",
       "  </tbody>\n",
       "</table>\n",
       "</div>"
      ],
      "text/plain": [
       "     Working_Year                         Designation Experience  \\\n",
       "25           2020            Director of Data Science  Executive   \n",
       "33           2020                  Research Scientist        Mid   \n",
       "63           2020                      Data Scientist     Senior   \n",
       "97           2021              Financial Data Analyst        Mid   \n",
       "157          2021  Applied Machine Learning Scientist        Mid   \n",
       "225          2021            Principal Data Scientist  Executive   \n",
       "252          2021             Principal Data Engineer  Executive   \n",
       "482          2022                       Data Engineer  Executive   \n",
       "519          2022              Applied Data Scientist     Senior   \n",
       "523          2022                 Data Analytics Lead     Senior   \n",
       "\n",
       "    Employment_Status Employee_Location Company_Size  Remote_Working_Ratio  \\\n",
       "25                 FT                US            L                   100   \n",
       "33                 FT                US            M                     0   \n",
       "63                 FT                US            L                   100   \n",
       "97                 FT                US            L                   100   \n",
       "157                FT                US            L                    50   \n",
       "225                CT                US            S                   100   \n",
       "252                FT                US            L                   100   \n",
       "482                FT                US            M                   100   \n",
       "519                FT                US            L                   100   \n",
       "523                FT                US            L                   100   \n",
       "\n",
       "     Salary_USD      Job_category  \n",
       "25     310321.0             Other  \n",
       "33     429675.0             Other  \n",
       "63     393392.0      Data Science  \n",
       "97     429675.0    Data Analytics  \n",
       "157    403895.0  Machine Learning  \n",
       "225    397211.0      Data Science  \n",
       "252    572900.0     Data Engineer  \n",
       "482    309366.0     Data Engineer  \n",
       "519    362837.0      Data Science  \n",
       "523    386708.0    Data Analytics  "
      ]
     },
     "execution_count": 22,
     "metadata": {},
     "output_type": "execute_result"
    }
   ],
   "source": [
    "df[(df['Salary_USD']<lower_limit)|(df['Salary_USD']>upper_limit)] # visualizar outliers\n",
    "df[(df['Salary_USD']>lower_limit)&(df['Salary_USD']<upper_limit)]  # filtrar outliers pra fora"
   ]
  },
  {
   "cell_type": "code",
   "execution_count": 25,
   "metadata": {},
   "outputs": [
    {
     "data": {
      "image/png": "[encoded data removed]",
      "text/plain": [
       "<Figure size 640x480 with 1 Axes>"
      ]
     },
     "metadata": {},
     "output_type": "display_data"
    }
   ],
   "source": [
    "sns.histplot(data=df,x=\"Salary_USD\")\n",
    "plt.show()"
   ]
  },
  {
   "cell_type": "code",
   "execution_count": 26,
   "metadata": {},
   "outputs": [
    {
     "data": {
      "image/png": "[encoded data removed]",
      "text/plain": [
       "<Figure size 640x480 with 1 Axes>"
      ]
     },
     "metadata": {},
     "output_type": "display_data"
    }
   ],
   "source": [
    "sns.histplot(data=df[(df['Salary_USD']>lower_limit)&(df['Salary_USD']<upper_limit)] ,x=\"Salary_USD\")\n",
    "plt.show()"
   ]
  }
 ],
 "metadata": {
  "kernelspec": {
   "display_name": "Python 3",
   "language": "python",
   "name": "python3"
  },
  "language_info": {
   "codemirror_mode": {
    "name": "ipython",
    "version": 3
   },
   "file_extension": ".py",
   "mimetype": "text/x-python",
   "name": "python",
   "nbconvert_exporter": "python",
   "pygments_lexer": "ipython3",
   "version": "3.9.13"
  },
  "orig_nbformat": 4
 },
 "nbformat": 4,
 "nbformat_minor": 2
}
