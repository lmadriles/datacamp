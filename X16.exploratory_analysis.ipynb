{
 "cells": [
  {
   "attachments": {},
   "cell_type": "markdown",
   "metadata": {},
   "source": [
    "Definição: o processo de revisar e limpar dados para obtermos insights (como estatística descritiva e correlação) e gerar hipóteses."
   ]
  },
  {
   "attachments": {},
   "cell_type": "markdown",
   "metadata": {},
   "source": [
    "## Conhecer o dataset"
   ]
  },
  {
   "cell_type": "code",
   "execution_count": 2,
   "metadata": {},
   "outputs": [],
   "source": [
    "import pandas as pd\n",
    "df = pd.DataFrame()"
   ]
  },
  {
   "cell_type": "code",
   "execution_count": null,
   "metadata": {},
   "outputs": [],
   "source": [
    "df.info() # non-nulls, object types\n",
    "df['column'].value_counts() # value counts\n",
    "df['column'].describe() # statistics from this variable\n",
    "df.describe() # statistics for each numerical column"
   ]
  },
  {
   "cell_type": "code",
   "execution_count": null,
   "metadata": {},
   "outputs": [],
   "source": [
    "# visualização: seaborn e matplotlib\n",
    "import seaborn as sns\n",
    "import matplotlib.pyplot as plt\n",
    "\n",
    "sns.histplot(data=df, x='column', binwidth=.1)\n",
    "plt.show()"
   ]
  },
  {
   "attachments": {},
   "cell_type": "markdown",
   "metadata": {},
   "source": [
    "### Data validation\n",
    "\n",
    "- Verificar se õs dados estão dentro dos intervalos esperados."
   ]
  },
  {
   "cell_type": "code",
   "execution_count": null,
   "metadata": {},
   "outputs": [],
   "source": [
    "df.info() # função que dá os datatypes e contagem de valores não nulos de cada coluna\n",
    "df.dtypes # atribuito que dá apenas os datatypes das colunas\n",
    "\n",
    "# editing datatypes:\n",
    "df['column'] = df['column'].astype(int)"
   ]
  },
  {
   "cell_type": "code",
   "execution_count": null,
   "metadata": {},
   "outputs": [],
   "source": [
    "# validando dados categóricos\n",
    "df['column'].unique()\n",
    "df['column'].isin(['value_1','value_2']) # series de bool; pode ser usado pra filtrar\n",
    "~df['column'].isin(['value_1','value_2']) # '~' inverte True com False"
   ]
  },
  {
   "cell_type": "code",
   "execution_count": null,
   "metadata": {},
   "outputs": [],
   "source": [
    "# validando dados numéricos:\n",
    "df.select_dtypes(\"number\") # filtra o df apenas para colunas numéricas\n",
    "df['column'].min()\n",
    "df['column'].max()\n",
    "\n",
    "# boxplot:\n",
    "sns.boxplot(data=df, x='column')\n",
    "plt.show()\n",
    "\n",
    "# multiplos boxplots (uma variável agrupada por uma outra variável categórica)\n",
    "sns.boxplot(data=df, x='numeric_column', y='categorical_column')\n",
    "plt.show()\n"
   ]
  },
  {
   "attachments": {},
   "cell_type": "markdown",
   "metadata": {},
   "source": [
    "### Data Sumarization"
   ]
  },
  {
   "cell_type": "code",
   "execution_count": null,
   "metadata": {},
   "outputs": [],
   "source": [
    "df.groupby(\"categorical_column\").mean() # pega a média de todas as colunas numéricas\n",
    "# outras funções agregadoras: .sum(), .count(), .min(), .max(), .var(), .std()   e .agg()\n",
    "\n",
    "# .agg() permite selecionar funções diferentes:\n",
    "df.groupby(\"categorical_column\").agg([\"mean\", \"std\"]) # lista: pega a média e o desvio pra cada variável numérica\n",
    "df.groupby(\"categorical_column\").agg({\"column2\": \"count\", \"column3\": \"sum\"}) # dict: chave determina a coluna e o valor determina a função\n",
    "df.groupby(\"categorical_column\").agg(mean_column2=(\"column2\", \"mean\"),      # tuples: nome é o nome da coluna a ser criada, \n",
    "                                    std_column2=(\"column2\", \"std\"),                   # primeiro argumento é a variável a ser tirada a métrica \n",
    "                                    median_column3=(\"column3\", \"median\"))            # terceiro é a métrica a ser tirada\n",
    "                                                                                      # lembrando que as linhas serão as categorias agrupadas"
   ]
  },
  {
   "cell_type": "code",
   "execution_count": null,
   "metadata": {},
   "outputs": [],
   "source": [
    "# barplot: semelhante ao groupby, mostra média e barra de erro mostra std\n",
    "sns.barplot(data=df, x='categorical_column', y='numerical_column')\n",
    "plt.show()"
   ]
  },
  {
   "attachments": {},
   "cell_type": "markdown",
   "metadata": {},
   "source": [
    "## Tratamento"
   ]
  },
  {
   "attachments": {},
   "cell_type": "markdown",
   "metadata": {},
   "source": [
    "### Ausência de dados\n",
    "\n",
    "- Remover os registros se eles representarem  ausencia maior igual a 5% em uma variável;\n",
    "- Imputação: substituir por alguma estatística;\n",
    "- Imputar por subgrupo: pegar a mediana de cada categoria de uma variável escolhida;\n"
   ]
  },
  {
   "cell_type": "code",
   "execution_count": null,
   "metadata": {},
   "outputs": [],
   "source": [
    "print(df.isna().sum()) # soma os booleanos True de dados faltantes por coluna"
   ]
  },
  {
   "cell_type": "code",
   "execution_count": null,
   "metadata": {},
   "outputs": [],
   "source": [
    "# dropar colunas:\n",
    "limite = len(df) * 0.05 # pega somente o len vertical\n",
    "cols_to_drop = df.columns[df.isna().sum() <= limite]\n",
    "df = df.dropna(subset=cols_to_drop)"
   ]
  },
  {
   "cell_type": "code",
   "execution_count": null,
   "metadata": {},
   "outputs": [],
   "source": [
    "# imputing:\n",
    "cols_with_nas = df.columns[df.isna().sum() < 0]\n",
    "\n",
    "for col in cols_with_nas:\n",
    "    df[col].fillna(df[col].median()[0]) # pra que esse `[0]`?"
   ]
  },
  {
   "cell_type": "code",
   "execution_count": null,
   "metadata": {},
   "outputs": [],
   "source": [
    "# imputing by subgroup:\n",
    "median_dict = df.groupby(\"categorical_column\")['variable'].median().to_dict()\n",
    "    # dicionário com o nome da categoria: mediana de variable para cada categoria\n",
    "\n",
    "df['variable'] = df['variable'].fillna(df['categorical_column'].map(median_dict))"
   ]
  }
 ],
 "metadata": {
  "kernelspec": {
   "display_name": "Python 3",
   "language": "python",
   "name": "python3"
  },
  "language_info": {
   "codemirror_mode": {
    "name": "ipython",
    "version": 3
   },
   "file_extension": ".py",
   "mimetype": "text/x-python",
   "name": "python",
   "nbconvert_exporter": "python",
   "pygments_lexer": "ipython3",
   "version": "3.7.6"
  },
  "orig_nbformat": 4
 },
 "nbformat": 4,
 "nbformat_minor": 2
}
