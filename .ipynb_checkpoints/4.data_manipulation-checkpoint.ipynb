{
 "cells": [
  {
   "cell_type": "markdown",
   "metadata": {},
   "source": [
    "# Manipulação de dados (curso 4 no career track)"
   ]
  },
  {
   "cell_type": "code",
   "execution_count": 6,
   "metadata": {},
   "outputs": [],
   "source": [
    "import pandas as pd"
   ]
  },
  {
   "cell_type": "markdown",
   "metadata": {},
   "source": [
    "Rectangular data: ou dados tabulares. Forma de armazenar dados para análise. Mais comum. No pandas teremos o DataFrame\n",
    "\n",
    "**Métodos:** (só revisando)\n",
    "\n",
    "head() -> mostra as primeiras x linhas do dataframe (default = 5)\n",
    "\n",
    "info() -> exibe um monte de informações (veja em 02.2DataFrames) a respeito do df. \n",
    "\n",
    "describe() -> exibe algumas estatísticas (média, desvio e limites do boxplot)\n",
    "\n",
    "\n",
    "\n",
    "**Atributos:** (sem parentesis)\n",
    "\n",
    "shape -> tuple com o número de linhas, colunas\n",
    "\n",
    "values -> um dos três componentes do df. Todos os valores presentes no df armazenados em uma numpy array 2D\n",
    "\n",
    "columns -> componente do df. São os labels de colunas\n",
    "\n",
    "index -> componente do df. São os labels de linhas. Pode ser strings ou números\n",
    "\n",
    "**Filosofia:** The Zen of Python\n",
    "\n",
    "\"Deve haver um, e preferencialmente apenas um, jeito óbvio de fazer algo\" - Filosofia não seguida pelo pandas."
   ]
  },
  {
   "cell_type": "code",
   "execution_count": 2,
   "metadata": {
    "collapsed": true
   },
   "outputs": [
    {
     "ename": "NameError",
     "evalue": "name 'df' is not defined",
     "output_type": "error",
     "traceback": [
      "\u001b[1;31m---------------------------------------------------------------------------\u001b[0m",
      "\u001b[1;31mNameError\u001b[0m                                 Traceback (most recent call last)",
      "\u001b[1;32m<ipython-input-2-f903a66df13f>\u001b[0m in \u001b[0;36m<module>\u001b[1;34m\u001b[0m\n\u001b[0;32m      1\u001b[0m \u001b[1;31m# ordenando:\u001b[0m\u001b[1;33m\u001b[0m\u001b[1;33m\u001b[0m\u001b[1;33m\u001b[0m\u001b[0m\n\u001b[1;32m----> 2\u001b[1;33m \u001b[0mdf\u001b[0m\u001b[1;33m.\u001b[0m\u001b[0msort_values\u001b[0m\u001b[1;33m(\u001b[0m\u001b[1;34m'label_da_coluna_tal'\u001b[0m\u001b[1;33m)\u001b[0m \u001b[1;31m# -> põe em ordem crescente o dataframe de acordo com os valores daquela coluna\u001b[0m\u001b[1;33m\u001b[0m\u001b[1;33m\u001b[0m\u001b[0m\n\u001b[0m\u001b[0;32m      3\u001b[0m \u001b[0mdf\u001b[0m\u001b[1;33m.\u001b[0m\u001b[0msort_values\u001b[0m\u001b[1;33m(\u001b[0m\u001b[1;34m'label_da_coluna_tal'\u001b[0m\u001b[1;33m,\u001b[0m \u001b[0mascending\u001b[0m \u001b[1;33m=\u001b[0m \u001b[1;32mFalse\u001b[0m\u001b[1;33m)\u001b[0m \u001b[1;31m# ordem decrescente\u001b[0m\u001b[1;33m\u001b[0m\u001b[1;33m\u001b[0m\u001b[0m\n\u001b[0;32m      4\u001b[0m \u001b[0mdf\u001b[0m\u001b[1;33m.\u001b[0m\u001b[0msort_values\u001b[0m\u001b[1;33m(\u001b[0m\u001b[1;33m[\u001b[0m\u001b[1;34m'coluna_1'\u001b[0m\u001b[1;33m,\u001b[0m \u001b[1;34m'coluna_2'\u001b[0m\u001b[1;33m]\u001b[0m\u001b[1;33m)\u001b[0m \u001b[1;31m# poe na ordem em relação a uma lista de colunas (a prioridade é da primeira); funciona como um critério de desempate.\u001b[0m\u001b[1;33m\u001b[0m\u001b[1;33m\u001b[0m\u001b[0m\n\u001b[0;32m      5\u001b[0m \u001b[0mdf\u001b[0m\u001b[1;33m.\u001b[0m\u001b[0msort_values\u001b[0m\u001b[1;33m(\u001b[0m\u001b[1;33m[\u001b[0m\u001b[1;34m'coluna_1'\u001b[0m\u001b[1;33m,\u001b[0m \u001b[1;34m'coluna_2'\u001b[0m\u001b[1;33m]\u001b[0m\u001b[1;33m,\u001b[0m \u001b[0mascending\u001b[0m \u001b[1;33m=\u001b[0m \u001b[1;33m[\u001b[0m\u001b[1;32mTrue\u001b[0m\u001b[1;33m,\u001b[0m \u001b[1;32mFalse\u001b[0m\u001b[1;33m]\u001b[0m\u001b[1;33m)\u001b[0m \u001b[1;31m#ascending precisa de lista de mesmo tamanho da lista de colunas\u001b[0m\u001b[1;33m\u001b[0m\u001b[1;33m\u001b[0m\u001b[0m\n",
      "\u001b[1;31mNameError\u001b[0m: name 'df' is not defined"
     ]
    }
   ],
   "source": [
    "# ordenando:\n",
    "df.sort_values('label_da_coluna_tal') # -> põe em ordem crescente o dataframe de acordo com os valores daquela coluna\n",
    "df.sort_values('label_da_coluna_tal', ascending = False) # ordem decrescente\n",
    "df.sort_values(['coluna_1', 'coluna_2']) # poe na ordem em relação a uma lista de colunas (a prioridade é da primeira); \n",
    "# funciona como um critério de desempate.\n",
    "df.sort_values(['coluna_1', 'coluna_2'], ascending = [True, False]) # ascending precisa de lista de mesmo tamanho\n"
   ]
  },
  {
   "cell_type": "code",
   "execution_count": 3,
   "metadata": {
    "collapsed": true
   },
   "outputs": [
    {
     "ename": "NameError",
     "evalue": "name 'df' is not defined",
     "output_type": "error",
     "traceback": [
      "\u001b[1;31m---------------------------------------------------------------------------\u001b[0m",
      "\u001b[1;31mNameError\u001b[0m                                 Traceback (most recent call last)",
      "\u001b[1;32m<ipython-input-3-756ba5c58e04>\u001b[0m in \u001b[0;36m<module>\u001b[1;34m\u001b[0m\n\u001b[0;32m      1\u001b[0m \u001b[1;31m# Subconjunto de colunas do dataframe (isolando colunas)\u001b[0m\u001b[1;33m\u001b[0m\u001b[1;33m\u001b[0m\u001b[1;33m\u001b[0m\u001b[0m\n\u001b[1;32m----> 2\u001b[1;33m \u001b[0mdf\u001b[0m\u001b[1;33m[\u001b[0m\u001b[1;34m\"coluna\"\u001b[0m\u001b[1;33m]\u001b[0m\u001b[1;33m\u001b[0m\u001b[1;33m\u001b[0m\u001b[0m\n\u001b[0m\u001b[0;32m      3\u001b[0m \u001b[0mdf\u001b[0m\u001b[1;33m[\u001b[0m\u001b[1;33m[\u001b[0m\u001b[1;34m'coluna_1'\u001b[0m\u001b[1;33m,\u001b[0m \u001b[1;34m'coluna_2'\u001b[0m\u001b[1;33m]\u001b[0m\u001b[1;33m]\u001b[0m \u001b[1;31m# colchete recebe lista de colunas (por isso duplo)\u001b[0m\u001b[1;33m\u001b[0m\u001b[1;33m\u001b[0m\u001b[0m\n",
      "\u001b[1;31mNameError\u001b[0m: name 'df' is not defined"
     ]
    }
   ],
   "source": [
    "# Subconjunto de colunas do dataframe (isolando colunas)\n",
    "df[\"coluna\"] \n",
    "df[['coluna_1', 'coluna_2']] # colchete recebe lista de colunas (por isso duplo)"
   ]
  },
  {
   "cell_type": "code",
   "execution_count": null,
   "metadata": {},
   "outputs": [],
   "source": [
    "# subconjunto de linhas (isolando linhas)\n",
    "df[\"coluna_1\"] > 50 # teste lógico: resulta em booleano de mesmo shape da coluna\n",
    "df[df[\"coluna_1\"] > 50] # colchete recebe booleano e seleciona as linhas que coincidem com os True da lista de booleanos\n",
    "# subconjunto usando datas\n",
    "df[df[\"data\"] > '2020-01-01'] # recomendado usar esse formato de data pois o teste vai usar a ordem alfabética, \n",
    "# então a data deve vir em ordem de prioridade de seleçao"
   ]
  },
  {
   "cell_type": "code",
   "execution_count": null,
   "metadata": {},
   "outputs": [],
   "source": [
    "# usando condições multiplas\n",
    "is_good = df['coluna'] == \"Good\" #o teste pode ser armazenado em uma variável a ser chamada dentro dos colchetes\n",
    "is_bad = df['coluna'] == \"Bad\"\n",
    "df[is_good & is_bad] # & = E\n",
    "# pra fazer em uma linha só é necessario parentesis entre cada condição\n",
    "df[(df['coluna_1']>10) & (df['coluna_1']<0)]  \n",
    "\n",
    "# filtrando varios valores da mesma variável (coluna)\n",
    "is_good_or_bad = df['coluna'].isin([\"Good\",\"Bad\"]) # filtra de uma lista de valores\n",
    "df[is_good_or_bad] "
   ]
  },
  {
   "cell_type": "markdown",
   "metadata": {},
   "source": [
    "### Adicionando ao DataFrame"
   ]
  },
  {
   "cell_type": "code",
   "execution_count": 5,
   "metadata": {
    "scrolled": true
   },
   "outputs": [
    {
     "ename": "NameError",
     "evalue": "name 'df' is not defined",
     "output_type": "error",
     "traceback": [
      "\u001b[1;31m---------------------------------------------------------------------------\u001b[0m",
      "\u001b[1;31mNameError\u001b[0m                                 Traceback (most recent call last)",
      "\u001b[1;32m<ipython-input-5-dccdd3be1421>\u001b[0m in \u001b[0;36m<module>\u001b[1;34m\u001b[0m\n\u001b[0;32m      1\u001b[0m \u001b[1;31m# nova coluna (basta atribuir um valor a ela, como se já existisse)\u001b[0m\u001b[1;33m\u001b[0m\u001b[1;33m\u001b[0m\u001b[1;33m\u001b[0m\u001b[0m\n\u001b[1;32m----> 2\u001b[1;33m \u001b[0mdf\u001b[0m\u001b[1;33m[\u001b[0m\u001b[1;34m'coluna'\u001b[0m\u001b[1;33m]\u001b[0m \u001b[1;33m=\u001b[0m \u001b[1;34m'qualquer coisa que tenha mesmo shape do dataframe'\u001b[0m\u001b[1;33m\u001b[0m\u001b[1;33m\u001b[0m\u001b[0m\n\u001b[0m",
      "\u001b[1;31mNameError\u001b[0m: name 'df' is not defined"
     ]
    }
   ],
   "source": [
    "# nova coluna (basta atribuir um valor a ela, como se já existisse)\n",
    "df['coluna'] = 'qualquer coisa que tenha mesmo shape do dataframe (na direção vertical = #linhas)'\n",
    "# normalmente usamos dados de outra coluna:\n",
    "df['coluna'] = df['coluna*100'] * 100\n"
   ]
  },
  {
   "cell_type": "markdown",
   "metadata": {},
   "source": [
    "# Agregação de dados"
   ]
  },
  {
   "cell_type": "markdown",
   "metadata": {},
   "source": [
    "### Estatísticas resumidas (summary statistics)\n",
    "\n",
    "estatísticas que descrevem a variável (coluna).\n",
    "\n",
    "**Retornam Valor único**\n",
    "df['algo'].mean() # método do Pandas DataFrame, não do numpy\n",
    "median();\n",
    "mode();\n",
    "min();\n",
    "max();\n",
    "var();\n",
    "std();\n",
    "sum();\n",
    "quantiles() -> divisão da distribuição em partes iguais (ex.: /100 = percentil)\n",
    "\n",
    "**Retornam Series**\n",
    "cumsum() -> soma acumulada (depende da ordem das linhas, claro)\n",
    "cummax() -> máximo acumulado (máximo entre o subset percorrido?)\n",
    "cummin() -> mínimo acumulado (mínimo entre o subset percorrido?)\n",
    "comprod() -> produto acumulado\n",
    "\n",
    "**Retorna DataFrame** \n",
    "agg() -> aplica uma função (ou lista de funções) ou método (não funcionou com métodos pandas dataframe.exemplo) à coluna\n",
    " \n"
   ]
  },
  {
   "cell_type": "code",
   "execution_count": null,
   "metadata": {},
   "outputs": [],
   "source": [
    "# .agg(): aplica uma função (ou lista de funções) ou método à coluna\n",
    "import numpy as np\n",
    "\n",
    "# usando numpy:\n",
    "df[['algo','outro']].agg(np.mean)\n",
    "# se for usar método de dataframe dentro de .agg(), use aspas ao redor do nome: 'count', 'mean', 'median',..."
   ]
  },
  {
   "cell_type": "code",
   "execution_count": null,
   "metadata": {},
   "outputs": [],
   "source": [
    "# Agrupar em one-to-many:\n",
    "counted_df = licenses_owners.groupby('title').agg({'coluna2':'count'})\n",
    "# no dicionário: key deve ser o nome da coluna e o valor deve ser o nome do método entre aspas: 'count', 'mean', 'median',...\n",
    "# agrupou o dataframe por title, retornou dataframe com as informações do método value_counts() para a variável account"
   ]
  },
  {
   "cell_type": "code",
   "execution_count": null,
   "metadata": {},
   "outputs": [],
   "source": [
    "# quantil\n",
    "def pct30(column):\n",
    "    return column.quantile(0.3) # trigésimo percentil \n",
    "\n",
    "df['algo'].agg(pct30) # chama a função dentro do método agg (??)\n",
    "# porque não faz logo df['algo'].quantile(0.3) ?\n",
    "df[['algo','outro']].agg(pct30) # aplicando a duas colunas. saída é uma Series\n",
    "df['algo'].agg([pct30,pct40]) # aplicando mais de uma função. saída é uma Series\n",
    "    # pode ser uma função ou método de dataframe (ou até de numpy: )\n",
    "\n",
    "# outro exemplo:\n",
    "def iqr(column):\n",
    "    return column.quantile(0.75) - column.quantile(0.25)\n",
    "\n",
    "print(sales[[\"temperature_c\", 'fuel_price_usd_per_l', 'unemployment']].agg(iqr))\n",
    "\n"
   ]
  },
  {
   "cell_type": "markdown",
   "metadata": {},
   "source": [
    "### Contagem\n",
    "\n",
    "Para dados categóricos."
   ]
  },
  {
   "cell_type": "code",
   "execution_count": null,
   "metadata": {},
   "outputs": [],
   "source": [
    "# contando:\n",
    "df[\"coluna\"].value_counts() # conta a frequencia dos valores categóricos na variável \"coluna\"\n",
    "df[\"coluna\"].value_counts(sort=True) # põe em ordem decrescente de frequencia \n",
    "df[\"coluna\"].value_counts(normalize=True) # usa a frequencia relativa no lugar da total\n"
   ]
  },
  {
   "cell_type": "code",
   "execution_count": 1,
   "metadata": {
    "collapsed": true
   },
   "outputs": [
    {
     "ename": "NameError",
     "evalue": "name 'df' is not defined",
     "output_type": "error",
     "traceback": [
      "\u001b[1;31m---------------------------------------------------------------------------\u001b[0m",
      "\u001b[1;31mNameError\u001b[0m                                 Traceback (most recent call last)",
      "\u001b[1;32m<ipython-input-1-f446245ae0b4>\u001b[0m in \u001b[0;36m<module>\u001b[1;34m\u001b[0m\n\u001b[0;32m      1\u001b[0m \u001b[1;31m# dropando duplicatas\u001b[0m\u001b[1;33m\u001b[0m\u001b[1;33m\u001b[0m\u001b[1;33m\u001b[0m\u001b[0m\n\u001b[1;32m----> 2\u001b[1;33m \u001b[0mdf\u001b[0m\u001b[1;33m.\u001b[0m\u001b[0mdrop_duplicates\u001b[0m\u001b[1;33m(\u001b[0m\u001b[0msubset\u001b[0m\u001b[1;33m=\u001b[0m\u001b[1;34m\"coluna_1\"\u001b[0m\u001b[1;33m)\u001b[0m\u001b[1;33m\u001b[0m\u001b[1;33m\u001b[0m\u001b[0m\n\u001b[0m\u001b[0;32m      3\u001b[0m \u001b[0mdf\u001b[0m\u001b[1;33m.\u001b[0m\u001b[0mdrop_duplicates\u001b[0m\u001b[1;33m(\u001b[0m\u001b[0msubset\u001b[0m\u001b[1;33m=\u001b[0m\u001b[1;33m[\u001b[0m\u001b[1;34m\"coluna_1\"\u001b[0m\u001b[1;33m,\u001b[0m\u001b[1;34m\"coluna_2\"\u001b[0m\u001b[1;33m]\u001b[0m\u001b[1;33m)\u001b[0m \u001b[1;31m# dropa pares repetidos apenas\u001b[0m\u001b[1;33m\u001b[0m\u001b[1;33m\u001b[0m\u001b[0m\n",
      "\u001b[1;31mNameError\u001b[0m: name 'df' is not defined"
     ]
    }
   ],
   "source": [
    "# dropando duplicatas\n",
    "df.drop_duplicates(subset=\"coluna_1\")\n",
    "df.drop_duplicates(subset=[\"coluna_1\",\"coluna_2\"]) # dropa pares repetidos apenas"
   ]
  },
  {
   "cell_type": "markdown",
   "metadata": {},
   "source": [
    "### Agrupamento"
   ]
  },
  {
   "cell_type": "code",
   "execution_count": 2,
   "metadata": {
    "collapsed": true
   },
   "outputs": [
    {
     "ename": "NameError",
     "evalue": "name 'df' is not defined",
     "output_type": "error",
     "traceback": [
      "\u001b[1;31m---------------------------------------------------------------------------\u001b[0m",
      "\u001b[1;31mNameError\u001b[0m                                 Traceback (most recent call last)",
      "\u001b[1;32m<ipython-input-2-39092d65474e>\u001b[0m in \u001b[0;36m<module>\u001b[1;34m\u001b[0m\n\u001b[0;32m      1\u001b[0m \u001b[1;31m# Sumario por grupo\u001b[0m\u001b[1;33m\u001b[0m\u001b[1;33m\u001b[0m\u001b[1;33m\u001b[0m\u001b[0m\n\u001b[1;32m----> 2\u001b[1;33m \u001b[0mdf\u001b[0m\u001b[1;33m[\u001b[0m\u001b[0mdf\u001b[0m\u001b[1;33m[\u001b[0m\u001b[1;34m\"coluna\"\u001b[0m\u001b[1;33m]\u001b[0m \u001b[1;33m==\u001b[0m \u001b[1;34m'Valor_1'\u001b[0m\u001b[1;33m]\u001b[0m\u001b[1;33m[\u001b[0m\u001b[1;34m'variavel'\u001b[0m\u001b[1;33m]\u001b[0m\u001b[1;33m.\u001b[0m\u001b[0mmean\u001b[0m\u001b[1;33m(\u001b[0m\u001b[1;33m)\u001b[0m \u001b[1;31m# calcula a média da 'variavel' cuja 'coluna' passa no teste.\u001b[0m\u001b[1;33m\u001b[0m\u001b[1;33m\u001b[0m\u001b[0m\n\u001b[0m\u001b[0;32m      3\u001b[0m \u001b[1;31m# sumários agrupados\u001b[0m\u001b[1;33m\u001b[0m\u001b[1;33m\u001b[0m\u001b[1;33m\u001b[0m\u001b[0m\n\u001b[0;32m      4\u001b[0m \u001b[0mdf\u001b[0m\u001b[1;33m.\u001b[0m\u001b[0mgroupby\u001b[0m\u001b[1;33m(\u001b[0m\u001b[1;34m\"coluna\"\u001b[0m\u001b[1;33m)\u001b[0m\u001b[1;33m[\u001b[0m\u001b[1;34m'variavel'\u001b[0m\u001b[1;33m]\u001b[0m\u001b[1;33m.\u001b[0m\u001b[0mmean\u001b[0m\u001b[1;33m(\u001b[0m\u001b[1;33m)\u001b[0m \u001b[1;31m# a mesma coisa do de cima para todos os valores de \"coluna\", não só do \"Valor_1\"\u001b[0m\u001b[1;33m\u001b[0m\u001b[1;33m\u001b[0m\u001b[0m\n\u001b[0;32m      5\u001b[0m     \u001b[1;31m# calcula a média de 'variavel' pra cada grupo de valores de \"coluna\" -> retorna Series\u001b[0m\u001b[1;33m\u001b[0m\u001b[1;33m\u001b[0m\u001b[1;33m\u001b[0m\u001b[0m\n",
      "\u001b[1;31mNameError\u001b[0m: name 'df' is not defined"
     ]
    }
   ],
   "source": [
    "# Sumario por grupo\n",
    "df[df[\"coluna\"] == 'Valor_1']['variavel'].mean() # calcula a média da 'variavel' cuja 'coluna' passa no teste.\n",
    "# sumários agrupados\n",
    "df.groupby(\"coluna\")['variavel'].mean() # a mesma coisa do de cima para todos os valores de \"coluna\", não só do \"Valor_1\"\n",
    "    # calcula a média de 'variavel' pra cada grupo de valores de \"coluna\" -> retorna Series\n",
    "\n",
    "# sumários agrupados por várias estatisticas:\n",
    "df.groupby(\"coluna\")['variavel'].agg([min,max,sum]) # mesma coisa, só que várias estatísticas: Sai DataFrame\n",
    "# no exercicio não funcionou, foi necessário usar funções numpy (colocar 'np.' antes de cada função da lista)\n",
    "\n",
    "# agrupando por múltiplas colunas:\n",
    "df.groupby([\"coluna_1\",\"coluna_2\"])['variavel'].mean() # cada valor de \"coluna_1\" terá várias linhas, uma pra cada valor da \"coluna_2\"\n",
    "\n",
    "# calculando pra mais de uma variavel\n",
    "df.groupby([\"coluna\"])[['variavel_1','variavel_2']].mean()\n",
    "\n",
    "\n",
    "'''Resumindo: temos que selecionar uma ou várias:\n",
    "    - variável para agrupar (usar lista para várias)\n",
    "    - variável para calcular (usar lista para várias)\n",
    "    - o que calcular (usar .agg(lista) para várias)'''"
   ]
  },
  {
   "cell_type": "markdown",
   "metadata": {},
   "source": [
    "### Tabelas dinâmicas (pivot tables)\n",
    "\n",
    "São dataframes criados a partir de um dataframe, cruzando duas colunas e colocando o valor de uma terceira no corpo da tabela.\n",
    "\n",
    "Obs.: dá pra usar a tabela dinâmica pra criar um dataframe e usar .loc nele."
   ]
  },
  {
   "cell_type": "code",
   "execution_count": 3,
   "metadata": {
    "collapsed": true
   },
   "outputs": [
    {
     "ename": "NameError",
     "evalue": "name 'df' is not defined",
     "output_type": "error",
     "traceback": [
      "\u001b[1;31m---------------------------------------------------------------------------\u001b[0m",
      "\u001b[1;31mNameError\u001b[0m                                 Traceback (most recent call last)",
      "\u001b[1;32m<ipython-input-3-a6bf6119e61c>\u001b[0m in \u001b[0;36m<module>\u001b[1;34m\u001b[0m\n\u001b[1;32m----> 1\u001b[1;33m \u001b[0mdf\u001b[0m\u001b[1;33m.\u001b[0m\u001b[0mgroupby\u001b[0m\u001b[1;33m(\u001b[0m\u001b[1;34m\"coluna\"\u001b[0m\u001b[1;33m)\u001b[0m\u001b[1;33m[\u001b[0m\u001b[1;34m'variavel'\u001b[0m\u001b[1;33m]\u001b[0m\u001b[1;33m.\u001b[0m\u001b[0mmean\u001b[0m\u001b[1;33m(\u001b[0m\u001b[1;33m)\u001b[0m\u001b[1;33m\u001b[0m\u001b[1;33m\u001b[0m\u001b[0m\n\u001b[0m\u001b[0;32m      2\u001b[0m \u001b[1;31m# é a mesma coisa que\u001b[0m\u001b[1;33m\u001b[0m\u001b[1;33m\u001b[0m\u001b[1;33m\u001b[0m\u001b[0m\n\u001b[0;32m      3\u001b[0m \u001b[0mdf\u001b[0m\u001b[1;33m.\u001b[0m\u001b[0mpivot_table\u001b[0m\u001b[1;33m(\u001b[0m\u001b[0mvalues\u001b[0m\u001b[1;33m=\u001b[0m\u001b[1;34m'variavel'\u001b[0m\u001b[1;33m,\u001b[0m \u001b[0mindex\u001b[0m\u001b[1;33m=\u001b[0m\u001b[1;34m\"coluna\"\u001b[0m\u001b[1;33m)\u001b[0m \u001b[1;31m# default = mean.\u001b[0m\u001b[1;33m\u001b[0m\u001b[1;33m\u001b[0m\u001b[0m\n\u001b[0;32m      4\u001b[0m     \u001b[1;31m#values é o que se quer sumarizar (corpo da tabela) , index é a coluna que você quer agrupar\u001b[0m\u001b[1;33m\u001b[0m\u001b[1;33m\u001b[0m\u001b[1;33m\u001b[0m\u001b[0m\n\u001b[0;32m      5\u001b[0m \u001b[1;33m\u001b[0m\u001b[0m\n",
      "\u001b[1;31mNameError\u001b[0m: name 'df' is not defined"
     ]
    }
   ],
   "source": [
    "df.groupby(\"coluna\")['variavel'].mean()\n",
    "# é a mesma coisa que\n",
    "df.pivot_table(values='variavel', index=\"coluna\") # default = mean. \n",
    "    #values é o que se quer sumarizar (corpo da tabela) , index é a coluna que você quer agrupar\n",
    "\n",
    "# definindo a função do agrupamento\n",
    "df.pivot_table(values='variavel', index=\"coluna\", aggfunc=np.median)\n",
    "df.pivot_table(values='variavel', index=\"coluna\", aggfunc=[np.mean,np.median])\n",
    "\n",
    "# cruzando dados por duas colunas:\n",
    "df.pivot_table(values='variavel', index=\"coluna_1\", columns=\"coluna_2\")\n",
    "    # não exetamente igual a df.groupby([\"coluna_1\",\"coluna_2\"])['variavel'].mean() porque não agrupa\n",
    "    # ele dispoe os valores das variáveis nos labels de linhas e colunas, e quando não há correspondencia naquele par\n",
    "    # ele preenche o corpo da tabela com NaN. (que pode ser substituidos por zero):\n",
    "df.pivot_table(values='variavel', index=\"coluna_1\", columns=\"coluna_2\", fill_value = 0)\n",
    "    # adicionando uma ultima linha e coluna contendo as médias (excluindo os zeros preenchidos na linha acima):\n",
    "df.pivot_table(values='variavel', index=\"coluna_1\", columns=\"coluna_2\", fill_value = 0, margins = True)"
   ]
  },
  {
   "cell_type": "markdown",
   "metadata": {},
   "source": [
    "# Indexing e Slicing "
   ]
  },
  {
   "cell_type": "markdown",
   "metadata": {},
   "source": [
    "### Indexing -> configurando o índice"
   ]
  },
  {
   "cell_type": "code",
   "execution_count": null,
   "metadata": {},
   "outputs": [],
   "source": [
    "# método set index: coloca a coluna chamada como índice\n",
    "df2 = df1.set_index(\"index\") # valores não precisam ser únicos\n",
    "df.reset_index() # desfaz (precisa atribuir a alguma variável)\n",
    "df.reset_index(drop=True) # descarta a coluna que estava de índice"
   ]
  },
  {
   "cell_type": "code",
   "execution_count": null,
   "metadata": {},
   "outputs": [],
   "source": [
    "# lembrando que .loc usa esses valores que estamos fixando no index: facilita os subsettings (ato de fazer subconjunto)\n",
    "df[df['coluna'].isin([\"Good\",\"Bad\"])] # filtra valor da coluna\n",
    "# =\n",
    "df2 = df1.set_index(\"coluna\") # poe a coluna como indice\n",
    "df2.loc[[\"Good\",\"Bad\"]] # localiza pelo índice (relembrando: não precisa ser valor único no index)\n",
    "    # então chamar df2.loc[\"Good\"] retorna todas as linhas daquele item."
   ]
  },
  {
   "cell_type": "code",
   "execution_count": null,
   "metadata": {},
   "outputs": [],
   "source": [
    "# Índice Multinível/hierárquicos: usando duas colunas como índice:\n",
    "df2 = df1.set_index([\"index_1\",\"index_2\"])\n",
    "# a segunda coluna (nível interno) fica aninhada com os valores da primeira (nível externo)\n",
    "# para acessar linhas pelo índice externo:\n",
    "df.loc[\"Good\"] # um valor\n",
    "df.loc[[\"Good\",\"Bad\"]] # dois valores\n",
    "# para acessar linhas pelo índice externo e interno: passe lista de tuples: Em cada tuple o par de índices\n",
    "df.loc[[ (\"Good\",'hot') , (\"Bad\",'cold') ]] # lista de tuples"
   ]
  },
  {
   "cell_type": "code",
   "execution_count": null,
   "metadata": {},
   "outputs": [],
   "source": [
    "# organizando index\n",
    "df.sort_index() # crescente de cima pra baixo\n",
    "df.sort_index(level=[\"indice_1\", \"indice_2\"], ascending=[True,False]) \n",
    "    #level ajusta a ordem dos índices para a próxima chamada: booleano de crescencia/decrescencia. "
   ]
  },
  {
   "cell_type": "code",
   "execution_count": null,
   "metadata": {},
   "outputs": [],
   "source": [
    "# escolhendo e ordenando indice na mesma linha\n",
    "df.set_index(['coluna_1','coluna_2']).sort_index()"
   ]
  },
  {
   "cell_type": "code",
   "execution_count": null,
   "metadata": {},
   "outputs": [],
   "source": [
    "# para fazer tabelas dinamicas com Índices Multiníveis basta especificar no argumento da função\n",
    "pivot = temperatures.pivot_table(values='avg_temp_c', index=[\"country\",\"city\"], columns=\"year\")"
   ]
  },
  {
   "cell_type": "markdown",
   "metadata": {},
   "source": [
    "### Slicing e subsetting \n",
    "Slicing -> selecionando elementos consecutivos do dataframe"
   ]
  },
  {
   "cell_type": "code",
   "execution_count": 1,
   "metadata": {
    "collapsed": true
   },
   "outputs": [
    {
     "ename": "NameError",
     "evalue": "name 'lista' is not defined",
     "output_type": "error",
     "traceback": [
      "\u001b[1;31m---------------------------------------------------------------------------\u001b[0m",
      "\u001b[1;31mNameError\u001b[0m                                 Traceback (most recent call last)",
      "\u001b[1;32m<ipython-input-1-387b40c504c5>\u001b[0m in \u001b[0;36m<module>\u001b[1;34m\u001b[0m\n\u001b[0;32m      1\u001b[0m \u001b[1;31m# fatiar a lista:\u001b[0m\u001b[1;33m\u001b[0m\u001b[1;33m\u001b[0m\u001b[1;33m\u001b[0m\u001b[0m\n\u001b[1;32m----> 2\u001b[1;33m \u001b[0mlista\u001b[0m\u001b[1;33m[\u001b[0m\u001b[1;36m2\u001b[0m\u001b[1;33m:\u001b[0m\u001b[1;36m5\u001b[0m\u001b[1;33m]\u001b[0m \u001b[1;31m# pega do elemento 2 (terceiro) ao 4 (quinto): [2,5[\u001b[0m\u001b[1;33m\u001b[0m\u001b[1;33m\u001b[0m\u001b[0m\n\u001b[0m\u001b[0;32m      3\u001b[0m \u001b[0mlista\u001b[0m\u001b[1;33m[\u001b[0m\u001b[1;33m:\u001b[0m\u001b[1;36m5\u001b[0m\u001b[1;33m]\u001b[0m \u001b[1;31m# pega até o elemento 4\u001b[0m\u001b[1;33m\u001b[0m\u001b[1;33m\u001b[0m\u001b[0m\n\u001b[0;32m      4\u001b[0m \u001b[0mlista\u001b[0m\u001b[1;33m[\u001b[0m\u001b[1;36m5\u001b[0m\u001b[1;33m:\u001b[0m\u001b[1;33m]\u001b[0m \u001b[1;31m# do elemento 5 até o fim\u001b[0m\u001b[1;33m\u001b[0m\u001b[1;33m\u001b[0m\u001b[0m\n\u001b[0;32m      5\u001b[0m \u001b[0mlista\u001b[0m\u001b[1;33m[\u001b[0m\u001b[1;33m:\u001b[0m\u001b[1;33m]\u001b[0m \u001b[1;31m# lista inteira\u001b[0m\u001b[1;33m\u001b[0m\u001b[1;33m\u001b[0m\u001b[0m\n",
      "\u001b[1;31mNameError\u001b[0m: name 'lista' is not defined"
     ]
    }
   ],
   "source": [
    "# fatiar a lista:\n",
    "lista[2:5] # pega do elemento 2 (terceiro) ao 4 (quinto): [2,5[\n",
    "lista[:5] # pega até o elemento 4\n",
    "lista[5:] # do elemento 5 até o fim\n",
    "lista[:] # lista inteira"
   ]
  },
  {
   "cell_type": "code",
   "execution_count": null,
   "metadata": {},
   "outputs": [],
   "source": [
    "# fatiando linhas com loc\n",
    "df.loc[\"Valor_inicio\":\"Valor_fim\"] # inclui o limite final (\"Valor_fim\")\n",
    "    # não funciona em índices internos (não lança erro, apenas retorna dataframe vazio -> cuidado!)\n",
    "    # pra fazer funcionar tem que passar as tuples com os pares (válidos) de índices:\n",
    "    # df.loc[(\"index1_inicio\",\"index2_inicio\"):(\"index1_fim\",\"index2_fim\")] # tuples, não é lista (sem duplo colchetes)\n",
    "\n",
    "# fatiando colunas\n",
    "df.loc[:,\"label_coluna1\":\"label_coluna2\"] # inclui o limite final (\"label_coluna2\")\n",
    "\n",
    "# linhas e colunas\n",
    "df.loc[\"Valor_inicio\":\"Valor_fim\",\"label_coluna1\":\"label_coluna2\"]\n",
    "df.loc[(\"index1_inicio\",\"index2_inicio\"):(\"index1_fim\",\"index2_fim\"), \"label_coluna1\":\"label_coluna2\"]\n",
    "\n",
    "# caso notável: índice no formato data\n",
    "df.loc[\"1994-05-10\":\"2020-10-04\"] # mais abaixo\n",
    "df.loc[\"1994\":\"2020\"] # funciona com apenas o ano\n",
    "\n",
    "# Usando booleanos\n",
    "temperatures_bool = temperatures[(temperatures[\"date\"] >= '2010-01-01') & (temperatures[\"date\"] <= '2011-12-31')]"
   ]
  },
  {
   "cell_type": "code",
   "execution_count": null,
   "metadata": {},
   "outputs": [],
   "source": [
    "# fatiando linha com iloc\n",
    "df.iloc[2:5] # mesma sintaxe da lista (limite superior não incluso)\n",
    "# fatiando coluna\n",
    "df.iloc[:,3:10] \n",
    "#fatiando linha e coluna\n",
    "df.iloc[2:5,3:10] "
   ]
  },
  {
   "cell_type": "markdown",
   "metadata": {},
   "source": [
    "Obs.: os métodos de dataframe tem um argumento default axis='index'.\n",
    "Isso significa que ele aplicará o método na direção (ao longo das linhas) do índice."
   ]
  },
  {
   "cell_type": "code",
   "execution_count": null,
   "metadata": {},
   "outputs": [],
   "source": [
    "df.mean(axis='index')\n",
    "df.mean(axis='columns') # faz a média ao longo das colunas (pouco usual: normalmente as colunas indicam variáveis diferentes)\n",
    "    # pode ser útil quando estamos trabalhando com tabelas dinâmicas"
   ]
  },
  {
   "cell_type": "markdown",
   "metadata": {},
   "source": [
    "#### Datas \n",
    "\n",
    "Ficam em ordem de prioridade de seleção (aaaa-mm-dd)"
   ]
  },
  {
   "cell_type": "code",
   "execution_count": null,
   "metadata": {},
   "outputs": [],
   "source": [
    "# é possível selecionar componentes das datas com o método\n",
    "df['year'] = df['date'].dt.year\n",
    "df['month'] = df['date'].dt.month\n",
    "df['day'] = df['date'].dt.day"
   ]
  },
  {
   "cell_type": "markdown",
   "metadata": {},
   "source": [
    "# Visualização\n",
    "\n",
    "Fica implicito que ao final de todo gráfico chamado deve ter um plt.show() que não será colocado aqui por organização."
   ]
  },
  {
   "cell_type": "code",
   "execution_count": 2,
   "metadata": {},
   "outputs": [],
   "source": [
    "import matplotlib.pyplot as plt"
   ]
  },
  {
   "cell_type": "code",
   "execution_count": 3,
   "metadata": {},
   "outputs": [],
   "source": [
    "# vamos usar um dataframe de verdade aqui? Se sim, importe o csv aqui.\n"
   ]
  },
  {
   "cell_type": "code",
   "execution_count": null,
   "metadata": {},
   "outputs": [],
   "source": [
    "# Histograma (para variáveis numéricas)\n",
    "df[\"coluna\"].hist() # histograma da coluna \n",
    "\n",
    "# fixando numero de barras/bins\n",
    "df[\"coluna\"].hist(bins=5)"
   ]
  },
  {
   "cell_type": "code",
   "execution_count": null,
   "metadata": {},
   "outputs": [],
   "source": [
    "# Gráfico de barras (relaciona duas variáveis, uma categórica outra numérica)\n",
    "df1 = df.groupby(\"categorica\")[\"numerica\"].sum() # ou outro método\n",
    "df1.plot(kind='bar')\n",
    "df1.plot(kind='bar', title='Um Título')"
   ]
  },
  {
   "cell_type": "code",
   "execution_count": null,
   "metadata": {},
   "outputs": [],
   "source": [
    "# Gráfico de linhas (bom para ver variáveis numéricas ao longo do tempo)\n",
    "df.plot(x=\"data\",y=\"numerica\", kind=\"line\")\n",
    "df.plot(x=\"data\",y=\"numerica\", kind=\"line\", rot=45) # rotaciona as marcações no eixo em 45 graus anti-horário (estética)\n",
    "\n",
    "# caso df seja Series: em y= colocamos o nome da Series, em x= o nome do índice da Series\n",
    "df.plot(x=\"data\",y=df, kind=\"line\")"
   ]
  },
  {
   "cell_type": "code",
   "execution_count": 4,
   "metadata": {
    "collapsed": true
   },
   "outputs": [
    {
     "ename": "NameError",
     "evalue": "name 'df' is not defined",
     "output_type": "error",
     "traceback": [
      "\u001b[1;31m---------------------------------------------------------------------------\u001b[0m",
      "\u001b[1;31mNameError\u001b[0m                                 Traceback (most recent call last)",
      "\u001b[1;32m<ipython-input-4-d52ddb36d7f1>\u001b[0m in \u001b[0;36m<module>\u001b[1;34m\u001b[0m\n\u001b[0;32m      1\u001b[0m \u001b[1;31m# Scatter (bom pra visualizar duas variáveis numéricas cruzadas)\u001b[0m\u001b[1;33m\u001b[0m\u001b[1;33m\u001b[0m\u001b[1;33m\u001b[0m\u001b[0m\n\u001b[1;32m----> 2\u001b[1;33m \u001b[0mdf\u001b[0m\u001b[1;33m.\u001b[0m\u001b[0mplot\u001b[0m\u001b[1;33m(\u001b[0m\u001b[0mx\u001b[0m\u001b[1;33m=\u001b[0m\u001b[1;34m\"numerica1\"\u001b[0m\u001b[1;33m,\u001b[0m\u001b[0my\u001b[0m\u001b[1;33m=\u001b[0m\u001b[1;34m\"numerica2\"\u001b[0m\u001b[1;33m,\u001b[0m \u001b[0mkind\u001b[0m\u001b[1;33m=\u001b[0m\u001b[1;34m\"scatter\"\u001b[0m\u001b[1;33m)\u001b[0m\u001b[1;33m\u001b[0m\u001b[1;33m\u001b[0m\u001b[0m\n\u001b[0m",
      "\u001b[1;31mNameError\u001b[0m: name 'df' is not defined"
     ]
    }
   ],
   "source": [
    "# Scatter (bom pra visualizar duas variáveis numéricas cruzadas)\n",
    "df.plot(x=\"numerica1\",y=\"numerica2\", kind=\"scatter\")"
   ]
  },
  {
   "cell_type": "code",
   "execution_count": null,
   "metadata": {},
   "outputs": [],
   "source": [
    "# Mais de um gráfico na mesma 'folha'\n",
    "df[df[\"coluna\"]==\"Valor1\"].hist(alpha=0.7) # alpha=0.7: 70% translúcido para podermor ver atrás\n",
    "df[df[\"coluna\"]==\"Valor2\"].hist(alpha=0.7)\n",
    "plt.legend([\"Valor1\",\"Valor2\"]) # cria legenda para os gráficos as cores vão automático\n",
    "plt.show()\n",
    "\n",
    "# se quero fazer o teste em uma variável (var_1) mas fazer histograma de outra (var_2):\n",
    "df[df[\"var_1\"]==\"Valor1\"][\"var_2\"].hist()"
   ]
  },
  {
   "cell_type": "markdown",
   "metadata": {},
   "source": [
    "### Valores faltantes\n",
    "\n",
    "Indicados por NaN (not a number) em um dataframe."
   ]
  },
  {
   "cell_type": "code",
   "execution_count": null,
   "metadata": {},
   "outputs": [],
   "source": [
    "# detectando NaN's\n",
    "df.isna() # booleanos pra cada posição do dataframe - dificil de visualizar\n",
    "df.isna().any() # retorna um booleano pra cada variável (coluna) - mais fácil de visualizar\n",
    "df.isna().sum() # soma os True (valores faltantes do dataframe) pra cada variável\n",
    "\n",
    "# gráfico de barra de frenquencia de NaNs\n",
    "df.isna().sum().plot(kind='bar')"
   ]
  },
  {
   "cell_type": "code",
   "execution_count": null,
   "metadata": {},
   "outputs": [],
   "source": [
    "# Removendo NaNs\n",
    "df.dropna() # remove a linha inteira do valor faltante\n",
    "df.fillna(0) # preenche os valores com (no exemplo) zeros. Pode ser qualquer constante.\n",
    "    # Ás vezes é melhor substituir pela média ou mediana"
   ]
  },
  {
   "cell_type": "markdown",
   "metadata": {},
   "source": [
    "### Criando DataFrames\n",
    "\n",
    "Aqui se repetiu muita coisa que pode ser visto no notebook 02.1_intermediate_python\n",
    "\n",
    "O que mais foi tratado:\n",
    "- dicionários\n",
    "- criando dataframe de dicionário\n",
    "    - linha a linha\n",
    "    - coluna a coluna\n",
    "- importando de csv (comma-separated values)\n"
   ]
  },
  {
   "cell_type": "code",
   "execution_count": 9,
   "metadata": {
    "collapsed": true
   },
   "outputs": [
    {
     "data": {
      "text/html": [
       "<div>\n",
       "<style scoped>\n",
       "    .dataframe tbody tr th:only-of-type {\n",
       "        vertical-align: middle;\n",
       "    }\n",
       "\n",
       "    .dataframe tbody tr th {\n",
       "        vertical-align: top;\n",
       "    }\n",
       "\n",
       "    .dataframe thead th {\n",
       "        text-align: right;\n",
       "    }\n",
       "</style>\n",
       "<table border=\"1\" class=\"dataframe\">\n",
       "  <thead>\n",
       "    <tr style=\"text-align: right;\">\n",
       "      <th></th>\n",
       "      <th>name</th>\n",
       "      <th>breed</th>\n",
       "      <th>height_cm</th>\n",
       "      <th>weight_kg</th>\n",
       "      <th>date_of_birth</th>\n",
       "    </tr>\n",
       "  </thead>\n",
       "  <tbody>\n",
       "    <tr>\n",
       "      <th>0</th>\n",
       "      <td>Ginger</td>\n",
       "      <td>Dachshund</td>\n",
       "      <td>22</td>\n",
       "      <td>10</td>\n",
       "      <td>2019-03-14</td>\n",
       "    </tr>\n",
       "    <tr>\n",
       "      <th>1</th>\n",
       "      <td>Scout</td>\n",
       "      <td>Dalmatian</td>\n",
       "      <td>59</td>\n",
       "      <td>25</td>\n",
       "      <td>2019-05-09</td>\n",
       "    </tr>\n",
       "  </tbody>\n",
       "</table>\n",
       "</div>"
      ],
      "text/plain": [
       "     name      breed  height_cm  weight_kg date_of_birth\n",
       "0  Ginger  Dachshund         22         10    2019-03-14\n",
       "1   Scout  Dalmatian         59         25    2019-05-09"
      ]
     },
     "execution_count": 9,
     "metadata": {},
     "output_type": "execute_result"
    }
   ],
   "source": [
    "# Criando por linha\n",
    "\n",
    "# lista de dicionários (cada dicionário será uma linha do df)\n",
    "list_of_dicts = [{\"name\": \"Ginger\", \"breed\": \"Dachshund\", \"height_cm\": 22,\"weight_kg\": 10, \"date_of_birth\": \"2019-03-14\"},\n",
    "                 {\"name\": \"Scout\", \"breed\": \"Dalmatian\", \"height_cm\": 59, \"weight_kg\": 25, \"date_of_birth\": \"2019-05-09\"}]\n",
    "\n",
    "dogs = pd.DataFrame(list_of_dicts)\n",
    "dogs"
   ]
  },
  {
   "cell_type": "code",
   "execution_count": null,
   "metadata": {},
   "outputs": [],
   "source": [
    "# Criando por coluna\n",
    "\n",
    "# dicionário de listas (cada lista será uma coluna do df)\n",
    "dict_of_lists = {\"name\": [\"Ginger\", \"Scout\"],\n",
    "                 \"breed\": [\"Dachshund\", \"Dalmatian\"],\n",
    "                 \"height_cm\": [22, 59],\n",
    "                 \"weight_kg\": [10, 25],\n",
    "                 \"date_of_birth\": [\"2019-03-14\", \"2019-05-09\"]}\n",
    "# o resto é igual:\n",
    "dogs = pd.DataFrame(list_of_dicts)\n",
    "dogs"
   ]
  },
  {
   "cell_type": "code",
   "execution_count": null,
   "metadata": {},
   "outputs": [],
   "source": [
    "# Importando .csv\n",
    "import pandas as pd\n",
    "df = pd.read_csv(\"nomedoarquivo.csv\")\n",
    "\n",
    "# criando um .csv\n",
    "df.to_csv(\"nomedoarquivo.csv)\n"
   ]
  }
 ],
 "metadata": {
  "kernelspec": {
   "display_name": "Python 3",
   "language": "python",
   "name": "python3"
  },
  "language_info": {
   "codemirror_mode": {
    "name": "ipython",
    "version": 3
   },
   "file_extension": ".py",
   "mimetype": "text/x-python",
   "name": "python",
   "nbconvert_exporter": "python",
   "pygments_lexer": "ipython3",
   "version": "3.8.8"
  }
 },
 "nbformat": 4,
 "nbformat_minor": 4
}
