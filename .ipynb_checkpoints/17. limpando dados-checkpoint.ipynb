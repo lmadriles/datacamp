{
 "cells": [
  {
   "cell_type": "markdown",
   "id": "43a5a87f",
   "metadata": {},
   "source": [
    "### Restrições de tipos de dados\n",
    "\n",
    "É possível que alguma feature possui dados com um data type não usual, o que pode causar problemas de processamento."
   ]
  },
  {
   "cell_type": "code",
   "execution_count": null,
   "id": "2bdcacba",
   "metadata": {},
   "outputs": [],
   "source": [
    "df.info() # verificar valores ausentes\n",
    "df.dtypes # mostra o tipo de cada feature"
   ]
  },
  {
   "cell_type": "code",
   "execution_count": null,
   "id": "f23a4c51",
   "metadata": {},
   "outputs": [],
   "source": [
    "# números como string (exemplo: '57$')  -> e se o sifrão estiver no começo?\n",
    "df['price'].sum() # retorna concatenação das strings\n",
    "\n",
    "# converter:\n",
    "df['price'] = df['price'].str.strip('$')\n",
    "df['price'] = df['price'].astype('int')\n",
    "\n",
    "# verificar:\n",
    "assert df['price'].dtype == 'int'"
   ]
  },
  {
   "cell_type": "code",
   "execution_count": null,
   "id": "a69dcd8a",
   "metadata": {},
   "outputs": [],
   "source": [
    "# categórico como inteiro (exemplo: 0 para não, 1 para sim)\n",
    "df['maried'].describe() # vai retornar média, desvio padrão etc.\n",
    "    # era melhor dados estatísticos de frêquencia para categorias\n",
    "    \n",
    "# converter:\n",
    "df['maried'] = df['maried'].astype('category')"
   ]
  },
  {
   "cell_type": "code",
   "execution_count": null,
   "id": "ae1cbb3c",
   "metadata": {},
   "outputs": [],
   "source": [
    "# data como objeto:\n",
    "df.dtypes\n",
    "\n",
    "# converter:\n",
    "df['date'] = pd.to_datetime(df['date'])\n",
    "\n",
    "# assert:\n",
    "assert user_signups['subscription_date'].dtype == 'datetime64[ns]'"
   ]
  },
  {
   "cell_type": "markdown",
   "id": "7c5df0a9",
   "metadata": {},
   "source": [
    "### Restrições de intervalo\n",
    "\n",
    "Exemplo: \n",
    "- 6 estrelas em avaliação de 1 a 5;\n",
    "- Registro em data no futuro.\n",
    "\n",
    "Soluções:\n",
    "- dropar o registro (não recomendado se temos muitos registros com o problema)\n",
    "- setar mínimos e máximos e substituir\n",
    "- tratar o dado como faltante e imputá-lo ()\n",
    "- substituir por um valor fixo (como a média, mediana)"
   ]
  },
  {
   "cell_type": "code",
   "execution_count": 2,
   "id": "bab1d6f4",
   "metadata": {},
   "outputs": [],
   "source": [
    "# filtrando datas futuras\n",
    "import datetime as dt\n",
    "df[df['date']>dt.date.today()]\n",
    "\n",
    "# dropando datas futuras\n",
    "today_date = dt.date.today()\n",
    "# Drop values using filtering\n",
    "df = df[df['subscription_date'] < today_date]\n",
    "# Drop values using .drop()\n",
    "df.drop(df[df['subscription_date'] > today_date].index, inplace = True)\n",
    "\n",
    "# substituindo\n",
    "# using filtering\n",
    "df.loc[df['subscription_date'] > today_date, 'subscription_date'] = today_date\n",
    "# Assert is true\n",
    "assert df.subscription_date.max().date() <= today_date\n"
   ]
  },
  {
   "cell_type": "code",
   "execution_count": 3,
   "id": "14ec47d0",
   "metadata": {},
   "outputs": [
    {
     "data": {
      "text/plain": [
       "datetime.date(2021, 11, 11)"
      ]
     },
     "execution_count": 3,
     "metadata": {},
     "output_type": "execute_result"
    }
   ],
   "source": [
    "# dropando: filtrando e atribuindo\n",
    "df = df[df['rating']<=5]\n",
    "\n",
    "# dropando: método drop\n",
    "df.drop(df[df['rating']>5].index, inplace = True) # inplace = true: método .drop modifica o objeto; se = False ele deve ser atribuido a outra variável.\n",
    "\n",
    "# verificação:\n",
    "assert df['rating'].max() <=5 "
   ]
  },
  {
   "cell_type": "code",
   "execution_count": null,
   "id": "d7940ade",
   "metadata": {},
   "outputs": [],
   "source": [
    "# substituindo pelo limite:\n",
    "df.loc[df['rating'] > 5, 'rating'] = 5 # com esse segundo argumento seleciona so a coluna 'rating'\n",
    "\n",
    "# assert igual a anterior"
   ]
  },
  {
   "cell_type": "markdown",
   "id": "d72d73e4",
   "metadata": {},
   "source": [
    "### Registros duplicados\n",
    "\n",
    "- Registros inteiros duplicados -> drope um deles"
   ]
  },
  {
   "cell_type": "code",
   "execution_count": null,
   "id": "acd0b2b8",
   "metadata": {},
   "outputs": [],
   "source": [
    "# identificando\n",
    "duplicates = df.duplicated() # booleano True para linhas duplicadas; False em todas as primeiras ocorrências\n",
    "df[df.duplicated()] # retorna todas as linhas duplicadas\n",
    "\n",
    "# argumentos do método .duplicated()\n",
    "df2 = df[df.duplicated(subset = ['column1', 'column2'])]    # subset: especificamos quais colunas checar por duplicatas; recebe lista de nomes de features/colunas \n",
    "df2 = df[df.duplicated(keep = 'first')]    #keep: admite as strings 'first' (default), 'last' e False; mantém (retorna False para) a ocorrência especificada\n",
    "\n",
    "# checando após modificação:\n",
    "df[df.duplicated()].sorf_values(by = 'column1')"
   ]
  },
  {
   "cell_type": "code",
   "execution_count": null,
   "id": "62c87ab3",
   "metadata": {},
   "outputs": [],
   "source": [
    "# dropando duplicatas completos (registro inteiro é duplicado)\n",
    "\n",
    "# método .drop_duplicates(): obs.:os argumentos são: subset, keep e inplace (iguais aos do .duplicated() e .drop())\n",
    "df.drop_duplicates(inplace = True)"
   ]
  },
  {
   "cell_type": "code",
   "execution_count": null,
   "id": "6c0ca9c5",
   "metadata": {},
   "outputs": [],
   "source": [
    "# dropando duplicatas com divergências numéricas:\n",
    "\n",
    "# Output duplicate values\n",
    "column_names = ['first_name','last_name','address']\n",
    "duplicates = df.duplicated(subset = column_names, keep = False)\n",
    "df[duplicates].sort_values(by = 'first_name')\n",
    "\n",
    "# decisão por estatística:encadeado método .groupby() e .agg()\n",
    "# Group by column names and produce statistical summaries\n",
    "column_names = ['first_name','last_name','address'] # colunas a agrupar (cujos valores serão duplicados)\n",
    "summaries = {'height': 'max', 'weight': 'mean'} # colunas divergentes e o tipo de agregação (máximo e média)\n",
    "df = df.groupby(by = column_names).agg(summaries).reset_index() # agrupa pela lista column_names; agrega pelo dict summaries\n",
    "    # reset_index para criar novo índice após a agregação\n",
    "# Make sure aggregation is done\n",
    "duplicates = df.duplicated(subset = column_names, keep = False)\n",
    "df[duplicates].sort_values(by = 'first_name')"
   ]
  }
 ],
 "metadata": {
  "kernelspec": {
   "display_name": "Python 3",
   "language": "python",
   "name": "python3"
  },
  "language_info": {
   "codemirror_mode": {
    "name": "ipython",
    "version": 3
   },
   "file_extension": ".py",
   "mimetype": "text/x-python",
   "name": "python",
   "nbconvert_exporter": "python",
   "pygments_lexer": "ipython3",
   "version": "3.8.8"
  }
 },
 "nbformat": 4,
 "nbformat_minor": 5
}
