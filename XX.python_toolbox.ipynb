{
 "cells": [
  {
   "cell_type": "markdown",
   "metadata": {},
   "source": [
    "# Toolbox\n",
    "\n",
    "Dicas de como criar funções para aplicar a data science"
   ]
  },
  {
   "cell_type": "code",
   "execution_count": 4,
   "metadata": {},
   "outputs": [],
   "source": [
    "def square(x): # <- cabeça da função; x <- parâmetro da função; square <- nome da função\n",
    "    squared = x**2 # corpo da função\n",
    "    return squared # corpo da função"
   ]
  },
  {
   "cell_type": "code",
   "execution_count": 5,
   "metadata": {},
   "outputs": [
    {
     "data": {
      "text/plain": [
       "100"
      ]
     },
     "execution_count": 5,
     "metadata": {},
     "output_type": "execute_result"
    }
   ],
   "source": [
    "square(10) # <- chamada da função; 10 <- argumento (entrada da função)"
   ]
  },
  {
   "cell_type": "markdown",
   "metadata": {},
   "source": [
    "## Docstrings\n",
    "- strings da documentação: descrevem a função, podem ser retornadas pela função: "
   ]
  },
  {
   "cell_type": "code",
   "execution_count": 7,
   "metadata": {},
   "outputs": [],
   "source": [
    "def square(x): \n",
    "    \"\"\"\n",
    "    Retorna o quadrado de um número\n",
    "    \n",
    "    Argumentos:\n",
    "    - x: número a ser elevado ao quadrado (float)\n",
    "    \n",
    "    Retorna:\n",
    "     - squared: x elevado ao quadrado (float)\n",
    "    \"\"\"\n",
    "    cache = x**2 \n",
    "    return cache "
   ]
  },
  {
   "cell_type": "code",
   "execution_count": null,
   "metadata": {},
   "outputs": [],
   "source": [
    "# função multi parametros: (recebe multiplos argumentos)\n",
    "def raise_to_power(value1,value2):\n",
    "    \"\"\"Retorna valor 1 elevado ao valor 2\"\"\"\n",
    "    return value1**value2"
   ]
  },
  {
   "cell_type": "code",
   "execution_count": null,
   "metadata": {},
   "outputs": [],
   "source": [
    "# função de multiplos retornos: retorne um objeto que seja conjunto de valores (tuple, lista ou dicionário)"
   ]
  },
  {
   "cell_type": "markdown",
   "metadata": {},
   "source": [
    "Lembrando que tuple/tupla é formado por parêntesis, é imutavel e pode ser desmembrada em variáveis assim:\n",
    "tupla = (2, 4, 6)\n",
    "a, b, c = tupla\n",
    "\n",
    "Podemos também separar por índice:\n",
    "b = tupla[1]"
   ]
  },
  {
   "cell_type": "code",
   "execution_count": 3,
   "metadata": {},
   "outputs": [],
   "source": [
    "def raise_both(value1,value2):\n",
    "    \"\"\"Retorna valor 1 elevado ao valor 2 e vice versa\"\"\"\n",
    "    um_a_dois = value1**value2\n",
    "    dois_a_um = value2**value1\n",
    "    tupla = (um_a_dois,dois_a_um)\n",
    "    return tupla"
   ]
  },
  {
   "cell_type": "code",
   "execution_count": 4,
   "metadata": {},
   "outputs": [
    {
     "data": {
      "text/plain": [
       "(8, 9)"
      ]
     },
     "execution_count": 4,
     "metadata": {},
     "output_type": "execute_result"
    }
   ],
   "source": [
    "a,b = raise_both(2,3)\n",
    "a,b"
   ]
  },
  {
   "cell_type": "markdown",
   "metadata": {},
   "source": [
    "Exercício - crie a função que conte os valores de uma coluna do dataframe"
   ]
  },
  {
   "cell_type": "code",
   "execution_count": null,
   "metadata": {},
   "outputs": [],
   "source": [
    "\n",
    "# Define count_entries()\n",
    "def count_entries(df, col_name):\n",
    "    \"\"\"Return a dictionary with counts of \n",
    "    occurrences as value for each key.\"\"\"\n",
    "\n",
    "    # Initialize an empty dictionary: langs_count\n",
    "    langs_count = {}\n",
    "    \n",
    "    # Extract column from DataFrame: col\n",
    "    col = df[col_name]\n",
    "    \n",
    "    # Iterate over lang column in DataFrame\n",
    "    for entry in col:\n",
    "\n",
    "        # If the language is in langs_count, add 1\n",
    "        if entry in langs_count.keys():\n",
    "            langs_count[entry] += 1\n",
    "        # Else add the language to langs_count, set the value to 1\n",
    "        else:\n",
    "            langs_count[entry] = 1\n",
    "\n",
    "    # Return the langs_count dictionary\n",
    "    return langs_count\n",
    "\n",
    "# Call count_entries(): result\n",
    "result = count_entries(tweets_df, 'lang')\n",
    "\n",
    "# Print the result\n",
    "print(result)"
   ]
  },
  {
   "cell_type": "markdown",
   "metadata": {},
   "source": [
    "## Escopo em funções definidas pelo usuário\n",
    "\n",
    "- Nem todos os objetos são acessíveis pela função criada.\n",
    "- Escopo informa qual parte de um objeto, programa ou nome pode ser acessado pelo código do usuário.\n"
   ]
  },
  {
   "cell_type": "markdown",
   "metadata": {},
   "source": [
    "### Tipos de escopos\n",
    "\n",
    "- Global: um nome que está no escopo global significa que ele é definido no corpo pricipal de um script ou programa python.\n",
    "- Local: definido dentro de uma função. Depois que a função é concluida, qualquer nome dentro do escopo deixa de existir.\n",
    "     - (não é possivel acessá-los fora da função).\n",
    "     - é o primeiro a ser pesquisado (veja a seguir)\n",
    "- Internos (built-in): nomes no módulo interno predefinido que o python fornece (ex.: print, sum)\n",
    "    - é o último a ser pesquisado"
   ]
  },
  {
   "cell_type": "code",
   "execution_count": 7,
   "metadata": {},
   "outputs": [
    {
     "ename": "NameError",
     "evalue": "name 'cache' is not defined",
     "output_type": "error",
     "traceback": [
      "\u001b[1;31m---------------------------------------------------------------------------\u001b[0m",
      "\u001b[1;31mNameError\u001b[0m                                 Traceback (most recent call last)",
      "\u001b[1;32m<ipython-input-7-42451218e708>\u001b[0m in \u001b[0;36m<module>\u001b[1;34m\u001b[0m\n\u001b[0;32m      4\u001b[0m     \u001b[1;32mreturn\u001b[0m \u001b[0mcache\u001b[0m\u001b[1;33m\u001b[0m\u001b[1;33m\u001b[0m\u001b[0m\n\u001b[0;32m      5\u001b[0m \u001b[1;33m\u001b[0m\u001b[0m\n\u001b[1;32m----> 6\u001b[1;33m \u001b[0mcache\u001b[0m \u001b[1;31m# tentando acessar local fora da função\u001b[0m\u001b[1;33m\u001b[0m\u001b[1;33m\u001b[0m\u001b[0m\n\u001b[0m",
      "\u001b[1;31mNameError\u001b[0m: name 'cache' is not defined"
     ]
    }
   ],
   "source": [
    "# local:\n",
    "def square(x): \n",
    "    cache = x**2 \n",
    "    return cache \n",
    "\n",
    "cache # tentando acessar local fora da função"
   ]
  },
  {
   "cell_type": "code",
   "execution_count": 9,
   "metadata": {},
   "outputs": [
    {
     "data": {
      "text/plain": [
       "10"
      ]
     },
     "execution_count": 9,
     "metadata": {},
     "output_type": "execute_result"
    }
   ],
   "source": [
    "# definindo local fora da função:\n",
    "cache = 10 # global\n",
    "def square(x): \n",
    "    cache = x**2 \n",
    "    return cache \n",
    "\n",
    "cache # tentando acessar local fora da função\n",
    "\n",
    "square(2)\n",
    "cache # se nao encontrou o local, procura pelo global"
   ]
  },
  {
   "cell_type": "code",
   "execution_count": 10,
   "metadata": {},
   "outputs": [
    {
     "data": {
      "text/plain": [
       "100"
      ]
     },
     "execution_count": 10,
     "metadata": {},
     "output_type": "execute_result"
    }
   ],
   "source": [
    "# chamando global dentro da função:\n",
    "fora = 10 # global\n",
    "def square(x): \n",
    "    cache = fora**2 # se nao encontrou o local, procura pelo global\n",
    "    return cache \n",
    "\n",
    "square(2) "
   ]
  },
  {
   "cell_type": "code",
   "execution_count": 13,
   "metadata": {},
   "outputs": [
    {
     "data": {
      "text/plain": [
       "169"
      ]
     },
     "execution_count": 13,
     "metadata": {},
     "output_type": "execute_result"
    }
   ],
   "source": [
    "fora = 13\n",
    "square(2) # usou o novo valor"
   ]
  },
  {
   "cell_type": "code",
   "execution_count": 1,
   "metadata": {},
   "outputs": [
    {
     "data": {
      "text/plain": [
       "['ArithmeticError',\n",
       " 'AssertionError',\n",
       " 'AttributeError',\n",
       " 'BaseException',\n",
       " 'BlockingIOError',\n",
       " 'BrokenPipeError',\n",
       " 'BufferError',\n",
       " 'BytesWarning',\n",
       " 'ChildProcessError',\n",
       " 'ConnectionAbortedError',\n",
       " 'ConnectionError',\n",
       " 'ConnectionRefusedError',\n",
       " 'ConnectionResetError',\n",
       " 'DeprecationWarning',\n",
       " 'EOFError',\n",
       " 'Ellipsis',\n",
       " 'EnvironmentError',\n",
       " 'Exception',\n",
       " 'False',\n",
       " 'FileExistsError',\n",
       " 'FileNotFoundError',\n",
       " 'FloatingPointError',\n",
       " 'FutureWarning',\n",
       " 'GeneratorExit',\n",
       " 'IOError',\n",
       " 'ImportError',\n",
       " 'ImportWarning',\n",
       " 'IndentationError',\n",
       " 'IndexError',\n",
       " 'InterruptedError',\n",
       " 'IsADirectoryError',\n",
       " 'KeyError',\n",
       " 'KeyboardInterrupt',\n",
       " 'LookupError',\n",
       " 'MemoryError',\n",
       " 'ModuleNotFoundError',\n",
       " 'NameError',\n",
       " 'None',\n",
       " 'NotADirectoryError',\n",
       " 'NotImplemented',\n",
       " 'NotImplementedError',\n",
       " 'OSError',\n",
       " 'OverflowError',\n",
       " 'PendingDeprecationWarning',\n",
       " 'PermissionError',\n",
       " 'ProcessLookupError',\n",
       " 'RecursionError',\n",
       " 'ReferenceError',\n",
       " 'ResourceWarning',\n",
       " 'RuntimeError',\n",
       " 'RuntimeWarning',\n",
       " 'StopAsyncIteration',\n",
       " 'StopIteration',\n",
       " 'SyntaxError',\n",
       " 'SyntaxWarning',\n",
       " 'SystemError',\n",
       " 'SystemExit',\n",
       " 'TabError',\n",
       " 'TimeoutError',\n",
       " 'True',\n",
       " 'TypeError',\n",
       " 'UnboundLocalError',\n",
       " 'UnicodeDecodeError',\n",
       " 'UnicodeEncodeError',\n",
       " 'UnicodeError',\n",
       " 'UnicodeTranslateError',\n",
       " 'UnicodeWarning',\n",
       " 'UserWarning',\n",
       " 'ValueError',\n",
       " 'Warning',\n",
       " 'WindowsError',\n",
       " 'ZeroDivisionError',\n",
       " '__IPYTHON__',\n",
       " '__build_class__',\n",
       " '__debug__',\n",
       " '__doc__',\n",
       " '__import__',\n",
       " '__loader__',\n",
       " '__name__',\n",
       " '__package__',\n",
       " '__spec__',\n",
       " 'abs',\n",
       " 'all',\n",
       " 'any',\n",
       " 'ascii',\n",
       " 'bin',\n",
       " 'bool',\n",
       " 'breakpoint',\n",
       " 'bytearray',\n",
       " 'bytes',\n",
       " 'callable',\n",
       " 'chr',\n",
       " 'classmethod',\n",
       " 'compile',\n",
       " 'complex',\n",
       " 'copyright',\n",
       " 'credits',\n",
       " 'delattr',\n",
       " 'dict',\n",
       " 'dir',\n",
       " 'display',\n",
       " 'divmod',\n",
       " 'enumerate',\n",
       " 'eval',\n",
       " 'exec',\n",
       " 'filter',\n",
       " 'float',\n",
       " 'format',\n",
       " 'frozenset',\n",
       " 'get_ipython',\n",
       " 'getattr',\n",
       " 'globals',\n",
       " 'hasattr',\n",
       " 'hash',\n",
       " 'help',\n",
       " 'hex',\n",
       " 'id',\n",
       " 'input',\n",
       " 'int',\n",
       " 'isinstance',\n",
       " 'issubclass',\n",
       " 'iter',\n",
       " 'len',\n",
       " 'license',\n",
       " 'list',\n",
       " 'locals',\n",
       " 'map',\n",
       " 'max',\n",
       " 'memoryview',\n",
       " 'min',\n",
       " 'next',\n",
       " 'object',\n",
       " 'oct',\n",
       " 'open',\n",
       " 'ord',\n",
       " 'pow',\n",
       " 'print',\n",
       " 'property',\n",
       " 'range',\n",
       " 'repr',\n",
       " 'reversed',\n",
       " 'round',\n",
       " 'set',\n",
       " 'setattr',\n",
       " 'slice',\n",
       " 'sorted',\n",
       " 'staticmethod',\n",
       " 'str',\n",
       " 'sum',\n",
       " 'super',\n",
       " 'tuple',\n",
       " 'type',\n",
       " 'vars',\n",
       " 'zip']"
      ]
     },
     "execution_count": 1,
     "metadata": {},
     "output_type": "execute_result"
    }
   ],
   "source": [
    "# Retornando o escopo built in (embutidos)\n",
    "import builtins # necessário importar porque o nome builtins não está builted in. Pois é.\n",
    "dir(builtins)"
   ]
  },
  {
   "cell_type": "markdown",
   "metadata": {},
   "source": [
    "### Função aninhada (nested function)\n",
    "- definida dentro de uma função definida\n",
    "- A ordem de prioridade que o python busca é semelhante a discutida em cima:\n",
    "    - regra LEGB: busca localmente na função interna, depois na externa/envolvente (enclosening function), depois na global, depois na built in.\n",
    "- Porque usar função aninhada?"
   ]
  },
  {
   "cell_type": "markdown",
   "metadata": {},
   "source": [
    "#### se queremos que o mesmo processo seja aplicado a diferentes entradas da função."
   ]
  },
  {
   "cell_type": "code",
   "execution_count": 2,
   "metadata": {},
   "outputs": [
    {
     "name": "stdout",
     "output_type": "stream",
     "text": [
      "(6, 5, 6)\n"
     ]
    }
   ],
   "source": [
    "def mod2plus5(x1,x2,x3):\n",
    "    \"\"\"Retorna o resto da divisão por dois mais cinco de três valores\"\"\"\n",
    "    def inner(x):\n",
    "        \"\"\"Retorna o resto da divisão por dois mais cinco de um valor\"\"\"\n",
    "        return x % 2 + 5\n",
    "    return (inner(x1), inner(x2), inner(x3))\n",
    "\n",
    "print(mod2plus5(1,2,3))"
   ]
  },
  {
   "cell_type": "markdown",
   "metadata": {},
   "source": [
    "#### função envolvente retorna a função interna"
   ]
  },
  {
   "cell_type": "code",
   "execution_count": 10,
   "metadata": {},
   "outputs": [],
   "source": [
    "def raise_val(n):\n",
    "    \"\"\"Retorna a função interna, ou seja, recebe o argumento n e cria uma função para esse n\"\"\"\n",
    "    def inner(x):\n",
    "        \"\"\"Eleva x a n\"\"\"\n",
    "        raised = x ** n\n",
    "        return raised\n",
    "    return inner"
   ]
  },
  {
   "cell_type": "code",
   "execution_count": 11,
   "metadata": {},
   "outputs": [
    {
     "name": "stdout",
     "output_type": "stream",
     "text": [
      "4 64\n"
     ]
    }
   ],
   "source": [
    "square = raise_val(2) \n",
    "cube = raise_val(3)\n",
    "print(square(2), cube(4)) # quando chamamos a função square e cube, elas se lembram do valor de n \n",
    "                          # (apesar de n ser local e o escopo de raise_vals já ter se encerrado) dado o enclosure (??)"
   ]
  },
  {
   "cell_type": "markdown",
   "metadata": {},
   "source": [
    "- Para trocarmos o escopo de uma variável interna da inner para interna da outer podemos usar a keyword nonlocal:\n",
    "    - lembrando que atribuir aos nomes só os altera localmente a não ser que sejam antes declarados em declarações não locais com as palavras-chave global e nonlocal"
   ]
  },
  {
   "cell_type": "code",
   "execution_count": 16,
   "metadata": {},
   "outputs": [
    {
     "name": "stdout",
     "output_type": "stream",
     "text": [
      "2\n",
      "2\n"
     ]
    }
   ],
   "source": [
    "def outer():\n",
    "    \"\"\"Printa o valor de n\"\"\"\n",
    "    n = 1\n",
    "    def inner():\n",
    "        nonlocal n\n",
    "        n = 2\n",
    "        print(n)\n",
    "    inner()\n",
    "    print(n)\n",
    "\n",
    "outer()"
   ]
  },
  {
   "cell_type": "markdown",
   "metadata": {},
   "source": [
    "### Argumentos default de funções\n",
    "- em caso de não atribuição de valor a um parâmetro, a função utiliza um valor de entrada para aquele parâmetro\n",
    "- basta atribuir um valor ao parâmetro na cabeça da função"
   ]
  },
  {
   "cell_type": "code",
   "execution_count": 22,
   "metadata": {},
   "outputs": [
    {
     "name": "stdout",
     "output_type": "stream",
     "text": [
      "Olá, Mundo\n"
     ]
    }
   ],
   "source": [
    "def printa(string = 'Olá, Mundo'):\n",
    "    print(string)\n",
    "\n",
    "printa()"
   ]
  },
  {
   "cell_type": "code",
   "execution_count": 20,
   "metadata": {},
   "outputs": [
    {
     "name": "stdout",
     "output_type": "stream",
     "text": [
      "Outra coisa\n"
     ]
    }
   ],
   "source": [
    "printa('Outra coisa')"
   ]
  },
  {
   "cell_type": "markdown",
   "metadata": {},
   "source": [
    "### Argumentos flexíveis de funções\n",
    "- em caso de não saber quantos argumentos o usuário passará.\n",
    "- basta atribuir um valor ao parâmetro na cabeça da função"
   ]
  },
  {
   "cell_type": "code",
   "execution_count": 23,
   "metadata": {},
   "outputs": [],
   "source": [
    "def soma_tudo(*args): #*args recebe todos os argumentos e armazena na tuple args\n",
    "    \"\"\"Soma todos os valores inseridos\"\"\"\n",
    "    sum_all = 0\n",
    "    for num in args:\n",
    "        sum_all+=num\n",
    "    return sum_all"
   ]
  },
  {
   "cell_type": "code",
   "execution_count": 24,
   "metadata": {},
   "outputs": [
    {
     "data": {
      "text/plain": [
       "15"
      ]
     },
     "execution_count": 24,
     "metadata": {},
     "output_type": "execute_result"
    }
   ],
   "source": [
    "soma_tudo(1,2,3,4,5)"
   ]
  },
  {
   "cell_type": "code",
   "execution_count": 36,
   "metadata": {},
   "outputs": [],
   "source": [
    "# dois asteriscos recebem um número de argumentos de palavras-chave (kwargs) = argumentos com seus identificadores:\n",
    "def print_all(**kwargs): #**kwargs recebe todos os argumentos e armazena no dicionarios kwargs\n",
    "    \"\"\"Printa os pares chave-valor do dicionário kwargs\"\"\"\n",
    "    for key, value in kwargs.items():\n",
    "        print(key + \": \" + value)"
   ]
  },
  {
   "cell_type": "code",
   "execution_count": 37,
   "metadata": {
    "scrolled": true
   },
   "outputs": [
    {
     "name": "stdout",
     "output_type": "stream",
     "text": [
      "nome: McGyver\n",
      "profissao: Perigo\n"
     ]
    }
   ],
   "source": [
    "print_all(nome='McGyver', profissao='Perigo')"
   ]
  },
  {
   "cell_type": "markdown",
   "metadata": {},
   "source": [
    "### Funções lambda\n",
    "- Definindo funções mais rápido\n"
   ]
  },
  {
   "cell_type": "code",
   "execution_count": 1,
   "metadata": {},
   "outputs": [
    {
     "data": {
      "text/plain": [
       "8"
      ]
     },
     "execution_count": 1,
     "metadata": {},
     "output_type": "execute_result"
    }
   ],
   "source": [
    "eleva = lambda x, y: x**y\n",
    "# ou\n",
    "eleva = (lambda x, y: x**y)\n",
    "# nome da função: eleva()\n",
    "# argumentos que recebe: valores de x e y\n",
    "# retorna: eleva x a y\n",
    "eleva(2,3)"
   ]
  },
  {
   "cell_type": "markdown",
   "metadata": {},
   "source": [
    "#### função mapa: map()\n",
    "- Recebe uma função e uma sequência (como lista)\n",
    "- aplica a função na lista\n",
    "- retorna listra transformada\n",
    "\n",
    "- Podemos passar funções lambda pro map() sem precisar nomear -> função anônima"
   ]
  },
  {
   "cell_type": "code",
   "execution_count": 7,
   "metadata": {},
   "outputs": [
    {
     "name": "stdout",
     "output_type": "stream",
     "text": [
      "<map object at 0x0000025A55754E88>\n",
      "[1, 4, 9, 16, 25]\n"
     ]
    }
   ],
   "source": [
    "numeros = [1,2,3,4,5]\n",
    "quadrados = map(lambda num: num**2, numeros)\n",
    "print(quadrados) # objeto mapa\n",
    "print(list(quadrados)) # converte mapa em lista"
   ]
  },
  {
   "cell_type": "markdown",
   "metadata": {},
   "source": [
    "#### Função filter\n",
    "- filtra os resultados de lambda por um teste lógico\n"
   ]
  },
  {
   "cell_type": "code",
   "execution_count": null,
   "metadata": {},
   "outputs": [],
   "source": [
    "result = filter(lambda string: len(string) > 6, strings)"
   ]
  },
  {
   "cell_type": "markdown",
   "metadata": {},
   "source": [
    "#### Função Reduce\n",
    "- retorna um único valor"
   ]
  },
  {
   "cell_type": "code",
   "execution_count": null,
   "metadata": {},
   "outputs": [],
   "source": [
    "from functools import reduce # tem que importar\n",
    "result = reduce(lambda item1, item2: item1+item2, lista) #concatenou todos os itens"
   ]
  },
  {
   "cell_type": "markdown",
   "metadata": {},
   "source": [
    "## Lidando com erros\n",
    "- Escrevendo erros para argumentos inválidos"
   ]
  },
  {
   "cell_type": "markdown",
   "metadata": {},
   "source": [
    "### Exceções\n",
    "- Cláusola try - except:\n",
    "    - tenta executar o código, se deu erro, executa except\n",
    "- Tipos de erros:\n",
    "    - https://docs.python.org/3/tutorial/errors.html"
   ]
  },
  {
   "cell_type": "code",
   "execution_count": 3,
   "metadata": {},
   "outputs": [],
   "source": [
    "def sqrt(x):\n",
    "    \"\"\"Retorna a raiz quadrada de um número\"\"\"\n",
    "    try: \n",
    "        return x**0.5\n",
    "    except:\n",
    "        print('x precisa ser inteiro ou float')"
   ]
  },
  {
   "cell_type": "code",
   "execution_count": 6,
   "metadata": {},
   "outputs": [
    {
     "name": "stdout",
     "output_type": "stream",
     "text": [
      "x precisa ser inteiro ou float\n"
     ]
    },
    {
     "data": {
      "text/plain": [
       "3.1622776601683795"
      ]
     },
     "execution_count": 6,
     "metadata": {},
     "output_type": "execute_result"
    }
   ],
   "source": [
    "sqrt('Olá')\n",
    "sqrt(10)"
   ]
  },
  {
   "cell_type": "code",
   "execution_count": 11,
   "metadata": {},
   "outputs": [],
   "source": [
    "# selecionando o tipo de erro pra executar except\n",
    "def sqrt(x):\n",
    "    \"\"\"Retorna a raiz quadrada de um número\"\"\"\n",
    "    try: \n",
    "        return x**0.5\n",
    "    except TypeError:\n",
    "        print('x precisa ser inteiro ou float')"
   ]
  },
  {
   "cell_type": "code",
   "execution_count": 13,
   "metadata": {},
   "outputs": [
    {
     "data": {
      "text/plain": [
       "complex"
      ]
     },
     "execution_count": 13,
     "metadata": {},
     "output_type": "execute_result"
    }
   ],
   "source": [
    "type(sqrt(-1))"
   ]
  },
  {
   "cell_type": "markdown",
   "metadata": {},
   "source": [
    "### Raise"
   ]
  },
  {
   "cell_type": "code",
   "execution_count": 8,
   "metadata": {},
   "outputs": [],
   "source": [
    "# Raise: não retornaria erro, mas forçamos um:\n",
    "def sqrt(x):\n",
    "    \"\"\"Retorna a raiz quadrada de um número\"\"\"\n",
    "    if x < 0:\n",
    "        raise ValueError('x precisa ser não-negativo')\n",
    "    try: \n",
    "        return x**0.5\n",
    "    except TypeError:\n",
    "        print('x precisa ser inteiro ou float')\n"
   ]
  },
  {
   "cell_type": "code",
   "execution_count": 9,
   "metadata": {
    "scrolled": true
   },
   "outputs": [
    {
     "ename": "ValueError",
     "evalue": "x precisa ser não-negativo",
     "output_type": "error",
     "traceback": [
      "\u001b[1;31m---------------------------------------------------------------------------\u001b[0m",
      "\u001b[1;31mValueError\u001b[0m                                Traceback (most recent call last)",
      "\u001b[1;32m<ipython-input-9-dc0ac523cb01>\u001b[0m in \u001b[0;36m<module>\u001b[1;34m\u001b[0m\n\u001b[1;32m----> 1\u001b[1;33m \u001b[0msqrt\u001b[0m\u001b[1;33m(\u001b[0m\u001b[1;33m-\u001b[0m\u001b[1;36m1\u001b[0m\u001b[1;33m)\u001b[0m\u001b[1;33m\u001b[0m\u001b[1;33m\u001b[0m\u001b[0m\n\u001b[0m",
      "\u001b[1;32m<ipython-input-8-0623501bfc61>\u001b[0m in \u001b[0;36msqrt\u001b[1;34m(x)\u001b[0m\n\u001b[0;32m      3\u001b[0m     \u001b[1;34m\"\"\"Retorna a raiz quadrada de um número\"\"\"\u001b[0m\u001b[1;33m\u001b[0m\u001b[1;33m\u001b[0m\u001b[0m\n\u001b[0;32m      4\u001b[0m     \u001b[1;32mif\u001b[0m \u001b[0mx\u001b[0m \u001b[1;33m<\u001b[0m \u001b[1;36m0\u001b[0m\u001b[1;33m:\u001b[0m\u001b[1;33m\u001b[0m\u001b[1;33m\u001b[0m\u001b[0m\n\u001b[1;32m----> 5\u001b[1;33m         \u001b[1;32mraise\u001b[0m \u001b[0mValueError\u001b[0m\u001b[1;33m(\u001b[0m\u001b[1;34m'x precisa ser não-negativo'\u001b[0m\u001b[1;33m)\u001b[0m\u001b[1;33m\u001b[0m\u001b[1;33m\u001b[0m\u001b[0m\n\u001b[0m\u001b[0;32m      6\u001b[0m     \u001b[1;32mtry\u001b[0m\u001b[1;33m:\u001b[0m\u001b[1;33m\u001b[0m\u001b[1;33m\u001b[0m\u001b[0m\n\u001b[0;32m      7\u001b[0m         \u001b[1;32mreturn\u001b[0m \u001b[0mx\u001b[0m\u001b[1;33m**\u001b[0m\u001b[1;36m0.5\u001b[0m\u001b[1;33m\u001b[0m\u001b[1;33m\u001b[0m\u001b[0m\n",
      "\u001b[1;31mValueError\u001b[0m: x precisa ser não-negativo"
     ]
    }
   ],
   "source": [
    "sqrt(-1)"
   ]
  },
  {
   "cell_type": "code",
   "execution_count": null,
   "metadata": {},
   "outputs": [],
   "source": []
  }
 ],
 "metadata": {
  "kernelspec": {
   "display_name": "Python 3.10.8 64-bit (microsoft store)",
   "language": "python",
   "name": "python3"
  },
  "language_info": {
   "codemirror_mode": {
    "name": "ipython",
    "version": 3
   },
   "file_extension": ".py",
   "mimetype": "text/x-python",
   "name": "python",
   "nbconvert_exporter": "python",
   "pygments_lexer": "ipython3",
   "version": "3.10.8"
  },
  "vscode": {
   "interpreter": {
    "hash": "fb2842195c2d17829c274d93524ce462055f17a6f50065c78c87ac8e43c99f5f"
   }
  }
 },
 "nbformat": 4,
 "nbformat_minor": 4
}
